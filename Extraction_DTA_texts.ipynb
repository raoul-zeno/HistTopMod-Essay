{
 "cells": [
  {
   "cell_type": "markdown",
   "metadata": {},
   "source": [
    "### Extraktion der Texte vom Gesamtkorpus des Deutschen Textarchivs und Einspeisung in SQLite-Datenbank ###"
   ]
  },
  {
   "cell_type": "markdown",
   "metadata": {},
   "source": [
    "Dieses Jupyter-Notebook dient der Nachprüfbarkeit der Schritte für die Extraktion der Texte und Metadaten von der vom DTA zur Verfügung gestellten XML-Dateien, und die Einspeisung dieser Daten in eine SQLite-Datenbank. Dies ermöglicht eine erleichterte Handhabung, bei der Datenanalyse."
   ]
  },
  {
   "cell_type": "markdown",
   "metadata": {},
   "source": [
    "## Requirements ##\n",
    "- Pandas für die to_sql()-function, die von einem Pandas DataFrame eine SQL-Datenbank erstellt (Pandas wird später noch mehr gebraucht)\n",
    "- os, für das rekursive Iterieren des Directory's mit den XML-Dateien\n",
    "- sqlite3, für das Kreieren von der Datenbank\n",
    "- xml.etree.Elementree, für die Extraktion von Texten und Metadaten von den XML-Dateien\n",
    "- zipfile, für das Entzippen des Textkorpus"
   ]
  },
  {
   "cell_type": "markdown",
   "metadata": {},
   "source": [
    "## 0. Auswählen eines Python Kernels / Setup eines Virtual environments (good practice) ##\n",
    "Zunächst muss ein Kernel ausgewählt werden, damit Jupyter-Notebook Python code ausführen kann.\n",
    "\n",
    "Um die Installation von libraries zu vereinfachen, und die Arbeitsumgebung sauber zu halten, wird ein virtual environment (venv) erstellt. Darin werden dann alle libraries und packages lokal installiert, anstatt global auf einer Python Machine. "
   ]
  },
  {
   "cell_type": "code",
   "execution_count": 1,
   "metadata": {},
   "outputs": [],
   "source": [
    "!python -m venv HistTopMod\n",
    "#Wenn ein Popup-Fenster fragt, ob dieses Environment benutzt werden soll: Mit Ja antworten."
   ]
  },
  {
   "cell_type": "markdown",
   "metadata": {},
   "source": [
    "Als nächstes muss in diesem Virtual Environment ipykernel installiert werden, damit das venv als Kernel verwendet werden kann."
   ]
  },
  {
   "cell_type": "code",
   "execution_count": 2,
   "metadata": {},
   "outputs": [
    {
     "name": "stdout",
     "output_type": "stream",
     "text": [
      "Collecting notebook\n",
      "  Using cached notebook-7.3.2-py3-none-any.whl.metadata (10 kB)\n",
      "Collecting ipykernel\n",
      "  Using cached ipykernel-6.29.5-py3-none-any.whl.metadata (6.3 kB)\n",
      "Collecting jupyter-server<3,>=2.4.0 (from notebook)\n",
      "  Using cached jupyter_server-2.15.0-py3-none-any.whl.metadata (8.4 kB)\n",
      "Collecting jupyterlab-server<3,>=2.27.1 (from notebook)\n",
      "  Using cached jupyterlab_server-2.27.3-py3-none-any.whl.metadata (5.9 kB)\n",
      "Collecting jupyterlab<4.4,>=4.3.4 (from notebook)\n",
      "  Using cached jupyterlab-4.3.4-py3-none-any.whl.metadata (16 kB)\n",
      "Collecting notebook-shim<0.3,>=0.2 (from notebook)\n",
      "  Using cached notebook_shim-0.2.4-py3-none-any.whl.metadata (4.0 kB)\n",
      "Collecting tornado>=6.2.0 (from notebook)\n",
      "  Using cached tornado-6.4.2-cp38-abi3-win_amd64.whl.metadata (2.6 kB)\n",
      "Collecting comm>=0.1.1 (from ipykernel)\n",
      "  Using cached comm-0.2.2-py3-none-any.whl.metadata (3.7 kB)\n",
      "Collecting debugpy>=1.6.5 (from ipykernel)\n",
      "  Using cached debugpy-1.8.11-cp312-cp312-win_amd64.whl.metadata (1.1 kB)\n",
      "Collecting ipython>=7.23.1 (from ipykernel)\n",
      "  Using cached ipython-8.31.0-py3-none-any.whl.metadata (4.9 kB)\n",
      "Collecting jupyter-client>=6.1.12 (from ipykernel)\n",
      "  Using cached jupyter_client-8.6.3-py3-none-any.whl.metadata (8.3 kB)\n",
      "Collecting jupyter-core!=5.0.*,>=4.12 (from ipykernel)\n",
      "  Using cached jupyter_core-5.7.2-py3-none-any.whl.metadata (3.4 kB)\n",
      "Collecting matplotlib-inline>=0.1 (from ipykernel)\n",
      "  Using cached matplotlib_inline-0.1.7-py3-none-any.whl.metadata (3.9 kB)\n",
      "Collecting nest-asyncio (from ipykernel)\n",
      "  Using cached nest_asyncio-1.6.0-py3-none-any.whl.metadata (2.8 kB)\n",
      "Collecting packaging (from ipykernel)\n",
      "  Using cached packaging-24.2-py3-none-any.whl.metadata (3.2 kB)\n",
      "Collecting psutil (from ipykernel)\n",
      "  Using cached psutil-6.1.1-cp37-abi3-win_amd64.whl.metadata (23 kB)\n",
      "Collecting pyzmq>=24 (from ipykernel)\n",
      "  Using cached pyzmq-26.2.0-cp312-cp312-win_amd64.whl.metadata (6.2 kB)\n",
      "Collecting traitlets>=5.4.0 (from ipykernel)\n",
      "  Using cached traitlets-5.14.3-py3-none-any.whl.metadata (10 kB)\n",
      "Collecting colorama (from ipython>=7.23.1->ipykernel)\n",
      "  Using cached colorama-0.4.6-py2.py3-none-any.whl.metadata (17 kB)\n",
      "Collecting decorator (from ipython>=7.23.1->ipykernel)\n",
      "  Using cached decorator-5.1.1-py3-none-any.whl.metadata (4.0 kB)\n",
      "Collecting jedi>=0.16 (from ipython>=7.23.1->ipykernel)\n",
      "  Using cached jedi-0.19.2-py2.py3-none-any.whl.metadata (22 kB)\n",
      "Collecting prompt_toolkit<3.1.0,>=3.0.41 (from ipython>=7.23.1->ipykernel)\n",
      "  Using cached prompt_toolkit-3.0.48-py3-none-any.whl.metadata (6.4 kB)\n",
      "Collecting pygments>=2.4.0 (from ipython>=7.23.1->ipykernel)\n",
      "  Using cached pygments-2.18.0-py3-none-any.whl.metadata (2.5 kB)\n",
      "Collecting stack_data (from ipython>=7.23.1->ipykernel)\n",
      "  Using cached stack_data-0.6.3-py3-none-any.whl.metadata (18 kB)\n",
      "Collecting python-dateutil>=2.8.2 (from jupyter-client>=6.1.12->ipykernel)\n",
      "  Using cached python_dateutil-2.9.0.post0-py2.py3-none-any.whl.metadata (8.4 kB)\n",
      "Collecting platformdirs>=2.5 (from jupyter-core!=5.0.*,>=4.12->ipykernel)\n",
      "  Using cached platformdirs-4.3.6-py3-none-any.whl.metadata (11 kB)\n",
      "Collecting pywin32>=300 (from jupyter-core!=5.0.*,>=4.12->ipykernel)\n",
      "  Using cached pywin32-308-cp312-cp312-win_amd64.whl.metadata (8.3 kB)\n",
      "Collecting anyio>=3.1.0 (from jupyter-server<3,>=2.4.0->notebook)\n",
      "  Using cached anyio-4.7.0-py3-none-any.whl.metadata (4.7 kB)\n",
      "Collecting argon2-cffi>=21.1 (from jupyter-server<3,>=2.4.0->notebook)\n",
      "  Using cached argon2_cffi-23.1.0-py3-none-any.whl.metadata (5.2 kB)\n",
      "Collecting jinja2>=3.0.3 (from jupyter-server<3,>=2.4.0->notebook)\n",
      "  Downloading jinja2-3.1.5-py3-none-any.whl.metadata (2.6 kB)\n",
      "Collecting jupyter-events>=0.11.0 (from jupyter-server<3,>=2.4.0->notebook)\n",
      "  Using cached jupyter_events-0.11.0-py3-none-any.whl.metadata (5.8 kB)\n",
      "Collecting jupyter-server-terminals>=0.4.4 (from jupyter-server<3,>=2.4.0->notebook)\n",
      "  Using cached jupyter_server_terminals-0.5.3-py3-none-any.whl.metadata (5.6 kB)\n",
      "Collecting nbconvert>=6.4.4 (from jupyter-server<3,>=2.4.0->notebook)\n",
      "  Using cached nbconvert-7.16.4-py3-none-any.whl.metadata (8.5 kB)\n",
      "Collecting nbformat>=5.3.0 (from jupyter-server<3,>=2.4.0->notebook)\n",
      "  Using cached nbformat-5.10.4-py3-none-any.whl.metadata (3.6 kB)\n",
      "Collecting overrides>=5.0 (from jupyter-server<3,>=2.4.0->notebook)\n",
      "  Using cached overrides-7.7.0-py3-none-any.whl.metadata (5.8 kB)\n",
      "Collecting prometheus-client>=0.9 (from jupyter-server<3,>=2.4.0->notebook)\n",
      "  Using cached prometheus_client-0.21.1-py3-none-any.whl.metadata (1.8 kB)\n",
      "Collecting pywinpty>=2.0.1 (from jupyter-server<3,>=2.4.0->notebook)\n",
      "  Using cached pywinpty-2.0.14-cp312-none-win_amd64.whl.metadata (5.2 kB)\n",
      "Collecting send2trash>=1.8.2 (from jupyter-server<3,>=2.4.0->notebook)\n",
      "  Using cached Send2Trash-1.8.3-py3-none-any.whl.metadata (4.0 kB)\n",
      "Collecting terminado>=0.8.3 (from jupyter-server<3,>=2.4.0->notebook)\n",
      "  Using cached terminado-0.18.1-py3-none-any.whl.metadata (5.8 kB)\n",
      "Collecting websocket-client>=1.7 (from jupyter-server<3,>=2.4.0->notebook)\n",
      "  Using cached websocket_client-1.8.0-py3-none-any.whl.metadata (8.0 kB)\n",
      "Collecting async-lru>=1.0.0 (from jupyterlab<4.4,>=4.3.4->notebook)\n",
      "  Using cached async_lru-2.0.4-py3-none-any.whl.metadata (4.5 kB)\n",
      "Collecting httpx>=0.25.0 (from jupyterlab<4.4,>=4.3.4->notebook)\n",
      "  Using cached httpx-0.28.1-py3-none-any.whl.metadata (7.1 kB)\n",
      "Collecting jupyter-lsp>=2.0.0 (from jupyterlab<4.4,>=4.3.4->notebook)\n",
      "  Using cached jupyter_lsp-2.2.5-py3-none-any.whl.metadata (1.8 kB)\n",
      "Collecting setuptools>=40.8.0 (from jupyterlab<4.4,>=4.3.4->notebook)\n",
      "  Using cached setuptools-75.6.0-py3-none-any.whl.metadata (6.7 kB)\n",
      "Collecting babel>=2.10 (from jupyterlab-server<3,>=2.27.1->notebook)\n",
      "  Using cached babel-2.16.0-py3-none-any.whl.metadata (1.5 kB)\n",
      "Collecting json5>=0.9.0 (from jupyterlab-server<3,>=2.27.1->notebook)\n",
      "  Using cached json5-0.10.0-py3-none-any.whl.metadata (34 kB)\n",
      "Collecting jsonschema>=4.18.0 (from jupyterlab-server<3,>=2.27.1->notebook)\n",
      "  Using cached jsonschema-4.23.0-py3-none-any.whl.metadata (7.9 kB)\n",
      "Collecting requests>=2.31 (from jupyterlab-server<3,>=2.27.1->notebook)\n",
      "  Using cached requests-2.32.3-py3-none-any.whl.metadata (4.6 kB)\n",
      "Collecting idna>=2.8 (from anyio>=3.1.0->jupyter-server<3,>=2.4.0->notebook)\n",
      "  Using cached idna-3.10-py3-none-any.whl.metadata (10 kB)\n",
      "Collecting sniffio>=1.1 (from anyio>=3.1.0->jupyter-server<3,>=2.4.0->notebook)\n",
      "  Using cached sniffio-1.3.1-py3-none-any.whl.metadata (3.9 kB)\n",
      "Collecting typing_extensions>=4.5 (from anyio>=3.1.0->jupyter-server<3,>=2.4.0->notebook)\n",
      "  Using cached typing_extensions-4.12.2-py3-none-any.whl.metadata (3.0 kB)\n",
      "Collecting argon2-cffi-bindings (from argon2-cffi>=21.1->jupyter-server<3,>=2.4.0->notebook)\n",
      "  Using cached argon2_cffi_bindings-21.2.0-cp36-abi3-win_amd64.whl.metadata (6.7 kB)\n",
      "Collecting certifi (from httpx>=0.25.0->jupyterlab<4.4,>=4.3.4->notebook)\n",
      "  Using cached certifi-2024.12.14-py3-none-any.whl.metadata (2.3 kB)\n",
      "Collecting httpcore==1.* (from httpx>=0.25.0->jupyterlab<4.4,>=4.3.4->notebook)\n",
      "  Using cached httpcore-1.0.7-py3-none-any.whl.metadata (21 kB)\n",
      "Collecting h11<0.15,>=0.13 (from httpcore==1.*->httpx>=0.25.0->jupyterlab<4.4,>=4.3.4->notebook)\n",
      "  Using cached h11-0.14.0-py3-none-any.whl.metadata (8.2 kB)\n",
      "Collecting parso<0.9.0,>=0.8.4 (from jedi>=0.16->ipython>=7.23.1->ipykernel)\n",
      "  Using cached parso-0.8.4-py2.py3-none-any.whl.metadata (7.7 kB)\n",
      "Collecting MarkupSafe>=2.0 (from jinja2>=3.0.3->jupyter-server<3,>=2.4.0->notebook)\n",
      "  Using cached MarkupSafe-3.0.2-cp312-cp312-win_amd64.whl.metadata (4.1 kB)\n",
      "Collecting attrs>=22.2.0 (from jsonschema>=4.18.0->jupyterlab-server<3,>=2.27.1->notebook)\n",
      "  Using cached attrs-24.3.0-py3-none-any.whl.metadata (11 kB)\n",
      "Collecting jsonschema-specifications>=2023.03.6 (from jsonschema>=4.18.0->jupyterlab-server<3,>=2.27.1->notebook)\n",
      "  Using cached jsonschema_specifications-2024.10.1-py3-none-any.whl.metadata (3.0 kB)\n",
      "Collecting referencing>=0.28.4 (from jsonschema>=4.18.0->jupyterlab-server<3,>=2.27.1->notebook)\n",
      "  Using cached referencing-0.35.1-py3-none-any.whl.metadata (2.8 kB)\n",
      "Collecting rpds-py>=0.7.1 (from jsonschema>=4.18.0->jupyterlab-server<3,>=2.27.1->notebook)\n",
      "  Using cached rpds_py-0.22.3-cp312-cp312-win_amd64.whl.metadata (4.2 kB)\n",
      "Collecting python-json-logger>=2.0.4 (from jupyter-events>=0.11.0->jupyter-server<3,>=2.4.0->notebook)\n",
      "  Using cached python_json_logger-3.2.1-py3-none-any.whl.metadata (4.1 kB)\n",
      "Collecting pyyaml>=5.3 (from jupyter-events>=0.11.0->jupyter-server<3,>=2.4.0->notebook)\n",
      "  Using cached PyYAML-6.0.2-cp312-cp312-win_amd64.whl.metadata (2.1 kB)\n",
      "Collecting rfc3339-validator (from jupyter-events>=0.11.0->jupyter-server<3,>=2.4.0->notebook)\n",
      "  Using cached rfc3339_validator-0.1.4-py2.py3-none-any.whl.metadata (1.5 kB)\n",
      "Collecting rfc3986-validator>=0.1.1 (from jupyter-events>=0.11.0->jupyter-server<3,>=2.4.0->notebook)\n",
      "  Using cached rfc3986_validator-0.1.1-py2.py3-none-any.whl.metadata (1.7 kB)\n",
      "Collecting beautifulsoup4 (from nbconvert>=6.4.4->jupyter-server<3,>=2.4.0->notebook)\n",
      "  Using cached beautifulsoup4-4.12.3-py3-none-any.whl.metadata (3.8 kB)\n",
      "Collecting bleach!=5.0.0 (from nbconvert>=6.4.4->jupyter-server<3,>=2.4.0->notebook)\n",
      "  Using cached bleach-6.2.0-py3-none-any.whl.metadata (30 kB)\n",
      "Collecting defusedxml (from nbconvert>=6.4.4->jupyter-server<3,>=2.4.0->notebook)\n",
      "  Using cached defusedxml-0.7.1-py2.py3-none-any.whl.metadata (32 kB)\n",
      "Collecting jupyterlab-pygments (from nbconvert>=6.4.4->jupyter-server<3,>=2.4.0->notebook)\n",
      "  Using cached jupyterlab_pygments-0.3.0-py3-none-any.whl.metadata (4.4 kB)\n",
      "Collecting mistune<4,>=2.0.3 (from nbconvert>=6.4.4->jupyter-server<3,>=2.4.0->notebook)\n",
      "  Using cached mistune-3.0.2-py3-none-any.whl.metadata (1.7 kB)\n",
      "Collecting nbclient>=0.5.0 (from nbconvert>=6.4.4->jupyter-server<3,>=2.4.0->notebook)\n",
      "  Using cached nbclient-0.10.2-py3-none-any.whl.metadata (8.3 kB)\n",
      "Collecting pandocfilters>=1.4.1 (from nbconvert>=6.4.4->jupyter-server<3,>=2.4.0->notebook)\n",
      "  Using cached pandocfilters-1.5.1-py2.py3-none-any.whl.metadata (9.0 kB)\n",
      "Collecting tinycss2 (from nbconvert>=6.4.4->jupyter-server<3,>=2.4.0->notebook)\n",
      "  Using cached tinycss2-1.4.0-py3-none-any.whl.metadata (3.0 kB)\n",
      "Collecting fastjsonschema>=2.15 (from nbformat>=5.3.0->jupyter-server<3,>=2.4.0->notebook)\n",
      "  Using cached fastjsonschema-2.21.1-py3-none-any.whl.metadata (2.2 kB)\n",
      "Collecting wcwidth (from prompt_toolkit<3.1.0,>=3.0.41->ipython>=7.23.1->ipykernel)\n",
      "  Using cached wcwidth-0.2.13-py2.py3-none-any.whl.metadata (14 kB)\n",
      "Collecting six>=1.5 (from python-dateutil>=2.8.2->jupyter-client>=6.1.12->ipykernel)\n",
      "  Using cached six-1.17.0-py2.py3-none-any.whl.metadata (1.7 kB)\n",
      "Collecting charset-normalizer<4,>=2 (from requests>=2.31->jupyterlab-server<3,>=2.27.1->notebook)\n",
      "  Using cached charset_normalizer-3.4.0-cp312-cp312-win_amd64.whl.metadata (34 kB)\n",
      "Collecting urllib3<3,>=1.21.1 (from requests>=2.31->jupyterlab-server<3,>=2.27.1->notebook)\n",
      "  Downloading urllib3-2.3.0-py3-none-any.whl.metadata (6.5 kB)\n",
      "Collecting executing>=1.2.0 (from stack_data->ipython>=7.23.1->ipykernel)\n",
      "  Using cached executing-2.1.0-py2.py3-none-any.whl.metadata (8.9 kB)\n",
      "Collecting asttokens>=2.1.0 (from stack_data->ipython>=7.23.1->ipykernel)\n",
      "  Using cached asttokens-3.0.0-py3-none-any.whl.metadata (4.7 kB)\n",
      "Collecting pure-eval (from stack_data->ipython>=7.23.1->ipykernel)\n",
      "  Using cached pure_eval-0.2.3-py3-none-any.whl.metadata (6.3 kB)\n",
      "Collecting webencodings (from bleach!=5.0.0->nbconvert>=6.4.4->jupyter-server<3,>=2.4.0->notebook)\n",
      "  Using cached webencodings-0.5.1-py2.py3-none-any.whl.metadata (2.1 kB)\n",
      "Collecting fqdn (from jsonschema[format-nongpl]>=4.18.0->jupyter-events>=0.11.0->jupyter-server<3,>=2.4.0->notebook)\n",
      "  Using cached fqdn-1.5.1-py3-none-any.whl.metadata (1.4 kB)\n",
      "Collecting isoduration (from jsonschema[format-nongpl]>=4.18.0->jupyter-events>=0.11.0->jupyter-server<3,>=2.4.0->notebook)\n",
      "  Using cached isoduration-20.11.0-py3-none-any.whl.metadata (5.7 kB)\n",
      "Collecting jsonpointer>1.13 (from jsonschema[format-nongpl]>=4.18.0->jupyter-events>=0.11.0->jupyter-server<3,>=2.4.0->notebook)\n",
      "  Using cached jsonpointer-3.0.0-py2.py3-none-any.whl.metadata (2.3 kB)\n",
      "Collecting uri-template (from jsonschema[format-nongpl]>=4.18.0->jupyter-events>=0.11.0->jupyter-server<3,>=2.4.0->notebook)\n",
      "  Using cached uri_template-1.3.0-py3-none-any.whl.metadata (8.8 kB)\n",
      "Collecting webcolors>=24.6.0 (from jsonschema[format-nongpl]>=4.18.0->jupyter-events>=0.11.0->jupyter-server<3,>=2.4.0->notebook)\n",
      "  Using cached webcolors-24.11.1-py3-none-any.whl.metadata (2.2 kB)\n",
      "Collecting cffi>=1.0.1 (from argon2-cffi-bindings->argon2-cffi>=21.1->jupyter-server<3,>=2.4.0->notebook)\n",
      "  Using cached cffi-1.17.1-cp312-cp312-win_amd64.whl.metadata (1.6 kB)\n",
      "Collecting soupsieve>1.2 (from beautifulsoup4->nbconvert>=6.4.4->jupyter-server<3,>=2.4.0->notebook)\n",
      "  Using cached soupsieve-2.6-py3-none-any.whl.metadata (4.6 kB)\n",
      "Collecting pycparser (from cffi>=1.0.1->argon2-cffi-bindings->argon2-cffi>=21.1->jupyter-server<3,>=2.4.0->notebook)\n",
      "  Using cached pycparser-2.22-py3-none-any.whl.metadata (943 bytes)\n",
      "Collecting arrow>=0.15.0 (from isoduration->jsonschema[format-nongpl]>=4.18.0->jupyter-events>=0.11.0->jupyter-server<3,>=2.4.0->notebook)\n",
      "  Using cached arrow-1.3.0-py3-none-any.whl.metadata (7.5 kB)\n",
      "Collecting types-python-dateutil>=2.8.10 (from arrow>=0.15.0->isoduration->jsonschema[format-nongpl]>=4.18.0->jupyter-events>=0.11.0->jupyter-server<3,>=2.4.0->notebook)\n",
      "  Using cached types_python_dateutil-2.9.0.20241206-py3-none-any.whl.metadata (2.1 kB)\n",
      "Using cached notebook-7.3.2-py3-none-any.whl (13.2 MB)\n",
      "Using cached ipykernel-6.29.5-py3-none-any.whl (117 kB)\n",
      "Using cached comm-0.2.2-py3-none-any.whl (7.2 kB)\n",
      "Using cached debugpy-1.8.11-cp312-cp312-win_amd64.whl (5.3 MB)\n",
      "Using cached ipython-8.31.0-py3-none-any.whl (821 kB)\n",
      "Using cached jupyter_client-8.6.3-py3-none-any.whl (106 kB)\n",
      "Using cached jupyter_core-5.7.2-py3-none-any.whl (28 kB)\n",
      "Using cached jupyter_server-2.15.0-py3-none-any.whl (385 kB)\n",
      "Using cached jupyterlab-4.3.4-py3-none-any.whl (11.7 MB)\n",
      "Using cached jupyterlab_server-2.27.3-py3-none-any.whl (59 kB)\n",
      "Using cached matplotlib_inline-0.1.7-py3-none-any.whl (9.9 kB)\n",
      "Using cached notebook_shim-0.2.4-py3-none-any.whl (13 kB)\n",
      "Using cached packaging-24.2-py3-none-any.whl (65 kB)\n",
      "Using cached pyzmq-26.2.0-cp312-cp312-win_amd64.whl (637 kB)\n",
      "Using cached tornado-6.4.2-cp38-abi3-win_amd64.whl (438 kB)\n",
      "Using cached traitlets-5.14.3-py3-none-any.whl (85 kB)\n",
      "Using cached nest_asyncio-1.6.0-py3-none-any.whl (5.2 kB)\n",
      "Using cached psutil-6.1.1-cp37-abi3-win_amd64.whl (254 kB)\n",
      "Using cached anyio-4.7.0-py3-none-any.whl (93 kB)\n",
      "Using cached argon2_cffi-23.1.0-py3-none-any.whl (15 kB)\n",
      "Using cached async_lru-2.0.4-py3-none-any.whl (6.1 kB)\n",
      "Using cached babel-2.16.0-py3-none-any.whl (9.6 MB)\n",
      "Using cached httpx-0.28.1-py3-none-any.whl (73 kB)\n",
      "Using cached httpcore-1.0.7-py3-none-any.whl (78 kB)\n",
      "Using cached jedi-0.19.2-py2.py3-none-any.whl (1.6 MB)\n",
      "Downloading jinja2-3.1.5-py3-none-any.whl (134 kB)\n",
      "   ---------------------------------------- 0.0/134.6 kB ? eta -:--:--\n",
      "   --- ------------------------------------ 10.2/134.6 kB ? eta -:--:--\n",
      "   ----------- --------------------------- 41.0/134.6 kB 487.6 kB/s eta 0:00:01\n",
      "   ---------------------------------------  133.1/134.6 kB 1.3 MB/s eta 0:00:01\n",
      "   -------------------------------------- 134.6/134.6 kB 994.8 kB/s eta 0:00:00\n",
      "Using cached json5-0.10.0-py3-none-any.whl (34 kB)\n",
      "Using cached jsonschema-4.23.0-py3-none-any.whl (88 kB)\n",
      "Using cached jupyter_events-0.11.0-py3-none-any.whl (19 kB)\n",
      "Using cached jupyter_lsp-2.2.5-py3-none-any.whl (69 kB)\n",
      "Using cached jupyter_server_terminals-0.5.3-py3-none-any.whl (13 kB)\n",
      "Using cached nbconvert-7.16.4-py3-none-any.whl (257 kB)\n",
      "Using cached nbformat-5.10.4-py3-none-any.whl (78 kB)\n",
      "Using cached overrides-7.7.0-py3-none-any.whl (17 kB)\n",
      "Using cached platformdirs-4.3.6-py3-none-any.whl (18 kB)\n",
      "Using cached prometheus_client-0.21.1-py3-none-any.whl (54 kB)\n",
      "Using cached prompt_toolkit-3.0.48-py3-none-any.whl (386 kB)\n",
      "Using cached pygments-2.18.0-py3-none-any.whl (1.2 MB)\n",
      "Using cached python_dateutil-2.9.0.post0-py2.py3-none-any.whl (229 kB)\n",
      "Using cached pywin32-308-cp312-cp312-win_amd64.whl (6.5 MB)\n",
      "Using cached pywinpty-2.0.14-cp312-none-win_amd64.whl (1.4 MB)\n",
      "Using cached requests-2.32.3-py3-none-any.whl (64 kB)\n",
      "Using cached Send2Trash-1.8.3-py3-none-any.whl (18 kB)\n",
      "Using cached setuptools-75.6.0-py3-none-any.whl (1.2 MB)\n",
      "Using cached terminado-0.18.1-py3-none-any.whl (14 kB)\n",
      "Using cached websocket_client-1.8.0-py3-none-any.whl (58 kB)\n",
      "Using cached colorama-0.4.6-py2.py3-none-any.whl (25 kB)\n",
      "Using cached decorator-5.1.1-py3-none-any.whl (9.1 kB)\n",
      "Using cached stack_data-0.6.3-py3-none-any.whl (24 kB)\n",
      "Using cached asttokens-3.0.0-py3-none-any.whl (26 kB)\n",
      "Using cached attrs-24.3.0-py3-none-any.whl (63 kB)\n",
      "Using cached bleach-6.2.0-py3-none-any.whl (163 kB)\n",
      "Using cached certifi-2024.12.14-py3-none-any.whl (164 kB)\n",
      "Using cached charset_normalizer-3.4.0-cp312-cp312-win_amd64.whl (102 kB)\n",
      "Using cached executing-2.1.0-py2.py3-none-any.whl (25 kB)\n",
      "Using cached fastjsonschema-2.21.1-py3-none-any.whl (23 kB)\n",
      "Using cached idna-3.10-py3-none-any.whl (70 kB)\n",
      "Using cached jsonschema_specifications-2024.10.1-py3-none-any.whl (18 kB)\n",
      "Using cached MarkupSafe-3.0.2-cp312-cp312-win_amd64.whl (15 kB)\n",
      "Using cached mistune-3.0.2-py3-none-any.whl (47 kB)\n",
      "Using cached nbclient-0.10.2-py3-none-any.whl (25 kB)\n",
      "Using cached pandocfilters-1.5.1-py2.py3-none-any.whl (8.7 kB)\n",
      "Using cached parso-0.8.4-py2.py3-none-any.whl (103 kB)\n",
      "Using cached python_json_logger-3.2.1-py3-none-any.whl (14 kB)\n",
      "Using cached PyYAML-6.0.2-cp312-cp312-win_amd64.whl (156 kB)\n",
      "Using cached referencing-0.35.1-py3-none-any.whl (26 kB)\n",
      "Using cached rfc3986_validator-0.1.1-py2.py3-none-any.whl (4.2 kB)\n",
      "Using cached rpds_py-0.22.3-cp312-cp312-win_amd64.whl (235 kB)\n",
      "Using cached six-1.17.0-py2.py3-none-any.whl (11 kB)\n",
      "Using cached sniffio-1.3.1-py3-none-any.whl (10 kB)\n",
      "Using cached typing_extensions-4.12.2-py3-none-any.whl (37 kB)\n",
      "Downloading urllib3-2.3.0-py3-none-any.whl (128 kB)\n",
      "   ---------------------------------------- 0.0/128.4 kB ? eta -:--:--\n",
      "   ---------------------------------------- 128.4/128.4 kB 7.4 MB/s eta 0:00:00\n",
      "Using cached argon2_cffi_bindings-21.2.0-cp36-abi3-win_amd64.whl (30 kB)\n",
      "Using cached beautifulsoup4-4.12.3-py3-none-any.whl (147 kB)\n",
      "Using cached defusedxml-0.7.1-py2.py3-none-any.whl (25 kB)\n",
      "Using cached jupyterlab_pygments-0.3.0-py3-none-any.whl (15 kB)\n",
      "Using cached pure_eval-0.2.3-py3-none-any.whl (11 kB)\n",
      "Using cached rfc3339_validator-0.1.4-py2.py3-none-any.whl (3.5 kB)\n",
      "Using cached tinycss2-1.4.0-py3-none-any.whl (26 kB)\n",
      "Using cached wcwidth-0.2.13-py2.py3-none-any.whl (34 kB)\n",
      "Using cached cffi-1.17.1-cp312-cp312-win_amd64.whl (181 kB)\n",
      "Using cached h11-0.14.0-py3-none-any.whl (58 kB)\n",
      "Using cached jsonpointer-3.0.0-py2.py3-none-any.whl (7.6 kB)\n",
      "Using cached soupsieve-2.6-py3-none-any.whl (36 kB)\n",
      "Using cached webcolors-24.11.1-py3-none-any.whl (14 kB)\n",
      "Using cached webencodings-0.5.1-py2.py3-none-any.whl (11 kB)\n",
      "Using cached fqdn-1.5.1-py3-none-any.whl (9.1 kB)\n",
      "Using cached isoduration-20.11.0-py3-none-any.whl (11 kB)\n",
      "Using cached uri_template-1.3.0-py3-none-any.whl (11 kB)\n",
      "Using cached arrow-1.3.0-py3-none-any.whl (66 kB)\n",
      "Using cached pycparser-2.22-py3-none-any.whl (117 kB)\n",
      "Using cached types_python_dateutil-2.9.0.20241206-py3-none-any.whl (14 kB)\n",
      "Installing collected packages: webencodings, wcwidth, pywin32, pure-eval, fastjsonschema, websocket-client, webcolors, urllib3, uri-template, typing_extensions, types-python-dateutil, traitlets, tornado, tinycss2, soupsieve, sniffio, six, setuptools, send2trash, rpds-py, rfc3986-validator, pyzmq, pyyaml, pywinpty, python-json-logger, pygments, pycparser, psutil, prompt_toolkit, prometheus-client, platformdirs, parso, pandocfilters, packaging, overrides, nest-asyncio, mistune, MarkupSafe, jupyterlab-pygments, jsonpointer, json5, idna, h11, fqdn, executing, defusedxml, decorator, debugpy, colorama, charset-normalizer, certifi, bleach, babel, attrs, async-lru, asttokens, terminado, stack_data, rfc3339-validator, requests, referencing, python-dateutil, matplotlib-inline, jupyter-core, jinja2, jedi, httpcore, comm, cffi, beautifulsoup4, anyio, jupyter-server-terminals, jupyter-client, jsonschema-specifications, ipython, httpx, arrow, argon2-cffi-bindings, jsonschema, isoduration, ipykernel, argon2-cffi, nbformat, nbclient, jupyter-events, nbconvert, jupyter-server, notebook-shim, jupyterlab-server, jupyter-lsp, jupyterlab, notebook\n",
      "Successfully installed MarkupSafe-3.0.2 anyio-4.7.0 argon2-cffi-23.1.0 argon2-cffi-bindings-21.2.0 arrow-1.3.0 asttokens-3.0.0 async-lru-2.0.4 attrs-24.3.0 babel-2.16.0 beautifulsoup4-4.12.3 bleach-6.2.0 certifi-2024.12.14 cffi-1.17.1 charset-normalizer-3.4.0 colorama-0.4.6 comm-0.2.2 debugpy-1.8.11 decorator-5.1.1 defusedxml-0.7.1 executing-2.1.0 fastjsonschema-2.21.1 fqdn-1.5.1 h11-0.14.0 httpcore-1.0.7 httpx-0.28.1 idna-3.10 ipykernel-6.29.5 ipython-8.31.0 isoduration-20.11.0 jedi-0.19.2 jinja2-3.1.5 json5-0.10.0 jsonpointer-3.0.0 jsonschema-4.23.0 jsonschema-specifications-2024.10.1 jupyter-client-8.6.3 jupyter-core-5.7.2 jupyter-events-0.11.0 jupyter-lsp-2.2.5 jupyter-server-2.15.0 jupyter-server-terminals-0.5.3 jupyterlab-4.3.4 jupyterlab-pygments-0.3.0 jupyterlab-server-2.27.3 matplotlib-inline-0.1.7 mistune-3.0.2 nbclient-0.10.2 nbconvert-7.16.4 nbformat-5.10.4 nest-asyncio-1.6.0 notebook-7.3.2 notebook-shim-0.2.4 overrides-7.7.0 packaging-24.2 pandocfilters-1.5.1 parso-0.8.4 platformdirs-4.3.6 prometheus-client-0.21.1 prompt_toolkit-3.0.48 psutil-6.1.1 pure-eval-0.2.3 pycparser-2.22 pygments-2.18.0 python-dateutil-2.9.0.post0 python-json-logger-3.2.1 pywin32-308 pywinpty-2.0.14 pyyaml-6.0.2 pyzmq-26.2.0 referencing-0.35.1 requests-2.32.3 rfc3339-validator-0.1.4 rfc3986-validator-0.1.1 rpds-py-0.22.3 send2trash-1.8.3 setuptools-75.6.0 six-1.17.0 sniffio-1.3.1 soupsieve-2.6 stack_data-0.6.3 terminado-0.18.1 tinycss2-1.4.0 tornado-6.4.2 traitlets-5.14.3 types-python-dateutil-2.9.0.20241206 typing_extensions-4.12.2 uri-template-1.3.0 urllib3-2.3.0 wcwidth-0.2.13 webcolors-24.11.1 webencodings-0.5.1 websocket-client-1.8.0\n"
     ]
    },
    {
     "name": "stderr",
     "output_type": "stream",
     "text": [
      "\n",
      "[notice] A new release of pip is available: 24.0 -> 24.3.1\n",
      "[notice] To update, run: c:\\Users\\raoul\\Desktop\\new_histtop\\HistTopMod-Essay\\HistTopMod\\Scripts\\python.exe -m pip install --upgrade pip\n"
     ]
    }
   ],
   "source": [
    "!HistTopMod\\Scripts\\python -m pip install notebook ipykernel"
   ]
  },
  {
   "cell_type": "markdown",
   "metadata": {},
   "source": [
    "Nun kann man das erstellte venv als Kernel auswählen (Name: \"HistTopMod\")"
   ]
  },
  {
   "cell_type": "markdown",
   "metadata": {},
   "source": [
    "## 1. Installieren der notwendigen Requirements ##\n",
    "Zunächst müssen alle Libraries importiert werden. Während os, sqlite3 und xml.etree.Elementree in Python built-in sind, muss pandas mit pip installiert werden."
   ]
  },
  {
   "cell_type": "code",
   "execution_count": 1,
   "metadata": {},
   "outputs": [],
   "source": [
    "import os\n",
    "import sqlite3\n",
    "import xml.etree.ElementTree as ET\n",
    "import zipfile"
   ]
  },
  {
   "cell_type": "markdown",
   "metadata": {},
   "source": [
    "Pandas muss zunächst mit pip installiert werden:"
   ]
  },
  {
   "cell_type": "code",
   "execution_count": 2,
   "metadata": {},
   "outputs": [
    {
     "name": "stdout",
     "output_type": "stream",
     "text": [
      "Collecting pandas\n",
      "  Using cached pandas-2.2.3-cp312-cp312-win_amd64.whl.metadata (19 kB)\n",
      "Collecting numpy>=1.26.0 (from pandas)\n",
      "  Downloading numpy-2.2.1-cp312-cp312-win_amd64.whl.metadata (60 kB)\n",
      "     ---------------------------------------- 0.0/60.8 kB ? eta -:--:--\n",
      "     ------ --------------------------------- 10.2/60.8 kB ? eta -:--:--\n",
      "     ------------ ------------------------- 20.5/60.8 kB 330.3 kB/s eta 0:00:01\n",
      "     ------------------------- ------------ 41.0/60.8 kB 330.3 kB/s eta 0:00:01\n",
      "     -------------------------------------- 60.8/60.8 kB 361.5 kB/s eta 0:00:00\n",
      "Requirement already satisfied: python-dateutil>=2.8.2 in c:\\users\\raoul\\desktop\\new_histtop\\histtopmod-essay\\histtopmod\\lib\\site-packages (from pandas) (2.9.0.post0)\n",
      "Collecting pytz>=2020.1 (from pandas)\n",
      "  Using cached pytz-2024.2-py2.py3-none-any.whl.metadata (22 kB)\n",
      "Collecting tzdata>=2022.7 (from pandas)\n",
      "  Using cached tzdata-2024.2-py2.py3-none-any.whl.metadata (1.4 kB)\n",
      "Requirement already satisfied: six>=1.5 in c:\\users\\raoul\\desktop\\new_histtop\\histtopmod-essay\\histtopmod\\lib\\site-packages (from python-dateutil>=2.8.2->pandas) (1.17.0)\n",
      "Using cached pandas-2.2.3-cp312-cp312-win_amd64.whl (11.5 MB)\n",
      "Downloading numpy-2.2.1-cp312-cp312-win_amd64.whl (12.6 MB)\n",
      "   ---------------------------------------- 0.0/12.6 MB ? eta -:--:--\n",
      "   ---------------------------------------- 0.1/12.6 MB 3.0 MB/s eta 0:00:05\n",
      "   - -------------------------------------- 0.3/12.6 MB 3.9 MB/s eta 0:00:04\n",
      "   -- ------------------------------------- 0.8/12.6 MB 6.0 MB/s eta 0:00:02\n",
      "   -- ------------------------------------- 0.9/12.6 MB 6.2 MB/s eta 0:00:02\n",
      "   ---- ----------------------------------- 1.4/12.6 MB 6.9 MB/s eta 0:00:02\n",
      "   ----- ---------------------------------- 1.8/12.6 MB 6.7 MB/s eta 0:00:02\n",
      "   ------- -------------------------------- 2.2/12.6 MB 7.1 MB/s eta 0:00:02\n",
      "   ------- -------------------------------- 2.5/12.6 MB 7.3 MB/s eta 0:00:02\n",
      "   --------- ------------------------------ 2.9/12.6 MB 7.8 MB/s eta 0:00:02\n",
      "   ----------- ---------------------------- 3.5/12.6 MB 8.0 MB/s eta 0:00:02\n",
      "   ------------ --------------------------- 3.9/12.6 MB 8.1 MB/s eta 0:00:02\n",
      "   ------------ --------------------------- 4.1/12.6 MB 8.1 MB/s eta 0:00:02\n",
      "   --------------- ------------------------ 4.8/12.6 MB 8.3 MB/s eta 0:00:01\n",
      "   ---------------- ----------------------- 5.2/12.6 MB 8.2 MB/s eta 0:00:01\n",
      "   ------------------ --------------------- 5.9/12.6 MB 8.7 MB/s eta 0:00:01\n",
      "   -------------------- ------------------- 6.6/12.6 MB 9.1 MB/s eta 0:00:01\n",
      "   ----------------------- ---------------- 7.4/12.6 MB 9.7 MB/s eta 0:00:01\n",
      "   -------------------------- ------------- 8.2/12.6 MB 10.1 MB/s eta 0:00:01\n",
      "   --------------------------- ------------ 8.8/12.6 MB 10.4 MB/s eta 0:00:01\n",
      "   ------------------------------ --------- 9.6/12.6 MB 10.6 MB/s eta 0:00:01\n",
      "   -------------------------------- ------- 10.3/12.6 MB 10.9 MB/s eta 0:00:01\n",
      "   ---------------------------------- ----- 11.0/12.6 MB 11.7 MB/s eta 0:00:01\n",
      "   ------------------------------------ --- 11.4/12.6 MB 11.9 MB/s eta 0:00:01\n",
      "   ------------------------------------ --- 11.6/12.6 MB 11.5 MB/s eta 0:00:01\n",
      "   ------------------------------------- -- 11.9/12.6 MB 11.5 MB/s eta 0:00:01\n",
      "   ------------------------------------- -- 12.0/12.6 MB 11.1 MB/s eta 0:00:01\n",
      "   ---------------------------------------  12.4/12.6 MB 10.9 MB/s eta 0:00:01\n",
      "   ---------------------------------------  12.6/12.6 MB 11.3 MB/s eta 0:00:01\n",
      "   ---------------------------------------- 12.6/12.6 MB 10.4 MB/s eta 0:00:00\n",
      "Using cached pytz-2024.2-py2.py3-none-any.whl (508 kB)\n",
      "Using cached tzdata-2024.2-py2.py3-none-any.whl (346 kB)\n",
      "Installing collected packages: pytz, tzdata, numpy, pandas\n",
      "Successfully installed numpy-2.2.1 pandas-2.2.3 pytz-2024.2 tzdata-2024.2\n",
      "Note: you may need to restart the kernel to use updated packages.\n"
     ]
    },
    {
     "name": "stderr",
     "output_type": "stream",
     "text": [
      "\n",
      "[notice] A new release of pip is available: 24.0 -> 24.3.1\n",
      "[notice] To update, run: python.exe -m pip install --upgrade pip\n"
     ]
    }
   ],
   "source": [
    "%pip install pandas"
   ]
  },
  {
   "cell_type": "markdown",
   "metadata": {},
   "source": [
    "Danach kann die library auch importiert werden:"
   ]
  },
  {
   "cell_type": "code",
   "execution_count": 3,
   "metadata": {},
   "outputs": [],
   "source": [
    "import pandas as pd"
   ]
  },
  {
   "cell_type": "markdown",
   "metadata": {},
   "source": [
    "## 2. Herunterladen vom Gesamtkorpus des Deutschen Textarchivs ##\n",
    "Als nächstes wird der Gesamtkorpus des Deutschen Textarchivs in das working directory heruntergeladen und der Path gespeichert."
   ]
  },
  {
   "cell_type": "markdown",
   "metadata": {},
   "source": [
    "Der Download des Gesamtkorpus kann unter dieser URL gestarted werden:"
   ]
  },
  {
   "cell_type": "markdown",
   "metadata": {},
   "source": [
    "https://www.deutschestextarchiv.de/media/download/dta_komplett_2021-05-13.zip"
   ]
  },
  {
   "cell_type": "markdown",
   "metadata": {},
   "source": [
    "Das Zip-File wird nun in dieses Working Directory kopiert. Es muss sichergestellt werden, dass es sich im selben Ordner befindet."
   ]
  },
  {
   "cell_type": "markdown",
   "metadata": {},
   "source": [
    "## 3. Entpacken der Zip-Datei und speichern des Path ##\n",
    "Die folgenden Code-Snippets kreieren ein XML-Directory mit allen XML-Files des DTA, entpacken die Zip-Datei in dieses Directory und löschen den Zip-Ordner."
   ]
  },
  {
   "cell_type": "markdown",
   "metadata": {},
   "source": [
    "Zunächst wird ein neuer Ordner erstellt und der Path zu diesem Ordner gespeichert:"
   ]
  },
  {
   "cell_type": "code",
   "execution_count": null,
   "metadata": {},
   "outputs": [],
   "source": [
    "!mkdir \"Gesamtkorpus\"\n",
    "path_to_directory = r\"./Gesamtkorpus\""
   ]
  },
  {
   "cell_type": "markdown",
   "metadata": {},
   "source": [
    "Als nächstes werden die Inhalte des Zip-Files \"dta_komplett_2021-05-13.zip\" in den Ordner \"Gesamtkorpus\" entpackt."
   ]
  },
  {
   "cell_type": "code",
   "execution_count": null,
   "metadata": {},
   "outputs": [],
   "source": [
    "path_to_zip_file = \"./dta_komplett_2021-05-13.zip\"\n",
    "with zipfile.ZipFile(path_to_zip_file, \"r\") as ref:\n",
    "    ref.extractall(path_to_directory)"
   ]
  },
  {
   "cell_type": "markdown",
   "metadata": {},
   "source": [
    "Damit nun auf die Dateien zugegriffen werden kann, muss path_to_directory upgedated werden (gibt eine schönere Lösung)"
   ]
  },
  {
   "cell_type": "code",
   "execution_count": 14,
   "metadata": {},
   "outputs": [],
   "source": [
    "path_to_directory = path_to_directory + \"/\" + \"dta_komplett_2021-05-13/\""
   ]
  },
  {
   "cell_type": "markdown",
   "metadata": {},
   "source": [
    "Schliesslich wird das Zip-File gelöscht, da es nicht mehr benötigt wird."
   ]
  },
  {
   "cell_type": "code",
   "execution_count": 14,
   "metadata": {},
   "outputs": [],
   "source": [
    "os.remove(\"dta_komplett_2021-05-13.zip\")"
   ]
  },
  {
   "cell_type": "markdown",
   "metadata": {},
   "source": [
    "## 4. Erstellen einer SQL-Datenbank und verbinden mit ihr ##\n",
    "In diesem Schritt wird eine SQL-Datenbank erstellt und eine Verbindung aufgebaut, dies wird später gebraucht, um die extrahierten Texte und Metadaten in die Datenbank zu kopieren."
   ]
  },
  {
   "cell_type": "code",
   "execution_count": 28,
   "metadata": {},
   "outputs": [],
   "source": [
    "con = sqlite3.connect(\"Datenbank.db\")\n",
    "cur = con.cursor()"
   ]
  },
  {
   "cell_type": "markdown",
   "metadata": {},
   "source": [
    "## 5. Extrahieren von Metadaten und Texte ##\n",
    "In diesem Schritt werden die einzelnen Metadaten und Texte von den XML-Dateien extrahiert und als Dictionaries in eine Liste kopiert. Diese Liste wird dann in ein pandas DataFrame umgewandelt und in die SQL-Datenbank von Schritt 4 eingefügt."
   ]
  },
  {
   "cell_type": "markdown",
   "metadata": {},
   "source": [
    "Es folgt nun eine Python-Function, die rekursiv Text-Elemente extrahiert. Die Funktion ist relativ kompliziert (Rekursion), aber gewährleistet, dass XML-Tags nicht im Text übernommen werden.\n",
    "Die XML-Textteile weisen oft noch Formatierungen mit solchen Tags auf (z.B. ```<lb>``` für linebreaks). Bei der Extraktion sollen diese aber nicht vorkommen: Das Ziel ist es, einen Reintext zu haben ohne Formatierungen.\n",
    "Beispiel:\n",
    "\n",
    "```XML\n",
    "<text>\n",
    "        <body>\n",
    "            <pb facs=\"#f0001\" n=\"98\" />\n",
    "            <div n=\"1\">\n",
    "                <head>\n",
    "                    <hi rendition=\"#b\"><hi rendition=\"#g\">Geschichte eines deutschen Liedes</hi>.</hi>\n",
    "                    <lb />\n",
    "                </head>\n",
    "                <cit>\n",
    "                    <quote>\n",
    "                        <lg type=\"poem\">\n",
    "                            <l>„Ein Veilchen auf der Wiese stand,<lb />\n",
    "                            </l>\n",
    "                            <l>Gebückt in sich und unbekannt:<lb />\n",
    "                            </l>\n",
    "                            <l>Es war ein herzigs Veilchen.“<lb />\n",
    "                            </l>\n",
    "                        </lg>\n",
    "                    </quote>\n",
    "                    <bibl>\n",
    "                        <hi rendition=\"#right\">(Goethe – Mozart)</hi>\n",
    "                    </bibl>\n",
    "                    .........\n",
    "```\n",
    "\n",
    "Mit dem folgenden Code können alle subtags herausgelöscht werden, sodass schliesslich der Output so aussieht:\n",
    "```\n",
    "Geschichte eines deutschen Liedes\n",
    "„Ein Veilchen auf der Wiese stand,\n",
    "Gebückt in sich und unbekannt:\n",
    "Es war ein herzigs Veilchen.“\n",
    "(Goethe – Mozart)\n",
    "```\n",
    "\n",
    "Der Code speichert diese Funktion zunächst nur, führt sie aber noch nicht aus! Sie wird beim nächsten Code-Snippet verwendet.\n"
   ]
  },
  {
   "cell_type": "code",
   "execution_count": 4,
   "metadata": {},
   "outputs": [],
   "source": [
    "def extract_text(text_element):\n",
    "    # Hier wird der extrahierte Text hinein kopiert\n",
    "    text_content = []\n",
    "\n",
    "    # Helfer-Funktion um rekursiv Text vom text_element und seinen Children zu extrahieren\n",
    "    def recursive_extract(text_elem):\n",
    "        # Wenn das aktuelle element Text beinhaltet, wird dieser in text_content reinkopiert\n",
    "        if text_elem.text:\n",
    "            text_content.append(text_elem.text)\n",
    "        \n",
    "        # Iteration über alle Child-Elemente des aktuellen Elements\n",
    "        for child in text_elem:\n",
    "            # Rekursiver Function-Call für jedes Child-Element\n",
    "            recursive_extract(child)\n",
    "            \n",
    "            # zur Sicherheit: Falls Text hinter closing Tags sind (z.B. ...Wiese stand, <lb />AUSSERHALB) wird dieser auch in text_content reinkopiert\n",
    "            if child.tail:\n",
    "                text_content.append(child.tail)\n",
    "    \n",
    "    # Start der Rekursion mit dem als Argument gepasstem text_element\n",
    "    recursive_extract(text_element)\n",
    "\n",
    "    # Kombination aller gesammelten Texte in einen einzelnen String, der durch Leerschläge separiert wird\n",
    "    return \" \".join(text_content)\n",
    "\n",
    "            "
   ]
  },
  {
   "cell_type": "markdown",
   "metadata": {},
   "source": [
    "Das nächste Code-Snippet benützt den xml.etree.ElementTree um durch jedes einzelne XML-File zu gehen und die relevanten Informationen zu speichern. Konkret sind dies:\n",
    "\n",
    "    - Haupttitel\n",
    "    - Untertitel\n",
    "    - Volumetitel\n",
    "    - Hauptklasse (Genre)\n",
    "    - Subklasse (Subgenre)\n",
    "    - Autor (Nachname, Vorname)\n",
    "    - Publikationsdatum\n",
    "    - Sprache\n",
    "    - Text\n",
    "\n",
    "Diese Daten werden extrahiert und in der Form eines Dictionarys in eine Liste data[] gesetzt. Diese Liste wird schliesslich in ein pandas DataFrame umgewandelt und in die SQL-Datenbank eingespeist.\n",
    "\n",
    "Die Extrahierung von Metadaten ist ziemlich einfach. Die findtext()-function kann als input einen XML-Tag nehmen und dann innerhalb dieses Tags Text finden. Zum Beispiel:\n",
    "\n",
    "```XML\n",
    "<author>\n",
    "    <persName ref=\"http://d-nb.info/gnd/116201843\">\n",
    "        <surname>Bletzacher</surname>\n",
    "        <forename>Joseph</forename>\n",
    "    </persName>\n",
    "</author>\n",
    "```\n",
    "\n",
    "Hier kann der Tag \"surname\" an findtext() gepasst werden und der Output ist \"Bletzacher\".\n",
    "\n",
    "Eine Berücksichtigung muss gemacht werden: der Namensraum. Das Deutsche Textarchiv benutzt das TEI/XML-Basisformat (sie nennen es DTABf). Dieses folgt den Richtlinien der Text Encoding Initiative (TEI). Damit die Extraktion funktioniert (die Elemente und Attribute eindeutig identifiziert werden können), muss ein Namensraum definiert werden. Da das DTA das Basisformat von TEI verwendet, kann dieser Namensraum verwendet werden. Er ist under dieser Webadresse zu finden: http://www.tei-c.org/ns/1.0.\n",
    "\n",
    "Für mehr Informationen wird hier auf das Deutsche Textarchiv verwiesen: https://www.deutschestextarchiv.de/doku/basisformat/einfuehrung.html"
   ]
  },
  {
   "cell_type": "code",
   "execution_count": null,
   "metadata": {},
   "outputs": [],
   "source": [
    "data = []\n",
    "\n",
    "# Ein Loop durch den gesamten Ordner mit XML-Dateien\n",
    "for file_name in os.listdir(path_to_directory):\n",
    "    \n",
    "    # Defensive Coding: Nur XML-Dateien sollen berücksichtigt werden\n",
    "    if file_name.endswith(\".xml\"):\n",
    "        # Kreieren eines File-Paths\n",
    "        file_path = os.path.join(path_to_directory, file_name)\n",
    "\n",
    "        # Die XML-Datei wird ausgelesen\n",
    "        tree = ET.parse(file_path)\n",
    "        root = tree.getroot()\n",
    "        namespace = {\"ns0\":\"http://www.tei-c.org/ns/1.0\"}\n",
    "\n",
    "        # Extrahierung von Metadaten (ohne Text); \n",
    "        # @scheme spezifiziert welchen ClassCode (sub oder main) gemeint ist\n",
    "        # @type spezifiziert welchen Tag gemeint ist, falls mehrere mit dem gleichen Namen existieren\n",
    "        main_title = root.findtext('.//ns0:title[@type=\"main\"]', namespaces=namespace)\n",
    "        sub_title = root.findtext('.//ns0:title[@type=\"sub\"]', namespaces=namespace)\n",
    "        volume_title = root.findtext('.//ns0:title[@type=\"volume\"]', namespaces=namespace)\n",
    "        class_main = root.findtext(\".//ns0:classCode[@scheme='https://www.deutschestextarchiv.de/doku/klassifikation#dwds1main']\", namespaces=namespace)\n",
    "        class_sub = root.findtext(\".//ns0:classCode[@scheme='https://www.deutschestextarchiv.de/doku/klassifikation#dwds1sub']\", namespaces=namespace)\n",
    "        author_surname = root.findtext(\".//ns0:surname\", namespaces=namespace)\n",
    "        author_forename = root.findtext(\".//ns0:forename\", namespaces=namespace)\n",
    "        author = f\"{author_surname}, {author_forename}\"\n",
    "        publication_date_str = root.findtext(\".//ns0:sourceDesc/ns0:biblFull/ns0:publicationStmt/ns0:date[@type='publication']\", namespaces=namespace)\n",
    "        language = root.findtext(\".//ns0:language\", namespaces=namespace)\n",
    "\n",
    "        # Für den text muss zunächst das ganze Text-Element ausgelesen werden, also alles zwischen <text> und <text />\n",
    "        text_element = root.find(\".//ns0:text\", namespaces=namespace)\n",
    "\n",
    "        # Dann kann dieses Textelement and die rekursive Funktion von oben weitergeleitet werden\n",
    "        plain_text = extract_text(text_element)\n",
    "\n",
    "        # Schliesslich werden diese Daten als Dictionary in die Datenliste eingefügt\n",
    "        data.append({\n",
    "            \"haupttitel\" : main_title,\n",
    "            \"untertitel\" : sub_title,\n",
    "            \"volumetitel\" : volume_title,\n",
    "            \"autor\" : author,\n",
    "            \"publikationsjahr\" : publication_date_str, # Hier wird der String des Jahres (also z.B. \"1600\") in einen Integer umgewandelt\n",
    "            \"hauptklasse\" : class_main,\n",
    "            \"subklasse\" : class_sub,\n",
    "            \"sprache\" : language,\n",
    "            \"text\" : plain_text\n",
    "        })\n",
    "\n",
    "\n",
    "# In einem letzten Schritt wird die Data-Liste (mit Dictionaries) in ein pandas DataFrame umgewandelt, und dann in die SQL-Datenbank eingespeist\n",
    "df = pd.DataFrame(data)\n",
    "\n",
    "df.to_sql(\"my_data\", con, index=True, if_exists=\"replace\")"
   ]
  },
  {
   "cell_type": "markdown",
   "metadata": {},
   "source": [
    "Vorhin wurde die SQL-Datenbank mit einem Index kreiert (index=True). Das Keyword \"index\" ist aber auch ein SQL-Command, weswegen in diesem Code-Snippet der Name geändert wird:"
   ]
  },
  {
   "cell_type": "code",
   "execution_count": null,
   "metadata": {},
   "outputs": [],
   "source": [
    "cur.execute(\"ALTER TABLE my_data RENAME COLUMN 'index' to 'text_index';\")"
   ]
  },
  {
   "cell_type": "markdown",
   "metadata": {},
   "source": [
    "Das Publikationsjahr ist im Moment noch ein String, mit dem nächsten Code-Snippet wird dieser aber in ein Integer umgewandelt (für Berechnungen bei der Analyse für das Sampling)."
   ]
  },
  {
   "cell_type": "markdown",
   "metadata": {},
   "source": [
    "Zunächst wird eine neue Spalte erstellt, die das Publikationsjahr als Integer hat:"
   ]
  },
  {
   "cell_type": "code",
   "execution_count": 4,
   "metadata": {},
   "outputs": [],
   "source": [
    "import sqlite3\n",
    "\n",
    "con = sqlite3.connect(\"Datenbank.db\")\n",
    "cur = con.cursor()\n",
    "\n",
    "cur.execute(\"ALTER TABLE my_data ADD COLUMN publikationsjahr_int INTEGER\")\n",
    "\n",
    "cur.execute(\"\"\"\n",
    "    UPDATE my_data\n",
    "    SET publikationsjahr_int = CAST(publikationsjahr AS INTEGER)\n",
    "\"\"\")\n",
    "con.commit()"
   ]
  },
  {
   "cell_type": "markdown",
   "metadata": {},
   "source": [
    "Die Spalte Publikationsjahr mit den Strings wird gelöscht."
   ]
  },
  {
   "cell_type": "code",
   "execution_count": null,
   "metadata": {},
   "outputs": [],
   "source": [
    "cur.execute(\"\"\"\n",
    "            ALTER TABLE my_data\n",
    "            DROP COLUMN publikationsjahr\n",
    "            \"\"\")"
   ]
  },
  {
   "cell_type": "markdown",
   "metadata": {},
   "source": [
    "Die neue Integer-Spalte wird umbenannt in Publikationsjahr"
   ]
  },
  {
   "cell_type": "code",
   "execution_count": null,
   "metadata": {},
   "outputs": [],
   "source": [
    "cur.execute(\"\"\"\n",
    "    ALTER TABLE my_data\n",
    "    RENAME COLUMN 'publikationsjahr_int' to 'publikationsjahr'\n",
    "\"\"\")"
   ]
  },
  {
   "cell_type": "markdown",
   "metadata": {},
   "source": [
    "Überprüfen des Datentyps:"
   ]
  },
  {
   "cell_type": "code",
   "execution_count": null,
   "metadata": {},
   "outputs": [],
   "source": [
    "print(type(cur.execute(\"SELECT publikationsjahr FROM my_data WHERE text_index=0\").fetchone()[0]))"
   ]
  },
  {
   "cell_type": "code",
   "execution_count": null,
   "metadata": {},
   "outputs": [],
   "source": [
    "print(cur.execute(\"SELECT publikationsjahr FROM my_data WHERE text_index=0\").fetchone()[0])"
   ]
  },
  {
   "cell_type": "markdown",
   "metadata": {},
   "source": [
    "## 6. Tests ##\n",
    "In diesem Abschnitt wird geschaut, ob die Datenbank erfolgreich aufgesetzt wurde. Dabei wird ein zufällig gewählter text-index genommen und die Informationen gezeigt."
   ]
  },
  {
   "cell_type": "markdown",
   "metadata": {},
   "source": [
    "Zufälliger text_index:"
   ]
  },
  {
   "cell_type": "code",
   "execution_count": null,
   "metadata": {},
   "outputs": [],
   "source": [
    "import random\n",
    "\n",
    "rand_index = random.randint(0, 4435)\n",
    "print(rand_index)"
   ]
  },
  {
   "cell_type": "markdown",
   "metadata": {},
   "source": [
    "Abfrage nach Haupttitel:"
   ]
  },
  {
   "cell_type": "code",
   "execution_count": null,
   "metadata": {},
   "outputs": [],
   "source": [
    "cur.execute(\"SELECT haupttitel FROM my_data WHERE text_index=?\", (rand_index,))\n",
    "print(cur.fetchone()[0])"
   ]
  },
  {
   "cell_type": "markdown",
   "metadata": {},
   "source": [
    "Abfrage nach Untertitel:"
   ]
  },
  {
   "cell_type": "code",
   "execution_count": null,
   "metadata": {},
   "outputs": [],
   "source": [
    "cur.execute(\"SELECT untertitel FROM my_data WHERE text_index=?\", (rand_index,))\n",
    "print(cur.fetchone()[0])"
   ]
  },
  {
   "cell_type": "markdown",
   "metadata": {},
   "source": [
    "Abfrage nach Volumetitel:"
   ]
  },
  {
   "cell_type": "code",
   "execution_count": null,
   "metadata": {},
   "outputs": [],
   "source": [
    "cur.execute(\"SELECT volumetitel FROM my_data WHERE text_index=?\", (rand_index,))\n",
    "print(cur.fetchone()[0])"
   ]
  },
  {
   "cell_type": "markdown",
   "metadata": {},
   "source": [
    "Abfrage nach Autor:"
   ]
  },
  {
   "cell_type": "code",
   "execution_count": null,
   "metadata": {},
   "outputs": [],
   "source": [
    "cur.execute(\"SELECT autor FROM my_data WHERE text_index=?\", (rand_index,))\n",
    "print(cur.fetchone()[0])"
   ]
  },
  {
   "cell_type": "markdown",
   "metadata": {},
   "source": [
    "Abfrage nach Publikationsjahr:"
   ]
  },
  {
   "cell_type": "code",
   "execution_count": null,
   "metadata": {},
   "outputs": [],
   "source": [
    "cur.execute(\"SELECT publikationsjahr FROM my_data WHERE text_index=?\", (rand_index,))\n",
    "print(cur.fetchone()[0])"
   ]
  },
  {
   "cell_type": "markdown",
   "metadata": {},
   "source": [
    "Abfrage nach Hauptklasse:"
   ]
  },
  {
   "cell_type": "code",
   "execution_count": null,
   "metadata": {},
   "outputs": [],
   "source": [
    "cur.execute(\"SELECT hauptklasse FROM my_data WHERE text_index=?\", (rand_index,))\n",
    "print(cur.fetchone()[0])"
   ]
  },
  {
   "cell_type": "markdown",
   "metadata": {},
   "source": [
    "Abfrage nach Subklasse:"
   ]
  },
  {
   "cell_type": "code",
   "execution_count": null,
   "metadata": {},
   "outputs": [],
   "source": [
    "cur.execute(\"SELECT subklasse FROM my_data WHERE text_index=?\", (rand_index,))\n",
    "print(cur.fetchone()[0])"
   ]
  },
  {
   "cell_type": "markdown",
   "metadata": {},
   "source": [
    "Abfrage nach Sprache:\n"
   ]
  },
  {
   "cell_type": "code",
   "execution_count": null,
   "metadata": {},
   "outputs": [],
   "source": [
    "cur.execute(\"SELECT sprache FROM my_data WHERE text_index=?\", (rand_index,))\n",
    "print(cur.fetchone()[0])"
   ]
  },
  {
   "cell_type": "markdown",
   "metadata": {},
   "source": [
    "Abfrage für den Text:"
   ]
  },
  {
   "cell_type": "code",
   "execution_count": null,
   "metadata": {},
   "outputs": [],
   "source": [
    "cur.execute(\"SELECT text FROM my_data WHERE text_index=?\", (rand_index,))\n",
    "print(cur.fetchone()[0])"
   ]
  },
  {
   "cell_type": "markdown",
   "metadata": {},
   "source": []
  }
 ],
 "metadata": {
  "kernelspec": {
   "display_name": "HistTopMod",
   "language": "python",
   "name": "python3"
  },
  "language_info": {
   "codemirror_mode": {
    "name": "ipython",
    "version": 3
   },
   "file_extension": ".py",
   "mimetype": "text/x-python",
   "name": "python",
   "nbconvert_exporter": "python",
   "pygments_lexer": "ipython3",
   "version": "3.12.4"
  }
 },
 "nbformat": 4,
 "nbformat_minor": 2
}
