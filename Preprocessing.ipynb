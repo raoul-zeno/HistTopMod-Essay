{
 "cells": [
  {
   "cell_type": "markdown",
   "metadata": {},
   "source": [
    "### Preprocessing ###\n",
    "Dieses Jupyter Notebook behandelt das Preprocessing der 100 Stichproben, und schliesslich das Anwenden des Scripts auf den Gesamtkorpus. Dabei wird wie folgt vorgegangen:\n",
    "1. Aufteilen der Samples in ihre jeweilichen Epoche x Hauptklasse-Schicht\n",
    "2. Spezifisches Preprocessing mit diversen Unterschritten:\n",
    "    - Wortdistributionen (für Stopwords)\n",
    "    - Wortähnlichkeitsanalyse (für verschiedene Schreibweisen)\n",
    "    - Unicode-Normalisierung (für archaische Buchstaben)\n",
    "    - Leerzeichen-Entfernung (für unnötige Leerzeichen)\n",
    "    - Lower-Casing (für bessere Maschinenlesbarkeit)\n",
    "    - Lemmatisierung (für bessere Ergebnisse beim Modell-Training)\n",
    "    - Tokenization\n",
    "    - Abkürzungsmanagement\n",
    "    - Mehrwortausdruck-Management\n",
    "    - Frequenzfilterung\n",
    "    - Zeichensetzung (Entfernung von unnötigen Zeichen, Punkte, Doppelpunkte etc. bleiben erhalten)\n",
    "3. Anwenden des Preprocessing-Scripts auf die jeweilige Epoche x Genre-Schicht im Gesamtkorpus\n",
    "4. Überprüfen der Ergebnisse mit BERTopic pro Epoche x Genre-Schicht\n",
    "5. Wiederholen der Schritte für weitere Epochen x Genres\n",
    "6. Durchlauf des Gesamtkorpus mit BERTopic"
   ]
  },
  {
   "cell_type": "markdown",
   "metadata": {},
   "source": [
    "## 1. Aufteilen der Samples in ihre jeweiligen Epoche x Hauptklasse-Schicht ##\n",
    "In diesem Script werden die relevanten listen erstellt, die die Texte der Stichproben enthalten."
   ]
  },
  {
   "cell_type": "code",
   "execution_count": 2,
   "metadata": {},
   "outputs": [
    {
     "name": "stdout",
     "output_type": "stream",
     "text": [
      "Barock x Gebrauchsliteratur\n",
      "Aufklärung x Belletristik\n",
      "Renaissance x Zeitung\n",
      "Barock x Zeitung\n",
      "Revolutionsjahre x Zeitung\n",
      "Moderne x Wissenschaft\n",
      "Aufklärung x Wissenschaft\n",
      "Aufklärung x Gebrauchsliteratur\n",
      "Industrielle Revolution x Wissenschaft\n",
      "Frühes 19. Jahrhundert x Gebrauchsliteratur\n",
      "Barock x Belletristik\n",
      "Renaissance x Belletristik\n",
      "Spätmittelalter x Belletristik\n",
      "Aufklärung x Zeitung\n",
      "Frühes 19. Jahrhundert x Zeitung\n",
      "Moderne x Gebrauchsliteratur\n",
      "Industrielle Revolution x Belletristik\n",
      "Industrielle Revolution x Gebrauchsliteratur\n",
      "Frühes 19. Jahrhundert x Belletristik\n",
      "Revolutionsjahre x Belletristik\n",
      "Spätmittelalter x Gebrauchsliteratur\n",
      "Industrielle Revolution x Zeitung\n",
      "Moderne x Zeitung\n",
      "Revolutionsjahre x Gebrauchsliteratur\n",
      "Renaissance x Gebrauchsliteratur\n",
      "Renaissance x Wissenschaft\n",
      "Frühes 19. Jahrhundert x Wissenschaft\n",
      "Revolutionsjahre x Wissenschaft\n",
      "Barock x Wissenschaft\n",
      "Moderne x Belletristik\n"
     ]
    }
   ],
   "source": [
    "import sqlite3\n",
    "\n",
    "con = sqlite3.connect(\"Datenbank.db\")\n",
    "cur = con.cursor()\n",
    "\n",
    "outputs = cur.execute(\"SELECT DISTINCT epochen_genres_strata FROM samples\").fetchall()\n",
    "\n",
    "for output in outputs:\n",
    "    print(output[0])\n",
    "\n",
    "con.close()\n"
   ]
  },
  {
   "cell_type": "markdown",
   "metadata": {},
   "source": []
  }
 ],
 "metadata": {
  "kernelspec": {
   "display_name": "HistTopMod",
   "language": "python",
   "name": "python3"
  },
  "language_info": {
   "codemirror_mode": {
    "name": "ipython",
    "version": 3
   },
   "file_extension": ".py",
   "mimetype": "text/x-python",
   "name": "python",
   "nbconvert_exporter": "python",
   "pygments_lexer": "ipython3",
   "version": "3.12.4"
  }
 },
 "nbformat": 4,
 "nbformat_minor": 2
}
