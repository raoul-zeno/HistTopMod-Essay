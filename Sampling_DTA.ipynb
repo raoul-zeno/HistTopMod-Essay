{
 "cells": [
  {
   "cell_type": "markdown",
   "metadata": {},
   "source": [
    "### Text-Sampling des Gesamtkorpus des Deutschen Textarchiv ###"
   ]
  },
  {
   "cell_type": "markdown",
   "metadata": {},
   "source": [
    "Dieses Jupyter-Notebook wurde eingerichtet, um die Einzelschritte für das Text-Sampling der Texte aufzuzeigen, und für die Gewährleistung der Nachprüfbarkeit. Es sollte ein interaktives Herausfinden von wichtigen Erkenntnissen ermöglichen."
   ]
  },
  {
   "cell_type": "markdown",
   "metadata": {},
   "source": [
    "Für die Datenbank-Analyse werden folgende libraries benötigt (nicht komplett):"
   ]
  },
  {
   "cell_type": "markdown",
   "metadata": {},
   "source": [
    "- Pandas, für Visualisierungen\n",
    "- SQLite, für Datenbankerstellung und -abfragen\n",
    "- NLTK, für Wortdistributionen\n",
    "- Matplotlib, für Visualisierungen\n",
    "- Wordcloud, für Tokenfrequenz\n",
    "- evtl. Plotly, für interaktive Visualisierungen\n",
    "- \n",
    "- ... und mehr (extensible)"
   ]
  },
  {
   "cell_type": "markdown",
   "metadata": {},
   "source": [
    "Vorgehen für das Sampling (mit Hilfe von ChatGPT, Prompt: \"Any tips on sampling?\")\n"
   ]
  },
  {
   "cell_type": "markdown",
   "metadata": {},
   "source": [
    "1. Analyse der proportionalen Repräsentationen von Dekaden, Genres, Länge. Ziel: Erkenntnis über die Sample-Menge für Dekaden, Genres, Länge in Bezug auf ihrer prozentualen Repräsentation im Gesamtkorpus. (Geschichtete Zufallsstichprobe)\n",
    "2. Zufallsstichprobe mit Einschränkungen (Automatisiert):\n",
    "    - repräsentative Menge an Beispieltexten in Bezug auf Gesamtkorpus, Länge (sehr kurze und sehr lange)\n",
    "    - \"Handverlesene\", sehr repräsentative Texte kriegen Vorrang bei der Auswahl\n",
    "3. Quirks-Analyse:\n",
    "    - Unüblich oft vorkommende Tokens\n",
    "    - Archaischer oder genre-spezifischer Wortschatz\n",
    "    - N-Gram Analyse\n",
    "    - Tokenlänge-Distribution\n",
    "    - Buchstaben-Distribution\n",
    "    - Verwendung von weiteren Sprachen (z.B. Latein)\n",
    "Für diesen Schritt sollte möglichst mit Visualisierungen gearbeitet werden: Word Clouds, Bar charts, top-N Wörter, heatmaps, Histogramme, Scatterplots, Time-Series Plots\n",
    "4. Manuelle Inspektionen\n"
   ]
  },
  {
   "cell_type": "markdown",
   "metadata": {},
   "source": [
    "## 1. Analysen der proportionalen Repräsentationen von Dekaden, Genres, Länge ##"
   ]
  },
  {
   "cell_type": "markdown",
   "metadata": {},
   "source": [
    "***Dekaden***"
   ]
  },
  {
   "cell_type": "markdown",
   "metadata": {},
   "source": [
    "Zuerst werden die Jahre ausgelesen von der Datenbank und in ein DataFrame gesetzt (vereinfachte Visualisierungen)"
   ]
  },
  {
   "cell_type": "code",
   "execution_count": 2,
   "metadata": {},
   "outputs": [],
   "source": [
    "import sqlite3\n",
    "import pandas as pd\n",
    "\n",
    "con = sqlite3.connect(\"Datenbank.db\")\n",
    "abfrage = \"\"\"SELECT publikationsjahr FROM my_data;\"\"\"\n",
    "\n",
    "df = pd.read_sql_query(abfrage, con)\n",
    "\n",
    "con.close()"
   ]
  },
  {
   "cell_type": "markdown",
   "metadata": {},
   "source": [
    "Nun werden die Texte pro Jahr gezählt mit pandas:"
   ]
  },
  {
   "cell_type": "code",
   "execution_count": 3,
   "metadata": {},
   "outputs": [],
   "source": [
    "yearly_count = df.groupby(\"publikationsjahr\").size().reset_index(name=\"count\")"
   ]
  },
  {
   "cell_type": "markdown",
   "metadata": {},
   "source": [
    "Hier werden die Daten dann visualisiert mithilfe von plotly. Zuerst muss plotly aber installiert werden."
   ]
  },
  {
   "cell_type": "code",
   "execution_count": 4,
   "metadata": {},
   "outputs": [
    {
     "name": "stdout",
     "output_type": "stream",
     "text": [
      "Collecting plotly\n",
      "  Obtaining dependency information for plotly from https://files.pythonhosted.org/packages/e5/ae/580600f441f6fc05218bd6c9d5794f4aef072a7d9093b291f1c50a9db8bc/plotly-5.24.1-py3-none-any.whl.metadata\n",
      "  Downloading plotly-5.24.1-py3-none-any.whl.metadata (7.3 kB)\n",
      "Collecting tenacity>=6.2.0 (from plotly)\n",
      "  Obtaining dependency information for tenacity>=6.2.0 from https://files.pythonhosted.org/packages/b6/cb/b86984bed139586d01532a587464b5805f12e397594f19f931c4c2fbfa61/tenacity-9.0.0-py3-none-any.whl.metadata\n",
      "  Downloading tenacity-9.0.0-py3-none-any.whl.metadata (1.2 kB)\n",
      "Requirement already satisfied: packaging in c:\\users\\raoul zeno huber\\onedrive\\desktop\\historische_themenmodellierung_seminararbeit\\histtopmod\\lib\\site-packages (from plotly) (24.2)\n",
      "Downloading plotly-5.24.1-py3-none-any.whl (19.1 MB)\n",
      "   ---------------------------------------- 0.0/19.1 MB ? eta -:--:--\n",
      "   ---------------------------------------- 0.0/19.1 MB 640.0 kB/s eta 0:00:30\n",
      "   ---------------------------------------- 0.1/19.1 MB 650.2 kB/s eta 0:00:30\n",
      "    --------------------------------------- 0.3/19.1 MB 2.2 MB/s eta 0:00:09\n",
      "   - -------------------------------------- 0.9/19.1 MB 5.1 MB/s eta 0:00:04\n",
      "   --- ------------------------------------ 1.6/19.1 MB 7.4 MB/s eta 0:00:03\n",
      "   ---- ----------------------------------- 2.4/19.1 MB 8.9 MB/s eta 0:00:02\n",
      "   ----- ---------------------------------- 2.7/19.1 MB 8.9 MB/s eta 0:00:02\n",
      "   ------ --------------------------------- 3.0/19.1 MB 8.4 MB/s eta 0:00:02\n",
      "   -------- ------------------------------- 3.9/19.1 MB 9.6 MB/s eta 0:00:02\n",
      "   ---------- ----------------------------- 5.1/19.1 MB 11.1 MB/s eta 0:00:02\n",
      "   ------------- -------------------------- 6.3/19.1 MB 12.6 MB/s eta 0:00:02\n",
      "   ------------- -------------------------- 6.6/19.1 MB 12.0 MB/s eta 0:00:02\n",
      "   ---------------- ----------------------- 8.0/19.1 MB 13.5 MB/s eta 0:00:01\n",
      "   ----------------- ---------------------- 8.5/19.1 MB 13.6 MB/s eta 0:00:01\n",
      "   ------------------ --------------------- 8.7/19.1 MB 12.6 MB/s eta 0:00:01\n",
      "   ------------------ --------------------- 8.7/19.1 MB 12.1 MB/s eta 0:00:01\n",
      "   ------------------ --------------------- 8.8/19.1 MB 11.4 MB/s eta 0:00:01\n",
      "   ------------------ --------------------- 8.9/19.1 MB 10.7 MB/s eta 0:00:01\n",
      "   ------------------ --------------------- 9.0/19.1 MB 10.3 MB/s eta 0:00:01\n",
      "   ------------------- -------------------- 9.2/19.1 MB 9.9 MB/s eta 0:00:01\n",
      "   -------------------- ------------------- 9.9/19.1 MB 10.2 MB/s eta 0:00:01\n",
      "   ---------------------- ----------------- 10.8/19.1 MB 11.7 MB/s eta 0:00:01\n",
      "   ----------------------- ---------------- 11.2/19.1 MB 11.5 MB/s eta 0:00:01\n",
      "   --------------------------- ------------ 13.3/19.1 MB 13.6 MB/s eta 0:00:01\n",
      "   --------------------------------- ------ 16.0/19.1 MB 15.2 MB/s eta 0:00:01\n",
      "   ---------------------------------------  19.0/19.1 MB 25.2 MB/s eta 0:00:01\n",
      "   ---------------------------------------- 19.1/19.1 MB 23.4 MB/s eta 0:00:00\n",
      "Downloading tenacity-9.0.0-py3-none-any.whl (28 kB)\n",
      "Installing collected packages: tenacity, plotly\n",
      "Successfully installed plotly-5.24.1 tenacity-9.0.0\n",
      "Note: you may need to restart the kernel to use updated packages.\n"
     ]
    },
    {
     "name": "stderr",
     "output_type": "stream",
     "text": [
      "\n",
      "[notice] A new release of pip is available: 23.2.1 -> 24.3.1\n",
      "[notice] To update, run: python.exe -m pip install --upgrade pip\n"
     ]
    }
   ],
   "source": [
    "%pip install plotly"
   ]
  },
  {
   "cell_type": "markdown",
   "metadata": {},
   "source": [
    "Nun kann Plotly für die Visualisierung verwendet werden:"
   ]
  },
  {
   "cell_type": "code",
   "execution_count": 5,
   "metadata": {},
   "outputs": [
    {
     "data": {
      "application/vnd.plotly.v1+json": {
       "config": {
        "plotlyServerURL": "https://plot.ly"
       },
       "data": [
        {
         "name": "Texte pro Jahr",
         "type": "bar",
         "x": [
          "1473",
          "1481",
          "1483",
          "1485",
          "1487",
          "1488",
          "1490",
          "1492",
          "1493",
          "1497",
          "1500",
          "1509",
          "1516",
          "1521",
          "1522",
          "1524",
          "1529",
          "1530",
          "1531",
          "1535",
          "1536",
          "1552",
          "1555",
          "1557",
          "1558",
          "1561",
          "1562",
          "1564",
          "1565",
          "1569",
          "1571",
          "1572",
          "1574",
          "1578",
          "1579",
          "1580",
          "1581",
          "1582",
          "1583",
          "1584",
          "1585",
          "1586",
          "1587",
          "1588",
          "1589",
          "1590",
          "1591",
          "1592",
          "1593",
          "1594",
          "1595",
          "1596",
          "1597",
          "1598",
          "1599",
          "1600",
          "1601",
          "1602",
          "1603",
          "1604",
          "1605",
          "1606",
          "1607",
          "1608",
          "1609",
          "1610",
          "1611",
          "1612",
          "1613",
          "1614",
          "1615",
          "1616",
          "1617",
          "1618",
          "1619",
          "1620",
          "1621",
          "1622",
          "1623",
          "1624",
          "1625",
          "1626",
          "1627",
          "1628",
          "1629",
          "1630",
          "1631",
          "1632",
          "1633",
          "1634",
          "1635",
          "1636",
          "1637",
          "1638",
          "1639",
          "1640",
          "1641",
          "1642",
          "1643",
          "1644",
          "1645",
          "1646",
          "1647",
          "1648",
          "1649",
          "1650",
          "1651",
          "1652",
          "1653",
          "1654",
          "1655",
          "1656",
          "1657",
          "1658",
          "1659",
          "1660",
          "1661",
          "1662",
          "1663",
          "1664",
          "1665",
          "1666",
          "1667",
          "1668",
          "1669",
          "1670",
          "1671",
          "1672",
          "1673",
          "1674",
          "1675",
          "1676",
          "1677",
          "1678",
          "1679",
          "1680",
          "1681",
          "1682",
          "1683",
          "1684",
          "1685",
          "1686",
          "1687",
          "1688",
          "1689",
          "1690",
          "1691",
          "1692",
          "1693",
          "1695",
          "1696",
          "1697",
          "1698",
          "1699",
          "1700",
          "1701",
          "1702",
          "1703",
          "1704",
          "1705",
          "1706",
          "1707",
          "1708",
          "1709",
          "1710",
          "1711",
          "1712",
          "1713",
          "1714",
          "1715",
          "1716",
          "1717",
          "1718",
          "1719",
          "1720",
          "1721",
          "1722",
          "1723",
          "1724",
          "1725",
          "1726",
          "1727",
          "1728",
          "1729",
          "1730",
          "1731",
          "1732",
          "1733",
          "1734",
          "1735",
          "1736",
          "1737",
          "1738",
          "1739",
          "1740",
          "1741",
          "1742",
          "1743",
          "1744",
          "1745",
          "1746",
          "1747",
          "1748",
          "1749",
          "1750",
          "1751",
          "1752",
          "1753",
          "1754",
          "1755",
          "1756",
          "1757",
          "1758",
          "1759",
          "1760",
          "1761",
          "1762",
          "1763",
          "1764",
          "1765",
          "1766",
          "1767",
          "1768",
          "1769",
          "1770",
          "1771",
          "1772",
          "1773",
          "1774",
          "1775",
          "1776",
          "1777",
          "1778",
          "1779",
          "1780",
          "1781",
          "1782",
          "1783",
          "1784",
          "1785",
          "1786",
          "1787",
          "1788",
          "1789",
          "1790",
          "1791",
          "1792",
          "1793",
          "1794",
          "1795",
          "1796",
          "1797",
          "1798",
          "1799",
          "1800",
          "1801",
          "1802",
          "1803",
          "1804",
          "1805",
          "1806",
          "1807",
          "1808",
          "1809",
          "1810",
          "1811",
          "1812",
          "1813",
          "1814",
          "1815",
          "1816",
          "1817",
          "1818",
          "1819",
          "1820",
          "1821",
          "1822",
          "1823",
          "1824",
          "1825",
          "1826",
          "1827",
          "1828",
          "1829",
          "1830",
          "1831",
          "1832",
          "1833",
          "1834",
          "1835",
          "1836",
          "1837",
          "1838",
          "1839",
          "1840",
          "1841",
          "1842",
          "1843",
          "1844",
          "1845",
          "1846",
          "1847",
          "1848",
          "1849",
          "1850",
          "1851",
          "1852",
          "1853",
          "1854",
          "1855",
          "1856",
          "1857",
          "1858",
          "1859",
          "1860",
          "1861",
          "1862",
          "1863",
          "1864",
          "1865",
          "1866",
          "1867",
          "1868",
          "1869",
          "1870",
          "1871",
          "1872",
          "1873",
          "1874",
          "1875",
          "1876",
          "1877",
          "1878",
          "1879",
          "1880",
          "1881",
          "1882",
          "1883",
          "1884",
          "1885",
          "1886",
          "1887",
          "1888",
          "1889",
          "1890",
          "1891",
          "1892",
          "1893",
          "1894",
          "1895",
          "1896",
          "1897",
          "1898",
          "1899",
          "1900",
          "1901",
          "1902",
          "1903",
          "1904",
          "1905",
          "1906",
          "1907",
          "1908",
          "1909",
          "1910",
          "1911",
          "1912",
          "1913",
          "1914",
          "1915",
          "1916",
          "1917",
          "1918",
          "1919",
          "1920",
          "1921",
          "1922",
          "1924",
          "1925",
          "1926",
          "1927",
          "1944",
          "1946",
          "1949",
          "1952",
          "1954",
          "1955",
          "1956",
          "1958",
          "1959",
          "1960",
          "1961",
          "1964",
          "1969",
          "1987"
         ],
         "y": [
          1,
          1,
          1,
          1,
          1,
          1,
          2,
          2,
          2,
          2,
          2,
          1,
          1,
          2,
          1,
          3,
          1,
          1,
          3,
          1,
          1,
          1,
          1,
          1,
          1,
          1,
          1,
          2,
          1,
          2,
          4,
          2,
          1,
          3,
          2,
          2,
          1,
          1,
          3,
          3,
          6,
          3,
          6,
          2,
          7,
          4,
          4,
          6,
          4,
          3,
          2,
          2,
          7,
          4,
          1,
          1,
          4,
          4,
          10,
          6,
          4,
          9,
          6,
          5,
          6,
          13,
          6,
          9,
          16,
          16,
          17,
          23,
          23,
          14,
          14,
          8,
          11,
          7,
          8,
          11,
          4,
          8,
          6,
          6,
          3,
          8,
          9,
          7,
          3,
          3,
          6,
          4,
          3,
          6,
          10,
          4,
          4,
          4,
          3,
          4,
          7,
          7,
          12,
          13,
          19,
          12,
          3,
          27,
          25,
          7,
          14,
          13,
          13,
          12,
          12,
          5,
          3,
          7,
          3,
          3,
          4,
          5,
          3,
          3,
          14,
          4,
          5,
          14,
          12,
          1,
          10,
          4,
          4,
          11,
          8,
          8,
          4,
          8,
          6,
          3,
          6,
          6,
          1,
          3,
          4,
          7,
          4,
          6,
          10,
          3,
          6,
          5,
          4,
          2,
          13,
          5,
          5,
          7,
          9,
          4,
          6,
          2,
          6,
          5,
          7,
          3,
          21,
          4,
          3,
          8,
          5,
          6,
          1,
          4,
          3,
          17,
          2,
          4,
          7,
          18,
          2,
          5,
          1,
          4,
          3,
          25,
          6,
          7,
          4,
          2,
          11,
          4,
          2,
          4,
          8,
          20,
          10,
          9,
          27,
          6,
          11,
          9,
          7,
          8,
          3,
          17,
          5,
          8,
          3,
          5,
          7,
          1,
          3,
          5,
          2,
          2,
          4,
          5,
          11,
          4,
          3,
          12,
          4,
          7,
          1,
          31,
          8,
          7,
          9,
          5,
          18,
          7,
          8,
          13,
          11,
          9,
          5,
          13,
          11,
          12,
          10,
          18,
          9,
          39,
          19,
          17,
          21,
          9,
          11,
          21,
          22,
          18,
          18,
          12,
          12,
          17,
          12,
          12,
          11,
          7,
          7,
          10,
          9,
          11,
          12,
          9,
          22,
          13,
          10,
          8,
          9,
          4,
          4,
          6,
          7,
          7,
          11,
          5,
          8,
          5,
          16,
          12,
          14,
          5,
          10,
          8,
          23,
          5,
          14,
          14,
          11,
          13,
          11,
          10,
          195,
          9,
          8,
          13,
          14,
          6,
          17,
          36,
          559,
          9,
          82,
          8,
          15,
          12,
          11,
          14,
          13,
          14,
          9,
          9,
          7,
          12,
          8,
          8,
          6,
          8,
          8,
          8,
          10,
          9,
          20,
          27,
          5,
          9,
          8,
          9,
          12,
          24,
          8,
          6,
          7,
          8,
          9,
          11,
          10,
          17,
          11,
          15,
          11,
          14,
          14,
          15,
          18,
          20,
          21,
          24,
          29,
          18,
          30,
          15,
          17,
          8,
          4,
          8,
          16,
          13,
          17,
          16,
          17,
          14,
          94,
          23,
          19,
          29,
          11,
          5,
          8,
          5,
          6,
          3,
          1,
          1,
          1,
          1,
          1,
          1,
          1,
          1,
          1,
          1,
          1,
          1,
          1,
          1,
          1,
          2,
          1,
          1,
          1,
          1,
          1
         ]
        }
       ],
       "layout": {
        "hovermode": "x",
        "template": {
         "data": {
          "bar": [
           {
            "error_x": {
             "color": "#2a3f5f"
            },
            "error_y": {
             "color": "#2a3f5f"
            },
            "marker": {
             "line": {
              "color": "#E5ECF6",
              "width": 0.5
             },
             "pattern": {
              "fillmode": "overlay",
              "size": 10,
              "solidity": 0.2
             }
            },
            "type": "bar"
           }
          ],
          "barpolar": [
           {
            "marker": {
             "line": {
              "color": "#E5ECF6",
              "width": 0.5
             },
             "pattern": {
              "fillmode": "overlay",
              "size": 10,
              "solidity": 0.2
             }
            },
            "type": "barpolar"
           }
          ],
          "carpet": [
           {
            "aaxis": {
             "endlinecolor": "#2a3f5f",
             "gridcolor": "white",
             "linecolor": "white",
             "minorgridcolor": "white",
             "startlinecolor": "#2a3f5f"
            },
            "baxis": {
             "endlinecolor": "#2a3f5f",
             "gridcolor": "white",
             "linecolor": "white",
             "minorgridcolor": "white",
             "startlinecolor": "#2a3f5f"
            },
            "type": "carpet"
           }
          ],
          "choropleth": [
           {
            "colorbar": {
             "outlinewidth": 0,
             "ticks": ""
            },
            "type": "choropleth"
           }
          ],
          "contour": [
           {
            "colorbar": {
             "outlinewidth": 0,
             "ticks": ""
            },
            "colorscale": [
             [
              0,
              "#0d0887"
             ],
             [
              0.1111111111111111,
              "#46039f"
             ],
             [
              0.2222222222222222,
              "#7201a8"
             ],
             [
              0.3333333333333333,
              "#9c179e"
             ],
             [
              0.4444444444444444,
              "#bd3786"
             ],
             [
              0.5555555555555556,
              "#d8576b"
             ],
             [
              0.6666666666666666,
              "#ed7953"
             ],
             [
              0.7777777777777778,
              "#fb9f3a"
             ],
             [
              0.8888888888888888,
              "#fdca26"
             ],
             [
              1,
              "#f0f921"
             ]
            ],
            "type": "contour"
           }
          ],
          "contourcarpet": [
           {
            "colorbar": {
             "outlinewidth": 0,
             "ticks": ""
            },
            "type": "contourcarpet"
           }
          ],
          "heatmap": [
           {
            "colorbar": {
             "outlinewidth": 0,
             "ticks": ""
            },
            "colorscale": [
             [
              0,
              "#0d0887"
             ],
             [
              0.1111111111111111,
              "#46039f"
             ],
             [
              0.2222222222222222,
              "#7201a8"
             ],
             [
              0.3333333333333333,
              "#9c179e"
             ],
             [
              0.4444444444444444,
              "#bd3786"
             ],
             [
              0.5555555555555556,
              "#d8576b"
             ],
             [
              0.6666666666666666,
              "#ed7953"
             ],
             [
              0.7777777777777778,
              "#fb9f3a"
             ],
             [
              0.8888888888888888,
              "#fdca26"
             ],
             [
              1,
              "#f0f921"
             ]
            ],
            "type": "heatmap"
           }
          ],
          "heatmapgl": [
           {
            "colorbar": {
             "outlinewidth": 0,
             "ticks": ""
            },
            "colorscale": [
             [
              0,
              "#0d0887"
             ],
             [
              0.1111111111111111,
              "#46039f"
             ],
             [
              0.2222222222222222,
              "#7201a8"
             ],
             [
              0.3333333333333333,
              "#9c179e"
             ],
             [
              0.4444444444444444,
              "#bd3786"
             ],
             [
              0.5555555555555556,
              "#d8576b"
             ],
             [
              0.6666666666666666,
              "#ed7953"
             ],
             [
              0.7777777777777778,
              "#fb9f3a"
             ],
             [
              0.8888888888888888,
              "#fdca26"
             ],
             [
              1,
              "#f0f921"
             ]
            ],
            "type": "heatmapgl"
           }
          ],
          "histogram": [
           {
            "marker": {
             "pattern": {
              "fillmode": "overlay",
              "size": 10,
              "solidity": 0.2
             }
            },
            "type": "histogram"
           }
          ],
          "histogram2d": [
           {
            "colorbar": {
             "outlinewidth": 0,
             "ticks": ""
            },
            "colorscale": [
             [
              0,
              "#0d0887"
             ],
             [
              0.1111111111111111,
              "#46039f"
             ],
             [
              0.2222222222222222,
              "#7201a8"
             ],
             [
              0.3333333333333333,
              "#9c179e"
             ],
             [
              0.4444444444444444,
              "#bd3786"
             ],
             [
              0.5555555555555556,
              "#d8576b"
             ],
             [
              0.6666666666666666,
              "#ed7953"
             ],
             [
              0.7777777777777778,
              "#fb9f3a"
             ],
             [
              0.8888888888888888,
              "#fdca26"
             ],
             [
              1,
              "#f0f921"
             ]
            ],
            "type": "histogram2d"
           }
          ],
          "histogram2dcontour": [
           {
            "colorbar": {
             "outlinewidth": 0,
             "ticks": ""
            },
            "colorscale": [
             [
              0,
              "#0d0887"
             ],
             [
              0.1111111111111111,
              "#46039f"
             ],
             [
              0.2222222222222222,
              "#7201a8"
             ],
             [
              0.3333333333333333,
              "#9c179e"
             ],
             [
              0.4444444444444444,
              "#bd3786"
             ],
             [
              0.5555555555555556,
              "#d8576b"
             ],
             [
              0.6666666666666666,
              "#ed7953"
             ],
             [
              0.7777777777777778,
              "#fb9f3a"
             ],
             [
              0.8888888888888888,
              "#fdca26"
             ],
             [
              1,
              "#f0f921"
             ]
            ],
            "type": "histogram2dcontour"
           }
          ],
          "mesh3d": [
           {
            "colorbar": {
             "outlinewidth": 0,
             "ticks": ""
            },
            "type": "mesh3d"
           }
          ],
          "parcoords": [
           {
            "line": {
             "colorbar": {
              "outlinewidth": 0,
              "ticks": ""
             }
            },
            "type": "parcoords"
           }
          ],
          "pie": [
           {
            "automargin": true,
            "type": "pie"
           }
          ],
          "scatter": [
           {
            "fillpattern": {
             "fillmode": "overlay",
             "size": 10,
             "solidity": 0.2
            },
            "type": "scatter"
           }
          ],
          "scatter3d": [
           {
            "line": {
             "colorbar": {
              "outlinewidth": 0,
              "ticks": ""
             }
            },
            "marker": {
             "colorbar": {
              "outlinewidth": 0,
              "ticks": ""
             }
            },
            "type": "scatter3d"
           }
          ],
          "scattercarpet": [
           {
            "marker": {
             "colorbar": {
              "outlinewidth": 0,
              "ticks": ""
             }
            },
            "type": "scattercarpet"
           }
          ],
          "scattergeo": [
           {
            "marker": {
             "colorbar": {
              "outlinewidth": 0,
              "ticks": ""
             }
            },
            "type": "scattergeo"
           }
          ],
          "scattergl": [
           {
            "marker": {
             "colorbar": {
              "outlinewidth": 0,
              "ticks": ""
             }
            },
            "type": "scattergl"
           }
          ],
          "scattermapbox": [
           {
            "marker": {
             "colorbar": {
              "outlinewidth": 0,
              "ticks": ""
             }
            },
            "type": "scattermapbox"
           }
          ],
          "scatterpolar": [
           {
            "marker": {
             "colorbar": {
              "outlinewidth": 0,
              "ticks": ""
             }
            },
            "type": "scatterpolar"
           }
          ],
          "scatterpolargl": [
           {
            "marker": {
             "colorbar": {
              "outlinewidth": 0,
              "ticks": ""
             }
            },
            "type": "scatterpolargl"
           }
          ],
          "scatterternary": [
           {
            "marker": {
             "colorbar": {
              "outlinewidth": 0,
              "ticks": ""
             }
            },
            "type": "scatterternary"
           }
          ],
          "surface": [
           {
            "colorbar": {
             "outlinewidth": 0,
             "ticks": ""
            },
            "colorscale": [
             [
              0,
              "#0d0887"
             ],
             [
              0.1111111111111111,
              "#46039f"
             ],
             [
              0.2222222222222222,
              "#7201a8"
             ],
             [
              0.3333333333333333,
              "#9c179e"
             ],
             [
              0.4444444444444444,
              "#bd3786"
             ],
             [
              0.5555555555555556,
              "#d8576b"
             ],
             [
              0.6666666666666666,
              "#ed7953"
             ],
             [
              0.7777777777777778,
              "#fb9f3a"
             ],
             [
              0.8888888888888888,
              "#fdca26"
             ],
             [
              1,
              "#f0f921"
             ]
            ],
            "type": "surface"
           }
          ],
          "table": [
           {
            "cells": {
             "fill": {
              "color": "#EBF0F8"
             },
             "line": {
              "color": "white"
             }
            },
            "header": {
             "fill": {
              "color": "#C8D4E3"
             },
             "line": {
              "color": "white"
             }
            },
            "type": "table"
           }
          ]
         },
         "layout": {
          "annotationdefaults": {
           "arrowcolor": "#2a3f5f",
           "arrowhead": 0,
           "arrowwidth": 1
          },
          "autotypenumbers": "strict",
          "coloraxis": {
           "colorbar": {
            "outlinewidth": 0,
            "ticks": ""
           }
          },
          "colorscale": {
           "diverging": [
            [
             0,
             "#8e0152"
            ],
            [
             0.1,
             "#c51b7d"
            ],
            [
             0.2,
             "#de77ae"
            ],
            [
             0.3,
             "#f1b6da"
            ],
            [
             0.4,
             "#fde0ef"
            ],
            [
             0.5,
             "#f7f7f7"
            ],
            [
             0.6,
             "#e6f5d0"
            ],
            [
             0.7,
             "#b8e186"
            ],
            [
             0.8,
             "#7fbc41"
            ],
            [
             0.9,
             "#4d9221"
            ],
            [
             1,
             "#276419"
            ]
           ],
           "sequential": [
            [
             0,
             "#0d0887"
            ],
            [
             0.1111111111111111,
             "#46039f"
            ],
            [
             0.2222222222222222,
             "#7201a8"
            ],
            [
             0.3333333333333333,
             "#9c179e"
            ],
            [
             0.4444444444444444,
             "#bd3786"
            ],
            [
             0.5555555555555556,
             "#d8576b"
            ],
            [
             0.6666666666666666,
             "#ed7953"
            ],
            [
             0.7777777777777778,
             "#fb9f3a"
            ],
            [
             0.8888888888888888,
             "#fdca26"
            ],
            [
             1,
             "#f0f921"
            ]
           ],
           "sequentialminus": [
            [
             0,
             "#0d0887"
            ],
            [
             0.1111111111111111,
             "#46039f"
            ],
            [
             0.2222222222222222,
             "#7201a8"
            ],
            [
             0.3333333333333333,
             "#9c179e"
            ],
            [
             0.4444444444444444,
             "#bd3786"
            ],
            [
             0.5555555555555556,
             "#d8576b"
            ],
            [
             0.6666666666666666,
             "#ed7953"
            ],
            [
             0.7777777777777778,
             "#fb9f3a"
            ],
            [
             0.8888888888888888,
             "#fdca26"
            ],
            [
             1,
             "#f0f921"
            ]
           ]
          },
          "colorway": [
           "#636efa",
           "#EF553B",
           "#00cc96",
           "#ab63fa",
           "#FFA15A",
           "#19d3f3",
           "#FF6692",
           "#B6E880",
           "#FF97FF",
           "#FECB52"
          ],
          "font": {
           "color": "#2a3f5f"
          },
          "geo": {
           "bgcolor": "white",
           "lakecolor": "white",
           "landcolor": "#E5ECF6",
           "showlakes": true,
           "showland": true,
           "subunitcolor": "white"
          },
          "hoverlabel": {
           "align": "left"
          },
          "hovermode": "closest",
          "mapbox": {
           "style": "light"
          },
          "paper_bgcolor": "white",
          "plot_bgcolor": "#E5ECF6",
          "polar": {
           "angularaxis": {
            "gridcolor": "white",
            "linecolor": "white",
            "ticks": ""
           },
           "bgcolor": "#E5ECF6",
           "radialaxis": {
            "gridcolor": "white",
            "linecolor": "white",
            "ticks": ""
           }
          },
          "scene": {
           "xaxis": {
            "backgroundcolor": "#E5ECF6",
            "gridcolor": "white",
            "gridwidth": 2,
            "linecolor": "white",
            "showbackground": true,
            "ticks": "",
            "zerolinecolor": "white"
           },
           "yaxis": {
            "backgroundcolor": "#E5ECF6",
            "gridcolor": "white",
            "gridwidth": 2,
            "linecolor": "white",
            "showbackground": true,
            "ticks": "",
            "zerolinecolor": "white"
           },
           "zaxis": {
            "backgroundcolor": "#E5ECF6",
            "gridcolor": "white",
            "gridwidth": 2,
            "linecolor": "white",
            "showbackground": true,
            "ticks": "",
            "zerolinecolor": "white"
           }
          },
          "shapedefaults": {
           "line": {
            "color": "#2a3f5f"
           }
          },
          "ternary": {
           "aaxis": {
            "gridcolor": "white",
            "linecolor": "white",
            "ticks": ""
           },
           "baxis": {
            "gridcolor": "white",
            "linecolor": "white",
            "ticks": ""
           },
           "bgcolor": "#E5ECF6",
           "caxis": {
            "gridcolor": "white",
            "linecolor": "white",
            "ticks": ""
           }
          },
          "title": {
           "x": 0.05
          },
          "xaxis": {
           "automargin": true,
           "gridcolor": "white",
           "linecolor": "white",
           "ticks": "",
           "title": {
            "standoff": 15
           },
           "zerolinecolor": "white",
           "zerolinewidth": 2
          },
          "yaxis": {
           "automargin": true,
           "gridcolor": "white",
           "linecolor": "white",
           "ticks": "",
           "title": {
            "standoff": 15
           },
           "zerolinecolor": "white",
           "zerolinewidth": 2
          }
         }
        },
        "title": {
         "text": "Anzahl Texte pro Jahr"
        },
        "xaxis": {
         "title": {
          "text": "Jahr"
         }
        },
        "yaxis": {
         "title": {
          "text": "Anzahl"
         }
        }
       }
      }
     },
     "metadata": {},
     "output_type": "display_data"
    }
   ],
   "source": [
    "import plotly.graph_objects as go\n",
    "\n",
    "fig = go.Figure(data=[go.Bar(name=\"Texte pro Jahr\", x=yearly_count[\"publikationsjahr\"], y=yearly_count[\"count\"])])\n",
    "\n",
    "fig.update_layout(\n",
    "    title=\"Anzahl Texte pro Jahr\",\n",
    "    xaxis_title=\"Jahr\",\n",
    "    yaxis_title=\"Anzahl\",\n",
    "    hovermode=\"x\"\n",
    ")\n",
    "\n",
    "fig.show()\n"
   ]
  },
  {
   "cell_type": "markdown",
   "metadata": {},
   "source": [
    "***Analyse:***"
   ]
  },
  {
   "cell_type": "markdown",
   "metadata": {},
   "source": [
    "Sehr auffällig ist der Spike in den Jahren von 1840-1848. Dies fällt in den Zeitraum verschiedener Revolutionen in Europa und muss separat berücksichtigt werden beim Sampling. Es wurde entschieden, eine Stratifizierung vorzunehmen, in Epochen, um ein proportionales Sampling zu ermöglichen. Dies sollte mehr Einblick geben, wie sich die Verteilung der Texte innerhalb (mehr oder weniger arbiträren) Epochen verändert hat. \n",
    "\n",
    "Die Epochen werden aufgeteilt in:\n",
    "- Spätmittelalter (1473-1500)\n",
    "- Renaissance (1501-1600)\n",
    "- Barock (1601-1700)\n",
    "- Aufklärung (1701-1800)\n",
    "- Frühes 19. Jahrhundert (1801-1839)\n",
    "- Revolutionsjahre (1840-1850)\n",
    "- Industrielle Revolution (1851-1900)\n",
    "- Moderne (1901-1987)\n",
    "\n",
    "Dafür wird eine neue Spalte \"Zeitstratum\" in der SQL-Datenbank erstellt und die Texte gemäss ihrem Publikationsjahr eingestuft."
   ]
  },
  {
   "cell_type": "code",
   "execution_count": 3,
   "metadata": {},
   "outputs": [],
   "source": [
    "import sqlite3\n",
    "\n",
    "con = sqlite3.connect(\"Datenbank.db\")\n",
    "cur = con.cursor()\n",
    "\n",
    "cur.execute(\"\"\"\n",
    "    ALTER TABLE my_data\n",
    "    ADD COLUMN 'zeitstratum'\n",
    "\"\"\")\n",
    "\n",
    "cur.execute(\"\"\"\n",
    "    UPDATE my_data\n",
    "    SET zeitstratum = CASE\n",
    "            WHEN publikationsjahr BETWEEN 1473 AND 1500 THEN 'Spätmittelalter'\n",
    "            WHEN publikationsjahr BETWEEN 1501 AND 1600 THEN 'Renaissance'\n",
    "            WHEN publikationsjahr BETWEEN 1601 AND 1700 THEN 'Barock'\n",
    "            WHEN publikationsjahr BETWEEN 1701 AND 1800 THEN 'Aufklärung'\n",
    "            WHEN publikationsjahr BETWEEN 1801 AND 1839 THEN 'Frühes 19. Jahrhundert'\n",
    "            WHEN publikationsjahr BETWEEN 1840 AND 1850 THEN 'Revolutionsjahre'\n",
    "            WHEN publikationsjahr BETWEEN 1851 AND 1900 THEN 'Industrielle Revolution'\n",
    "            ELSE 'Moderne'\n",
    "    END;\n",
    "\"\"\")\n",
    "con.commit()\n"
   ]
  },
  {
   "cell_type": "markdown",
   "metadata": {},
   "source": [
    "Tests:"
   ]
  },
  {
   "cell_type": "code",
   "execution_count": 4,
   "metadata": {},
   "outputs": [
    {
     "name": "stdout",
     "output_type": "stream",
     "text": [
      "Das Jahr 1473 ist in der Epoche Spätmittelalter\n",
      "Das Jahr 1536 ist in der Epoche Renaissance\n",
      "Das Jahr 1650 ist in der Epoche Barock\n",
      "Das Jahr 1750 ist in der Epoche Aufklärung\n",
      "Das Jahr 1830 ist in der Epoche Frühes 19. Jahrhundert\n",
      "Das Jahr 1848 ist in der Epoche Revolutionsjahre\n",
      "Das Jahr 1890 ist in der Epoche Industrielle Revolution\n",
      "Das Jahr 1914 ist in der Epoche Moderne\n"
     ]
    }
   ],
   "source": [
    "testjahre = [1473, 1536, 1650, 1750, 1830, 1848, 1890, 1914] # Diese Daten haben mindestens einen Text (siehe Visualisierung oben)\n",
    "\n",
    "for year in testjahre:\n",
    "    print(f\"Das Jahr {year} ist in der Epoche {cur.execute(\"SELECT zeitstratum FROM my_data WHERE publikationsjahr=?\", (year,)).fetchone()[0]}\")"
   ]
  },
  {
   "cell_type": "code",
   "execution_count": 5,
   "metadata": {},
   "outputs": [],
   "source": [
    "con.close()"
   ]
  },
  {
   "cell_type": "markdown",
   "metadata": {},
   "source": [
    "Nun kann eine neue Visualisierung gemäss diesen Epochen gemacht werden, in der Form einer Bar-Chart."
   ]
  },
  {
   "cell_type": "code",
   "execution_count": 6,
   "metadata": {},
   "outputs": [
    {
     "data": {
      "application/vnd.plotly.v1+json": {
       "config": {
        "plotlyServerURL": "https://plot.ly"
       },
       "data": [
        {
         "name": "Texte pro Epoche",
         "type": "bar",
         "x": [
          "Aufklärung",
          "Barock",
          "Frühes 19. Jahrhundert",
          "Industrielle Revolution",
          "Moderne",
          "Renaissance",
          "Revolutionsjahre",
          "Spätmittelalter"
         ],
         "y": [
          892,
          783,
          402,
          651,
          634,
          110,
          948,
          16
         ]
        }
       ],
       "layout": {
        "hovermode": "x",
        "template": {
         "data": {
          "bar": [
           {
            "error_x": {
             "color": "#2a3f5f"
            },
            "error_y": {
             "color": "#2a3f5f"
            },
            "marker": {
             "line": {
              "color": "#E5ECF6",
              "width": 0.5
             },
             "pattern": {
              "fillmode": "overlay",
              "size": 10,
              "solidity": 0.2
             }
            },
            "type": "bar"
           }
          ],
          "barpolar": [
           {
            "marker": {
             "line": {
              "color": "#E5ECF6",
              "width": 0.5
             },
             "pattern": {
              "fillmode": "overlay",
              "size": 10,
              "solidity": 0.2
             }
            },
            "type": "barpolar"
           }
          ],
          "carpet": [
           {
            "aaxis": {
             "endlinecolor": "#2a3f5f",
             "gridcolor": "white",
             "linecolor": "white",
             "minorgridcolor": "white",
             "startlinecolor": "#2a3f5f"
            },
            "baxis": {
             "endlinecolor": "#2a3f5f",
             "gridcolor": "white",
             "linecolor": "white",
             "minorgridcolor": "white",
             "startlinecolor": "#2a3f5f"
            },
            "type": "carpet"
           }
          ],
          "choropleth": [
           {
            "colorbar": {
             "outlinewidth": 0,
             "ticks": ""
            },
            "type": "choropleth"
           }
          ],
          "contour": [
           {
            "colorbar": {
             "outlinewidth": 0,
             "ticks": ""
            },
            "colorscale": [
             [
              0,
              "#0d0887"
             ],
             [
              0.1111111111111111,
              "#46039f"
             ],
             [
              0.2222222222222222,
              "#7201a8"
             ],
             [
              0.3333333333333333,
              "#9c179e"
             ],
             [
              0.4444444444444444,
              "#bd3786"
             ],
             [
              0.5555555555555556,
              "#d8576b"
             ],
             [
              0.6666666666666666,
              "#ed7953"
             ],
             [
              0.7777777777777778,
              "#fb9f3a"
             ],
             [
              0.8888888888888888,
              "#fdca26"
             ],
             [
              1,
              "#f0f921"
             ]
            ],
            "type": "contour"
           }
          ],
          "contourcarpet": [
           {
            "colorbar": {
             "outlinewidth": 0,
             "ticks": ""
            },
            "type": "contourcarpet"
           }
          ],
          "heatmap": [
           {
            "colorbar": {
             "outlinewidth": 0,
             "ticks": ""
            },
            "colorscale": [
             [
              0,
              "#0d0887"
             ],
             [
              0.1111111111111111,
              "#46039f"
             ],
             [
              0.2222222222222222,
              "#7201a8"
             ],
             [
              0.3333333333333333,
              "#9c179e"
             ],
             [
              0.4444444444444444,
              "#bd3786"
             ],
             [
              0.5555555555555556,
              "#d8576b"
             ],
             [
              0.6666666666666666,
              "#ed7953"
             ],
             [
              0.7777777777777778,
              "#fb9f3a"
             ],
             [
              0.8888888888888888,
              "#fdca26"
             ],
             [
              1,
              "#f0f921"
             ]
            ],
            "type": "heatmap"
           }
          ],
          "heatmapgl": [
           {
            "colorbar": {
             "outlinewidth": 0,
             "ticks": ""
            },
            "colorscale": [
             [
              0,
              "#0d0887"
             ],
             [
              0.1111111111111111,
              "#46039f"
             ],
             [
              0.2222222222222222,
              "#7201a8"
             ],
             [
              0.3333333333333333,
              "#9c179e"
             ],
             [
              0.4444444444444444,
              "#bd3786"
             ],
             [
              0.5555555555555556,
              "#d8576b"
             ],
             [
              0.6666666666666666,
              "#ed7953"
             ],
             [
              0.7777777777777778,
              "#fb9f3a"
             ],
             [
              0.8888888888888888,
              "#fdca26"
             ],
             [
              1,
              "#f0f921"
             ]
            ],
            "type": "heatmapgl"
           }
          ],
          "histogram": [
           {
            "marker": {
             "pattern": {
              "fillmode": "overlay",
              "size": 10,
              "solidity": 0.2
             }
            },
            "type": "histogram"
           }
          ],
          "histogram2d": [
           {
            "colorbar": {
             "outlinewidth": 0,
             "ticks": ""
            },
            "colorscale": [
             [
              0,
              "#0d0887"
             ],
             [
              0.1111111111111111,
              "#46039f"
             ],
             [
              0.2222222222222222,
              "#7201a8"
             ],
             [
              0.3333333333333333,
              "#9c179e"
             ],
             [
              0.4444444444444444,
              "#bd3786"
             ],
             [
              0.5555555555555556,
              "#d8576b"
             ],
             [
              0.6666666666666666,
              "#ed7953"
             ],
             [
              0.7777777777777778,
              "#fb9f3a"
             ],
             [
              0.8888888888888888,
              "#fdca26"
             ],
             [
              1,
              "#f0f921"
             ]
            ],
            "type": "histogram2d"
           }
          ],
          "histogram2dcontour": [
           {
            "colorbar": {
             "outlinewidth": 0,
             "ticks": ""
            },
            "colorscale": [
             [
              0,
              "#0d0887"
             ],
             [
              0.1111111111111111,
              "#46039f"
             ],
             [
              0.2222222222222222,
              "#7201a8"
             ],
             [
              0.3333333333333333,
              "#9c179e"
             ],
             [
              0.4444444444444444,
              "#bd3786"
             ],
             [
              0.5555555555555556,
              "#d8576b"
             ],
             [
              0.6666666666666666,
              "#ed7953"
             ],
             [
              0.7777777777777778,
              "#fb9f3a"
             ],
             [
              0.8888888888888888,
              "#fdca26"
             ],
             [
              1,
              "#f0f921"
             ]
            ],
            "type": "histogram2dcontour"
           }
          ],
          "mesh3d": [
           {
            "colorbar": {
             "outlinewidth": 0,
             "ticks": ""
            },
            "type": "mesh3d"
           }
          ],
          "parcoords": [
           {
            "line": {
             "colorbar": {
              "outlinewidth": 0,
              "ticks": ""
             }
            },
            "type": "parcoords"
           }
          ],
          "pie": [
           {
            "automargin": true,
            "type": "pie"
           }
          ],
          "scatter": [
           {
            "fillpattern": {
             "fillmode": "overlay",
             "size": 10,
             "solidity": 0.2
            },
            "type": "scatter"
           }
          ],
          "scatter3d": [
           {
            "line": {
             "colorbar": {
              "outlinewidth": 0,
              "ticks": ""
             }
            },
            "marker": {
             "colorbar": {
              "outlinewidth": 0,
              "ticks": ""
             }
            },
            "type": "scatter3d"
           }
          ],
          "scattercarpet": [
           {
            "marker": {
             "colorbar": {
              "outlinewidth": 0,
              "ticks": ""
             }
            },
            "type": "scattercarpet"
           }
          ],
          "scattergeo": [
           {
            "marker": {
             "colorbar": {
              "outlinewidth": 0,
              "ticks": ""
             }
            },
            "type": "scattergeo"
           }
          ],
          "scattergl": [
           {
            "marker": {
             "colorbar": {
              "outlinewidth": 0,
              "ticks": ""
             }
            },
            "type": "scattergl"
           }
          ],
          "scattermapbox": [
           {
            "marker": {
             "colorbar": {
              "outlinewidth": 0,
              "ticks": ""
             }
            },
            "type": "scattermapbox"
           }
          ],
          "scatterpolar": [
           {
            "marker": {
             "colorbar": {
              "outlinewidth": 0,
              "ticks": ""
             }
            },
            "type": "scatterpolar"
           }
          ],
          "scatterpolargl": [
           {
            "marker": {
             "colorbar": {
              "outlinewidth": 0,
              "ticks": ""
             }
            },
            "type": "scatterpolargl"
           }
          ],
          "scatterternary": [
           {
            "marker": {
             "colorbar": {
              "outlinewidth": 0,
              "ticks": ""
             }
            },
            "type": "scatterternary"
           }
          ],
          "surface": [
           {
            "colorbar": {
             "outlinewidth": 0,
             "ticks": ""
            },
            "colorscale": [
             [
              0,
              "#0d0887"
             ],
             [
              0.1111111111111111,
              "#46039f"
             ],
             [
              0.2222222222222222,
              "#7201a8"
             ],
             [
              0.3333333333333333,
              "#9c179e"
             ],
             [
              0.4444444444444444,
              "#bd3786"
             ],
             [
              0.5555555555555556,
              "#d8576b"
             ],
             [
              0.6666666666666666,
              "#ed7953"
             ],
             [
              0.7777777777777778,
              "#fb9f3a"
             ],
             [
              0.8888888888888888,
              "#fdca26"
             ],
             [
              1,
              "#f0f921"
             ]
            ],
            "type": "surface"
           }
          ],
          "table": [
           {
            "cells": {
             "fill": {
              "color": "#EBF0F8"
             },
             "line": {
              "color": "white"
             }
            },
            "header": {
             "fill": {
              "color": "#C8D4E3"
             },
             "line": {
              "color": "white"
             }
            },
            "type": "table"
           }
          ]
         },
         "layout": {
          "annotationdefaults": {
           "arrowcolor": "#2a3f5f",
           "arrowhead": 0,
           "arrowwidth": 1
          },
          "autotypenumbers": "strict",
          "coloraxis": {
           "colorbar": {
            "outlinewidth": 0,
            "ticks": ""
           }
          },
          "colorscale": {
           "diverging": [
            [
             0,
             "#8e0152"
            ],
            [
             0.1,
             "#c51b7d"
            ],
            [
             0.2,
             "#de77ae"
            ],
            [
             0.3,
             "#f1b6da"
            ],
            [
             0.4,
             "#fde0ef"
            ],
            [
             0.5,
             "#f7f7f7"
            ],
            [
             0.6,
             "#e6f5d0"
            ],
            [
             0.7,
             "#b8e186"
            ],
            [
             0.8,
             "#7fbc41"
            ],
            [
             0.9,
             "#4d9221"
            ],
            [
             1,
             "#276419"
            ]
           ],
           "sequential": [
            [
             0,
             "#0d0887"
            ],
            [
             0.1111111111111111,
             "#46039f"
            ],
            [
             0.2222222222222222,
             "#7201a8"
            ],
            [
             0.3333333333333333,
             "#9c179e"
            ],
            [
             0.4444444444444444,
             "#bd3786"
            ],
            [
             0.5555555555555556,
             "#d8576b"
            ],
            [
             0.6666666666666666,
             "#ed7953"
            ],
            [
             0.7777777777777778,
             "#fb9f3a"
            ],
            [
             0.8888888888888888,
             "#fdca26"
            ],
            [
             1,
             "#f0f921"
            ]
           ],
           "sequentialminus": [
            [
             0,
             "#0d0887"
            ],
            [
             0.1111111111111111,
             "#46039f"
            ],
            [
             0.2222222222222222,
             "#7201a8"
            ],
            [
             0.3333333333333333,
             "#9c179e"
            ],
            [
             0.4444444444444444,
             "#bd3786"
            ],
            [
             0.5555555555555556,
             "#d8576b"
            ],
            [
             0.6666666666666666,
             "#ed7953"
            ],
            [
             0.7777777777777778,
             "#fb9f3a"
            ],
            [
             0.8888888888888888,
             "#fdca26"
            ],
            [
             1,
             "#f0f921"
            ]
           ]
          },
          "colorway": [
           "#636efa",
           "#EF553B",
           "#00cc96",
           "#ab63fa",
           "#FFA15A",
           "#19d3f3",
           "#FF6692",
           "#B6E880",
           "#FF97FF",
           "#FECB52"
          ],
          "font": {
           "color": "#2a3f5f"
          },
          "geo": {
           "bgcolor": "white",
           "lakecolor": "white",
           "landcolor": "#E5ECF6",
           "showlakes": true,
           "showland": true,
           "subunitcolor": "white"
          },
          "hoverlabel": {
           "align": "left"
          },
          "hovermode": "closest",
          "mapbox": {
           "style": "light"
          },
          "paper_bgcolor": "white",
          "plot_bgcolor": "#E5ECF6",
          "polar": {
           "angularaxis": {
            "gridcolor": "white",
            "linecolor": "white",
            "ticks": ""
           },
           "bgcolor": "#E5ECF6",
           "radialaxis": {
            "gridcolor": "white",
            "linecolor": "white",
            "ticks": ""
           }
          },
          "scene": {
           "xaxis": {
            "backgroundcolor": "#E5ECF6",
            "gridcolor": "white",
            "gridwidth": 2,
            "linecolor": "white",
            "showbackground": true,
            "ticks": "",
            "zerolinecolor": "white"
           },
           "yaxis": {
            "backgroundcolor": "#E5ECF6",
            "gridcolor": "white",
            "gridwidth": 2,
            "linecolor": "white",
            "showbackground": true,
            "ticks": "",
            "zerolinecolor": "white"
           },
           "zaxis": {
            "backgroundcolor": "#E5ECF6",
            "gridcolor": "white",
            "gridwidth": 2,
            "linecolor": "white",
            "showbackground": true,
            "ticks": "",
            "zerolinecolor": "white"
           }
          },
          "shapedefaults": {
           "line": {
            "color": "#2a3f5f"
           }
          },
          "ternary": {
           "aaxis": {
            "gridcolor": "white",
            "linecolor": "white",
            "ticks": ""
           },
           "baxis": {
            "gridcolor": "white",
            "linecolor": "white",
            "ticks": ""
           },
           "bgcolor": "#E5ECF6",
           "caxis": {
            "gridcolor": "white",
            "linecolor": "white",
            "ticks": ""
           }
          },
          "title": {
           "x": 0.05
          },
          "xaxis": {
           "automargin": true,
           "gridcolor": "white",
           "linecolor": "white",
           "ticks": "",
           "title": {
            "standoff": 15
           },
           "zerolinecolor": "white",
           "zerolinewidth": 2
          },
          "yaxis": {
           "automargin": true,
           "gridcolor": "white",
           "linecolor": "white",
           "ticks": "",
           "title": {
            "standoff": 15
           },
           "zerolinecolor": "white",
           "zerolinewidth": 2
          }
         }
        },
        "title": {
         "text": "Anzahl Texte pro Epoche"
        },
        "xaxis": {
         "title": {
          "text": "Epoche"
         }
        },
        "yaxis": {
         "title": {
          "text": "Anzahl"
         }
        }
       }
      }
     },
     "metadata": {},
     "output_type": "display_data"
    }
   ],
   "source": [
    "import plotly.graph_objects as go\n",
    "import sqlite3\n",
    "import pandas as pd\n",
    "\n",
    "con = sqlite3.connect(\"Datenbank.db\")\n",
    "query = \"\"\"SELECT zeitstratum FROM my_data\"\"\"\n",
    "\n",
    "df = pd.read_sql_query(query, con)\n",
    "\n",
    "con.close()\n",
    "\n",
    "epoch_count = df.groupby(\"zeitstratum\").size().reset_index(name=\"count\")\n",
    "\n",
    "fig = go.Figure(data=[go.Bar(name=\"Texte pro Epoche\", x=epoch_count[\"zeitstratum\"], y=epoch_count[\"count\"])])\n",
    "\n",
    "fig.update_layout(\n",
    "    title=\"Anzahl Texte pro Epoche\",\n",
    "    xaxis_title=\"Epoche\",\n",
    "    yaxis_title=\"Anzahl\",\n",
    "    hovermode=\"x\"\n",
    ")\n",
    "\n",
    "fig.show()\n"
   ]
  },
  {
   "cell_type": "markdown",
   "metadata": {},
   "source": [
    "***Hauptgenre***"
   ]
  },
  {
   "cell_type": "markdown",
   "metadata": {},
   "source": [
    "Äquivalent zur vorherigen Abfragen, deshalb abgekürzt in einer Ausführung:"
   ]
  },
  {
   "cell_type": "code",
   "execution_count": 6,
   "metadata": {},
   "outputs": [
    {
     "data": {
      "application/vnd.plotly.v1+json": {
       "config": {
        "plotlyServerURL": "https://plot.ly"
       },
       "data": [
        {
         "name": "Texte pro Hauptklasse",
         "type": "bar",
         "x": [
          "Belletristik",
          "Gebrauchsliteratur",
          "Wissenschaft",
          "Zeitung"
         ],
         "y": [
          769,
          1407,
          941,
          1317
         ]
        }
       ],
       "layout": {
        "hovermode": "x",
        "template": {
         "data": {
          "bar": [
           {
            "error_x": {
             "color": "#2a3f5f"
            },
            "error_y": {
             "color": "#2a3f5f"
            },
            "marker": {
             "line": {
              "color": "#E5ECF6",
              "width": 0.5
             },
             "pattern": {
              "fillmode": "overlay",
              "size": 10,
              "solidity": 0.2
             }
            },
            "type": "bar"
           }
          ],
          "barpolar": [
           {
            "marker": {
             "line": {
              "color": "#E5ECF6",
              "width": 0.5
             },
             "pattern": {
              "fillmode": "overlay",
              "size": 10,
              "solidity": 0.2
             }
            },
            "type": "barpolar"
           }
          ],
          "carpet": [
           {
            "aaxis": {
             "endlinecolor": "#2a3f5f",
             "gridcolor": "white",
             "linecolor": "white",
             "minorgridcolor": "white",
             "startlinecolor": "#2a3f5f"
            },
            "baxis": {
             "endlinecolor": "#2a3f5f",
             "gridcolor": "white",
             "linecolor": "white",
             "minorgridcolor": "white",
             "startlinecolor": "#2a3f5f"
            },
            "type": "carpet"
           }
          ],
          "choropleth": [
           {
            "colorbar": {
             "outlinewidth": 0,
             "ticks": ""
            },
            "type": "choropleth"
           }
          ],
          "contour": [
           {
            "colorbar": {
             "outlinewidth": 0,
             "ticks": ""
            },
            "colorscale": [
             [
              0,
              "#0d0887"
             ],
             [
              0.1111111111111111,
              "#46039f"
             ],
             [
              0.2222222222222222,
              "#7201a8"
             ],
             [
              0.3333333333333333,
              "#9c179e"
             ],
             [
              0.4444444444444444,
              "#bd3786"
             ],
             [
              0.5555555555555556,
              "#d8576b"
             ],
             [
              0.6666666666666666,
              "#ed7953"
             ],
             [
              0.7777777777777778,
              "#fb9f3a"
             ],
             [
              0.8888888888888888,
              "#fdca26"
             ],
             [
              1,
              "#f0f921"
             ]
            ],
            "type": "contour"
           }
          ],
          "contourcarpet": [
           {
            "colorbar": {
             "outlinewidth": 0,
             "ticks": ""
            },
            "type": "contourcarpet"
           }
          ],
          "heatmap": [
           {
            "colorbar": {
             "outlinewidth": 0,
             "ticks": ""
            },
            "colorscale": [
             [
              0,
              "#0d0887"
             ],
             [
              0.1111111111111111,
              "#46039f"
             ],
             [
              0.2222222222222222,
              "#7201a8"
             ],
             [
              0.3333333333333333,
              "#9c179e"
             ],
             [
              0.4444444444444444,
              "#bd3786"
             ],
             [
              0.5555555555555556,
              "#d8576b"
             ],
             [
              0.6666666666666666,
              "#ed7953"
             ],
             [
              0.7777777777777778,
              "#fb9f3a"
             ],
             [
              0.8888888888888888,
              "#fdca26"
             ],
             [
              1,
              "#f0f921"
             ]
            ],
            "type": "heatmap"
           }
          ],
          "heatmapgl": [
           {
            "colorbar": {
             "outlinewidth": 0,
             "ticks": ""
            },
            "colorscale": [
             [
              0,
              "#0d0887"
             ],
             [
              0.1111111111111111,
              "#46039f"
             ],
             [
              0.2222222222222222,
              "#7201a8"
             ],
             [
              0.3333333333333333,
              "#9c179e"
             ],
             [
              0.4444444444444444,
              "#bd3786"
             ],
             [
              0.5555555555555556,
              "#d8576b"
             ],
             [
              0.6666666666666666,
              "#ed7953"
             ],
             [
              0.7777777777777778,
              "#fb9f3a"
             ],
             [
              0.8888888888888888,
              "#fdca26"
             ],
             [
              1,
              "#f0f921"
             ]
            ],
            "type": "heatmapgl"
           }
          ],
          "histogram": [
           {
            "marker": {
             "pattern": {
              "fillmode": "overlay",
              "size": 10,
              "solidity": 0.2
             }
            },
            "type": "histogram"
           }
          ],
          "histogram2d": [
           {
            "colorbar": {
             "outlinewidth": 0,
             "ticks": ""
            },
            "colorscale": [
             [
              0,
              "#0d0887"
             ],
             [
              0.1111111111111111,
              "#46039f"
             ],
             [
              0.2222222222222222,
              "#7201a8"
             ],
             [
              0.3333333333333333,
              "#9c179e"
             ],
             [
              0.4444444444444444,
              "#bd3786"
             ],
             [
              0.5555555555555556,
              "#d8576b"
             ],
             [
              0.6666666666666666,
              "#ed7953"
             ],
             [
              0.7777777777777778,
              "#fb9f3a"
             ],
             [
              0.8888888888888888,
              "#fdca26"
             ],
             [
              1,
              "#f0f921"
             ]
            ],
            "type": "histogram2d"
           }
          ],
          "histogram2dcontour": [
           {
            "colorbar": {
             "outlinewidth": 0,
             "ticks": ""
            },
            "colorscale": [
             [
              0,
              "#0d0887"
             ],
             [
              0.1111111111111111,
              "#46039f"
             ],
             [
              0.2222222222222222,
              "#7201a8"
             ],
             [
              0.3333333333333333,
              "#9c179e"
             ],
             [
              0.4444444444444444,
              "#bd3786"
             ],
             [
              0.5555555555555556,
              "#d8576b"
             ],
             [
              0.6666666666666666,
              "#ed7953"
             ],
             [
              0.7777777777777778,
              "#fb9f3a"
             ],
             [
              0.8888888888888888,
              "#fdca26"
             ],
             [
              1,
              "#f0f921"
             ]
            ],
            "type": "histogram2dcontour"
           }
          ],
          "mesh3d": [
           {
            "colorbar": {
             "outlinewidth": 0,
             "ticks": ""
            },
            "type": "mesh3d"
           }
          ],
          "parcoords": [
           {
            "line": {
             "colorbar": {
              "outlinewidth": 0,
              "ticks": ""
             }
            },
            "type": "parcoords"
           }
          ],
          "pie": [
           {
            "automargin": true,
            "type": "pie"
           }
          ],
          "scatter": [
           {
            "fillpattern": {
             "fillmode": "overlay",
             "size": 10,
             "solidity": 0.2
            },
            "type": "scatter"
           }
          ],
          "scatter3d": [
           {
            "line": {
             "colorbar": {
              "outlinewidth": 0,
              "ticks": ""
             }
            },
            "marker": {
             "colorbar": {
              "outlinewidth": 0,
              "ticks": ""
             }
            },
            "type": "scatter3d"
           }
          ],
          "scattercarpet": [
           {
            "marker": {
             "colorbar": {
              "outlinewidth": 0,
              "ticks": ""
             }
            },
            "type": "scattercarpet"
           }
          ],
          "scattergeo": [
           {
            "marker": {
             "colorbar": {
              "outlinewidth": 0,
              "ticks": ""
             }
            },
            "type": "scattergeo"
           }
          ],
          "scattergl": [
           {
            "marker": {
             "colorbar": {
              "outlinewidth": 0,
              "ticks": ""
             }
            },
            "type": "scattergl"
           }
          ],
          "scattermapbox": [
           {
            "marker": {
             "colorbar": {
              "outlinewidth": 0,
              "ticks": ""
             }
            },
            "type": "scattermapbox"
           }
          ],
          "scatterpolar": [
           {
            "marker": {
             "colorbar": {
              "outlinewidth": 0,
              "ticks": ""
             }
            },
            "type": "scatterpolar"
           }
          ],
          "scatterpolargl": [
           {
            "marker": {
             "colorbar": {
              "outlinewidth": 0,
              "ticks": ""
             }
            },
            "type": "scatterpolargl"
           }
          ],
          "scatterternary": [
           {
            "marker": {
             "colorbar": {
              "outlinewidth": 0,
              "ticks": ""
             }
            },
            "type": "scatterternary"
           }
          ],
          "surface": [
           {
            "colorbar": {
             "outlinewidth": 0,
             "ticks": ""
            },
            "colorscale": [
             [
              0,
              "#0d0887"
             ],
             [
              0.1111111111111111,
              "#46039f"
             ],
             [
              0.2222222222222222,
              "#7201a8"
             ],
             [
              0.3333333333333333,
              "#9c179e"
             ],
             [
              0.4444444444444444,
              "#bd3786"
             ],
             [
              0.5555555555555556,
              "#d8576b"
             ],
             [
              0.6666666666666666,
              "#ed7953"
             ],
             [
              0.7777777777777778,
              "#fb9f3a"
             ],
             [
              0.8888888888888888,
              "#fdca26"
             ],
             [
              1,
              "#f0f921"
             ]
            ],
            "type": "surface"
           }
          ],
          "table": [
           {
            "cells": {
             "fill": {
              "color": "#EBF0F8"
             },
             "line": {
              "color": "white"
             }
            },
            "header": {
             "fill": {
              "color": "#C8D4E3"
             },
             "line": {
              "color": "white"
             }
            },
            "type": "table"
           }
          ]
         },
         "layout": {
          "annotationdefaults": {
           "arrowcolor": "#2a3f5f",
           "arrowhead": 0,
           "arrowwidth": 1
          },
          "autotypenumbers": "strict",
          "coloraxis": {
           "colorbar": {
            "outlinewidth": 0,
            "ticks": ""
           }
          },
          "colorscale": {
           "diverging": [
            [
             0,
             "#8e0152"
            ],
            [
             0.1,
             "#c51b7d"
            ],
            [
             0.2,
             "#de77ae"
            ],
            [
             0.3,
             "#f1b6da"
            ],
            [
             0.4,
             "#fde0ef"
            ],
            [
             0.5,
             "#f7f7f7"
            ],
            [
             0.6,
             "#e6f5d0"
            ],
            [
             0.7,
             "#b8e186"
            ],
            [
             0.8,
             "#7fbc41"
            ],
            [
             0.9,
             "#4d9221"
            ],
            [
             1,
             "#276419"
            ]
           ],
           "sequential": [
            [
             0,
             "#0d0887"
            ],
            [
             0.1111111111111111,
             "#46039f"
            ],
            [
             0.2222222222222222,
             "#7201a8"
            ],
            [
             0.3333333333333333,
             "#9c179e"
            ],
            [
             0.4444444444444444,
             "#bd3786"
            ],
            [
             0.5555555555555556,
             "#d8576b"
            ],
            [
             0.6666666666666666,
             "#ed7953"
            ],
            [
             0.7777777777777778,
             "#fb9f3a"
            ],
            [
             0.8888888888888888,
             "#fdca26"
            ],
            [
             1,
             "#f0f921"
            ]
           ],
           "sequentialminus": [
            [
             0,
             "#0d0887"
            ],
            [
             0.1111111111111111,
             "#46039f"
            ],
            [
             0.2222222222222222,
             "#7201a8"
            ],
            [
             0.3333333333333333,
             "#9c179e"
            ],
            [
             0.4444444444444444,
             "#bd3786"
            ],
            [
             0.5555555555555556,
             "#d8576b"
            ],
            [
             0.6666666666666666,
             "#ed7953"
            ],
            [
             0.7777777777777778,
             "#fb9f3a"
            ],
            [
             0.8888888888888888,
             "#fdca26"
            ],
            [
             1,
             "#f0f921"
            ]
           ]
          },
          "colorway": [
           "#636efa",
           "#EF553B",
           "#00cc96",
           "#ab63fa",
           "#FFA15A",
           "#19d3f3",
           "#FF6692",
           "#B6E880",
           "#FF97FF",
           "#FECB52"
          ],
          "font": {
           "color": "#2a3f5f"
          },
          "geo": {
           "bgcolor": "white",
           "lakecolor": "white",
           "landcolor": "#E5ECF6",
           "showlakes": true,
           "showland": true,
           "subunitcolor": "white"
          },
          "hoverlabel": {
           "align": "left"
          },
          "hovermode": "closest",
          "mapbox": {
           "style": "light"
          },
          "paper_bgcolor": "white",
          "plot_bgcolor": "#E5ECF6",
          "polar": {
           "angularaxis": {
            "gridcolor": "white",
            "linecolor": "white",
            "ticks": ""
           },
           "bgcolor": "#E5ECF6",
           "radialaxis": {
            "gridcolor": "white",
            "linecolor": "white",
            "ticks": ""
           }
          },
          "scene": {
           "xaxis": {
            "backgroundcolor": "#E5ECF6",
            "gridcolor": "white",
            "gridwidth": 2,
            "linecolor": "white",
            "showbackground": true,
            "ticks": "",
            "zerolinecolor": "white"
           },
           "yaxis": {
            "backgroundcolor": "#E5ECF6",
            "gridcolor": "white",
            "gridwidth": 2,
            "linecolor": "white",
            "showbackground": true,
            "ticks": "",
            "zerolinecolor": "white"
           },
           "zaxis": {
            "backgroundcolor": "#E5ECF6",
            "gridcolor": "white",
            "gridwidth": 2,
            "linecolor": "white",
            "showbackground": true,
            "ticks": "",
            "zerolinecolor": "white"
           }
          },
          "shapedefaults": {
           "line": {
            "color": "#2a3f5f"
           }
          },
          "ternary": {
           "aaxis": {
            "gridcolor": "white",
            "linecolor": "white",
            "ticks": ""
           },
           "baxis": {
            "gridcolor": "white",
            "linecolor": "white",
            "ticks": ""
           },
           "bgcolor": "#E5ECF6",
           "caxis": {
            "gridcolor": "white",
            "linecolor": "white",
            "ticks": ""
           }
          },
          "title": {
           "x": 0.05
          },
          "xaxis": {
           "automargin": true,
           "gridcolor": "white",
           "linecolor": "white",
           "ticks": "",
           "title": {
            "standoff": 15
           },
           "zerolinecolor": "white",
           "zerolinewidth": 2
          },
          "yaxis": {
           "automargin": true,
           "gridcolor": "white",
           "linecolor": "white",
           "ticks": "",
           "title": {
            "standoff": 15
           },
           "zerolinecolor": "white",
           "zerolinewidth": 2
          }
         }
        },
        "title": {
         "text": "Anzahl Texte pro Hauptklasse"
        },
        "xaxis": {
         "title": {
          "text": "Hauptklasse"
         }
        },
        "yaxis": {
         "title": {
          "text": "Anzahl"
         }
        }
       }
      }
     },
     "metadata": {},
     "output_type": "display_data"
    }
   ],
   "source": [
    "import sqlite3\n",
    "import pandas as pd\n",
    "import plotly.graph_objects as go\n",
    "\n",
    "con = sqlite3.connect(\"Datenbank.db\")\n",
    "abfrage = \"\"\"SELECT hauptklasse FROM my_data\"\"\"\n",
    "\n",
    "df = pd.read_sql_query(abfrage, con)\n",
    "\n",
    "con.close()\n",
    "\n",
    "class_count = df.groupby(\"hauptklasse\").size().reset_index(name=\"count\")\n",
    "\n",
    "fig = go.Figure(data=[go.Bar(name=\"Texte pro Hauptklasse\", x=class_count[\"hauptklasse\"], y=class_count[\"count\"])])\n",
    "\n",
    "fig.update_layout(\n",
    "    title=\"Anzahl Texte pro Hauptklasse\",\n",
    "    xaxis_title=\"Hauptklasse\",\n",
    "    yaxis_title=\"Anzahl\",\n",
    "    hovermode=\"x\"\n",
    ")\n",
    "\n",
    "fig.show()"
   ]
  },
  {
   "cell_type": "markdown",
   "metadata": {},
   "source": [
    "***Analyse***"
   ]
  },
  {
   "cell_type": "markdown",
   "metadata": {},
   "source": [
    "Da die Texte in nur vier Hauptklassen unterteilt werden, ist diese Visualisierung nicht wirklich repräsentativ. Die Subgenres geben wahrscheinlich mehr Aufschluss über die Verteilung."
   ]
  },
  {
   "cell_type": "markdown",
   "metadata": {},
   "source": [
    "***Subgenre***"
   ]
  },
  {
   "cell_type": "code",
   "execution_count": 7,
   "metadata": {},
   "outputs": [
    {
     "data": {
      "application/vnd.plotly.v1+json": {
       "config": {
        "plotlyServerURL": "https://plot.ly"
       },
       "data": [
        {
         "name": "Texte pro Subgenre",
         "type": "bar",
         "x": [
          "(Auto)biographie",
          "Alchemie",
          "Alchemie, Medizin",
          "Altertumskunde",
          "Amtsdruckschrift",
          "Anatomie",
          "Andachtsbuch",
          "Anstandsliteratur",
          "Anthropologie",
          "Architektur",
          "Archäologie",
          "Astrologie",
          "Astronomie",
          "Autobiographie",
          "Bergbau",
          "Bericht",
          "Bibelübersetzung",
          "Biographie",
          "Biologie",
          "Brief",
          "Briefe",
          "Briefroman",
          "Briefsteller",
          "Buchwesen",
          "Chemie",
          "Dialog",
          "Drama",
          "Drama; Prosa",
          "Epik",
          "Epos",
          "Erbauungsliteratur",
          "Ethnologie",
          "Flugschrift",
          "Gartenbau",
          "Gelegenheitsschrift:Fest",
          "Gelegenheitsschrift:Tod",
          "Gelegenheitsschrift:Tod; Lyrik",
          "Gelegenheitsschrift:Vertrag",
          "Geographie",
          "Geographie; Ethnologie",
          "Geologie",
          "Geowissenschaften",
          "Geschichte",
          "Gesellschaft",
          "Gesellschaftswissenschaften",
          "Gesellschaftswissenschaften; Recht",
          "Glasherstellung",
          "Handbuch",
          "Handbuch, Rhetorik",
          "Hausväterliteratur",
          "Heldenepik",
          "Historiographie",
          "Historiographie; Recht",
          "Jura",
          "Kameralwissenschaft",
          "Kinderliteratur",
          "Kochbuch",
          "Kolportageliteratur",
          "Kriminalistik",
          "Kunst",
          "Kunstgeschichte",
          "Landwirtschaft",
          "Leichenpredigt",
          "Lexikon",
          "Lied",
          "Literaturwissenschaft",
          "Lyrik",
          "Lyrik, Drama",
          "Lyrik, Epigramm",
          "Lyrik, Libretto",
          "Lyrik; Drama; Prosa",
          "Lyrik; Prosa",
          "Lyrik; Prosa; Drama",
          "Mathematik",
          "Medizin",
          "Militär",
          "Musik",
          "Musikwissenschaft",
          "Märchen",
          "Naturgeschichte",
          "Naturwissenschaft",
          "Naturwissenschaft; Philosophie",
          "Novelle",
          "Ordensliteratur:Jesuiten",
          "Pflanzenbuch",
          "Philologie",
          "Philosophie",
          "Physik",
          "Physiologie",
          "Poetik",
          "Politik",
          "Politik, Anstandsliteratur",
          "Politik, Ökonomie",
          "Populärwissenschaft",
          "Prosa",
          "Psychologie",
          "Pädagogik",
          "Rechnungsbuch",
          "Recht",
          "Rede",
          "Reformschrift",
          "Regionalgeschichte",
          "Reimpaarspruch",
          "Reiseliteratur",
          "Religiöse Reimpaarerzählung",
          "Rezension",
          "Roman",
          "Satire",
          "Schulbuch",
          "Schäferdichtung",
          "Sonstiges",
          "Soziologie",
          "Sport",
          "Sprachwissenschaft",
          "Streitschrift; Brief",
          "Städtelob",
          "Tagebuch",
          "Technik",
          "Theologie",
          "Tierheilkunde",
          "Verordnung",
          "Verslehre",
          "Wörterbuch",
          "Zeitschrift",
          "Zoologie",
          "Ökonomie"
         ],
         "y": [
          3,
          4,
          1,
          4,
          5,
          5,
          22,
          12,
          3,
          18,
          1,
          1,
          13,
          26,
          7,
          13,
          1,
          9,
          60,
          201,
          24,
          1,
          1,
          2,
          17,
          1,
          89,
          3,
          2,
          5,
          26,
          5,
          10,
          9,
          1,
          115,
          3,
          2,
          63,
          1,
          17,
          2,
          10,
          136,
          10,
          2,
          1,
          15,
          1,
          7,
          3,
          51,
          1,
          50,
          1,
          8,
          13,
          1,
          1,
          1,
          33,
          10,
          335,
          22,
          2,
          32,
          125,
          2,
          1,
          2,
          4,
          14,
          1,
          30,
          48,
          13,
          7,
          5,
          18,
          19,
          28,
          13,
          126,
          1,
          1,
          22,
          75,
          37,
          2,
          2,
          33,
          1,
          1,
          27,
          65,
          42,
          19,
          4,
          32,
          13,
          1,
          20,
          2,
          46,
          1,
          9,
          198,
          8,
          1,
          1,
          56,
          6,
          12,
          30,
          1,
          1,
          1,
          34,
          213,
          2,
          19,
          5,
          6,
          1,
          23,
          33
         ]
        }
       ],
       "layout": {
        "hovermode": "x",
        "template": {
         "data": {
          "bar": [
           {
            "error_x": {
             "color": "#2a3f5f"
            },
            "error_y": {
             "color": "#2a3f5f"
            },
            "marker": {
             "line": {
              "color": "#E5ECF6",
              "width": 0.5
             },
             "pattern": {
              "fillmode": "overlay",
              "size": 10,
              "solidity": 0.2
             }
            },
            "type": "bar"
           }
          ],
          "barpolar": [
           {
            "marker": {
             "line": {
              "color": "#E5ECF6",
              "width": 0.5
             },
             "pattern": {
              "fillmode": "overlay",
              "size": 10,
              "solidity": 0.2
             }
            },
            "type": "barpolar"
           }
          ],
          "carpet": [
           {
            "aaxis": {
             "endlinecolor": "#2a3f5f",
             "gridcolor": "white",
             "linecolor": "white",
             "minorgridcolor": "white",
             "startlinecolor": "#2a3f5f"
            },
            "baxis": {
             "endlinecolor": "#2a3f5f",
             "gridcolor": "white",
             "linecolor": "white",
             "minorgridcolor": "white",
             "startlinecolor": "#2a3f5f"
            },
            "type": "carpet"
           }
          ],
          "choropleth": [
           {
            "colorbar": {
             "outlinewidth": 0,
             "ticks": ""
            },
            "type": "choropleth"
           }
          ],
          "contour": [
           {
            "colorbar": {
             "outlinewidth": 0,
             "ticks": ""
            },
            "colorscale": [
             [
              0,
              "#0d0887"
             ],
             [
              0.1111111111111111,
              "#46039f"
             ],
             [
              0.2222222222222222,
              "#7201a8"
             ],
             [
              0.3333333333333333,
              "#9c179e"
             ],
             [
              0.4444444444444444,
              "#bd3786"
             ],
             [
              0.5555555555555556,
              "#d8576b"
             ],
             [
              0.6666666666666666,
              "#ed7953"
             ],
             [
              0.7777777777777778,
              "#fb9f3a"
             ],
             [
              0.8888888888888888,
              "#fdca26"
             ],
             [
              1,
              "#f0f921"
             ]
            ],
            "type": "contour"
           }
          ],
          "contourcarpet": [
           {
            "colorbar": {
             "outlinewidth": 0,
             "ticks": ""
            },
            "type": "contourcarpet"
           }
          ],
          "heatmap": [
           {
            "colorbar": {
             "outlinewidth": 0,
             "ticks": ""
            },
            "colorscale": [
             [
              0,
              "#0d0887"
             ],
             [
              0.1111111111111111,
              "#46039f"
             ],
             [
              0.2222222222222222,
              "#7201a8"
             ],
             [
              0.3333333333333333,
              "#9c179e"
             ],
             [
              0.4444444444444444,
              "#bd3786"
             ],
             [
              0.5555555555555556,
              "#d8576b"
             ],
             [
              0.6666666666666666,
              "#ed7953"
             ],
             [
              0.7777777777777778,
              "#fb9f3a"
             ],
             [
              0.8888888888888888,
              "#fdca26"
             ],
             [
              1,
              "#f0f921"
             ]
            ],
            "type": "heatmap"
           }
          ],
          "heatmapgl": [
           {
            "colorbar": {
             "outlinewidth": 0,
             "ticks": ""
            },
            "colorscale": [
             [
              0,
              "#0d0887"
             ],
             [
              0.1111111111111111,
              "#46039f"
             ],
             [
              0.2222222222222222,
              "#7201a8"
             ],
             [
              0.3333333333333333,
              "#9c179e"
             ],
             [
              0.4444444444444444,
              "#bd3786"
             ],
             [
              0.5555555555555556,
              "#d8576b"
             ],
             [
              0.6666666666666666,
              "#ed7953"
             ],
             [
              0.7777777777777778,
              "#fb9f3a"
             ],
             [
              0.8888888888888888,
              "#fdca26"
             ],
             [
              1,
              "#f0f921"
             ]
            ],
            "type": "heatmapgl"
           }
          ],
          "histogram": [
           {
            "marker": {
             "pattern": {
              "fillmode": "overlay",
              "size": 10,
              "solidity": 0.2
             }
            },
            "type": "histogram"
           }
          ],
          "histogram2d": [
           {
            "colorbar": {
             "outlinewidth": 0,
             "ticks": ""
            },
            "colorscale": [
             [
              0,
              "#0d0887"
             ],
             [
              0.1111111111111111,
              "#46039f"
             ],
             [
              0.2222222222222222,
              "#7201a8"
             ],
             [
              0.3333333333333333,
              "#9c179e"
             ],
             [
              0.4444444444444444,
              "#bd3786"
             ],
             [
              0.5555555555555556,
              "#d8576b"
             ],
             [
              0.6666666666666666,
              "#ed7953"
             ],
             [
              0.7777777777777778,
              "#fb9f3a"
             ],
             [
              0.8888888888888888,
              "#fdca26"
             ],
             [
              1,
              "#f0f921"
             ]
            ],
            "type": "histogram2d"
           }
          ],
          "histogram2dcontour": [
           {
            "colorbar": {
             "outlinewidth": 0,
             "ticks": ""
            },
            "colorscale": [
             [
              0,
              "#0d0887"
             ],
             [
              0.1111111111111111,
              "#46039f"
             ],
             [
              0.2222222222222222,
              "#7201a8"
             ],
             [
              0.3333333333333333,
              "#9c179e"
             ],
             [
              0.4444444444444444,
              "#bd3786"
             ],
             [
              0.5555555555555556,
              "#d8576b"
             ],
             [
              0.6666666666666666,
              "#ed7953"
             ],
             [
              0.7777777777777778,
              "#fb9f3a"
             ],
             [
              0.8888888888888888,
              "#fdca26"
             ],
             [
              1,
              "#f0f921"
             ]
            ],
            "type": "histogram2dcontour"
           }
          ],
          "mesh3d": [
           {
            "colorbar": {
             "outlinewidth": 0,
             "ticks": ""
            },
            "type": "mesh3d"
           }
          ],
          "parcoords": [
           {
            "line": {
             "colorbar": {
              "outlinewidth": 0,
              "ticks": ""
             }
            },
            "type": "parcoords"
           }
          ],
          "pie": [
           {
            "automargin": true,
            "type": "pie"
           }
          ],
          "scatter": [
           {
            "fillpattern": {
             "fillmode": "overlay",
             "size": 10,
             "solidity": 0.2
            },
            "type": "scatter"
           }
          ],
          "scatter3d": [
           {
            "line": {
             "colorbar": {
              "outlinewidth": 0,
              "ticks": ""
             }
            },
            "marker": {
             "colorbar": {
              "outlinewidth": 0,
              "ticks": ""
             }
            },
            "type": "scatter3d"
           }
          ],
          "scattercarpet": [
           {
            "marker": {
             "colorbar": {
              "outlinewidth": 0,
              "ticks": ""
             }
            },
            "type": "scattercarpet"
           }
          ],
          "scattergeo": [
           {
            "marker": {
             "colorbar": {
              "outlinewidth": 0,
              "ticks": ""
             }
            },
            "type": "scattergeo"
           }
          ],
          "scattergl": [
           {
            "marker": {
             "colorbar": {
              "outlinewidth": 0,
              "ticks": ""
             }
            },
            "type": "scattergl"
           }
          ],
          "scattermapbox": [
           {
            "marker": {
             "colorbar": {
              "outlinewidth": 0,
              "ticks": ""
             }
            },
            "type": "scattermapbox"
           }
          ],
          "scatterpolar": [
           {
            "marker": {
             "colorbar": {
              "outlinewidth": 0,
              "ticks": ""
             }
            },
            "type": "scatterpolar"
           }
          ],
          "scatterpolargl": [
           {
            "marker": {
             "colorbar": {
              "outlinewidth": 0,
              "ticks": ""
             }
            },
            "type": "scatterpolargl"
           }
          ],
          "scatterternary": [
           {
            "marker": {
             "colorbar": {
              "outlinewidth": 0,
              "ticks": ""
             }
            },
            "type": "scatterternary"
           }
          ],
          "surface": [
           {
            "colorbar": {
             "outlinewidth": 0,
             "ticks": ""
            },
            "colorscale": [
             [
              0,
              "#0d0887"
             ],
             [
              0.1111111111111111,
              "#46039f"
             ],
             [
              0.2222222222222222,
              "#7201a8"
             ],
             [
              0.3333333333333333,
              "#9c179e"
             ],
             [
              0.4444444444444444,
              "#bd3786"
             ],
             [
              0.5555555555555556,
              "#d8576b"
             ],
             [
              0.6666666666666666,
              "#ed7953"
             ],
             [
              0.7777777777777778,
              "#fb9f3a"
             ],
             [
              0.8888888888888888,
              "#fdca26"
             ],
             [
              1,
              "#f0f921"
             ]
            ],
            "type": "surface"
           }
          ],
          "table": [
           {
            "cells": {
             "fill": {
              "color": "#EBF0F8"
             },
             "line": {
              "color": "white"
             }
            },
            "header": {
             "fill": {
              "color": "#C8D4E3"
             },
             "line": {
              "color": "white"
             }
            },
            "type": "table"
           }
          ]
         },
         "layout": {
          "annotationdefaults": {
           "arrowcolor": "#2a3f5f",
           "arrowhead": 0,
           "arrowwidth": 1
          },
          "autotypenumbers": "strict",
          "coloraxis": {
           "colorbar": {
            "outlinewidth": 0,
            "ticks": ""
           }
          },
          "colorscale": {
           "diverging": [
            [
             0,
             "#8e0152"
            ],
            [
             0.1,
             "#c51b7d"
            ],
            [
             0.2,
             "#de77ae"
            ],
            [
             0.3,
             "#f1b6da"
            ],
            [
             0.4,
             "#fde0ef"
            ],
            [
             0.5,
             "#f7f7f7"
            ],
            [
             0.6,
             "#e6f5d0"
            ],
            [
             0.7,
             "#b8e186"
            ],
            [
             0.8,
             "#7fbc41"
            ],
            [
             0.9,
             "#4d9221"
            ],
            [
             1,
             "#276419"
            ]
           ],
           "sequential": [
            [
             0,
             "#0d0887"
            ],
            [
             0.1111111111111111,
             "#46039f"
            ],
            [
             0.2222222222222222,
             "#7201a8"
            ],
            [
             0.3333333333333333,
             "#9c179e"
            ],
            [
             0.4444444444444444,
             "#bd3786"
            ],
            [
             0.5555555555555556,
             "#d8576b"
            ],
            [
             0.6666666666666666,
             "#ed7953"
            ],
            [
             0.7777777777777778,
             "#fb9f3a"
            ],
            [
             0.8888888888888888,
             "#fdca26"
            ],
            [
             1,
             "#f0f921"
            ]
           ],
           "sequentialminus": [
            [
             0,
             "#0d0887"
            ],
            [
             0.1111111111111111,
             "#46039f"
            ],
            [
             0.2222222222222222,
             "#7201a8"
            ],
            [
             0.3333333333333333,
             "#9c179e"
            ],
            [
             0.4444444444444444,
             "#bd3786"
            ],
            [
             0.5555555555555556,
             "#d8576b"
            ],
            [
             0.6666666666666666,
             "#ed7953"
            ],
            [
             0.7777777777777778,
             "#fb9f3a"
            ],
            [
             0.8888888888888888,
             "#fdca26"
            ],
            [
             1,
             "#f0f921"
            ]
           ]
          },
          "colorway": [
           "#636efa",
           "#EF553B",
           "#00cc96",
           "#ab63fa",
           "#FFA15A",
           "#19d3f3",
           "#FF6692",
           "#B6E880",
           "#FF97FF",
           "#FECB52"
          ],
          "font": {
           "color": "#2a3f5f"
          },
          "geo": {
           "bgcolor": "white",
           "lakecolor": "white",
           "landcolor": "#E5ECF6",
           "showlakes": true,
           "showland": true,
           "subunitcolor": "white"
          },
          "hoverlabel": {
           "align": "left"
          },
          "hovermode": "closest",
          "mapbox": {
           "style": "light"
          },
          "paper_bgcolor": "white",
          "plot_bgcolor": "#E5ECF6",
          "polar": {
           "angularaxis": {
            "gridcolor": "white",
            "linecolor": "white",
            "ticks": ""
           },
           "bgcolor": "#E5ECF6",
           "radialaxis": {
            "gridcolor": "white",
            "linecolor": "white",
            "ticks": ""
           }
          },
          "scene": {
           "xaxis": {
            "backgroundcolor": "#E5ECF6",
            "gridcolor": "white",
            "gridwidth": 2,
            "linecolor": "white",
            "showbackground": true,
            "ticks": "",
            "zerolinecolor": "white"
           },
           "yaxis": {
            "backgroundcolor": "#E5ECF6",
            "gridcolor": "white",
            "gridwidth": 2,
            "linecolor": "white",
            "showbackground": true,
            "ticks": "",
            "zerolinecolor": "white"
           },
           "zaxis": {
            "backgroundcolor": "#E5ECF6",
            "gridcolor": "white",
            "gridwidth": 2,
            "linecolor": "white",
            "showbackground": true,
            "ticks": "",
            "zerolinecolor": "white"
           }
          },
          "shapedefaults": {
           "line": {
            "color": "#2a3f5f"
           }
          },
          "ternary": {
           "aaxis": {
            "gridcolor": "white",
            "linecolor": "white",
            "ticks": ""
           },
           "baxis": {
            "gridcolor": "white",
            "linecolor": "white",
            "ticks": ""
           },
           "bgcolor": "#E5ECF6",
           "caxis": {
            "gridcolor": "white",
            "linecolor": "white",
            "ticks": ""
           }
          },
          "title": {
           "x": 0.05
          },
          "xaxis": {
           "automargin": true,
           "gridcolor": "white",
           "linecolor": "white",
           "ticks": "",
           "title": {
            "standoff": 15
           },
           "zerolinecolor": "white",
           "zerolinewidth": 2
          },
          "yaxis": {
           "automargin": true,
           "gridcolor": "white",
           "linecolor": "white",
           "ticks": "",
           "title": {
            "standoff": 15
           },
           "zerolinecolor": "white",
           "zerolinewidth": 2
          }
         }
        },
        "title": {
         "text": "Anzahl Texte pro Subgenre"
        },
        "xaxis": {
         "title": {
          "text": "Subgenre"
         }
        },
        "yaxis": {
         "title": {
          "text": "Anzahl"
         }
        }
       }
      }
     },
     "metadata": {},
     "output_type": "display_data"
    }
   ],
   "source": [
    "import sqlite3\n",
    "import pandas as pd\n",
    "import plotly.graph_objects as go\n",
    "\n",
    "con = sqlite3.connect(\"Datenbank.db\")\n",
    "abfrage = \"\"\"SELECT subklasse FROM my_data\"\"\"\n",
    "\n",
    "df = pd.read_sql_query(abfrage, con)\n",
    "\n",
    "con.close()\n",
    "\n",
    "class_count = df.groupby(\"subklasse\").size().reset_index(name=\"count\")\n",
    "\n",
    "fig = go.Figure(data=[go.Bar(name=\"Texte pro Subgenre\", x=class_count[\"subklasse\"], y=class_count[\"count\"])])\n",
    "\n",
    "fig.update_layout(\n",
    "    title=\"Anzahl Texte pro Subgenre\",\n",
    "    xaxis_title=\"Subgenre\",\n",
    "    yaxis_title=\"Anzahl\",\n",
    "    hovermode=\"x\"\n",
    ")\n",
    "\n",
    "fig.show()"
   ]
  },
  {
   "cell_type": "markdown",
   "metadata": {},
   "source": [
    "***Analyse***"
   ]
  },
  {
   "cell_type": "markdown",
   "metadata": {},
   "source": [
    "Problematisch an dieser Visualisierung ist die grosse Anzahl an Subgenres: 127. Um den Noise der Visualisierung zu verringern, werden die Hauptgenres und Subgenres kombiniert. Zunächst wird ein Dictionary erstellt, dass die Subgenres als Teilmenge der Hauptgenres auszeichnet."
   ]
  },
  {
   "cell_type": "code",
   "execution_count": 14,
   "metadata": {},
   "outputs": [],
   "source": [
    "import sqlite3\n",
    "\n",
    "con = sqlite3.connect(\"Datenbank.db\")\n",
    "cur = con.cursor()\n",
    "\n",
    "genre_dict = {\n",
    "    \"Belletristik\" : [],\n",
    "    \"Gebrauchsliteratur\" : [],\n",
    "    \"Wissenschaft\" : [],\n",
    "    \"Zeitung\" : []\n",
    "}\n",
    "\n",
    "for genre in genre_dict:\n",
    "    list_of_rows = cur.execute(\"SELECT DISTINCT subklasse FROM my_data WHERE hauptklasse=?\", (genre, ))\n",
    "    list_of_subgenres = [row[0] for row in list_of_rows]\n",
    "    genre_dict[genre] = list_of_subgenres"
   ]
  },
  {
   "cell_type": "code",
   "execution_count": 16,
   "metadata": {},
   "outputs": [
    {
     "name": "stdout",
     "output_type": "stream",
     "text": [
      "{'Belletristik': ['Lyrik',\n",
      "                  'Roman',\n",
      "                  'Novelle',\n",
      "                  'Prosa',\n",
      "                  'Drama',\n",
      "                  'Briefe',\n",
      "                  'Kinderliteratur',\n",
      "                  'Autobiographie',\n",
      "                  'Lyrik, Libretto',\n",
      "                  'Satire',\n",
      "                  'Lyrik; Prosa',\n",
      "                  'Reiseliteratur',\n",
      "                  'Epos',\n",
      "                  'Märchen',\n",
      "                  'Biographie',\n",
      "                  'Lexikon',\n",
      "                  'Dialog',\n",
      "                  'Epik',\n",
      "                  'Lyrik, Drama',\n",
      "                  'Städtelob',\n",
      "                  'Reimpaarspruch',\n",
      "                  'Lyrik; Prosa; Drama',\n",
      "                  'Lyrik, Epigramm',\n",
      "                  'Lied',\n",
      "                  '(Auto)biographie',\n",
      "                  'Religiöse Reimpaarerzählung',\n",
      "                  'Heldenepik',\n",
      "                  'Briefroman',\n",
      "                  'Schäferdichtung',\n",
      "                  'Lyrik; Drama; Prosa',\n",
      "                  'Drama; Prosa'],\n",
      " 'Gebrauchsliteratur': ['Leichenpredigt',\n",
      "                        'Gelegenheitsschrift:Tod',\n",
      "                        'Politik',\n",
      "                        'Hausväterliteratur',\n",
      "                        'Gesellschaft',\n",
      "                        'Theologie',\n",
      "                        'Sonstiges',\n",
      "                        'Regionalgeschichte',\n",
      "                        'Erbauungsliteratur',\n",
      "                        'Andachtsbuch',\n",
      "                        'Brief',\n",
      "                        'Verordnung',\n",
      "                        'Technik',\n",
      "                        'Rede',\n",
      "                        'Anstandsliteratur',\n",
      "                        'Populärwissenschaft',\n",
      "                        'Handbuch',\n",
      "                        'Philologie',\n",
      "                        'Lexikon',\n",
      "                        'Ökonomie',\n",
      "                        'Briefsteller',\n",
      "                        'Pädagogik',\n",
      "                        'Kochbuch',\n",
      "                        'Gelegenheitsschrift:Tod; Lyrik',\n",
      "                        'Reformschrift',\n",
      "                        'Philosophie',\n",
      "                        'Medizin',\n",
      "                        'Reiseliteratur',\n",
      "                        'Recht',\n",
      "                        'Rezension',\n",
      "                        'Poetik',\n",
      "                        'Zeitschrift',\n",
      "                        'Zoologie',\n",
      "                        'Verslehre',\n",
      "                        'Bericht',\n",
      "                        'Naturwissenschaft',\n",
      "                        'Bergbau',\n",
      "                        'Geologie',\n",
      "                        'Autobiographie',\n",
      "                        'Biologie',\n",
      "                        'Amtsdruckschrift',\n",
      "                        'Sport',\n",
      "                        'Tagebuch',\n",
      "                        'Satire',\n",
      "                        'Flugschrift',\n",
      "                        'Bibelübersetzung',\n",
      "                        'Handbuch, Rhetorik',\n",
      "                        'Streitschrift; Brief',\n",
      "                        'Kunst',\n",
      "                        'Gelegenheitsschrift:Fest',\n",
      "                        'Astronomie',\n",
      "                        'Gelegenheitsschrift:Vertrag',\n",
      "                        'Kolportageliteratur',\n",
      "                        'Kriminalistik',\n",
      "                        'Musik',\n",
      "                        'Rechnungsbuch',\n",
      "                        'Gartenbau',\n",
      "                        'Wörterbuch',\n",
      "                        'Psychologie',\n",
      "                        'Schulbuch',\n",
      "                        'Mathematik',\n",
      "                        'Astrologie',\n",
      "                        'Pflanzenbuch'],\n",
      " 'Wissenschaft': ['Medizin',\n",
      "                  'Recht',\n",
      "                  'Physik',\n",
      "                  'Biologie',\n",
      "                  'Sprachwissenschaft',\n",
      "                  'Theologie',\n",
      "                  'Historiographie',\n",
      "                  'Geowissenschaften',\n",
      "                  'Musik',\n",
      "                  'Zoologie',\n",
      "                  'Politik',\n",
      "                  'Pädagogik',\n",
      "                  'Ethnologie',\n",
      "                  'Literaturwissenschaft',\n",
      "                  'Ökonomie',\n",
      "                  'Geographie; Ethnologie',\n",
      "                  'Technik',\n",
      "                  'Psychologie',\n",
      "                  'Gesellschaft',\n",
      "                  'Militär',\n",
      "                  'Geographie',\n",
      "                  'Buchwesen',\n",
      "                  'Astronomie',\n",
      "                  'Jura',\n",
      "                  'Mathematik',\n",
      "                  'Musikwissenschaft',\n",
      "                  'Anatomie',\n",
      "                  'Naturgeschichte',\n",
      "                  'Anthropologie',\n",
      "                  'Physiologie',\n",
      "                  'Kunstgeschichte',\n",
      "                  'Tierheilkunde',\n",
      "                  'Philosophie',\n",
      "                  'Bergbau',\n",
      "                  'Geschichte',\n",
      "                  'Gesellschaftswissenschaften',\n",
      "                  'Philologie',\n",
      "                  'Architektur',\n",
      "                  'Gesellschaftswissenschaften; Recht',\n",
      "                  'Alchemie, Medizin',\n",
      "                  'Gartenbau',\n",
      "                  'Landwirtschaft',\n",
      "                  'Chemie',\n",
      "                  'Altertumskunde',\n",
      "                  'Naturwissenschaft',\n",
      "                  'Geologie',\n",
      "                  'Naturwissenschaft; Philosophie',\n",
      "                  'Kameralwissenschaft',\n",
      "                  'Sonstiges',\n",
      "                  'Glasherstellung',\n",
      "                  'Alchemie',\n",
      "                  'Politik, Anstandsliteratur',\n",
      "                  'Politik, Ökonomie',\n",
      "                  'Archäologie',\n",
      "                  'Soziologie',\n",
      "                  'Historiographie; Recht',\n",
      "                  'Ordensliteratur:Jesuiten',\n",
      "                  'Brief'],\n",
      " 'Zeitung': [None]}\n"
     ]
    }
   ],
   "source": [
    "import pprint as pp\n",
    "pp.pprint(genre_dict)"
   ]
  },
  {
   "cell_type": "code",
   "execution_count": 24,
   "metadata": {},
   "outputs": [
    {
     "name": "stdout",
     "output_type": "stream",
     "text": [
      "58\n",
      "[]\n"
     ]
    }
   ],
   "source": [
    "print(len(genre_dict[\"Wissenschaft\"]))\n",
    "\n",
    "wissenschaft = \"Medizin, Physik, Biologie, Zoologie, Anthropologie, Geographie; Ethnologie, Mathematik, Astronomie, Geologie, Naturgeschichte, Chemie, Anatomie, Physiologie, Tierheilkunde, Gartenbau, Landwirtschaft. Sprachwissenschaft, Literaturwissenschaft, Theologie, Philosophie, Geschichte, Altertumskunde, Archäologie, Ethnologie, Philologie. Psychologie, Soziologie, Politik, Gesellschaft, Gesellschaftswissenschaften, Kameralwissenschaft, Militär. Ökonomie, Recht, Jura, Politik, Ökonomie, Gesellschaftswissenschaften; Recht, Politik, Anstandsliteratur. Technik, Musik, Musikwissenschaft, Kunstgeschichte, Buchwesen, Architektur, Bergbau, Glasherstellung. Geographie, Geowissenschaften, Naturwissenschaft, Naturwissenschaft; Philosophie, Alchemie, Alchemie, Medizin, Sonstiges, Historiographie, Historiographie; Recht, Ordensliteratur:Jesuiten. Pädagogik, Brief, Astronomie \"\n",
    "missing = []\n",
    "\n",
    "for subgenre in genre_dict[\"Wissenschaft\"]:\n",
    "    if subgenre not in wissenschaft:\n",
    "        missing.append(subgenre)\n",
    "\n",
    "print(missing)"
   ]
  },
  {
   "cell_type": "markdown",
   "metadata": {},
   "source": [
    "Mit Hilfe von ChatGPT kann diese Hauptgenres-Subgenres-Klassifizierung in eine übersichtlichere Gruppierung aufgeteilt werden (Prompt: \"Wie können diese Hauptgenres und Subgenres repräsentativ verknappt oder zusammengefügt werden, damit die Anzahl Genres übersichtlich bleibt, gib mir einen Vorschlag\" + genre_dict). Der Output von ChatGPT sieht diese Stratifizierung vor:\n",
    "\n",
    "- Belletristik:\n",
    "    - Lyrik & Poesie\n",
    "        - Lyrik\n",
    "        - Lyrik;Libretto\n",
    "        - Lyrik;Drama\n",
    "        - Lyrik;Epigramm\n",
    "        - Lyrik;Prosa;Drama\n",
    "        - Reimpaarspruch\n",
    "        - Lied\n",
    "        - Satire\n",
    "        - Städtelob\n",
    "        - Religiöse Reimpaarerzählung\n",
    "        - Lyrik;Prosa\n",
    "        - Epik\n",
    "        - Heldenepik\n",
    "    - Prosa & Erzählungen\n",
    "        - Roman\n",
    "        - Novelle\n",
    "        - Prosa\n",
    "        - Epos\n",
    "        - Dialog\n",
    "        - Briefroman\n",
    "        - Schäferdichtung\n",
    "        - Reiseliteratur\n",
    "    - Drama\n",
    "        - Drama\n",
    "        - Drama;Prosa\n",
    "        - Lyrik;Drama;Prosa\n",
    "    - Autobiographische & Biographische Werke\n",
    "        - Autobiographie\n",
    "        - Biographie\n",
    "        - (Auto)biographie\n",
    "    - Kinder- & Jugendliteratur\n",
    "        - Kinderliteratur\n",
    "        - Märchen\n",
    "    - Sonstige literarische Genres\n",
    "        - Briefe\n",
    "        - Lexikon\n",
    "\n",
    "- Gebrauchsliteratur:\n",
    "    - Praktische Literatur\n",
    "        - Hausväterliteratur\n",
    "        - Kochbuch\n",
    "        - Handbuch\n",
    "        - Rhetorik\n",
    "        - Lexikon\n",
    "        - Wörterbuch\n",
    "        - Briefsteller\n",
    "        - Rechnungsbuch\n",
    "        - Gartenbau\n",
    "        - Pädagogik\n",
    "        - Schulbuch\n",
    "    - Religiöse & Erbauliche Literatur\n",
    "        - Leichenpredigt\n",
    "        - Gelegenheitsschrift;Tod\n",
    "        - Gelegenheitsschrift;Tod;Lyrik\n",
    "        - Erbauungsliteratur\n",
    "        - Andachtsbuch\n",
    "        - Bibelübersetzung\n",
    "        - Gelegenheitsschrift;Fest\n",
    "        - Anstandsliteratur\n",
    "    - Politische & Rechtliche Texte\n",
    "        - Politik\n",
    "        - Verordnung\n",
    "        - Reformschrift\n",
    "        - Recht\n",
    "        - Bericht\n",
    "        - Streitschrift;Brief\n",
    "        - Amtsdruckschrift\n",
    "        - Gelegenheitsschrift;Vertrag\n",
    "    - Wissenschaftlich-Populäre Literatur\n",
    "        - Populärwissenschaft\n",
    "        - Philologie\n",
    "        - Zoologie\n",
    "        - Biologie\n",
    "        - Naturwissenschaft\n",
    "        - Astronomie\n",
    "        - Mathematik\n",
    "        - Geologie\n",
    "        - Bergbau\n",
    "        - Psychologie\n",
    "        - Astrologie\n",
    "        - Pflanzenbuch\n",
    "        - Kriminalistik\n",
    "        - Theologie\n",
    "        - Technik\n",
    "        - Ökonomie\n",
    "        - Philosophie\n",
    "        - Medizin\n",
    "    - Künstlerische & Kreative Texte\n",
    "        - Kunst\n",
    "        - Musik\n",
    "        - Verslehre\n",
    "        - Poetik\n",
    "        - Zeitschrift\n",
    "        - Satire\n",
    "        - Rede\n",
    "    - Reise- & Erfahrungsberichte\n",
    "        - Reiseliteratur\n",
    "        - Tagebuch\n",
    "        - Autobiographie\n",
    "        - Rezension\n",
    "    - Sonstige Gebrauchsliteratur\n",
    "        - Gesellschaft\n",
    "        - Regionalgeschichte\n",
    "        - Kolportageliteratur\n",
    "        - Sport\n",
    "        - Flugschrift\n",
    "        - Sonstiges\n",
    "- Wissenschaft:\n",
    "    - Naturwissenschaften\n",
    "        - Medizin\n",
    "        - Physik\n",
    "        - Biologie\n",
    "        - Zoologie\n",
    "        - Astronomie\n",
    "        - Geologie\n",
    "        - Naturgeschichte\n",
    "        - Chemie\n",
    "        - Anatomie\n",
    "        - Physiologie\n",
    "        - Tierheilkunde\n",
    "        - Geographie\n",
    "        - Geowissenschaft\n",
    "        - Naturwissenschaft\n",
    "        - Mathematik\n",
    "        - Anthropologie\n",
    "    - Geisteswissenschaften\n",
    "        - Sprachwissenschaft\n",
    "        - Literaturwissenschaft\n",
    "        - Theologie\n",
    "        - Philosophie\n",
    "        - Gesschichte\n",
    "        - Altertumskunde\n",
    "        - Archäologie\n",
    "        - Ethnologie\n",
    "        - Philologie\n",
    "        - Musik\n",
    "        - Musikwissenschaft\n",
    "        - Kunstgeschichte\n",
    "        - Architektur\n",
    "        - Naturwissenschaft;Philosophie\n",
    "        - Historiographie\n",
    "        - Pädagogik\n",
    "        - Geographie;Ethnologie\n",
    "    - Sozialwissenschaften\n",
    "        - Psychologie\n",
    "        - Soziologie\n",
    "        - Politik\n",
    "        - Gesellschaft\n",
    "        - Gesellschaftswissenschaften\n",
    "        - Kameralwissenschaft\n",
    "        - Militär\n",
    "    - Wirtschaft und Recht\n",
    "        - Ökonomie\n",
    "        - Recht\n",
    "        - Jura\n",
    "        - Politik\n",
    "        - Gesellschaftswissenschaften;Recht\n",
    "        - Politik\n",
    "        - Anstandsliteratur\n",
    "        - Historiographie;Recht\n",
    "    - Technische Wissenschaften\n",
    "        - Technik\n",
    "        - Bergbau\n",
    "        - Glasherstellung\n",
    "        - Landwirtschaft\n",
    "        - Gartenbau\n",
    "    - Sonstiges\n",
    "        - Alchemie\n",
    "        - Sonstiges\n",
    "        - Ordensliteratur:Jesuiten\n",
    "        - Brief\n",
    "\n",
    "- Zeitung\n",
    "\n"
   ]
  },
  {
   "cell_type": "markdown",
   "metadata": {},
   "source": [
    "Fine-Tuning war noch nötig, aber schliesslich gibt es diese Subgenres und Hauptgenres:\n",
    "- Belletristik\n",
    "    - Lyrik & Poesie\n",
    "    - Prosa & Erzählungen\n",
    "    - Drama\n",
    "    - Autobiographische & Biographische Werke\n",
    "    - Kinder- & Jugendliteratur\n",
    "    - Sonstige literarische Genres\n",
    "- Gebrauchsliteratur\n",
    "    - Praktische Literatur\n",
    "    - Religiöse & Erbauliche Literatur\n",
    "    - Politische & Rechtliche Texte\n",
    "    - Wissenschaftlich-Populäre Literatur\n",
    "    - Künstlerische & Kreative Texte\n",
    "    - Reise- & Erfahrungsberichte\n",
    "    - Sonstige Gebrauchsliteratur\n",
    "- Wissenschaften\n",
    "    - Naturwissenschaften\n",
    "    - Geisteswissenschaften\n",
    "    - Sozialwissenschaften\n",
    "    - Wirtschaft und Recht\n",
    "    - Technische Wissenschaften\n",
    "    - Sonstiges\n",
    "- Zeitung"
   ]
  },
  {
   "cell_type": "markdown",
   "metadata": {},
   "source": [
    "In einem nächsten Schritt werden diese Genres in eine neue Spalte \"Genrestratum\" in die SQL-Datenbank eingespeist. Dieser Code ist ein bisschen lang, aufgrund der Fülle an Subgenres"
   ]
  },
  {
   "cell_type": "code",
   "execution_count": 25,
   "metadata": {},
   "outputs": [
    {
     "data": {
      "text/plain": [
       "<sqlite3.Cursor at 0x1965e7846c0>"
      ]
     },
     "execution_count": 25,
     "metadata": {},
     "output_type": "execute_result"
    }
   ],
   "source": [
    "import sqlite3\n",
    "\n",
    "con = sqlite3.connect(\"Datenbank.db\")\n",
    "cur = con.cursor()\n",
    "\n",
    "cur.execute(\"\"\"\n",
    "            ALTER TABLE my_data\n",
    "            ADD COLUMN 'genrestratum' TEXT\n",
    "            \"\"\")"
   ]
  },
  {
   "cell_type": "code",
   "execution_count": 37,
   "metadata": {},
   "outputs": [],
   "source": [
    "con = sqlite3.connect(\"Datenbank.db\")\n",
    "cur = con.cursor()\n",
    "\n",
    "cur.execute(\"\"\"\n",
    "    UPDATE my_data\n",
    "    SET genrestratum = CASE\n",
    "            WHEN hauptklasse IN ('Belletristik') AND subklasse IN (\n",
    "                'Lyrik',\n",
    "                'Lyrik, Libretto',\n",
    "                'Lyrik, Drama',\n",
    "                'Lyrik, Epigramm',\n",
    "                'Lyrik; Prosa; Drama',\n",
    "                'Reimpaarspruch',\n",
    "                'Lied',\n",
    "                'Satire',\n",
    "                'Städtelob',\n",
    "                'Religiöse Reimpaarerzählung',\n",
    "                'Lyrik; Prosa',\n",
    "                'Epik',\n",
    "                'Heldenepik'\n",
    "            ) THEN 'Belletristik; Lyrik,Poesie'\n",
    "            WHEN hauptklasse IN ('Belletristik') AND subklasse IN (\n",
    "                'Roman',\n",
    "                'Novelle',\n",
    "                'Prosa',\n",
    "                'Epos',\n",
    "                'Dialog',\n",
    "                'Briefroman',\n",
    "                'Schäferdichtung',\n",
    "                'Reiseliteratur'\n",
    "            ) THEN 'Belletristik; Prosa,Erzählungen'\n",
    "            WHEN hauptklasse IN ('Belletristik') AND subklasse IN (\n",
    "                'Drama',\n",
    "                'Drama; Prosa',\n",
    "                'Lyrik; Drama; Prosa'\n",
    "            ) THEN 'Belletristik; Drama'\n",
    "            WHEN hauptklasse IN ('Belletristik') AND subklasse IN (\n",
    "                'Autobiographie',\n",
    "                'Biographie',\n",
    "                '(Auto)biographie'\n",
    "            ) THEN 'Belletristik; Autobiographische und Biographische Werke'\n",
    "            WHEN hauptklasse IN ('Belletristik') AND subklasse IN (\n",
    "                'Kinderliteratur',\n",
    "                'Märchen'\n",
    "            ) THEN 'Belletristik; Kinderliteratur'\n",
    "            WHEN hauptklasse IN ('Belletristik') AND subklasse IN (\n",
    "                'Briefe',\n",
    "                'Lexikon'\n",
    "            ) THEN 'Belletristik; Sonstige'\n",
    "            WHEN hauptklasse IN ('Gebrauchsliteratur') AND subklasse IN (\n",
    "                'Hausväterliteratur',\n",
    "                'Kochbuch',\n",
    "                'Handbuch',\n",
    "                'Rhetorik',\n",
    "                'Lexikon',\n",
    "                'Wörterbuch',\n",
    "                'Briefsteller',\n",
    "                'Rechnungsbuch',\n",
    "                'Gartenbau',\n",
    "                'Pädagogik',\n",
    "                'Schulbuch',\n",
    "                'Handbuch, Rhetorik'\n",
    "            ) THEN 'Gebrauchsliteratur; Praktische Literatur'\n",
    "            WHEN hauptklasse IN ('Gebrauchsliteratur') AND subklasse IN (\n",
    "                'Leichenpredigt',\n",
    "                'Gelegenheitsschrift:Tod',\n",
    "                'Gelegenheitsschrift:Tod; Lyrik',\n",
    "                'Erbauungsliteratur',\n",
    "                'Andachtsbuch',\n",
    "                'Bibelübersetzung',\n",
    "                'Gelegenheitsschrift:Fest',\n",
    "                'Anstandsliteratur'\n",
    "            ) THEN 'Gebrauchsliteratur; Religiöse und Erbauliche Literatur'\n",
    "            WHEN hauptklasse IN ('Gebrauchsliteratur') AND subklasse IN (\n",
    "                'Politik',\n",
    "                'Verordnung',\n",
    "                'Reformschrift',\n",
    "                'Recht',\n",
    "                'Bericht',\n",
    "                'Streitschrift; Brief',\n",
    "                'Amtsdruckschrift',\n",
    "                'Gelegenheitsschrift:Vertrag'\n",
    "            ) THEN 'Gebrauchsliteratur; Politische und Rechtliche Texte'\n",
    "            WHEN hauptklasse IN ('Gebrauchsliteratur') AND subklasse IN (\n",
    "                'Populärwissenschaft',\n",
    "                'Philologie',\n",
    "                'Zoologie',\n",
    "                'Biologie',\n",
    "                'Naturwissenschaft',\n",
    "                'Astronomie',\n",
    "                'Mathematik',\n",
    "                'Geologie',\n",
    "                'Bergbau',\n",
    "                'Psychologie',\n",
    "                'Astrologie',\n",
    "                'Pflanzenbuch',\n",
    "                'Kriminalistik',\n",
    "                'Theologie',\n",
    "                'Technik',\n",
    "                'Ökonomie',\n",
    "                'Philosophie',\n",
    "                'Medizin'\n",
    "            ) THEN 'Gebrauchsliteratur; Wissenschaftlich-Populäre Literatur'\n",
    "            WHEN hauptklasse IN ('Gebrauchsliteratur') AND subklasse IN (\n",
    "                'Kunst',\n",
    "                'Musik',\n",
    "                'Verslehre',\n",
    "                'Poetik',\n",
    "                'Zeitschrift',\n",
    "                'Satire',\n",
    "                'Rede'\n",
    "            ) THEN 'Gebrauchsliteratur; Künstlerische und Kreative Texte'\n",
    "            WHEN hauptklasse IN ('Gebrauchsliteratur') AND subklasse IN (\n",
    "                'Reiseliteratur',\n",
    "                'Tagebuch',\n",
    "                'Autobiographie',\n",
    "                'Rezension'\n",
    "            ) THEN 'Gebrauchsliteratur; Reise- und Erfahrungsberichte'\n",
    "            WHEN hauptklasse IN ('Gebrauchsliteratur') AND subklasse IN (\n",
    "                'Gesellschaft',\n",
    "                'Regionalgeschichte',\n",
    "                'Kolportageliteratur',\n",
    "                'Sport',\n",
    "                'Flugschrift',\n",
    "                'Sonstiges',\n",
    "                'Brief'\n",
    "            ) THEN 'Gebrauchsliteratur; Sonstige'\n",
    "            WHEN hauptklasse IN ('Wissenschaft') AND subklasse IN (\n",
    "                'Medizin',\n",
    "                'Physik',\n",
    "                'Biologie',\n",
    "                'Zoologie',\n",
    "                'Astronomie',\n",
    "                'Geologie',\n",
    "                'Naturgeschichte',\n",
    "                'Chemie',\n",
    "                'Anatomie',\n",
    "                'Physiologie',\n",
    "                'Tierheilkunde',\n",
    "                'Geographie',\n",
    "                'Geowissenschaft',\n",
    "                'Naturwissenschaft',\n",
    "                'Mathematik',\n",
    "                'Anthropologie',\n",
    "                'Geowissenschaften'\n",
    "            ) THEN 'Wissenschaft; Naturwissenschaften'\n",
    "            WHEN hauptklasse IN ('Wissenschaft') AND subklasse IN (\n",
    "                'Sprachwissenschaft',\n",
    "                'Literaturwissenschaft',\n",
    "                'Theologie',\n",
    "                'Philosophie',\n",
    "                'Geschichte',\n",
    "                'Altertumskunde',\n",
    "                'Archäologie',\n",
    "                'Ethnologie',\n",
    "                'Philologie',\n",
    "                'Musik',\n",
    "                'Musikwissenschaft',\n",
    "                'Kunstgeschichte',\n",
    "                'Architektur',\n",
    "                'Naturwissenschaft; Philosophie',\n",
    "                'Historiographie',\n",
    "                'Pädagogik',\n",
    "                'Geographie; Ethnologie'\n",
    "            ) THEN 'Wissenschaft; Geisteswissenschaften'\n",
    "            WHEN hauptklasse IN ('Wissenschaft') AND subklasse IN (\n",
    "                'Psychologie',\n",
    "                'Soziologie',\n",
    "                'Politik',\n",
    "                'Gesellschaft',\n",
    "                'Gesellschaftswissenschaften',\n",
    "                'Kameralwissenschaft',\n",
    "                'Militär'\n",
    "            ) THEN 'Wissenschaft; Sozialwissenschaften'\n",
    "            WHEN hauptklasse IN ('Wissenschaft') AND subklasse IN (\n",
    "                'Ökonomie',\n",
    "                'Recht',\n",
    "                'Jura',\n",
    "                'Politik',\n",
    "                'Gesellschaftswissenschaften; Recht',\n",
    "                'Politik',\n",
    "                'Anstandsliteratur',\n",
    "                'Historiographie; Recht',\n",
    "                'Buchwesen',\n",
    "                'Politik, Anstandsliteratur',\n",
    "                'Politik, Ökonomie'\n",
    "            ) THEN 'Wissenschaft; Wirtschaft und Recht'\n",
    "            WHEN hauptklasse IN ('Wissenschaft') AND subklasse IN (\n",
    "                'Technik',\n",
    "                'Bergbau',\n",
    "                'Glasherstellung',\n",
    "                'Landwirtschaft',\n",
    "                'Gartenbau'\n",
    "            ) THEN 'Wissenschaft; Technische Wissenschaften'\n",
    "            WHEN hauptklasse IN ('Wissenschaft') AND subklasse IN (\n",
    "                'Alchemie',\n",
    "                'Sonstiges',\n",
    "                'Ordensliteratur:Jesuiten',\n",
    "                'Brief',\n",
    "                'Alchemie, Medizin'\n",
    "            ) THEN 'Wissenschaft; Sonstiges'\n",
    "            WHEN hauptklasse IN ('Zeitung') THEN 'Zeitung'\n",
    "\n",
    "    END\n",
    "\"\"\")\n",
    "\n",
    "con.commit()"
   ]
  },
  {
   "cell_type": "markdown",
   "metadata": {},
   "source": [
    "Hier folgt ein Test, um sicherzustellen, dass die Zuweisung für jeden Text erfolgreich war:"
   ]
  },
  {
   "cell_type": "code",
   "execution_count": 32,
   "metadata": {},
   "outputs": [
    {
     "name": "stdout",
     "output_type": "stream",
     "text": [
      "Alles zugewiesen!\n"
     ]
    }
   ],
   "source": [
    "# Schauen, ob alle Texte einen Eintrag in der genrestratum-Spalte haben\n",
    "without_genrestratum = cur.execute(\"SELECT text_index FROM my_data WHERE genrestratum=NULL\").fetchall()\n",
    "\n",
    "if not without_genrestratum:\n",
    "    print(\"Alles zugewiesen!\")\n",
    "else:\n",
    "    print(without_genrestratum)"
   ]
  },
  {
   "cell_type": "code",
   "execution_count": 38,
   "metadata": {},
   "outputs": [],
   "source": [
    "con.close()"
   ]
  },
  {
   "cell_type": "markdown",
   "metadata": {},
   "source": [
    "Nun können die Genres visualisiert werden! Zunächst einmal die Verteilung über alle Genrestrata, dann spezifisch innerhalb der Hauptklassen."
   ]
  },
  {
   "cell_type": "code",
   "execution_count": 39,
   "metadata": {},
   "outputs": [
    {
     "data": {
      "application/vnd.plotly.v1+json": {
       "config": {
        "plotlyServerURL": "https://plot.ly"
       },
       "data": [
        {
         "name": "Texte pro Genre",
         "type": "bar",
         "x": [
          "Belletristik; Autobiographische und Biographische Werke",
          "Belletristik; Drama",
          "Belletristik; Kinderliteratur",
          "Belletristik; Lyrik,Poesie",
          "Belletristik; Prosa,Erzählungen",
          "Belletristik; Sonstige",
          "Gebrauchsliteratur; Künstlerische und Kreative Texte",
          "Gebrauchsliteratur; Politische und Rechtliche Texte",
          "Gebrauchsliteratur; Praktische Literatur",
          "Gebrauchsliteratur; Reise- und Erfahrungsberichte",
          "Gebrauchsliteratur; Religiöse und Erbauliche Literatur",
          "Gebrauchsliteratur; Sonstige",
          "Gebrauchsliteratur; Wissenschaftlich-Populäre Literatur",
          "Wissenschaft; Geisteswissenschaften",
          "Wissenschaft; Naturwissenschaften",
          "Wissenschaft; Sonstiges",
          "Wissenschaft; Sozialwissenschaften",
          "Wissenschaft; Technische Wissenschaften",
          "Wissenschaft; Wirtschaft und Recht",
          "Zeitung"
         ],
         "y": [
          35,
          96,
          26,
          159,
          423,
          30,
          28,
          69,
          78,
          33,
          515,
          427,
          259,
          330,
          354,
          9,
          93,
          49,
          106,
          1317
         ]
        }
       ],
       "layout": {
        "hovermode": "x",
        "template": {
         "data": {
          "bar": [
           {
            "error_x": {
             "color": "#2a3f5f"
            },
            "error_y": {
             "color": "#2a3f5f"
            },
            "marker": {
             "line": {
              "color": "#E5ECF6",
              "width": 0.5
             },
             "pattern": {
              "fillmode": "overlay",
              "size": 10,
              "solidity": 0.2
             }
            },
            "type": "bar"
           }
          ],
          "barpolar": [
           {
            "marker": {
             "line": {
              "color": "#E5ECF6",
              "width": 0.5
             },
             "pattern": {
              "fillmode": "overlay",
              "size": 10,
              "solidity": 0.2
             }
            },
            "type": "barpolar"
           }
          ],
          "carpet": [
           {
            "aaxis": {
             "endlinecolor": "#2a3f5f",
             "gridcolor": "white",
             "linecolor": "white",
             "minorgridcolor": "white",
             "startlinecolor": "#2a3f5f"
            },
            "baxis": {
             "endlinecolor": "#2a3f5f",
             "gridcolor": "white",
             "linecolor": "white",
             "minorgridcolor": "white",
             "startlinecolor": "#2a3f5f"
            },
            "type": "carpet"
           }
          ],
          "choropleth": [
           {
            "colorbar": {
             "outlinewidth": 0,
             "ticks": ""
            },
            "type": "choropleth"
           }
          ],
          "contour": [
           {
            "colorbar": {
             "outlinewidth": 0,
             "ticks": ""
            },
            "colorscale": [
             [
              0,
              "#0d0887"
             ],
             [
              0.1111111111111111,
              "#46039f"
             ],
             [
              0.2222222222222222,
              "#7201a8"
             ],
             [
              0.3333333333333333,
              "#9c179e"
             ],
             [
              0.4444444444444444,
              "#bd3786"
             ],
             [
              0.5555555555555556,
              "#d8576b"
             ],
             [
              0.6666666666666666,
              "#ed7953"
             ],
             [
              0.7777777777777778,
              "#fb9f3a"
             ],
             [
              0.8888888888888888,
              "#fdca26"
             ],
             [
              1,
              "#f0f921"
             ]
            ],
            "type": "contour"
           }
          ],
          "contourcarpet": [
           {
            "colorbar": {
             "outlinewidth": 0,
             "ticks": ""
            },
            "type": "contourcarpet"
           }
          ],
          "heatmap": [
           {
            "colorbar": {
             "outlinewidth": 0,
             "ticks": ""
            },
            "colorscale": [
             [
              0,
              "#0d0887"
             ],
             [
              0.1111111111111111,
              "#46039f"
             ],
             [
              0.2222222222222222,
              "#7201a8"
             ],
             [
              0.3333333333333333,
              "#9c179e"
             ],
             [
              0.4444444444444444,
              "#bd3786"
             ],
             [
              0.5555555555555556,
              "#d8576b"
             ],
             [
              0.6666666666666666,
              "#ed7953"
             ],
             [
              0.7777777777777778,
              "#fb9f3a"
             ],
             [
              0.8888888888888888,
              "#fdca26"
             ],
             [
              1,
              "#f0f921"
             ]
            ],
            "type": "heatmap"
           }
          ],
          "heatmapgl": [
           {
            "colorbar": {
             "outlinewidth": 0,
             "ticks": ""
            },
            "colorscale": [
             [
              0,
              "#0d0887"
             ],
             [
              0.1111111111111111,
              "#46039f"
             ],
             [
              0.2222222222222222,
              "#7201a8"
             ],
             [
              0.3333333333333333,
              "#9c179e"
             ],
             [
              0.4444444444444444,
              "#bd3786"
             ],
             [
              0.5555555555555556,
              "#d8576b"
             ],
             [
              0.6666666666666666,
              "#ed7953"
             ],
             [
              0.7777777777777778,
              "#fb9f3a"
             ],
             [
              0.8888888888888888,
              "#fdca26"
             ],
             [
              1,
              "#f0f921"
             ]
            ],
            "type": "heatmapgl"
           }
          ],
          "histogram": [
           {
            "marker": {
             "pattern": {
              "fillmode": "overlay",
              "size": 10,
              "solidity": 0.2
             }
            },
            "type": "histogram"
           }
          ],
          "histogram2d": [
           {
            "colorbar": {
             "outlinewidth": 0,
             "ticks": ""
            },
            "colorscale": [
             [
              0,
              "#0d0887"
             ],
             [
              0.1111111111111111,
              "#46039f"
             ],
             [
              0.2222222222222222,
              "#7201a8"
             ],
             [
              0.3333333333333333,
              "#9c179e"
             ],
             [
              0.4444444444444444,
              "#bd3786"
             ],
             [
              0.5555555555555556,
              "#d8576b"
             ],
             [
              0.6666666666666666,
              "#ed7953"
             ],
             [
              0.7777777777777778,
              "#fb9f3a"
             ],
             [
              0.8888888888888888,
              "#fdca26"
             ],
             [
              1,
              "#f0f921"
             ]
            ],
            "type": "histogram2d"
           }
          ],
          "histogram2dcontour": [
           {
            "colorbar": {
             "outlinewidth": 0,
             "ticks": ""
            },
            "colorscale": [
             [
              0,
              "#0d0887"
             ],
             [
              0.1111111111111111,
              "#46039f"
             ],
             [
              0.2222222222222222,
              "#7201a8"
             ],
             [
              0.3333333333333333,
              "#9c179e"
             ],
             [
              0.4444444444444444,
              "#bd3786"
             ],
             [
              0.5555555555555556,
              "#d8576b"
             ],
             [
              0.6666666666666666,
              "#ed7953"
             ],
             [
              0.7777777777777778,
              "#fb9f3a"
             ],
             [
              0.8888888888888888,
              "#fdca26"
             ],
             [
              1,
              "#f0f921"
             ]
            ],
            "type": "histogram2dcontour"
           }
          ],
          "mesh3d": [
           {
            "colorbar": {
             "outlinewidth": 0,
             "ticks": ""
            },
            "type": "mesh3d"
           }
          ],
          "parcoords": [
           {
            "line": {
             "colorbar": {
              "outlinewidth": 0,
              "ticks": ""
             }
            },
            "type": "parcoords"
           }
          ],
          "pie": [
           {
            "automargin": true,
            "type": "pie"
           }
          ],
          "scatter": [
           {
            "fillpattern": {
             "fillmode": "overlay",
             "size": 10,
             "solidity": 0.2
            },
            "type": "scatter"
           }
          ],
          "scatter3d": [
           {
            "line": {
             "colorbar": {
              "outlinewidth": 0,
              "ticks": ""
             }
            },
            "marker": {
             "colorbar": {
              "outlinewidth": 0,
              "ticks": ""
             }
            },
            "type": "scatter3d"
           }
          ],
          "scattercarpet": [
           {
            "marker": {
             "colorbar": {
              "outlinewidth": 0,
              "ticks": ""
             }
            },
            "type": "scattercarpet"
           }
          ],
          "scattergeo": [
           {
            "marker": {
             "colorbar": {
              "outlinewidth": 0,
              "ticks": ""
             }
            },
            "type": "scattergeo"
           }
          ],
          "scattergl": [
           {
            "marker": {
             "colorbar": {
              "outlinewidth": 0,
              "ticks": ""
             }
            },
            "type": "scattergl"
           }
          ],
          "scattermapbox": [
           {
            "marker": {
             "colorbar": {
              "outlinewidth": 0,
              "ticks": ""
             }
            },
            "type": "scattermapbox"
           }
          ],
          "scatterpolar": [
           {
            "marker": {
             "colorbar": {
              "outlinewidth": 0,
              "ticks": ""
             }
            },
            "type": "scatterpolar"
           }
          ],
          "scatterpolargl": [
           {
            "marker": {
             "colorbar": {
              "outlinewidth": 0,
              "ticks": ""
             }
            },
            "type": "scatterpolargl"
           }
          ],
          "scatterternary": [
           {
            "marker": {
             "colorbar": {
              "outlinewidth": 0,
              "ticks": ""
             }
            },
            "type": "scatterternary"
           }
          ],
          "surface": [
           {
            "colorbar": {
             "outlinewidth": 0,
             "ticks": ""
            },
            "colorscale": [
             [
              0,
              "#0d0887"
             ],
             [
              0.1111111111111111,
              "#46039f"
             ],
             [
              0.2222222222222222,
              "#7201a8"
             ],
             [
              0.3333333333333333,
              "#9c179e"
             ],
             [
              0.4444444444444444,
              "#bd3786"
             ],
             [
              0.5555555555555556,
              "#d8576b"
             ],
             [
              0.6666666666666666,
              "#ed7953"
             ],
             [
              0.7777777777777778,
              "#fb9f3a"
             ],
             [
              0.8888888888888888,
              "#fdca26"
             ],
             [
              1,
              "#f0f921"
             ]
            ],
            "type": "surface"
           }
          ],
          "table": [
           {
            "cells": {
             "fill": {
              "color": "#EBF0F8"
             },
             "line": {
              "color": "white"
             }
            },
            "header": {
             "fill": {
              "color": "#C8D4E3"
             },
             "line": {
              "color": "white"
             }
            },
            "type": "table"
           }
          ]
         },
         "layout": {
          "annotationdefaults": {
           "arrowcolor": "#2a3f5f",
           "arrowhead": 0,
           "arrowwidth": 1
          },
          "autotypenumbers": "strict",
          "coloraxis": {
           "colorbar": {
            "outlinewidth": 0,
            "ticks": ""
           }
          },
          "colorscale": {
           "diverging": [
            [
             0,
             "#8e0152"
            ],
            [
             0.1,
             "#c51b7d"
            ],
            [
             0.2,
             "#de77ae"
            ],
            [
             0.3,
             "#f1b6da"
            ],
            [
             0.4,
             "#fde0ef"
            ],
            [
             0.5,
             "#f7f7f7"
            ],
            [
             0.6,
             "#e6f5d0"
            ],
            [
             0.7,
             "#b8e186"
            ],
            [
             0.8,
             "#7fbc41"
            ],
            [
             0.9,
             "#4d9221"
            ],
            [
             1,
             "#276419"
            ]
           ],
           "sequential": [
            [
             0,
             "#0d0887"
            ],
            [
             0.1111111111111111,
             "#46039f"
            ],
            [
             0.2222222222222222,
             "#7201a8"
            ],
            [
             0.3333333333333333,
             "#9c179e"
            ],
            [
             0.4444444444444444,
             "#bd3786"
            ],
            [
             0.5555555555555556,
             "#d8576b"
            ],
            [
             0.6666666666666666,
             "#ed7953"
            ],
            [
             0.7777777777777778,
             "#fb9f3a"
            ],
            [
             0.8888888888888888,
             "#fdca26"
            ],
            [
             1,
             "#f0f921"
            ]
           ],
           "sequentialminus": [
            [
             0,
             "#0d0887"
            ],
            [
             0.1111111111111111,
             "#46039f"
            ],
            [
             0.2222222222222222,
             "#7201a8"
            ],
            [
             0.3333333333333333,
             "#9c179e"
            ],
            [
             0.4444444444444444,
             "#bd3786"
            ],
            [
             0.5555555555555556,
             "#d8576b"
            ],
            [
             0.6666666666666666,
             "#ed7953"
            ],
            [
             0.7777777777777778,
             "#fb9f3a"
            ],
            [
             0.8888888888888888,
             "#fdca26"
            ],
            [
             1,
             "#f0f921"
            ]
           ]
          },
          "colorway": [
           "#636efa",
           "#EF553B",
           "#00cc96",
           "#ab63fa",
           "#FFA15A",
           "#19d3f3",
           "#FF6692",
           "#B6E880",
           "#FF97FF",
           "#FECB52"
          ],
          "font": {
           "color": "#2a3f5f"
          },
          "geo": {
           "bgcolor": "white",
           "lakecolor": "white",
           "landcolor": "#E5ECF6",
           "showlakes": true,
           "showland": true,
           "subunitcolor": "white"
          },
          "hoverlabel": {
           "align": "left"
          },
          "hovermode": "closest",
          "mapbox": {
           "style": "light"
          },
          "paper_bgcolor": "white",
          "plot_bgcolor": "#E5ECF6",
          "polar": {
           "angularaxis": {
            "gridcolor": "white",
            "linecolor": "white",
            "ticks": ""
           },
           "bgcolor": "#E5ECF6",
           "radialaxis": {
            "gridcolor": "white",
            "linecolor": "white",
            "ticks": ""
           }
          },
          "scene": {
           "xaxis": {
            "backgroundcolor": "#E5ECF6",
            "gridcolor": "white",
            "gridwidth": 2,
            "linecolor": "white",
            "showbackground": true,
            "ticks": "",
            "zerolinecolor": "white"
           },
           "yaxis": {
            "backgroundcolor": "#E5ECF6",
            "gridcolor": "white",
            "gridwidth": 2,
            "linecolor": "white",
            "showbackground": true,
            "ticks": "",
            "zerolinecolor": "white"
           },
           "zaxis": {
            "backgroundcolor": "#E5ECF6",
            "gridcolor": "white",
            "gridwidth": 2,
            "linecolor": "white",
            "showbackground": true,
            "ticks": "",
            "zerolinecolor": "white"
           }
          },
          "shapedefaults": {
           "line": {
            "color": "#2a3f5f"
           }
          },
          "ternary": {
           "aaxis": {
            "gridcolor": "white",
            "linecolor": "white",
            "ticks": ""
           },
           "baxis": {
            "gridcolor": "white",
            "linecolor": "white",
            "ticks": ""
           },
           "bgcolor": "#E5ECF6",
           "caxis": {
            "gridcolor": "white",
            "linecolor": "white",
            "ticks": ""
           }
          },
          "title": {
           "x": 0.05
          },
          "xaxis": {
           "automargin": true,
           "gridcolor": "white",
           "linecolor": "white",
           "ticks": "",
           "title": {
            "standoff": 15
           },
           "zerolinecolor": "white",
           "zerolinewidth": 2
          },
          "yaxis": {
           "automargin": true,
           "gridcolor": "white",
           "linecolor": "white",
           "ticks": "",
           "title": {
            "standoff": 15
           },
           "zerolinecolor": "white",
           "zerolinewidth": 2
          }
         }
        },
        "title": {
         "text": "Anzahl Texte pro Genre"
        },
        "xaxis": {
         "title": {
          "text": "Genres"
         }
        },
        "yaxis": {
         "title": {
          "text": "Anzahl Texte"
         }
        }
       }
      }
     },
     "metadata": {},
     "output_type": "display_data"
    }
   ],
   "source": [
    "import sqlite3\n",
    "import pandas as pd\n",
    "import plotly.graph_objects as go\n",
    "\n",
    "con = sqlite3.connect(\"Datenbank.db\")\n",
    "query = \"\"\"SELECT genrestratum FROM my_data\"\"\"\n",
    "\n",
    "df = pd.read_sql_query(query, con)\n",
    "\n",
    "genre_count = df.groupby(\"genrestratum\").size().reset_index(name=\"count\")\n",
    "\n",
    "fig = go.Figure(data=[go.Bar(name=\"Texte pro Genre\", x=genre_count[\"genrestratum\"], y=genre_count[\"count\"])])\n",
    "\n",
    "fig.update_layout(\n",
    "    title=\"Anzahl Texte pro Genre\",\n",
    "    xaxis_title=\"Genres\",\n",
    "    yaxis_title=\"Anzahl Texte\",\n",
    "    hovermode=\"x\"\n",
    ")\n",
    "\n",
    "fig.show()"
   ]
  },
  {
   "cell_type": "markdown",
   "metadata": {},
   "source": [
    "Belletristik:"
   ]
  },
  {
   "cell_type": "code",
   "execution_count": 41,
   "metadata": {},
   "outputs": [
    {
     "data": {
      "application/vnd.plotly.v1+json": {
       "config": {
        "plotlyServerURL": "https://plot.ly"
       },
       "data": [
        {
         "name": "Texte pro Genre in Belletristik",
         "type": "bar",
         "x": [
          "Belletristik; Autobiographische und Biographische Werke",
          "Belletristik; Drama",
          "Belletristik; Kinderliteratur",
          "Belletristik; Lyrik,Poesie",
          "Belletristik; Prosa,Erzählungen",
          "Belletristik; Sonstige"
         ],
         "y": [
          35,
          96,
          26,
          159,
          423,
          30
         ]
        }
       ],
       "layout": {
        "hovermode": "x",
        "template": {
         "data": {
          "bar": [
           {
            "error_x": {
             "color": "#2a3f5f"
            },
            "error_y": {
             "color": "#2a3f5f"
            },
            "marker": {
             "line": {
              "color": "#E5ECF6",
              "width": 0.5
             },
             "pattern": {
              "fillmode": "overlay",
              "size": 10,
              "solidity": 0.2
             }
            },
            "type": "bar"
           }
          ],
          "barpolar": [
           {
            "marker": {
             "line": {
              "color": "#E5ECF6",
              "width": 0.5
             },
             "pattern": {
              "fillmode": "overlay",
              "size": 10,
              "solidity": 0.2
             }
            },
            "type": "barpolar"
           }
          ],
          "carpet": [
           {
            "aaxis": {
             "endlinecolor": "#2a3f5f",
             "gridcolor": "white",
             "linecolor": "white",
             "minorgridcolor": "white",
             "startlinecolor": "#2a3f5f"
            },
            "baxis": {
             "endlinecolor": "#2a3f5f",
             "gridcolor": "white",
             "linecolor": "white",
             "minorgridcolor": "white",
             "startlinecolor": "#2a3f5f"
            },
            "type": "carpet"
           }
          ],
          "choropleth": [
           {
            "colorbar": {
             "outlinewidth": 0,
             "ticks": ""
            },
            "type": "choropleth"
           }
          ],
          "contour": [
           {
            "colorbar": {
             "outlinewidth": 0,
             "ticks": ""
            },
            "colorscale": [
             [
              0,
              "#0d0887"
             ],
             [
              0.1111111111111111,
              "#46039f"
             ],
             [
              0.2222222222222222,
              "#7201a8"
             ],
             [
              0.3333333333333333,
              "#9c179e"
             ],
             [
              0.4444444444444444,
              "#bd3786"
             ],
             [
              0.5555555555555556,
              "#d8576b"
             ],
             [
              0.6666666666666666,
              "#ed7953"
             ],
             [
              0.7777777777777778,
              "#fb9f3a"
             ],
             [
              0.8888888888888888,
              "#fdca26"
             ],
             [
              1,
              "#f0f921"
             ]
            ],
            "type": "contour"
           }
          ],
          "contourcarpet": [
           {
            "colorbar": {
             "outlinewidth": 0,
             "ticks": ""
            },
            "type": "contourcarpet"
           }
          ],
          "heatmap": [
           {
            "colorbar": {
             "outlinewidth": 0,
             "ticks": ""
            },
            "colorscale": [
             [
              0,
              "#0d0887"
             ],
             [
              0.1111111111111111,
              "#46039f"
             ],
             [
              0.2222222222222222,
              "#7201a8"
             ],
             [
              0.3333333333333333,
              "#9c179e"
             ],
             [
              0.4444444444444444,
              "#bd3786"
             ],
             [
              0.5555555555555556,
              "#d8576b"
             ],
             [
              0.6666666666666666,
              "#ed7953"
             ],
             [
              0.7777777777777778,
              "#fb9f3a"
             ],
             [
              0.8888888888888888,
              "#fdca26"
             ],
             [
              1,
              "#f0f921"
             ]
            ],
            "type": "heatmap"
           }
          ],
          "heatmapgl": [
           {
            "colorbar": {
             "outlinewidth": 0,
             "ticks": ""
            },
            "colorscale": [
             [
              0,
              "#0d0887"
             ],
             [
              0.1111111111111111,
              "#46039f"
             ],
             [
              0.2222222222222222,
              "#7201a8"
             ],
             [
              0.3333333333333333,
              "#9c179e"
             ],
             [
              0.4444444444444444,
              "#bd3786"
             ],
             [
              0.5555555555555556,
              "#d8576b"
             ],
             [
              0.6666666666666666,
              "#ed7953"
             ],
             [
              0.7777777777777778,
              "#fb9f3a"
             ],
             [
              0.8888888888888888,
              "#fdca26"
             ],
             [
              1,
              "#f0f921"
             ]
            ],
            "type": "heatmapgl"
           }
          ],
          "histogram": [
           {
            "marker": {
             "pattern": {
              "fillmode": "overlay",
              "size": 10,
              "solidity": 0.2
             }
            },
            "type": "histogram"
           }
          ],
          "histogram2d": [
           {
            "colorbar": {
             "outlinewidth": 0,
             "ticks": ""
            },
            "colorscale": [
             [
              0,
              "#0d0887"
             ],
             [
              0.1111111111111111,
              "#46039f"
             ],
             [
              0.2222222222222222,
              "#7201a8"
             ],
             [
              0.3333333333333333,
              "#9c179e"
             ],
             [
              0.4444444444444444,
              "#bd3786"
             ],
             [
              0.5555555555555556,
              "#d8576b"
             ],
             [
              0.6666666666666666,
              "#ed7953"
             ],
             [
              0.7777777777777778,
              "#fb9f3a"
             ],
             [
              0.8888888888888888,
              "#fdca26"
             ],
             [
              1,
              "#f0f921"
             ]
            ],
            "type": "histogram2d"
           }
          ],
          "histogram2dcontour": [
           {
            "colorbar": {
             "outlinewidth": 0,
             "ticks": ""
            },
            "colorscale": [
             [
              0,
              "#0d0887"
             ],
             [
              0.1111111111111111,
              "#46039f"
             ],
             [
              0.2222222222222222,
              "#7201a8"
             ],
             [
              0.3333333333333333,
              "#9c179e"
             ],
             [
              0.4444444444444444,
              "#bd3786"
             ],
             [
              0.5555555555555556,
              "#d8576b"
             ],
             [
              0.6666666666666666,
              "#ed7953"
             ],
             [
              0.7777777777777778,
              "#fb9f3a"
             ],
             [
              0.8888888888888888,
              "#fdca26"
             ],
             [
              1,
              "#f0f921"
             ]
            ],
            "type": "histogram2dcontour"
           }
          ],
          "mesh3d": [
           {
            "colorbar": {
             "outlinewidth": 0,
             "ticks": ""
            },
            "type": "mesh3d"
           }
          ],
          "parcoords": [
           {
            "line": {
             "colorbar": {
              "outlinewidth": 0,
              "ticks": ""
             }
            },
            "type": "parcoords"
           }
          ],
          "pie": [
           {
            "automargin": true,
            "type": "pie"
           }
          ],
          "scatter": [
           {
            "fillpattern": {
             "fillmode": "overlay",
             "size": 10,
             "solidity": 0.2
            },
            "type": "scatter"
           }
          ],
          "scatter3d": [
           {
            "line": {
             "colorbar": {
              "outlinewidth": 0,
              "ticks": ""
             }
            },
            "marker": {
             "colorbar": {
              "outlinewidth": 0,
              "ticks": ""
             }
            },
            "type": "scatter3d"
           }
          ],
          "scattercarpet": [
           {
            "marker": {
             "colorbar": {
              "outlinewidth": 0,
              "ticks": ""
             }
            },
            "type": "scattercarpet"
           }
          ],
          "scattergeo": [
           {
            "marker": {
             "colorbar": {
              "outlinewidth": 0,
              "ticks": ""
             }
            },
            "type": "scattergeo"
           }
          ],
          "scattergl": [
           {
            "marker": {
             "colorbar": {
              "outlinewidth": 0,
              "ticks": ""
             }
            },
            "type": "scattergl"
           }
          ],
          "scattermapbox": [
           {
            "marker": {
             "colorbar": {
              "outlinewidth": 0,
              "ticks": ""
             }
            },
            "type": "scattermapbox"
           }
          ],
          "scatterpolar": [
           {
            "marker": {
             "colorbar": {
              "outlinewidth": 0,
              "ticks": ""
             }
            },
            "type": "scatterpolar"
           }
          ],
          "scatterpolargl": [
           {
            "marker": {
             "colorbar": {
              "outlinewidth": 0,
              "ticks": ""
             }
            },
            "type": "scatterpolargl"
           }
          ],
          "scatterternary": [
           {
            "marker": {
             "colorbar": {
              "outlinewidth": 0,
              "ticks": ""
             }
            },
            "type": "scatterternary"
           }
          ],
          "surface": [
           {
            "colorbar": {
             "outlinewidth": 0,
             "ticks": ""
            },
            "colorscale": [
             [
              0,
              "#0d0887"
             ],
             [
              0.1111111111111111,
              "#46039f"
             ],
             [
              0.2222222222222222,
              "#7201a8"
             ],
             [
              0.3333333333333333,
              "#9c179e"
             ],
             [
              0.4444444444444444,
              "#bd3786"
             ],
             [
              0.5555555555555556,
              "#d8576b"
             ],
             [
              0.6666666666666666,
              "#ed7953"
             ],
             [
              0.7777777777777778,
              "#fb9f3a"
             ],
             [
              0.8888888888888888,
              "#fdca26"
             ],
             [
              1,
              "#f0f921"
             ]
            ],
            "type": "surface"
           }
          ],
          "table": [
           {
            "cells": {
             "fill": {
              "color": "#EBF0F8"
             },
             "line": {
              "color": "white"
             }
            },
            "header": {
             "fill": {
              "color": "#C8D4E3"
             },
             "line": {
              "color": "white"
             }
            },
            "type": "table"
           }
          ]
         },
         "layout": {
          "annotationdefaults": {
           "arrowcolor": "#2a3f5f",
           "arrowhead": 0,
           "arrowwidth": 1
          },
          "autotypenumbers": "strict",
          "coloraxis": {
           "colorbar": {
            "outlinewidth": 0,
            "ticks": ""
           }
          },
          "colorscale": {
           "diverging": [
            [
             0,
             "#8e0152"
            ],
            [
             0.1,
             "#c51b7d"
            ],
            [
             0.2,
             "#de77ae"
            ],
            [
             0.3,
             "#f1b6da"
            ],
            [
             0.4,
             "#fde0ef"
            ],
            [
             0.5,
             "#f7f7f7"
            ],
            [
             0.6,
             "#e6f5d0"
            ],
            [
             0.7,
             "#b8e186"
            ],
            [
             0.8,
             "#7fbc41"
            ],
            [
             0.9,
             "#4d9221"
            ],
            [
             1,
             "#276419"
            ]
           ],
           "sequential": [
            [
             0,
             "#0d0887"
            ],
            [
             0.1111111111111111,
             "#46039f"
            ],
            [
             0.2222222222222222,
             "#7201a8"
            ],
            [
             0.3333333333333333,
             "#9c179e"
            ],
            [
             0.4444444444444444,
             "#bd3786"
            ],
            [
             0.5555555555555556,
             "#d8576b"
            ],
            [
             0.6666666666666666,
             "#ed7953"
            ],
            [
             0.7777777777777778,
             "#fb9f3a"
            ],
            [
             0.8888888888888888,
             "#fdca26"
            ],
            [
             1,
             "#f0f921"
            ]
           ],
           "sequentialminus": [
            [
             0,
             "#0d0887"
            ],
            [
             0.1111111111111111,
             "#46039f"
            ],
            [
             0.2222222222222222,
             "#7201a8"
            ],
            [
             0.3333333333333333,
             "#9c179e"
            ],
            [
             0.4444444444444444,
             "#bd3786"
            ],
            [
             0.5555555555555556,
             "#d8576b"
            ],
            [
             0.6666666666666666,
             "#ed7953"
            ],
            [
             0.7777777777777778,
             "#fb9f3a"
            ],
            [
             0.8888888888888888,
             "#fdca26"
            ],
            [
             1,
             "#f0f921"
            ]
           ]
          },
          "colorway": [
           "#636efa",
           "#EF553B",
           "#00cc96",
           "#ab63fa",
           "#FFA15A",
           "#19d3f3",
           "#FF6692",
           "#B6E880",
           "#FF97FF",
           "#FECB52"
          ],
          "font": {
           "color": "#2a3f5f"
          },
          "geo": {
           "bgcolor": "white",
           "lakecolor": "white",
           "landcolor": "#E5ECF6",
           "showlakes": true,
           "showland": true,
           "subunitcolor": "white"
          },
          "hoverlabel": {
           "align": "left"
          },
          "hovermode": "closest",
          "mapbox": {
           "style": "light"
          },
          "paper_bgcolor": "white",
          "plot_bgcolor": "#E5ECF6",
          "polar": {
           "angularaxis": {
            "gridcolor": "white",
            "linecolor": "white",
            "ticks": ""
           },
           "bgcolor": "#E5ECF6",
           "radialaxis": {
            "gridcolor": "white",
            "linecolor": "white",
            "ticks": ""
           }
          },
          "scene": {
           "xaxis": {
            "backgroundcolor": "#E5ECF6",
            "gridcolor": "white",
            "gridwidth": 2,
            "linecolor": "white",
            "showbackground": true,
            "ticks": "",
            "zerolinecolor": "white"
           },
           "yaxis": {
            "backgroundcolor": "#E5ECF6",
            "gridcolor": "white",
            "gridwidth": 2,
            "linecolor": "white",
            "showbackground": true,
            "ticks": "",
            "zerolinecolor": "white"
           },
           "zaxis": {
            "backgroundcolor": "#E5ECF6",
            "gridcolor": "white",
            "gridwidth": 2,
            "linecolor": "white",
            "showbackground": true,
            "ticks": "",
            "zerolinecolor": "white"
           }
          },
          "shapedefaults": {
           "line": {
            "color": "#2a3f5f"
           }
          },
          "ternary": {
           "aaxis": {
            "gridcolor": "white",
            "linecolor": "white",
            "ticks": ""
           },
           "baxis": {
            "gridcolor": "white",
            "linecolor": "white",
            "ticks": ""
           },
           "bgcolor": "#E5ECF6",
           "caxis": {
            "gridcolor": "white",
            "linecolor": "white",
            "ticks": ""
           }
          },
          "title": {
           "x": 0.05
          },
          "xaxis": {
           "automargin": true,
           "gridcolor": "white",
           "linecolor": "white",
           "ticks": "",
           "title": {
            "standoff": 15
           },
           "zerolinecolor": "white",
           "zerolinewidth": 2
          },
          "yaxis": {
           "automargin": true,
           "gridcolor": "white",
           "linecolor": "white",
           "ticks": "",
           "title": {
            "standoff": 15
           },
           "zerolinecolor": "white",
           "zerolinewidth": 2
          }
         }
        },
        "title": {
         "text": "Anzahl Texte pro Subgenre in Belletristik"
        },
        "xaxis": {
         "title": {
          "text": "Subgenres"
         }
        },
        "yaxis": {
         "title": {
          "text": "Anzahl Texte"
         }
        }
       }
      }
     },
     "metadata": {},
     "output_type": "display_data"
    }
   ],
   "source": [
    "query_belletristik = \"\"\"SELECT genrestratum FROM my_data WHERE hauptklasse='Belletristik'\"\"\"\n",
    "\n",
    "df = pd.read_sql_query(query_belletristik, con)\n",
    "\n",
    "belletristik_count = df.groupby(\"genrestratum\").size().reset_index(name=\"count\")\n",
    "\n",
    "fig = go.Figure(data=[go.Bar(name=\"Texte pro Genre in Belletristik\", x=belletristik_count[\"genrestratum\"], y=belletristik_count[\"count\"])])\n",
    "\n",
    "fig.update_layout(\n",
    "    title=\"Anzahl Texte pro Subgenre in Belletristik\",\n",
    "    xaxis_title=\"Subgenres\",\n",
    "    yaxis_title=\"Anzahl Texte\",\n",
    "    hovermode=\"x\"\n",
    ")\n",
    "fig.show()"
   ]
  },
  {
   "cell_type": "markdown",
   "metadata": {},
   "source": [
    "Gebrauchsliteratur:"
   ]
  },
  {
   "cell_type": "code",
   "execution_count": 43,
   "metadata": {},
   "outputs": [
    {
     "data": {
      "application/vnd.plotly.v1+json": {
       "config": {
        "plotlyServerURL": "https://plot.ly"
       },
       "data": [
        {
         "name": "Texte pro Genre in Gebrauchsliteratur",
         "type": "bar",
         "x": [
          "Gebrauchsliteratur; Künstlerische und Kreative Texte",
          "Gebrauchsliteratur; Politische und Rechtliche Texte",
          "Gebrauchsliteratur; Praktische Literatur",
          "Gebrauchsliteratur; Reise- und Erfahrungsberichte",
          "Gebrauchsliteratur; Religiöse und Erbauliche Literatur",
          "Gebrauchsliteratur; Sonstige",
          "Gebrauchsliteratur; Wissenschaftlich-Populäre Literatur"
         ],
         "y": [
          28,
          69,
          76,
          33,
          515,
          427,
          259
         ]
        }
       ],
       "layout": {
        "hovermode": "x",
        "template": {
         "data": {
          "bar": [
           {
            "error_x": {
             "color": "#2a3f5f"
            },
            "error_y": {
             "color": "#2a3f5f"
            },
            "marker": {
             "line": {
              "color": "#E5ECF6",
              "width": 0.5
             },
             "pattern": {
              "fillmode": "overlay",
              "size": 10,
              "solidity": 0.2
             }
            },
            "type": "bar"
           }
          ],
          "barpolar": [
           {
            "marker": {
             "line": {
              "color": "#E5ECF6",
              "width": 0.5
             },
             "pattern": {
              "fillmode": "overlay",
              "size": 10,
              "solidity": 0.2
             }
            },
            "type": "barpolar"
           }
          ],
          "carpet": [
           {
            "aaxis": {
             "endlinecolor": "#2a3f5f",
             "gridcolor": "white",
             "linecolor": "white",
             "minorgridcolor": "white",
             "startlinecolor": "#2a3f5f"
            },
            "baxis": {
             "endlinecolor": "#2a3f5f",
             "gridcolor": "white",
             "linecolor": "white",
             "minorgridcolor": "white",
             "startlinecolor": "#2a3f5f"
            },
            "type": "carpet"
           }
          ],
          "choropleth": [
           {
            "colorbar": {
             "outlinewidth": 0,
             "ticks": ""
            },
            "type": "choropleth"
           }
          ],
          "contour": [
           {
            "colorbar": {
             "outlinewidth": 0,
             "ticks": ""
            },
            "colorscale": [
             [
              0,
              "#0d0887"
             ],
             [
              0.1111111111111111,
              "#46039f"
             ],
             [
              0.2222222222222222,
              "#7201a8"
             ],
             [
              0.3333333333333333,
              "#9c179e"
             ],
             [
              0.4444444444444444,
              "#bd3786"
             ],
             [
              0.5555555555555556,
              "#d8576b"
             ],
             [
              0.6666666666666666,
              "#ed7953"
             ],
             [
              0.7777777777777778,
              "#fb9f3a"
             ],
             [
              0.8888888888888888,
              "#fdca26"
             ],
             [
              1,
              "#f0f921"
             ]
            ],
            "type": "contour"
           }
          ],
          "contourcarpet": [
           {
            "colorbar": {
             "outlinewidth": 0,
             "ticks": ""
            },
            "type": "contourcarpet"
           }
          ],
          "heatmap": [
           {
            "colorbar": {
             "outlinewidth": 0,
             "ticks": ""
            },
            "colorscale": [
             [
              0,
              "#0d0887"
             ],
             [
              0.1111111111111111,
              "#46039f"
             ],
             [
              0.2222222222222222,
              "#7201a8"
             ],
             [
              0.3333333333333333,
              "#9c179e"
             ],
             [
              0.4444444444444444,
              "#bd3786"
             ],
             [
              0.5555555555555556,
              "#d8576b"
             ],
             [
              0.6666666666666666,
              "#ed7953"
             ],
             [
              0.7777777777777778,
              "#fb9f3a"
             ],
             [
              0.8888888888888888,
              "#fdca26"
             ],
             [
              1,
              "#f0f921"
             ]
            ],
            "type": "heatmap"
           }
          ],
          "heatmapgl": [
           {
            "colorbar": {
             "outlinewidth": 0,
             "ticks": ""
            },
            "colorscale": [
             [
              0,
              "#0d0887"
             ],
             [
              0.1111111111111111,
              "#46039f"
             ],
             [
              0.2222222222222222,
              "#7201a8"
             ],
             [
              0.3333333333333333,
              "#9c179e"
             ],
             [
              0.4444444444444444,
              "#bd3786"
             ],
             [
              0.5555555555555556,
              "#d8576b"
             ],
             [
              0.6666666666666666,
              "#ed7953"
             ],
             [
              0.7777777777777778,
              "#fb9f3a"
             ],
             [
              0.8888888888888888,
              "#fdca26"
             ],
             [
              1,
              "#f0f921"
             ]
            ],
            "type": "heatmapgl"
           }
          ],
          "histogram": [
           {
            "marker": {
             "pattern": {
              "fillmode": "overlay",
              "size": 10,
              "solidity": 0.2
             }
            },
            "type": "histogram"
           }
          ],
          "histogram2d": [
           {
            "colorbar": {
             "outlinewidth": 0,
             "ticks": ""
            },
            "colorscale": [
             [
              0,
              "#0d0887"
             ],
             [
              0.1111111111111111,
              "#46039f"
             ],
             [
              0.2222222222222222,
              "#7201a8"
             ],
             [
              0.3333333333333333,
              "#9c179e"
             ],
             [
              0.4444444444444444,
              "#bd3786"
             ],
             [
              0.5555555555555556,
              "#d8576b"
             ],
             [
              0.6666666666666666,
              "#ed7953"
             ],
             [
              0.7777777777777778,
              "#fb9f3a"
             ],
             [
              0.8888888888888888,
              "#fdca26"
             ],
             [
              1,
              "#f0f921"
             ]
            ],
            "type": "histogram2d"
           }
          ],
          "histogram2dcontour": [
           {
            "colorbar": {
             "outlinewidth": 0,
             "ticks": ""
            },
            "colorscale": [
             [
              0,
              "#0d0887"
             ],
             [
              0.1111111111111111,
              "#46039f"
             ],
             [
              0.2222222222222222,
              "#7201a8"
             ],
             [
              0.3333333333333333,
              "#9c179e"
             ],
             [
              0.4444444444444444,
              "#bd3786"
             ],
             [
              0.5555555555555556,
              "#d8576b"
             ],
             [
              0.6666666666666666,
              "#ed7953"
             ],
             [
              0.7777777777777778,
              "#fb9f3a"
             ],
             [
              0.8888888888888888,
              "#fdca26"
             ],
             [
              1,
              "#f0f921"
             ]
            ],
            "type": "histogram2dcontour"
           }
          ],
          "mesh3d": [
           {
            "colorbar": {
             "outlinewidth": 0,
             "ticks": ""
            },
            "type": "mesh3d"
           }
          ],
          "parcoords": [
           {
            "line": {
             "colorbar": {
              "outlinewidth": 0,
              "ticks": ""
             }
            },
            "type": "parcoords"
           }
          ],
          "pie": [
           {
            "automargin": true,
            "type": "pie"
           }
          ],
          "scatter": [
           {
            "fillpattern": {
             "fillmode": "overlay",
             "size": 10,
             "solidity": 0.2
            },
            "type": "scatter"
           }
          ],
          "scatter3d": [
           {
            "line": {
             "colorbar": {
              "outlinewidth": 0,
              "ticks": ""
             }
            },
            "marker": {
             "colorbar": {
              "outlinewidth": 0,
              "ticks": ""
             }
            },
            "type": "scatter3d"
           }
          ],
          "scattercarpet": [
           {
            "marker": {
             "colorbar": {
              "outlinewidth": 0,
              "ticks": ""
             }
            },
            "type": "scattercarpet"
           }
          ],
          "scattergeo": [
           {
            "marker": {
             "colorbar": {
              "outlinewidth": 0,
              "ticks": ""
             }
            },
            "type": "scattergeo"
           }
          ],
          "scattergl": [
           {
            "marker": {
             "colorbar": {
              "outlinewidth": 0,
              "ticks": ""
             }
            },
            "type": "scattergl"
           }
          ],
          "scattermapbox": [
           {
            "marker": {
             "colorbar": {
              "outlinewidth": 0,
              "ticks": ""
             }
            },
            "type": "scattermapbox"
           }
          ],
          "scatterpolar": [
           {
            "marker": {
             "colorbar": {
              "outlinewidth": 0,
              "ticks": ""
             }
            },
            "type": "scatterpolar"
           }
          ],
          "scatterpolargl": [
           {
            "marker": {
             "colorbar": {
              "outlinewidth": 0,
              "ticks": ""
             }
            },
            "type": "scatterpolargl"
           }
          ],
          "scatterternary": [
           {
            "marker": {
             "colorbar": {
              "outlinewidth": 0,
              "ticks": ""
             }
            },
            "type": "scatterternary"
           }
          ],
          "surface": [
           {
            "colorbar": {
             "outlinewidth": 0,
             "ticks": ""
            },
            "colorscale": [
             [
              0,
              "#0d0887"
             ],
             [
              0.1111111111111111,
              "#46039f"
             ],
             [
              0.2222222222222222,
              "#7201a8"
             ],
             [
              0.3333333333333333,
              "#9c179e"
             ],
             [
              0.4444444444444444,
              "#bd3786"
             ],
             [
              0.5555555555555556,
              "#d8576b"
             ],
             [
              0.6666666666666666,
              "#ed7953"
             ],
             [
              0.7777777777777778,
              "#fb9f3a"
             ],
             [
              0.8888888888888888,
              "#fdca26"
             ],
             [
              1,
              "#f0f921"
             ]
            ],
            "type": "surface"
           }
          ],
          "table": [
           {
            "cells": {
             "fill": {
              "color": "#EBF0F8"
             },
             "line": {
              "color": "white"
             }
            },
            "header": {
             "fill": {
              "color": "#C8D4E3"
             },
             "line": {
              "color": "white"
             }
            },
            "type": "table"
           }
          ]
         },
         "layout": {
          "annotationdefaults": {
           "arrowcolor": "#2a3f5f",
           "arrowhead": 0,
           "arrowwidth": 1
          },
          "autotypenumbers": "strict",
          "coloraxis": {
           "colorbar": {
            "outlinewidth": 0,
            "ticks": ""
           }
          },
          "colorscale": {
           "diverging": [
            [
             0,
             "#8e0152"
            ],
            [
             0.1,
             "#c51b7d"
            ],
            [
             0.2,
             "#de77ae"
            ],
            [
             0.3,
             "#f1b6da"
            ],
            [
             0.4,
             "#fde0ef"
            ],
            [
             0.5,
             "#f7f7f7"
            ],
            [
             0.6,
             "#e6f5d0"
            ],
            [
             0.7,
             "#b8e186"
            ],
            [
             0.8,
             "#7fbc41"
            ],
            [
             0.9,
             "#4d9221"
            ],
            [
             1,
             "#276419"
            ]
           ],
           "sequential": [
            [
             0,
             "#0d0887"
            ],
            [
             0.1111111111111111,
             "#46039f"
            ],
            [
             0.2222222222222222,
             "#7201a8"
            ],
            [
             0.3333333333333333,
             "#9c179e"
            ],
            [
             0.4444444444444444,
             "#bd3786"
            ],
            [
             0.5555555555555556,
             "#d8576b"
            ],
            [
             0.6666666666666666,
             "#ed7953"
            ],
            [
             0.7777777777777778,
             "#fb9f3a"
            ],
            [
             0.8888888888888888,
             "#fdca26"
            ],
            [
             1,
             "#f0f921"
            ]
           ],
           "sequentialminus": [
            [
             0,
             "#0d0887"
            ],
            [
             0.1111111111111111,
             "#46039f"
            ],
            [
             0.2222222222222222,
             "#7201a8"
            ],
            [
             0.3333333333333333,
             "#9c179e"
            ],
            [
             0.4444444444444444,
             "#bd3786"
            ],
            [
             0.5555555555555556,
             "#d8576b"
            ],
            [
             0.6666666666666666,
             "#ed7953"
            ],
            [
             0.7777777777777778,
             "#fb9f3a"
            ],
            [
             0.8888888888888888,
             "#fdca26"
            ],
            [
             1,
             "#f0f921"
            ]
           ]
          },
          "colorway": [
           "#636efa",
           "#EF553B",
           "#00cc96",
           "#ab63fa",
           "#FFA15A",
           "#19d3f3",
           "#FF6692",
           "#B6E880",
           "#FF97FF",
           "#FECB52"
          ],
          "font": {
           "color": "#2a3f5f"
          },
          "geo": {
           "bgcolor": "white",
           "lakecolor": "white",
           "landcolor": "#E5ECF6",
           "showlakes": true,
           "showland": true,
           "subunitcolor": "white"
          },
          "hoverlabel": {
           "align": "left"
          },
          "hovermode": "closest",
          "mapbox": {
           "style": "light"
          },
          "paper_bgcolor": "white",
          "plot_bgcolor": "#E5ECF6",
          "polar": {
           "angularaxis": {
            "gridcolor": "white",
            "linecolor": "white",
            "ticks": ""
           },
           "bgcolor": "#E5ECF6",
           "radialaxis": {
            "gridcolor": "white",
            "linecolor": "white",
            "ticks": ""
           }
          },
          "scene": {
           "xaxis": {
            "backgroundcolor": "#E5ECF6",
            "gridcolor": "white",
            "gridwidth": 2,
            "linecolor": "white",
            "showbackground": true,
            "ticks": "",
            "zerolinecolor": "white"
           },
           "yaxis": {
            "backgroundcolor": "#E5ECF6",
            "gridcolor": "white",
            "gridwidth": 2,
            "linecolor": "white",
            "showbackground": true,
            "ticks": "",
            "zerolinecolor": "white"
           },
           "zaxis": {
            "backgroundcolor": "#E5ECF6",
            "gridcolor": "white",
            "gridwidth": 2,
            "linecolor": "white",
            "showbackground": true,
            "ticks": "",
            "zerolinecolor": "white"
           }
          },
          "shapedefaults": {
           "line": {
            "color": "#2a3f5f"
           }
          },
          "ternary": {
           "aaxis": {
            "gridcolor": "white",
            "linecolor": "white",
            "ticks": ""
           },
           "baxis": {
            "gridcolor": "white",
            "linecolor": "white",
            "ticks": ""
           },
           "bgcolor": "#E5ECF6",
           "caxis": {
            "gridcolor": "white",
            "linecolor": "white",
            "ticks": ""
           }
          },
          "title": {
           "x": 0.05
          },
          "xaxis": {
           "automargin": true,
           "gridcolor": "white",
           "linecolor": "white",
           "ticks": "",
           "title": {
            "standoff": 15
           },
           "zerolinecolor": "white",
           "zerolinewidth": 2
          },
          "yaxis": {
           "automargin": true,
           "gridcolor": "white",
           "linecolor": "white",
           "ticks": "",
           "title": {
            "standoff": 15
           },
           "zerolinecolor": "white",
           "zerolinewidth": 2
          }
         }
        },
        "title": {
         "text": "Anzahl Texte pro Subgenre in Gebrauchsliteratur"
        },
        "xaxis": {
         "title": {
          "text": "Subgenres"
         }
        },
        "yaxis": {
         "title": {
          "text": "Anzahl Texte"
         }
        }
       }
      }
     },
     "metadata": {},
     "output_type": "display_data"
    }
   ],
   "source": [
    "query_gebrauchsliteratur = \"\"\"SELECT genrestratum FROM my_data WHERE hauptklasse='Gebrauchsliteratur'\"\"\"\n",
    "\n",
    "df = pd.read_sql_query(query_gebrauchsliteratur, con)\n",
    "\n",
    "gebrauchsliteratur_count = df.groupby(\"genrestratum\").size().reset_index(name=\"count\")\n",
    "\n",
    "fig = go.Figure(data=[go.Bar(name=\"Texte pro Genre in Gebrauchsliteratur\", x=gebrauchsliteratur_count[\"genrestratum\"], y=gebrauchsliteratur_count[\"count\"])])\n",
    "\n",
    "fig.update_layout(\n",
    "    title=\"Anzahl Texte pro Subgenre in Gebrauchsliteratur\",\n",
    "    xaxis_title=\"Subgenres\",\n",
    "    yaxis_title=\"Anzahl Texte\",\n",
    "    hovermode=\"x\"\n",
    ")\n",
    "fig.show()"
   ]
  },
  {
   "cell_type": "markdown",
   "metadata": {},
   "source": [
    "Wissenschaft:"
   ]
  },
  {
   "cell_type": "code",
   "execution_count": 44,
   "metadata": {},
   "outputs": [
    {
     "data": {
      "application/vnd.plotly.v1+json": {
       "config": {
        "plotlyServerURL": "https://plot.ly"
       },
       "data": [
        {
         "name": "Texte pro Genre in Wissenschaft",
         "type": "bar",
         "x": [
          "Wissenschaft; Geisteswissenschaften",
          "Wissenschaft; Naturwissenschaften",
          "Wissenschaft; Sonstiges",
          "Wissenschaft; Sozialwissenschaften",
          "Wissenschaft; Technische Wissenschaften",
          "Wissenschaft; Wirtschaft und Recht"
         ],
         "y": [
          330,
          354,
          9,
          93,
          49,
          106
         ]
        }
       ],
       "layout": {
        "hovermode": "x",
        "template": {
         "data": {
          "bar": [
           {
            "error_x": {
             "color": "#2a3f5f"
            },
            "error_y": {
             "color": "#2a3f5f"
            },
            "marker": {
             "line": {
              "color": "#E5ECF6",
              "width": 0.5
             },
             "pattern": {
              "fillmode": "overlay",
              "size": 10,
              "solidity": 0.2
             }
            },
            "type": "bar"
           }
          ],
          "barpolar": [
           {
            "marker": {
             "line": {
              "color": "#E5ECF6",
              "width": 0.5
             },
             "pattern": {
              "fillmode": "overlay",
              "size": 10,
              "solidity": 0.2
             }
            },
            "type": "barpolar"
           }
          ],
          "carpet": [
           {
            "aaxis": {
             "endlinecolor": "#2a3f5f",
             "gridcolor": "white",
             "linecolor": "white",
             "minorgridcolor": "white",
             "startlinecolor": "#2a3f5f"
            },
            "baxis": {
             "endlinecolor": "#2a3f5f",
             "gridcolor": "white",
             "linecolor": "white",
             "minorgridcolor": "white",
             "startlinecolor": "#2a3f5f"
            },
            "type": "carpet"
           }
          ],
          "choropleth": [
           {
            "colorbar": {
             "outlinewidth": 0,
             "ticks": ""
            },
            "type": "choropleth"
           }
          ],
          "contour": [
           {
            "colorbar": {
             "outlinewidth": 0,
             "ticks": ""
            },
            "colorscale": [
             [
              0,
              "#0d0887"
             ],
             [
              0.1111111111111111,
              "#46039f"
             ],
             [
              0.2222222222222222,
              "#7201a8"
             ],
             [
              0.3333333333333333,
              "#9c179e"
             ],
             [
              0.4444444444444444,
              "#bd3786"
             ],
             [
              0.5555555555555556,
              "#d8576b"
             ],
             [
              0.6666666666666666,
              "#ed7953"
             ],
             [
              0.7777777777777778,
              "#fb9f3a"
             ],
             [
              0.8888888888888888,
              "#fdca26"
             ],
             [
              1,
              "#f0f921"
             ]
            ],
            "type": "contour"
           }
          ],
          "contourcarpet": [
           {
            "colorbar": {
             "outlinewidth": 0,
             "ticks": ""
            },
            "type": "contourcarpet"
           }
          ],
          "heatmap": [
           {
            "colorbar": {
             "outlinewidth": 0,
             "ticks": ""
            },
            "colorscale": [
             [
              0,
              "#0d0887"
             ],
             [
              0.1111111111111111,
              "#46039f"
             ],
             [
              0.2222222222222222,
              "#7201a8"
             ],
             [
              0.3333333333333333,
              "#9c179e"
             ],
             [
              0.4444444444444444,
              "#bd3786"
             ],
             [
              0.5555555555555556,
              "#d8576b"
             ],
             [
              0.6666666666666666,
              "#ed7953"
             ],
             [
              0.7777777777777778,
              "#fb9f3a"
             ],
             [
              0.8888888888888888,
              "#fdca26"
             ],
             [
              1,
              "#f0f921"
             ]
            ],
            "type": "heatmap"
           }
          ],
          "heatmapgl": [
           {
            "colorbar": {
             "outlinewidth": 0,
             "ticks": ""
            },
            "colorscale": [
             [
              0,
              "#0d0887"
             ],
             [
              0.1111111111111111,
              "#46039f"
             ],
             [
              0.2222222222222222,
              "#7201a8"
             ],
             [
              0.3333333333333333,
              "#9c179e"
             ],
             [
              0.4444444444444444,
              "#bd3786"
             ],
             [
              0.5555555555555556,
              "#d8576b"
             ],
             [
              0.6666666666666666,
              "#ed7953"
             ],
             [
              0.7777777777777778,
              "#fb9f3a"
             ],
             [
              0.8888888888888888,
              "#fdca26"
             ],
             [
              1,
              "#f0f921"
             ]
            ],
            "type": "heatmapgl"
           }
          ],
          "histogram": [
           {
            "marker": {
             "pattern": {
              "fillmode": "overlay",
              "size": 10,
              "solidity": 0.2
             }
            },
            "type": "histogram"
           }
          ],
          "histogram2d": [
           {
            "colorbar": {
             "outlinewidth": 0,
             "ticks": ""
            },
            "colorscale": [
             [
              0,
              "#0d0887"
             ],
             [
              0.1111111111111111,
              "#46039f"
             ],
             [
              0.2222222222222222,
              "#7201a8"
             ],
             [
              0.3333333333333333,
              "#9c179e"
             ],
             [
              0.4444444444444444,
              "#bd3786"
             ],
             [
              0.5555555555555556,
              "#d8576b"
             ],
             [
              0.6666666666666666,
              "#ed7953"
             ],
             [
              0.7777777777777778,
              "#fb9f3a"
             ],
             [
              0.8888888888888888,
              "#fdca26"
             ],
             [
              1,
              "#f0f921"
             ]
            ],
            "type": "histogram2d"
           }
          ],
          "histogram2dcontour": [
           {
            "colorbar": {
             "outlinewidth": 0,
             "ticks": ""
            },
            "colorscale": [
             [
              0,
              "#0d0887"
             ],
             [
              0.1111111111111111,
              "#46039f"
             ],
             [
              0.2222222222222222,
              "#7201a8"
             ],
             [
              0.3333333333333333,
              "#9c179e"
             ],
             [
              0.4444444444444444,
              "#bd3786"
             ],
             [
              0.5555555555555556,
              "#d8576b"
             ],
             [
              0.6666666666666666,
              "#ed7953"
             ],
             [
              0.7777777777777778,
              "#fb9f3a"
             ],
             [
              0.8888888888888888,
              "#fdca26"
             ],
             [
              1,
              "#f0f921"
             ]
            ],
            "type": "histogram2dcontour"
           }
          ],
          "mesh3d": [
           {
            "colorbar": {
             "outlinewidth": 0,
             "ticks": ""
            },
            "type": "mesh3d"
           }
          ],
          "parcoords": [
           {
            "line": {
             "colorbar": {
              "outlinewidth": 0,
              "ticks": ""
             }
            },
            "type": "parcoords"
           }
          ],
          "pie": [
           {
            "automargin": true,
            "type": "pie"
           }
          ],
          "scatter": [
           {
            "fillpattern": {
             "fillmode": "overlay",
             "size": 10,
             "solidity": 0.2
            },
            "type": "scatter"
           }
          ],
          "scatter3d": [
           {
            "line": {
             "colorbar": {
              "outlinewidth": 0,
              "ticks": ""
             }
            },
            "marker": {
             "colorbar": {
              "outlinewidth": 0,
              "ticks": ""
             }
            },
            "type": "scatter3d"
           }
          ],
          "scattercarpet": [
           {
            "marker": {
             "colorbar": {
              "outlinewidth": 0,
              "ticks": ""
             }
            },
            "type": "scattercarpet"
           }
          ],
          "scattergeo": [
           {
            "marker": {
             "colorbar": {
              "outlinewidth": 0,
              "ticks": ""
             }
            },
            "type": "scattergeo"
           }
          ],
          "scattergl": [
           {
            "marker": {
             "colorbar": {
              "outlinewidth": 0,
              "ticks": ""
             }
            },
            "type": "scattergl"
           }
          ],
          "scattermapbox": [
           {
            "marker": {
             "colorbar": {
              "outlinewidth": 0,
              "ticks": ""
             }
            },
            "type": "scattermapbox"
           }
          ],
          "scatterpolar": [
           {
            "marker": {
             "colorbar": {
              "outlinewidth": 0,
              "ticks": ""
             }
            },
            "type": "scatterpolar"
           }
          ],
          "scatterpolargl": [
           {
            "marker": {
             "colorbar": {
              "outlinewidth": 0,
              "ticks": ""
             }
            },
            "type": "scatterpolargl"
           }
          ],
          "scatterternary": [
           {
            "marker": {
             "colorbar": {
              "outlinewidth": 0,
              "ticks": ""
             }
            },
            "type": "scatterternary"
           }
          ],
          "surface": [
           {
            "colorbar": {
             "outlinewidth": 0,
             "ticks": ""
            },
            "colorscale": [
             [
              0,
              "#0d0887"
             ],
             [
              0.1111111111111111,
              "#46039f"
             ],
             [
              0.2222222222222222,
              "#7201a8"
             ],
             [
              0.3333333333333333,
              "#9c179e"
             ],
             [
              0.4444444444444444,
              "#bd3786"
             ],
             [
              0.5555555555555556,
              "#d8576b"
             ],
             [
              0.6666666666666666,
              "#ed7953"
             ],
             [
              0.7777777777777778,
              "#fb9f3a"
             ],
             [
              0.8888888888888888,
              "#fdca26"
             ],
             [
              1,
              "#f0f921"
             ]
            ],
            "type": "surface"
           }
          ],
          "table": [
           {
            "cells": {
             "fill": {
              "color": "#EBF0F8"
             },
             "line": {
              "color": "white"
             }
            },
            "header": {
             "fill": {
              "color": "#C8D4E3"
             },
             "line": {
              "color": "white"
             }
            },
            "type": "table"
           }
          ]
         },
         "layout": {
          "annotationdefaults": {
           "arrowcolor": "#2a3f5f",
           "arrowhead": 0,
           "arrowwidth": 1
          },
          "autotypenumbers": "strict",
          "coloraxis": {
           "colorbar": {
            "outlinewidth": 0,
            "ticks": ""
           }
          },
          "colorscale": {
           "diverging": [
            [
             0,
             "#8e0152"
            ],
            [
             0.1,
             "#c51b7d"
            ],
            [
             0.2,
             "#de77ae"
            ],
            [
             0.3,
             "#f1b6da"
            ],
            [
             0.4,
             "#fde0ef"
            ],
            [
             0.5,
             "#f7f7f7"
            ],
            [
             0.6,
             "#e6f5d0"
            ],
            [
             0.7,
             "#b8e186"
            ],
            [
             0.8,
             "#7fbc41"
            ],
            [
             0.9,
             "#4d9221"
            ],
            [
             1,
             "#276419"
            ]
           ],
           "sequential": [
            [
             0,
             "#0d0887"
            ],
            [
             0.1111111111111111,
             "#46039f"
            ],
            [
             0.2222222222222222,
             "#7201a8"
            ],
            [
             0.3333333333333333,
             "#9c179e"
            ],
            [
             0.4444444444444444,
             "#bd3786"
            ],
            [
             0.5555555555555556,
             "#d8576b"
            ],
            [
             0.6666666666666666,
             "#ed7953"
            ],
            [
             0.7777777777777778,
             "#fb9f3a"
            ],
            [
             0.8888888888888888,
             "#fdca26"
            ],
            [
             1,
             "#f0f921"
            ]
           ],
           "sequentialminus": [
            [
             0,
             "#0d0887"
            ],
            [
             0.1111111111111111,
             "#46039f"
            ],
            [
             0.2222222222222222,
             "#7201a8"
            ],
            [
             0.3333333333333333,
             "#9c179e"
            ],
            [
             0.4444444444444444,
             "#bd3786"
            ],
            [
             0.5555555555555556,
             "#d8576b"
            ],
            [
             0.6666666666666666,
             "#ed7953"
            ],
            [
             0.7777777777777778,
             "#fb9f3a"
            ],
            [
             0.8888888888888888,
             "#fdca26"
            ],
            [
             1,
             "#f0f921"
            ]
           ]
          },
          "colorway": [
           "#636efa",
           "#EF553B",
           "#00cc96",
           "#ab63fa",
           "#FFA15A",
           "#19d3f3",
           "#FF6692",
           "#B6E880",
           "#FF97FF",
           "#FECB52"
          ],
          "font": {
           "color": "#2a3f5f"
          },
          "geo": {
           "bgcolor": "white",
           "lakecolor": "white",
           "landcolor": "#E5ECF6",
           "showlakes": true,
           "showland": true,
           "subunitcolor": "white"
          },
          "hoverlabel": {
           "align": "left"
          },
          "hovermode": "closest",
          "mapbox": {
           "style": "light"
          },
          "paper_bgcolor": "white",
          "plot_bgcolor": "#E5ECF6",
          "polar": {
           "angularaxis": {
            "gridcolor": "white",
            "linecolor": "white",
            "ticks": ""
           },
           "bgcolor": "#E5ECF6",
           "radialaxis": {
            "gridcolor": "white",
            "linecolor": "white",
            "ticks": ""
           }
          },
          "scene": {
           "xaxis": {
            "backgroundcolor": "#E5ECF6",
            "gridcolor": "white",
            "gridwidth": 2,
            "linecolor": "white",
            "showbackground": true,
            "ticks": "",
            "zerolinecolor": "white"
           },
           "yaxis": {
            "backgroundcolor": "#E5ECF6",
            "gridcolor": "white",
            "gridwidth": 2,
            "linecolor": "white",
            "showbackground": true,
            "ticks": "",
            "zerolinecolor": "white"
           },
           "zaxis": {
            "backgroundcolor": "#E5ECF6",
            "gridcolor": "white",
            "gridwidth": 2,
            "linecolor": "white",
            "showbackground": true,
            "ticks": "",
            "zerolinecolor": "white"
           }
          },
          "shapedefaults": {
           "line": {
            "color": "#2a3f5f"
           }
          },
          "ternary": {
           "aaxis": {
            "gridcolor": "white",
            "linecolor": "white",
            "ticks": ""
           },
           "baxis": {
            "gridcolor": "white",
            "linecolor": "white",
            "ticks": ""
           },
           "bgcolor": "#E5ECF6",
           "caxis": {
            "gridcolor": "white",
            "linecolor": "white",
            "ticks": ""
           }
          },
          "title": {
           "x": 0.05
          },
          "xaxis": {
           "automargin": true,
           "gridcolor": "white",
           "linecolor": "white",
           "ticks": "",
           "title": {
            "standoff": 15
           },
           "zerolinecolor": "white",
           "zerolinewidth": 2
          },
          "yaxis": {
           "automargin": true,
           "gridcolor": "white",
           "linecolor": "white",
           "ticks": "",
           "title": {
            "standoff": 15
           },
           "zerolinecolor": "white",
           "zerolinewidth": 2
          }
         }
        },
        "title": {
         "text": "Anzahl Texte pro Subgenre in Wissenschaft"
        },
        "xaxis": {
         "title": {
          "text": "Subgenres"
         }
        },
        "yaxis": {
         "title": {
          "text": "Anzahl Texte"
         }
        }
       }
      }
     },
     "metadata": {},
     "output_type": "display_data"
    }
   ],
   "source": [
    "query_wissenschaft = \"\"\"SELECT genrestratum FROM my_data WHERE hauptklasse='Wissenschaft'\"\"\"\n",
    "\n",
    "df = pd.read_sql_query(query_wissenschaft, con)\n",
    "\n",
    "wissenschaft_count = df.groupby(\"genrestratum\").size().reset_index(name=\"count\")\n",
    "\n",
    "fig = go.Figure(data=[go.Bar(name=\"Texte pro Genre in Wissenschaft\", x=wissenschaft_count[\"genrestratum\"], y=wissenschaft_count[\"count\"])])\n",
    "\n",
    "fig.update_layout(\n",
    "    title=\"Anzahl Texte pro Subgenre in Wissenschaft\",\n",
    "    xaxis_title=\"Subgenres\",\n",
    "    yaxis_title=\"Anzahl Texte\",\n",
    "    hovermode=\"x\"\n",
    ")\n",
    "fig.show()"
   ]
  },
  {
   "cell_type": "markdown",
   "metadata": {},
   "source": [
    "## Kombinierte Strata Epochen x Hauptklasse ##\n",
    "An dieser Stelle soll nun eine Kombination stattfinden zwischen den vorhin definierten Epochenstrata und den Hauptklassenstrata. So kann gewährleistet werden, dass eine repräsentative Auswahl an Stichprobentexten gemacht werden kann. \n",
    "\n",
    "Die Subgenres wurden weggelassen, wegen der erhöhten Komplexität. Durch die Kombination von Epochen und Hauptklassen ergeben sich:\n",
    "\n",
    "Epochen x Hauptklasse = 8 * 4 = 32 potentielle Kombinationen.\n",
    "\n",
    "Mit den Subgenres erhöht sich diese Zahl um:\n",
    "\n",
    "Epochen x Hauptklasse x Subklasse = 8 * 4 * 20 = 640 potentielle Kombinationen. \n",
    "\n",
    "Von diesen 640 Kombinationen werden voraussichtlich ziemlich viele leer sein (z.B. Spätmittelalter x Wissenschaft x Philosophie) aufgrund der Sparsity der Daten. \n",
    "\n",
    "Die Hauptdimensionen Epoche und Hauptklasse sind für diese Analyse repräsentativ genug."
   ]
  },
  {
   "cell_type": "markdown",
   "metadata": {},
   "source": []
  },
  {
   "cell_type": "markdown",
   "metadata": {},
   "source": [
    "Zunächst wird eine neue Spalte erstellt mit dem Titel \"epochen-genres-strata\":"
   ]
  },
  {
   "cell_type": "code",
   "execution_count": 46,
   "metadata": {},
   "outputs": [],
   "source": [
    "import sqlite3\n",
    "\n",
    "con = sqlite3.connect(\"Datenbank.db\")\n",
    "cur = con.cursor()\n",
    "\n",
    "cur.execute(\"\"\"\n",
    "        ALTER TABLE my_data\n",
    "        ADD epochen_genres_strata TEXT\n",
    "\"\"\")\n",
    "\n",
    "con.commit()\n",
    "con.close()"
   ]
  },
  {
   "cell_type": "markdown",
   "metadata": {},
   "source": [
    "Um die Spalte mit den Epoche_Genres_strata zu füllen, wird bei jeder Reihe geprüft, welcher Epoche sie angehört und was die hauptklasse ist."
   ]
  },
  {
   "cell_type": "code",
   "execution_count": 48,
   "metadata": {},
   "outputs": [],
   "source": [
    "import sqlite3\n",
    "\n",
    "con = sqlite3.connect(\"Datenbank.db\")\n",
    "cur = con.cursor()\n",
    "\n",
    "cur.execute(\"\"\"\n",
    "    UPDATE my_data\n",
    "    SET epochen_genres_strata = CASE\n",
    "            WHEN zeitstratum = 'Spätmittelalter' AND hauptklasse = 'Belletristik' THEN 'Spätmittelalter x Belletristik'\n",
    "            WHEN zeitstratum = 'Spätmittelalter' AND hauptklasse = 'Gebrauchsliteratur' THEN 'Spätmittelalter x Gebrauchsliteratur'\n",
    "            WHEN zeitstratum = 'Spätmittelalter' AND hauptklasse = 'Wissenschaft' THEN 'Spätmittelalter x Wissenschaft'\n",
    "            WHEN zeitstratum = 'Spätmittelalter' AND hauptklasse = 'Zeitung' THEN 'Spätmittelalter x Zeitung'\n",
    "            WHEN zeitstratum = 'Barock' AND hauptklasse = 'Belletristik' THEN 'Barock x Belletristik'\n",
    "            WHEN zeitstratum = 'Barock' AND hauptklasse = 'Gebrauchsliteratur' THEN 'Barock x Gebrauchsliteratur'\n",
    "            WHEN zeitstratum = 'Barock' AND hauptklasse = 'Wissenschaft' THEN 'Barock x Wissenschaft'\n",
    "            WHEN zeitstratum = 'Barock' AND hauptklasse = 'Zeitung' THEN 'Barock x Zeitung'\n",
    "            WHEN zeitstratum = 'Renaissance' AND hauptklasse = 'Belletristik' THEN 'Renaissance x Belletristik'\n",
    "            WHEN zeitstratum = 'Renaissance' AND hauptklasse = 'Gebrauchsliteratur' THEN 'Renaissance x Gebrauchsliteratur'\n",
    "            WHEN zeitstratum = 'Renaissance' AND hauptklasse = 'Wissenschaft' THEN 'Renaissance x Wissenschaft'\n",
    "            WHEN zeitstratum = 'Renaissance' AND hauptklasse = 'Zeitung' THEN 'Renaissance x Zeitung'\n",
    "            WHEN zeitstratum = 'Aufklärung' AND hauptklasse = 'Belletristik' THEN 'Aufklärung x Belletristik'\n",
    "            WHEN zeitstratum = 'Aufklärung' AND hauptklasse = 'Gebrauchsliteratur' THEN 'Aufklärung x Gebrauchsliteratur'\n",
    "            WHEN zeitstratum = 'Aufklärung' AND hauptklasse = 'Wissenschaft' THEN 'Aufklärung x Wissenschaft'\n",
    "            WHEN zeitstratum = 'Aufklärung' AND hauptklasse = 'Zeitung' THEN 'Aufklärung x Zeitung'\n",
    "            WHEN zeitstratum = 'Frühes 19. Jahrhundert' AND hauptklasse = 'Belletristik' THEN 'Frühes 19. Jahrhundert x Belletristik'\n",
    "            WHEN zeitstratum = 'Frühes 19. Jahrhundert' AND hauptklasse = 'Gebrauchsliteratur' THEN 'Frühes 19. Jahrhundert x Gebrauchsliteratur'\n",
    "            WHEN zeitstratum = 'Frühes 19. Jahrhundert' AND hauptklasse = 'Wissenschaft' THEN 'Frühes 19. Jahrhundert x Wissenschaft'\n",
    "            WHEN zeitstratum = 'Frühes 19. Jahrhundert' AND hauptklasse = 'Zeitung' THEN 'Frühes 19. Jahrhundert x Zeitung'\n",
    "            WHEN zeitstratum = 'Revolutionsjahre' AND hauptklasse = 'Belletristik' THEN 'Revolutionsjahre x Belletristik'\n",
    "            WHEN zeitstratum = 'Revolutionsjahre' AND hauptklasse = 'Gebrauchsliteratur' THEN 'Revolutionsjahre x Gebrauchsliteratur'\n",
    "            WHEN zeitstratum = 'Revolutionsjahre' AND hauptklasse = 'Wissenschaft' THEN 'Revolutionsjahre x Wissenschaft'\n",
    "            WHEN zeitstratum = 'Revolutionsjahre' AND hauptklasse = 'Zeitung' THEN 'Revolutionsjahre x Zeitung'\n",
    "            WHEN zeitstratum = 'Industrielle Revolution' AND hauptklasse = 'Belletristik' THEN 'Industrielle Revolution x Belletristik'\n",
    "            WHEN zeitstratum = 'Industrielle Revolution' AND hauptklasse = 'Gebrauchsliteratur' THEN 'Industrielle Revolution x Gebrauchsliteratur'\n",
    "            WHEN zeitstratum = 'Industrielle Revolution' AND hauptklasse = 'Wissenschaft' THEN 'Industrielle Revolution x Wissenschaft'\n",
    "            WHEN zeitstratum = 'Industrielle Revolution' AND hauptklasse = 'Zeitung' THEN 'Industrielle Revolution x Zeitung'\n",
    "            WHEN zeitstratum = 'Moderne' AND hauptklasse = 'Belletristik' THEN 'Moderne x Belletristik'\n",
    "            WHEN zeitstratum = 'Moderne' AND hauptklasse = 'Gebrauchsliteratur' THEN 'Moderne x Gebrauchsliteratur'\n",
    "            WHEN zeitstratum = 'Moderne' AND hauptklasse = 'Wissenschaft' THEN 'Moderne x Wissenschaft'\n",
    "            WHEN zeitstratum = 'Moderne' AND hauptklasse = 'Zeitung' THEN 'Moderne x Zeitung'\n",
    "    END\n",
    "\"\"\")\n",
    "\n",
    "con.commit()\n",
    "con.close()"
   ]
  },
  {
   "cell_type": "markdown",
   "metadata": {},
   "source": [
    "Nun visualisieren wir diese neue Klassifizierung. Sie bildet die Grundlage für das Sampling."
   ]
  },
  {
   "cell_type": "code",
   "execution_count": 95,
   "metadata": {},
   "outputs": [
    {
     "data": {
      "application/vnd.plotly.v1+json": {
       "config": {
        "plotlyServerURL": "https://plot.ly"
       },
       "data": [
        {
         "name": "Anzahl Texte als Epochen x Hauptklasse",
         "type": "bar",
         "x": [
          "Aufklärung x Belletristik",
          "Aufklärung x Gebrauchsliteratur",
          "Aufklärung x Wissenschaft",
          "Aufklärung x Zeitung",
          "Barock x Belletristik",
          "Barock x Gebrauchsliteratur",
          "Barock x Wissenschaft",
          "Barock x Zeitung",
          "Frühes 19. Jahrhundert x Belletristik",
          "Frühes 19. Jahrhundert x Gebrauchsliteratur",
          "Frühes 19. Jahrhundert x Wissenschaft",
          "Frühes 19. Jahrhundert x Zeitung",
          "Industrielle Revolution x Belletristik",
          "Industrielle Revolution x Gebrauchsliteratur",
          "Industrielle Revolution x Wissenschaft",
          "Industrielle Revolution x Zeitung",
          "Moderne x Belletristik",
          "Moderne x Gebrauchsliteratur",
          "Moderne x Wissenschaft",
          "Moderne x Zeitung",
          "Renaissance x Belletristik",
          "Renaissance x Gebrauchsliteratur",
          "Renaissance x Wissenschaft",
          "Renaissance x Zeitung",
          "Revolutionsjahre x Belletristik",
          "Revolutionsjahre x Gebrauchsliteratur",
          "Revolutionsjahre x Wissenschaft",
          "Revolutionsjahre x Zeitung",
          "Spätmittelalter x Belletristik",
          "Spätmittelalter x Gebrauchsliteratur"
         ],
         "y": [
          225,
          181,
          313,
          173,
          76,
          601,
          101,
          5,
          158,
          48,
          149,
          47,
          146,
          110,
          252,
          143,
          113,
          321,
          81,
          119,
          2,
          105,
          2,
          1,
          45,
          31,
          43,
          829,
          4,
          12
         ]
        }
       ],
       "layout": {
        "hovermode": "x",
        "template": {
         "data": {
          "bar": [
           {
            "error_x": {
             "color": "#2a3f5f"
            },
            "error_y": {
             "color": "#2a3f5f"
            },
            "marker": {
             "line": {
              "color": "#E5ECF6",
              "width": 0.5
             },
             "pattern": {
              "fillmode": "overlay",
              "size": 10,
              "solidity": 0.2
             }
            },
            "type": "bar"
           }
          ],
          "barpolar": [
           {
            "marker": {
             "line": {
              "color": "#E5ECF6",
              "width": 0.5
             },
             "pattern": {
              "fillmode": "overlay",
              "size": 10,
              "solidity": 0.2
             }
            },
            "type": "barpolar"
           }
          ],
          "carpet": [
           {
            "aaxis": {
             "endlinecolor": "#2a3f5f",
             "gridcolor": "white",
             "linecolor": "white",
             "minorgridcolor": "white",
             "startlinecolor": "#2a3f5f"
            },
            "baxis": {
             "endlinecolor": "#2a3f5f",
             "gridcolor": "white",
             "linecolor": "white",
             "minorgridcolor": "white",
             "startlinecolor": "#2a3f5f"
            },
            "type": "carpet"
           }
          ],
          "choropleth": [
           {
            "colorbar": {
             "outlinewidth": 0,
             "ticks": ""
            },
            "type": "choropleth"
           }
          ],
          "contour": [
           {
            "colorbar": {
             "outlinewidth": 0,
             "ticks": ""
            },
            "colorscale": [
             [
              0,
              "#0d0887"
             ],
             [
              0.1111111111111111,
              "#46039f"
             ],
             [
              0.2222222222222222,
              "#7201a8"
             ],
             [
              0.3333333333333333,
              "#9c179e"
             ],
             [
              0.4444444444444444,
              "#bd3786"
             ],
             [
              0.5555555555555556,
              "#d8576b"
             ],
             [
              0.6666666666666666,
              "#ed7953"
             ],
             [
              0.7777777777777778,
              "#fb9f3a"
             ],
             [
              0.8888888888888888,
              "#fdca26"
             ],
             [
              1,
              "#f0f921"
             ]
            ],
            "type": "contour"
           }
          ],
          "contourcarpet": [
           {
            "colorbar": {
             "outlinewidth": 0,
             "ticks": ""
            },
            "type": "contourcarpet"
           }
          ],
          "heatmap": [
           {
            "colorbar": {
             "outlinewidth": 0,
             "ticks": ""
            },
            "colorscale": [
             [
              0,
              "#0d0887"
             ],
             [
              0.1111111111111111,
              "#46039f"
             ],
             [
              0.2222222222222222,
              "#7201a8"
             ],
             [
              0.3333333333333333,
              "#9c179e"
             ],
             [
              0.4444444444444444,
              "#bd3786"
             ],
             [
              0.5555555555555556,
              "#d8576b"
             ],
             [
              0.6666666666666666,
              "#ed7953"
             ],
             [
              0.7777777777777778,
              "#fb9f3a"
             ],
             [
              0.8888888888888888,
              "#fdca26"
             ],
             [
              1,
              "#f0f921"
             ]
            ],
            "type": "heatmap"
           }
          ],
          "heatmapgl": [
           {
            "colorbar": {
             "outlinewidth": 0,
             "ticks": ""
            },
            "colorscale": [
             [
              0,
              "#0d0887"
             ],
             [
              0.1111111111111111,
              "#46039f"
             ],
             [
              0.2222222222222222,
              "#7201a8"
             ],
             [
              0.3333333333333333,
              "#9c179e"
             ],
             [
              0.4444444444444444,
              "#bd3786"
             ],
             [
              0.5555555555555556,
              "#d8576b"
             ],
             [
              0.6666666666666666,
              "#ed7953"
             ],
             [
              0.7777777777777778,
              "#fb9f3a"
             ],
             [
              0.8888888888888888,
              "#fdca26"
             ],
             [
              1,
              "#f0f921"
             ]
            ],
            "type": "heatmapgl"
           }
          ],
          "histogram": [
           {
            "marker": {
             "pattern": {
              "fillmode": "overlay",
              "size": 10,
              "solidity": 0.2
             }
            },
            "type": "histogram"
           }
          ],
          "histogram2d": [
           {
            "colorbar": {
             "outlinewidth": 0,
             "ticks": ""
            },
            "colorscale": [
             [
              0,
              "#0d0887"
             ],
             [
              0.1111111111111111,
              "#46039f"
             ],
             [
              0.2222222222222222,
              "#7201a8"
             ],
             [
              0.3333333333333333,
              "#9c179e"
             ],
             [
              0.4444444444444444,
              "#bd3786"
             ],
             [
              0.5555555555555556,
              "#d8576b"
             ],
             [
              0.6666666666666666,
              "#ed7953"
             ],
             [
              0.7777777777777778,
              "#fb9f3a"
             ],
             [
              0.8888888888888888,
              "#fdca26"
             ],
             [
              1,
              "#f0f921"
             ]
            ],
            "type": "histogram2d"
           }
          ],
          "histogram2dcontour": [
           {
            "colorbar": {
             "outlinewidth": 0,
             "ticks": ""
            },
            "colorscale": [
             [
              0,
              "#0d0887"
             ],
             [
              0.1111111111111111,
              "#46039f"
             ],
             [
              0.2222222222222222,
              "#7201a8"
             ],
             [
              0.3333333333333333,
              "#9c179e"
             ],
             [
              0.4444444444444444,
              "#bd3786"
             ],
             [
              0.5555555555555556,
              "#d8576b"
             ],
             [
              0.6666666666666666,
              "#ed7953"
             ],
             [
              0.7777777777777778,
              "#fb9f3a"
             ],
             [
              0.8888888888888888,
              "#fdca26"
             ],
             [
              1,
              "#f0f921"
             ]
            ],
            "type": "histogram2dcontour"
           }
          ],
          "mesh3d": [
           {
            "colorbar": {
             "outlinewidth": 0,
             "ticks": ""
            },
            "type": "mesh3d"
           }
          ],
          "parcoords": [
           {
            "line": {
             "colorbar": {
              "outlinewidth": 0,
              "ticks": ""
             }
            },
            "type": "parcoords"
           }
          ],
          "pie": [
           {
            "automargin": true,
            "type": "pie"
           }
          ],
          "scatter": [
           {
            "fillpattern": {
             "fillmode": "overlay",
             "size": 10,
             "solidity": 0.2
            },
            "type": "scatter"
           }
          ],
          "scatter3d": [
           {
            "line": {
             "colorbar": {
              "outlinewidth": 0,
              "ticks": ""
             }
            },
            "marker": {
             "colorbar": {
              "outlinewidth": 0,
              "ticks": ""
             }
            },
            "type": "scatter3d"
           }
          ],
          "scattercarpet": [
           {
            "marker": {
             "colorbar": {
              "outlinewidth": 0,
              "ticks": ""
             }
            },
            "type": "scattercarpet"
           }
          ],
          "scattergeo": [
           {
            "marker": {
             "colorbar": {
              "outlinewidth": 0,
              "ticks": ""
             }
            },
            "type": "scattergeo"
           }
          ],
          "scattergl": [
           {
            "marker": {
             "colorbar": {
              "outlinewidth": 0,
              "ticks": ""
             }
            },
            "type": "scattergl"
           }
          ],
          "scattermapbox": [
           {
            "marker": {
             "colorbar": {
              "outlinewidth": 0,
              "ticks": ""
             }
            },
            "type": "scattermapbox"
           }
          ],
          "scatterpolar": [
           {
            "marker": {
             "colorbar": {
              "outlinewidth": 0,
              "ticks": ""
             }
            },
            "type": "scatterpolar"
           }
          ],
          "scatterpolargl": [
           {
            "marker": {
             "colorbar": {
              "outlinewidth": 0,
              "ticks": ""
             }
            },
            "type": "scatterpolargl"
           }
          ],
          "scatterternary": [
           {
            "marker": {
             "colorbar": {
              "outlinewidth": 0,
              "ticks": ""
             }
            },
            "type": "scatterternary"
           }
          ],
          "surface": [
           {
            "colorbar": {
             "outlinewidth": 0,
             "ticks": ""
            },
            "colorscale": [
             [
              0,
              "#0d0887"
             ],
             [
              0.1111111111111111,
              "#46039f"
             ],
             [
              0.2222222222222222,
              "#7201a8"
             ],
             [
              0.3333333333333333,
              "#9c179e"
             ],
             [
              0.4444444444444444,
              "#bd3786"
             ],
             [
              0.5555555555555556,
              "#d8576b"
             ],
             [
              0.6666666666666666,
              "#ed7953"
             ],
             [
              0.7777777777777778,
              "#fb9f3a"
             ],
             [
              0.8888888888888888,
              "#fdca26"
             ],
             [
              1,
              "#f0f921"
             ]
            ],
            "type": "surface"
           }
          ],
          "table": [
           {
            "cells": {
             "fill": {
              "color": "#EBF0F8"
             },
             "line": {
              "color": "white"
             }
            },
            "header": {
             "fill": {
              "color": "#C8D4E3"
             },
             "line": {
              "color": "white"
             }
            },
            "type": "table"
           }
          ]
         },
         "layout": {
          "annotationdefaults": {
           "arrowcolor": "#2a3f5f",
           "arrowhead": 0,
           "arrowwidth": 1
          },
          "autotypenumbers": "strict",
          "coloraxis": {
           "colorbar": {
            "outlinewidth": 0,
            "ticks": ""
           }
          },
          "colorscale": {
           "diverging": [
            [
             0,
             "#8e0152"
            ],
            [
             0.1,
             "#c51b7d"
            ],
            [
             0.2,
             "#de77ae"
            ],
            [
             0.3,
             "#f1b6da"
            ],
            [
             0.4,
             "#fde0ef"
            ],
            [
             0.5,
             "#f7f7f7"
            ],
            [
             0.6,
             "#e6f5d0"
            ],
            [
             0.7,
             "#b8e186"
            ],
            [
             0.8,
             "#7fbc41"
            ],
            [
             0.9,
             "#4d9221"
            ],
            [
             1,
             "#276419"
            ]
           ],
           "sequential": [
            [
             0,
             "#0d0887"
            ],
            [
             0.1111111111111111,
             "#46039f"
            ],
            [
             0.2222222222222222,
             "#7201a8"
            ],
            [
             0.3333333333333333,
             "#9c179e"
            ],
            [
             0.4444444444444444,
             "#bd3786"
            ],
            [
             0.5555555555555556,
             "#d8576b"
            ],
            [
             0.6666666666666666,
             "#ed7953"
            ],
            [
             0.7777777777777778,
             "#fb9f3a"
            ],
            [
             0.8888888888888888,
             "#fdca26"
            ],
            [
             1,
             "#f0f921"
            ]
           ],
           "sequentialminus": [
            [
             0,
             "#0d0887"
            ],
            [
             0.1111111111111111,
             "#46039f"
            ],
            [
             0.2222222222222222,
             "#7201a8"
            ],
            [
             0.3333333333333333,
             "#9c179e"
            ],
            [
             0.4444444444444444,
             "#bd3786"
            ],
            [
             0.5555555555555556,
             "#d8576b"
            ],
            [
             0.6666666666666666,
             "#ed7953"
            ],
            [
             0.7777777777777778,
             "#fb9f3a"
            ],
            [
             0.8888888888888888,
             "#fdca26"
            ],
            [
             1,
             "#f0f921"
            ]
           ]
          },
          "colorway": [
           "#636efa",
           "#EF553B",
           "#00cc96",
           "#ab63fa",
           "#FFA15A",
           "#19d3f3",
           "#FF6692",
           "#B6E880",
           "#FF97FF",
           "#FECB52"
          ],
          "font": {
           "color": "#2a3f5f"
          },
          "geo": {
           "bgcolor": "white",
           "lakecolor": "white",
           "landcolor": "#E5ECF6",
           "showlakes": true,
           "showland": true,
           "subunitcolor": "white"
          },
          "hoverlabel": {
           "align": "left"
          },
          "hovermode": "closest",
          "mapbox": {
           "style": "light"
          },
          "paper_bgcolor": "white",
          "plot_bgcolor": "#E5ECF6",
          "polar": {
           "angularaxis": {
            "gridcolor": "white",
            "linecolor": "white",
            "ticks": ""
           },
           "bgcolor": "#E5ECF6",
           "radialaxis": {
            "gridcolor": "white",
            "linecolor": "white",
            "ticks": ""
           }
          },
          "scene": {
           "xaxis": {
            "backgroundcolor": "#E5ECF6",
            "gridcolor": "white",
            "gridwidth": 2,
            "linecolor": "white",
            "showbackground": true,
            "ticks": "",
            "zerolinecolor": "white"
           },
           "yaxis": {
            "backgroundcolor": "#E5ECF6",
            "gridcolor": "white",
            "gridwidth": 2,
            "linecolor": "white",
            "showbackground": true,
            "ticks": "",
            "zerolinecolor": "white"
           },
           "zaxis": {
            "backgroundcolor": "#E5ECF6",
            "gridcolor": "white",
            "gridwidth": 2,
            "linecolor": "white",
            "showbackground": true,
            "ticks": "",
            "zerolinecolor": "white"
           }
          },
          "shapedefaults": {
           "line": {
            "color": "#2a3f5f"
           }
          },
          "ternary": {
           "aaxis": {
            "gridcolor": "white",
            "linecolor": "white",
            "ticks": ""
           },
           "baxis": {
            "gridcolor": "white",
            "linecolor": "white",
            "ticks": ""
           },
           "bgcolor": "#E5ECF6",
           "caxis": {
            "gridcolor": "white",
            "linecolor": "white",
            "ticks": ""
           }
          },
          "title": {
           "x": 0.05
          },
          "xaxis": {
           "automargin": true,
           "gridcolor": "white",
           "linecolor": "white",
           "ticks": "",
           "title": {
            "standoff": 15
           },
           "zerolinecolor": "white",
           "zerolinewidth": 2
          },
          "yaxis": {
           "automargin": true,
           "gridcolor": "white",
           "linecolor": "white",
           "ticks": "",
           "title": {
            "standoff": 15
           },
           "zerolinecolor": "white",
           "zerolinewidth": 2
          }
         }
        },
        "title": {
         "text": "Anzahl Texte pro Epochen x Hauptklasse"
        },
        "xaxis": {
         "title": {
          "text": "Epoche x Hauptklasse"
         }
        },
        "yaxis": {
         "title": {
          "text": "Anzahl Texte"
         }
        }
       }
      }
     },
     "metadata": {},
     "output_type": "display_data"
    }
   ],
   "source": [
    "import sqlite3\n",
    "import pandas as pd\n",
    "import plotly.graph_objects as go\n",
    "\n",
    "con = sqlite3.connect(\"Datenbank.db\")\n",
    "query = \"\"\"SELECT epochen_genres_strata FROM my_data\"\"\"\n",
    "\n",
    "df = pd.read_sql_query(query, con)\n",
    "\n",
    "epochen_genres_count = df.groupby(\"epochen_genres_strata\").size().reset_index(name=\"count\")\n",
    "\n",
    "fig = go.Figure(data=[go.Bar(name=\"Anzahl Texte als Epochen x Hauptklasse\", x=epochen_genres_count[\"epochen_genres_strata\"], y=epochen_genres_count[\"count\"])])\n",
    "\n",
    "fig.update_layout(\n",
    "    title=\"Anzahl Texte pro Epochen x Hauptklasse\",\n",
    "    xaxis_title=\"Epoche x Hauptklasse\",\n",
    "    yaxis_title=\"Anzahl Texte\",\n",
    "    hovermode=\"x\"\n",
    ")\n",
    "\n",
    "fig.show()\n",
    "\n",
    "con.close()"
   ]
  },
  {
   "cell_type": "markdown",
   "metadata": {},
   "source": [
    "Jetzt wird die Berechnung der Gewichtung gemacht, um Herauszufinden, welche Samplingmenge von wo genommen werden sollte. Dafür kann das DataFrame von vorhin verwendet werden. Die Gewichtung und die Samplesize müssen noch hinzugefügt werden."
   ]
  },
  {
   "cell_type": "code",
   "execution_count": 108,
   "metadata": {},
   "outputs": [
    {
     "data": {
      "application/vnd.plotly.v1+json": {
       "config": {
        "plotlyServerURL": "https://plot.ly"
       },
       "data": [
        {
         "cells": {
          "align": "left",
          "fill": {
           "color": "lavender"
          },
          "values": [
           [
            "Aufklärung x Belletristik",
            "Aufklärung x Gebrauchsliteratur",
            "Aufklärung x Wissenschaft",
            "Aufklärung x Zeitung",
            "Barock x Belletristik",
            "Barock x Gebrauchsliteratur",
            "Barock x Wissenschaft",
            "Barock x Zeitung",
            "Frühes 19. Jahrhundert x Belletristik",
            "Frühes 19. Jahrhundert x Gebrauchsliteratur",
            "Frühes 19. Jahrhundert x Wissenschaft",
            "Frühes 19. Jahrhundert x Zeitung",
            "Industrielle Revolution x Belletristik",
            "Industrielle Revolution x Gebrauchsliteratur",
            "Industrielle Revolution x Wissenschaft",
            "Industrielle Revolution x Zeitung",
            "Moderne x Belletristik",
            "Moderne x Gebrauchsliteratur",
            "Moderne x Wissenschaft",
            "Moderne x Zeitung",
            "Renaissance x Belletristik",
            "Renaissance x Gebrauchsliteratur",
            "Renaissance x Wissenschaft",
            "Renaissance x Zeitung",
            "Revolutionsjahre x Belletristik",
            "Revolutionsjahre x Gebrauchsliteratur",
            "Revolutionsjahre x Wissenschaft",
            "Revolutionsjahre x Zeitung",
            "Spätmittelalter x Belletristik",
            "Spätmittelalter x Gebrauchsliteratur"
           ],
           [
            225,
            181,
            313,
            173,
            76,
            601,
            101,
            5,
            158,
            48,
            149,
            47,
            146,
            110,
            252,
            143,
            113,
            321,
            81,
            119,
            2,
            105,
            2,
            1,
            45,
            31,
            43,
            829,
            4,
            12
           ],
           [
            0.0507,
            0.0408,
            0.0706,
            0.039,
            0.0171,
            0.1355,
            0.0228,
            0.0011,
            0.0356,
            0.0108,
            0.0336,
            0.0106,
            0.0329,
            0.0248,
            0.0568,
            0.0322,
            0.0255,
            0.0724,
            0.0183,
            0.0268,
            0.0005,
            0.0237,
            0.0005,
            0.0002,
            0.0101,
            0.007,
            0.0097,
            0.1869,
            0.0009,
            0.0027
           ],
           [
            5,
            4,
            7,
            4,
            2,
            14,
            2,
            0,
            4,
            1,
            3,
            1,
            3,
            2,
            6,
            3,
            3,
            7,
            2,
            3,
            0,
            2,
            0,
            0,
            1,
            1,
            1,
            19,
            0,
            0
           ]
          ]
         },
         "header": {
          "align": "left",
          "fill": {
           "color": "paleturquoise"
          },
          "values": [
           "Epoche x Hauptklasse",
           "Anzahl",
           "Gewichtung (Anzahl / 4436)",
           "Samplezahl (Gewichtung * 100)"
          ]
         },
         "type": "table"
        }
       ],
       "layout": {
        "height": 1490,
        "template": {
         "data": {
          "bar": [
           {
            "error_x": {
             "color": "#2a3f5f"
            },
            "error_y": {
             "color": "#2a3f5f"
            },
            "marker": {
             "line": {
              "color": "#E5ECF6",
              "width": 0.5
             },
             "pattern": {
              "fillmode": "overlay",
              "size": 10,
              "solidity": 0.2
             }
            },
            "type": "bar"
           }
          ],
          "barpolar": [
           {
            "marker": {
             "line": {
              "color": "#E5ECF6",
              "width": 0.5
             },
             "pattern": {
              "fillmode": "overlay",
              "size": 10,
              "solidity": 0.2
             }
            },
            "type": "barpolar"
           }
          ],
          "carpet": [
           {
            "aaxis": {
             "endlinecolor": "#2a3f5f",
             "gridcolor": "white",
             "linecolor": "white",
             "minorgridcolor": "white",
             "startlinecolor": "#2a3f5f"
            },
            "baxis": {
             "endlinecolor": "#2a3f5f",
             "gridcolor": "white",
             "linecolor": "white",
             "minorgridcolor": "white",
             "startlinecolor": "#2a3f5f"
            },
            "type": "carpet"
           }
          ],
          "choropleth": [
           {
            "colorbar": {
             "outlinewidth": 0,
             "ticks": ""
            },
            "type": "choropleth"
           }
          ],
          "contour": [
           {
            "colorbar": {
             "outlinewidth": 0,
             "ticks": ""
            },
            "colorscale": [
             [
              0,
              "#0d0887"
             ],
             [
              0.1111111111111111,
              "#46039f"
             ],
             [
              0.2222222222222222,
              "#7201a8"
             ],
             [
              0.3333333333333333,
              "#9c179e"
             ],
             [
              0.4444444444444444,
              "#bd3786"
             ],
             [
              0.5555555555555556,
              "#d8576b"
             ],
             [
              0.6666666666666666,
              "#ed7953"
             ],
             [
              0.7777777777777778,
              "#fb9f3a"
             ],
             [
              0.8888888888888888,
              "#fdca26"
             ],
             [
              1,
              "#f0f921"
             ]
            ],
            "type": "contour"
           }
          ],
          "contourcarpet": [
           {
            "colorbar": {
             "outlinewidth": 0,
             "ticks": ""
            },
            "type": "contourcarpet"
           }
          ],
          "heatmap": [
           {
            "colorbar": {
             "outlinewidth": 0,
             "ticks": ""
            },
            "colorscale": [
             [
              0,
              "#0d0887"
             ],
             [
              0.1111111111111111,
              "#46039f"
             ],
             [
              0.2222222222222222,
              "#7201a8"
             ],
             [
              0.3333333333333333,
              "#9c179e"
             ],
             [
              0.4444444444444444,
              "#bd3786"
             ],
             [
              0.5555555555555556,
              "#d8576b"
             ],
             [
              0.6666666666666666,
              "#ed7953"
             ],
             [
              0.7777777777777778,
              "#fb9f3a"
             ],
             [
              0.8888888888888888,
              "#fdca26"
             ],
             [
              1,
              "#f0f921"
             ]
            ],
            "type": "heatmap"
           }
          ],
          "heatmapgl": [
           {
            "colorbar": {
             "outlinewidth": 0,
             "ticks": ""
            },
            "colorscale": [
             [
              0,
              "#0d0887"
             ],
             [
              0.1111111111111111,
              "#46039f"
             ],
             [
              0.2222222222222222,
              "#7201a8"
             ],
             [
              0.3333333333333333,
              "#9c179e"
             ],
             [
              0.4444444444444444,
              "#bd3786"
             ],
             [
              0.5555555555555556,
              "#d8576b"
             ],
             [
              0.6666666666666666,
              "#ed7953"
             ],
             [
              0.7777777777777778,
              "#fb9f3a"
             ],
             [
              0.8888888888888888,
              "#fdca26"
             ],
             [
              1,
              "#f0f921"
             ]
            ],
            "type": "heatmapgl"
           }
          ],
          "histogram": [
           {
            "marker": {
             "pattern": {
              "fillmode": "overlay",
              "size": 10,
              "solidity": 0.2
             }
            },
            "type": "histogram"
           }
          ],
          "histogram2d": [
           {
            "colorbar": {
             "outlinewidth": 0,
             "ticks": ""
            },
            "colorscale": [
             [
              0,
              "#0d0887"
             ],
             [
              0.1111111111111111,
              "#46039f"
             ],
             [
              0.2222222222222222,
              "#7201a8"
             ],
             [
              0.3333333333333333,
              "#9c179e"
             ],
             [
              0.4444444444444444,
              "#bd3786"
             ],
             [
              0.5555555555555556,
              "#d8576b"
             ],
             [
              0.6666666666666666,
              "#ed7953"
             ],
             [
              0.7777777777777778,
              "#fb9f3a"
             ],
             [
              0.8888888888888888,
              "#fdca26"
             ],
             [
              1,
              "#f0f921"
             ]
            ],
            "type": "histogram2d"
           }
          ],
          "histogram2dcontour": [
           {
            "colorbar": {
             "outlinewidth": 0,
             "ticks": ""
            },
            "colorscale": [
             [
              0,
              "#0d0887"
             ],
             [
              0.1111111111111111,
              "#46039f"
             ],
             [
              0.2222222222222222,
              "#7201a8"
             ],
             [
              0.3333333333333333,
              "#9c179e"
             ],
             [
              0.4444444444444444,
              "#bd3786"
             ],
             [
              0.5555555555555556,
              "#d8576b"
             ],
             [
              0.6666666666666666,
              "#ed7953"
             ],
             [
              0.7777777777777778,
              "#fb9f3a"
             ],
             [
              0.8888888888888888,
              "#fdca26"
             ],
             [
              1,
              "#f0f921"
             ]
            ],
            "type": "histogram2dcontour"
           }
          ],
          "mesh3d": [
           {
            "colorbar": {
             "outlinewidth": 0,
             "ticks": ""
            },
            "type": "mesh3d"
           }
          ],
          "parcoords": [
           {
            "line": {
             "colorbar": {
              "outlinewidth": 0,
              "ticks": ""
             }
            },
            "type": "parcoords"
           }
          ],
          "pie": [
           {
            "automargin": true,
            "type": "pie"
           }
          ],
          "scatter": [
           {
            "fillpattern": {
             "fillmode": "overlay",
             "size": 10,
             "solidity": 0.2
            },
            "type": "scatter"
           }
          ],
          "scatter3d": [
           {
            "line": {
             "colorbar": {
              "outlinewidth": 0,
              "ticks": ""
             }
            },
            "marker": {
             "colorbar": {
              "outlinewidth": 0,
              "ticks": ""
             }
            },
            "type": "scatter3d"
           }
          ],
          "scattercarpet": [
           {
            "marker": {
             "colorbar": {
              "outlinewidth": 0,
              "ticks": ""
             }
            },
            "type": "scattercarpet"
           }
          ],
          "scattergeo": [
           {
            "marker": {
             "colorbar": {
              "outlinewidth": 0,
              "ticks": ""
             }
            },
            "type": "scattergeo"
           }
          ],
          "scattergl": [
           {
            "marker": {
             "colorbar": {
              "outlinewidth": 0,
              "ticks": ""
             }
            },
            "type": "scattergl"
           }
          ],
          "scattermapbox": [
           {
            "marker": {
             "colorbar": {
              "outlinewidth": 0,
              "ticks": ""
             }
            },
            "type": "scattermapbox"
           }
          ],
          "scatterpolar": [
           {
            "marker": {
             "colorbar": {
              "outlinewidth": 0,
              "ticks": ""
             }
            },
            "type": "scatterpolar"
           }
          ],
          "scatterpolargl": [
           {
            "marker": {
             "colorbar": {
              "outlinewidth": 0,
              "ticks": ""
             }
            },
            "type": "scatterpolargl"
           }
          ],
          "scatterternary": [
           {
            "marker": {
             "colorbar": {
              "outlinewidth": 0,
              "ticks": ""
             }
            },
            "type": "scatterternary"
           }
          ],
          "surface": [
           {
            "colorbar": {
             "outlinewidth": 0,
             "ticks": ""
            },
            "colorscale": [
             [
              0,
              "#0d0887"
             ],
             [
              0.1111111111111111,
              "#46039f"
             ],
             [
              0.2222222222222222,
              "#7201a8"
             ],
             [
              0.3333333333333333,
              "#9c179e"
             ],
             [
              0.4444444444444444,
              "#bd3786"
             ],
             [
              0.5555555555555556,
              "#d8576b"
             ],
             [
              0.6666666666666666,
              "#ed7953"
             ],
             [
              0.7777777777777778,
              "#fb9f3a"
             ],
             [
              0.8888888888888888,
              "#fdca26"
             ],
             [
              1,
              "#f0f921"
             ]
            ],
            "type": "surface"
           }
          ],
          "table": [
           {
            "cells": {
             "fill": {
              "color": "#EBF0F8"
             },
             "line": {
              "color": "white"
             }
            },
            "header": {
             "fill": {
              "color": "#C8D4E3"
             },
             "line": {
              "color": "white"
             }
            },
            "type": "table"
           }
          ]
         },
         "layout": {
          "annotationdefaults": {
           "arrowcolor": "#2a3f5f",
           "arrowhead": 0,
           "arrowwidth": 1
          },
          "autotypenumbers": "strict",
          "coloraxis": {
           "colorbar": {
            "outlinewidth": 0,
            "ticks": ""
           }
          },
          "colorscale": {
           "diverging": [
            [
             0,
             "#8e0152"
            ],
            [
             0.1,
             "#c51b7d"
            ],
            [
             0.2,
             "#de77ae"
            ],
            [
             0.3,
             "#f1b6da"
            ],
            [
             0.4,
             "#fde0ef"
            ],
            [
             0.5,
             "#f7f7f7"
            ],
            [
             0.6,
             "#e6f5d0"
            ],
            [
             0.7,
             "#b8e186"
            ],
            [
             0.8,
             "#7fbc41"
            ],
            [
             0.9,
             "#4d9221"
            ],
            [
             1,
             "#276419"
            ]
           ],
           "sequential": [
            [
             0,
             "#0d0887"
            ],
            [
             0.1111111111111111,
             "#46039f"
            ],
            [
             0.2222222222222222,
             "#7201a8"
            ],
            [
             0.3333333333333333,
             "#9c179e"
            ],
            [
             0.4444444444444444,
             "#bd3786"
            ],
            [
             0.5555555555555556,
             "#d8576b"
            ],
            [
             0.6666666666666666,
             "#ed7953"
            ],
            [
             0.7777777777777778,
             "#fb9f3a"
            ],
            [
             0.8888888888888888,
             "#fdca26"
            ],
            [
             1,
             "#f0f921"
            ]
           ],
           "sequentialminus": [
            [
             0,
             "#0d0887"
            ],
            [
             0.1111111111111111,
             "#46039f"
            ],
            [
             0.2222222222222222,
             "#7201a8"
            ],
            [
             0.3333333333333333,
             "#9c179e"
            ],
            [
             0.4444444444444444,
             "#bd3786"
            ],
            [
             0.5555555555555556,
             "#d8576b"
            ],
            [
             0.6666666666666666,
             "#ed7953"
            ],
            [
             0.7777777777777778,
             "#fb9f3a"
            ],
            [
             0.8888888888888888,
             "#fdca26"
            ],
            [
             1,
             "#f0f921"
            ]
           ]
          },
          "colorway": [
           "#636efa",
           "#EF553B",
           "#00cc96",
           "#ab63fa",
           "#FFA15A",
           "#19d3f3",
           "#FF6692",
           "#B6E880",
           "#FF97FF",
           "#FECB52"
          ],
          "font": {
           "color": "#2a3f5f"
          },
          "geo": {
           "bgcolor": "white",
           "lakecolor": "white",
           "landcolor": "#E5ECF6",
           "showlakes": true,
           "showland": true,
           "subunitcolor": "white"
          },
          "hoverlabel": {
           "align": "left"
          },
          "hovermode": "closest",
          "mapbox": {
           "style": "light"
          },
          "paper_bgcolor": "white",
          "plot_bgcolor": "#E5ECF6",
          "polar": {
           "angularaxis": {
            "gridcolor": "white",
            "linecolor": "white",
            "ticks": ""
           },
           "bgcolor": "#E5ECF6",
           "radialaxis": {
            "gridcolor": "white",
            "linecolor": "white",
            "ticks": ""
           }
          },
          "scene": {
           "xaxis": {
            "backgroundcolor": "#E5ECF6",
            "gridcolor": "white",
            "gridwidth": 2,
            "linecolor": "white",
            "showbackground": true,
            "ticks": "",
            "zerolinecolor": "white"
           },
           "yaxis": {
            "backgroundcolor": "#E5ECF6",
            "gridcolor": "white",
            "gridwidth": 2,
            "linecolor": "white",
            "showbackground": true,
            "ticks": "",
            "zerolinecolor": "white"
           },
           "zaxis": {
            "backgroundcolor": "#E5ECF6",
            "gridcolor": "white",
            "gridwidth": 2,
            "linecolor": "white",
            "showbackground": true,
            "ticks": "",
            "zerolinecolor": "white"
           }
          },
          "shapedefaults": {
           "line": {
            "color": "#2a3f5f"
           }
          },
          "ternary": {
           "aaxis": {
            "gridcolor": "white",
            "linecolor": "white",
            "ticks": ""
           },
           "baxis": {
            "gridcolor": "white",
            "linecolor": "white",
            "ticks": ""
           },
           "bgcolor": "#E5ECF6",
           "caxis": {
            "gridcolor": "white",
            "linecolor": "white",
            "ticks": ""
           }
          },
          "title": {
           "x": 0.05
          },
          "xaxis": {
           "automargin": true,
           "gridcolor": "white",
           "linecolor": "white",
           "ticks": "",
           "title": {
            "standoff": 15
           },
           "zerolinecolor": "white",
           "zerolinewidth": 2
          },
          "yaxis": {
           "automargin": true,
           "gridcolor": "white",
           "linecolor": "white",
           "ticks": "",
           "title": {
            "standoff": 15
           },
           "zerolinecolor": "white",
           "zerolinewidth": 2
          }
         }
        }
       }
      }
     },
     "metadata": {},
     "output_type": "display_data"
    },
    {
     "name": "stdout",
     "output_type": "stream",
     "text": [
      "                           epochen_genres_strata  count    weight     sample\n",
      "0                      Aufklärung x Belletristik    225  0.050721   5.072137\n",
      "1                Aufklärung x Gebrauchsliteratur    181  0.040803   4.080252\n",
      "2                      Aufklärung x Wissenschaft    313  0.070559   7.055906\n",
      "3                           Aufklärung x Zeitung    173  0.038999   3.899910\n",
      "4                          Barock x Belletristik     76  0.017133   1.713255\n",
      "5                    Barock x Gebrauchsliteratur    601  0.135482  13.548242\n",
      "6                          Barock x Wissenschaft    101  0.022768   2.276826\n",
      "7                               Barock x Zeitung      5  0.001127   0.112714\n",
      "8          Frühes 19. Jahrhundert x Belletristik    158  0.035618   3.561767\n",
      "9    Frühes 19. Jahrhundert x Gebrauchsliteratur     48  0.010821   1.082056\n",
      "10         Frühes 19. Jahrhundert x Wissenschaft    149  0.033589   3.358882\n",
      "11              Frühes 19. Jahrhundert x Zeitung     47  0.010595   1.059513\n",
      "12        Industrielle Revolution x Belletristik    146  0.032913   3.291253\n",
      "13  Industrielle Revolution x Gebrauchsliteratur    110  0.024797   2.479711\n",
      "14        Industrielle Revolution x Wissenschaft    252  0.056808   5.680794\n",
      "15             Industrielle Revolution x Zeitung    143  0.032236   3.223625\n",
      "16                        Moderne x Belletristik    113  0.025473   2.547340\n",
      "17                  Moderne x Gebrauchsliteratur    321  0.072362   7.236249\n",
      "18                        Moderne x Wissenschaft     81  0.018260   1.825969\n",
      "19                             Moderne x Zeitung    119  0.026826   2.682597\n",
      "20                    Renaissance x Belletristik      2  0.000451   0.045086\n",
      "21              Renaissance x Gebrauchsliteratur    105  0.023670   2.366997\n",
      "22                    Renaissance x Wissenschaft      2  0.000451   0.045086\n",
      "23                         Renaissance x Zeitung      1  0.000225   0.022543\n",
      "24               Revolutionsjahre x Belletristik     45  0.010144   1.014427\n",
      "25         Revolutionsjahre x Gebrauchsliteratur     31  0.006988   0.698828\n",
      "26               Revolutionsjahre x Wissenschaft     43  0.009693   0.969342\n",
      "27                    Revolutionsjahre x Zeitung    829  0.186880  18.688007\n",
      "28                Spätmittelalter x Belletristik      4  0.000902   0.090171\n",
      "29          Spätmittelalter x Gebrauchsliteratur     12  0.002705   0.270514\n"
     ]
    }
   ],
   "source": [
    "epochen_genres_count[\"weight\"] = [count / 4436 for count in epochen_genres_count[\"count\"]]\n",
    "epochen_genres_count[\"sample\"] = [weight * 100 for weight in epochen_genres_count[\"weight\"]]\n",
    "\n",
    "fig = go.Figure(data=[go.Table(\n",
    "    header=dict(values=[\"Epoche x Hauptklasse\", \"Anzahl\", \"Gewichtung (Anzahl / 4436)\", \"Samplezahl (Gewichtung * 100)\"],\n",
    "                fill_color=\"paleturquoise\",\n",
    "                align=\"left\"),\n",
    "    cells=dict(values=[list(epochen_genres_count[\"epochen_genres_strata\"]), list(epochen_genres_count[\"count\"]), list(round(epochen_genres_count[\"weight\"], 4)), list(round(epochen_genres_count[\"sample\"], 0))],\n",
    "               fill_color=\"lavender\",\n",
    "               align=\"left\"))\n",
    "])\n",
    "fig.update_layout(height=1490)\n",
    "fig.show()\n",
    "\n",
    "print(epochen_genres_count)"
   ]
  },
  {
   "cell_type": "markdown",
   "metadata": {},
   "source": [
    "Wie erwartet sind einige der Epoche x Hauptklasse-Elemente nur in geringer Anzahl vertreten. Im Detail sind das:\n",
    "- Barock x Zeitung (Anzahl 5)\n",
    "- Renaissance x Belletristik (Anzahl 2)\n",
    "- Renaissance x Wissenschaft (Anzahl 2)\n",
    "- Renaissance x Zeitung (Anzahl 1)\n",
    "- Spätmittelalter x Belletristik (Anzahl 4)\n",
    "- Spätmittelalter x Gebrauchsliteratur (Anzahl 12)\n",
    "\n",
    "Für die Repräsentation dieser seltenen Strata wird jeweils ein Sample genommen. Um die Gesamtzahl der Samples bei 100 zu lassen, werden vier Samples von dem dominanten Stratum Revolutionsjahre x Zeitung und 2 von dem Stratum Barock x Gebrauchsliteratur abgezogen. \n",
    "\n",
    "Die ajustierte Samplemenge sieht nun so aus:"
   ]
  },
  {
   "cell_type": "markdown",
   "metadata": {},
   "source": []
  },
  {
   "cell_type": "code",
   "execution_count": 111,
   "metadata": {},
   "outputs": [
    {
     "name": "stderr",
     "output_type": "stream",
     "text": [
      "C:\\Users\\RaoulZenoHub\\AppData\\Local\\Temp\\ipykernel_40460\\3234172964.py:2: FutureWarning:\n",
      "\n",
      "ChainedAssignmentError: behaviour will change in pandas 3.0!\n",
      "You are setting values through chained assignment. Currently this works in certain cases, but when using Copy-on-Write (which will become the default behaviour in pandas 3.0) this will never work to update the original DataFrame or Series, because the intermediate object on which we are setting values will behave as a copy.\n",
      "A typical example is when you are setting values in a column of a DataFrame, like:\n",
      "\n",
      "df[\"col\"][row_indexer] = value\n",
      "\n",
      "Use `df.loc[row_indexer, \"col\"] = values` instead, to perform the assignment in a single step and ensure this keeps updating the original `df`.\n",
      "\n",
      "See the caveats in the documentation: https://pandas.pydata.org/pandas-docs/stable/user_guide/indexing.html#returning-a-view-versus-a-copy\n",
      "\n",
      "\n",
      "C:\\Users\\RaoulZenoHub\\AppData\\Local\\Temp\\ipykernel_40460\\3234172964.py:2: SettingWithCopyWarning:\n",
      "\n",
      "\n",
      "A value is trying to be set on a copy of a slice from a DataFrame\n",
      "\n",
      "See the caveats in the documentation: https://pandas.pydata.org/pandas-docs/stable/user_guide/indexing.html#returning-a-view-versus-a-copy\n",
      "\n",
      "C:\\Users\\RaoulZenoHub\\AppData\\Local\\Temp\\ipykernel_40460\\3234172964.py:3: FutureWarning:\n",
      "\n",
      "ChainedAssignmentError: behaviour will change in pandas 3.0!\n",
      "You are setting values through chained assignment. Currently this works in certain cases, but when using Copy-on-Write (which will become the default behaviour in pandas 3.0) this will never work to update the original DataFrame or Series, because the intermediate object on which we are setting values will behave as a copy.\n",
      "A typical example is when you are setting values in a column of a DataFrame, like:\n",
      "\n",
      "df[\"col\"][row_indexer] = value\n",
      "\n",
      "Use `df.loc[row_indexer, \"col\"] = values` instead, to perform the assignment in a single step and ensure this keeps updating the original `df`.\n",
      "\n",
      "See the caveats in the documentation: https://pandas.pydata.org/pandas-docs/stable/user_guide/indexing.html#returning-a-view-versus-a-copy\n",
      "\n",
      "\n",
      "C:\\Users\\RaoulZenoHub\\AppData\\Local\\Temp\\ipykernel_40460\\3234172964.py:3: SettingWithCopyWarning:\n",
      "\n",
      "\n",
      "A value is trying to be set on a copy of a slice from a DataFrame\n",
      "\n",
      "See the caveats in the documentation: https://pandas.pydata.org/pandas-docs/stable/user_guide/indexing.html#returning-a-view-versus-a-copy\n",
      "\n"
     ]
    },
    {
     "data": {
      "application/vnd.plotly.v1+json": {
       "config": {
        "plotlyServerURL": "https://plot.ly"
       },
       "data": [
        {
         "cells": {
          "align": "left",
          "fill": {
           "color": "lavender"
          },
          "values": [
           [
            "Aufklärung x Belletristik",
            "Aufklärung x Gebrauchsliteratur",
            "Aufklärung x Wissenschaft",
            "Aufklärung x Zeitung",
            "Barock x Belletristik",
            "Barock x Gebrauchsliteratur",
            "Barock x Wissenschaft",
            "Barock x Zeitung",
            "Frühes 19. Jahrhundert x Belletristik",
            "Frühes 19. Jahrhundert x Gebrauchsliteratur",
            "Frühes 19. Jahrhundert x Wissenschaft",
            "Frühes 19. Jahrhundert x Zeitung",
            "Industrielle Revolution x Belletristik",
            "Industrielle Revolution x Gebrauchsliteratur",
            "Industrielle Revolution x Wissenschaft",
            "Industrielle Revolution x Zeitung",
            "Moderne x Belletristik",
            "Moderne x Gebrauchsliteratur",
            "Moderne x Wissenschaft",
            "Moderne x Zeitung",
            "Renaissance x Belletristik",
            "Renaissance x Gebrauchsliteratur",
            "Renaissance x Wissenschaft",
            "Renaissance x Zeitung",
            "Revolutionsjahre x Belletristik",
            "Revolutionsjahre x Gebrauchsliteratur",
            "Revolutionsjahre x Wissenschaft",
            "Revolutionsjahre x Zeitung",
            "Spätmittelalter x Belletristik",
            "Spätmittelalter x Gebrauchsliteratur"
           ],
           [
            225,
            181,
            313,
            173,
            76,
            601,
            101,
            5,
            158,
            48,
            149,
            47,
            146,
            110,
            252,
            143,
            113,
            321,
            81,
            119,
            2,
            105,
            2,
            1,
            45,
            31,
            43,
            829,
            4,
            12
           ],
           [
            0.0507,
            0.0408,
            0.0706,
            0.039,
            0.0171,
            0.1355,
            0.0228,
            0.0011,
            0.0356,
            0.0108,
            0.0336,
            0.0106,
            0.0329,
            0.0248,
            0.0568,
            0.0322,
            0.0255,
            0.0724,
            0.0183,
            0.0268,
            0.0005,
            0.0237,
            0.0005,
            0.0002,
            0.0101,
            0.007,
            0.0097,
            0.1869,
            0.0009,
            0.0027
           ],
           [
            5,
            4,
            7,
            4,
            2,
            14,
            2,
            0,
            4,
            1,
            3,
            1,
            3,
            2,
            6,
            3,
            3,
            7,
            2,
            3,
            0,
            2,
            0,
            0,
            1,
            1,
            1,
            19,
            0,
            0
           ],
           [
            5,
            4,
            7,
            4,
            2,
            12,
            2,
            1,
            4,
            1,
            3,
            1,
            3,
            2,
            6,
            3,
            3,
            7,
            2,
            3,
            1,
            2,
            1,
            1,
            1,
            1,
            1,
            15,
            1,
            1
           ]
          ]
         },
         "header": {
          "align": "left",
          "fill": {
           "color": "paleturquoise"
          },
          "values": [
           "Epoche x Hauptklasse",
           "Anzahl",
           "Gewichtung (Anzahl / 4436)",
           "Samplezahl (Gewichtung * 100)",
           "Ajustierte Samplezahl"
          ]
         },
         "type": "table"
        }
       ],
       "layout": {
        "height": 1800,
        "template": {
         "data": {
          "bar": [
           {
            "error_x": {
             "color": "#2a3f5f"
            },
            "error_y": {
             "color": "#2a3f5f"
            },
            "marker": {
             "line": {
              "color": "#E5ECF6",
              "width": 0.5
             },
             "pattern": {
              "fillmode": "overlay",
              "size": 10,
              "solidity": 0.2
             }
            },
            "type": "bar"
           }
          ],
          "barpolar": [
           {
            "marker": {
             "line": {
              "color": "#E5ECF6",
              "width": 0.5
             },
             "pattern": {
              "fillmode": "overlay",
              "size": 10,
              "solidity": 0.2
             }
            },
            "type": "barpolar"
           }
          ],
          "carpet": [
           {
            "aaxis": {
             "endlinecolor": "#2a3f5f",
             "gridcolor": "white",
             "linecolor": "white",
             "minorgridcolor": "white",
             "startlinecolor": "#2a3f5f"
            },
            "baxis": {
             "endlinecolor": "#2a3f5f",
             "gridcolor": "white",
             "linecolor": "white",
             "minorgridcolor": "white",
             "startlinecolor": "#2a3f5f"
            },
            "type": "carpet"
           }
          ],
          "choropleth": [
           {
            "colorbar": {
             "outlinewidth": 0,
             "ticks": ""
            },
            "type": "choropleth"
           }
          ],
          "contour": [
           {
            "colorbar": {
             "outlinewidth": 0,
             "ticks": ""
            },
            "colorscale": [
             [
              0,
              "#0d0887"
             ],
             [
              0.1111111111111111,
              "#46039f"
             ],
             [
              0.2222222222222222,
              "#7201a8"
             ],
             [
              0.3333333333333333,
              "#9c179e"
             ],
             [
              0.4444444444444444,
              "#bd3786"
             ],
             [
              0.5555555555555556,
              "#d8576b"
             ],
             [
              0.6666666666666666,
              "#ed7953"
             ],
             [
              0.7777777777777778,
              "#fb9f3a"
             ],
             [
              0.8888888888888888,
              "#fdca26"
             ],
             [
              1,
              "#f0f921"
             ]
            ],
            "type": "contour"
           }
          ],
          "contourcarpet": [
           {
            "colorbar": {
             "outlinewidth": 0,
             "ticks": ""
            },
            "type": "contourcarpet"
           }
          ],
          "heatmap": [
           {
            "colorbar": {
             "outlinewidth": 0,
             "ticks": ""
            },
            "colorscale": [
             [
              0,
              "#0d0887"
             ],
             [
              0.1111111111111111,
              "#46039f"
             ],
             [
              0.2222222222222222,
              "#7201a8"
             ],
             [
              0.3333333333333333,
              "#9c179e"
             ],
             [
              0.4444444444444444,
              "#bd3786"
             ],
             [
              0.5555555555555556,
              "#d8576b"
             ],
             [
              0.6666666666666666,
              "#ed7953"
             ],
             [
              0.7777777777777778,
              "#fb9f3a"
             ],
             [
              0.8888888888888888,
              "#fdca26"
             ],
             [
              1,
              "#f0f921"
             ]
            ],
            "type": "heatmap"
           }
          ],
          "heatmapgl": [
           {
            "colorbar": {
             "outlinewidth": 0,
             "ticks": ""
            },
            "colorscale": [
             [
              0,
              "#0d0887"
             ],
             [
              0.1111111111111111,
              "#46039f"
             ],
             [
              0.2222222222222222,
              "#7201a8"
             ],
             [
              0.3333333333333333,
              "#9c179e"
             ],
             [
              0.4444444444444444,
              "#bd3786"
             ],
             [
              0.5555555555555556,
              "#d8576b"
             ],
             [
              0.6666666666666666,
              "#ed7953"
             ],
             [
              0.7777777777777778,
              "#fb9f3a"
             ],
             [
              0.8888888888888888,
              "#fdca26"
             ],
             [
              1,
              "#f0f921"
             ]
            ],
            "type": "heatmapgl"
           }
          ],
          "histogram": [
           {
            "marker": {
             "pattern": {
              "fillmode": "overlay",
              "size": 10,
              "solidity": 0.2
             }
            },
            "type": "histogram"
           }
          ],
          "histogram2d": [
           {
            "colorbar": {
             "outlinewidth": 0,
             "ticks": ""
            },
            "colorscale": [
             [
              0,
              "#0d0887"
             ],
             [
              0.1111111111111111,
              "#46039f"
             ],
             [
              0.2222222222222222,
              "#7201a8"
             ],
             [
              0.3333333333333333,
              "#9c179e"
             ],
             [
              0.4444444444444444,
              "#bd3786"
             ],
             [
              0.5555555555555556,
              "#d8576b"
             ],
             [
              0.6666666666666666,
              "#ed7953"
             ],
             [
              0.7777777777777778,
              "#fb9f3a"
             ],
             [
              0.8888888888888888,
              "#fdca26"
             ],
             [
              1,
              "#f0f921"
             ]
            ],
            "type": "histogram2d"
           }
          ],
          "histogram2dcontour": [
           {
            "colorbar": {
             "outlinewidth": 0,
             "ticks": ""
            },
            "colorscale": [
             [
              0,
              "#0d0887"
             ],
             [
              0.1111111111111111,
              "#46039f"
             ],
             [
              0.2222222222222222,
              "#7201a8"
             ],
             [
              0.3333333333333333,
              "#9c179e"
             ],
             [
              0.4444444444444444,
              "#bd3786"
             ],
             [
              0.5555555555555556,
              "#d8576b"
             ],
             [
              0.6666666666666666,
              "#ed7953"
             ],
             [
              0.7777777777777778,
              "#fb9f3a"
             ],
             [
              0.8888888888888888,
              "#fdca26"
             ],
             [
              1,
              "#f0f921"
             ]
            ],
            "type": "histogram2dcontour"
           }
          ],
          "mesh3d": [
           {
            "colorbar": {
             "outlinewidth": 0,
             "ticks": ""
            },
            "type": "mesh3d"
           }
          ],
          "parcoords": [
           {
            "line": {
             "colorbar": {
              "outlinewidth": 0,
              "ticks": ""
             }
            },
            "type": "parcoords"
           }
          ],
          "pie": [
           {
            "automargin": true,
            "type": "pie"
           }
          ],
          "scatter": [
           {
            "fillpattern": {
             "fillmode": "overlay",
             "size": 10,
             "solidity": 0.2
            },
            "type": "scatter"
           }
          ],
          "scatter3d": [
           {
            "line": {
             "colorbar": {
              "outlinewidth": 0,
              "ticks": ""
             }
            },
            "marker": {
             "colorbar": {
              "outlinewidth": 0,
              "ticks": ""
             }
            },
            "type": "scatter3d"
           }
          ],
          "scattercarpet": [
           {
            "marker": {
             "colorbar": {
              "outlinewidth": 0,
              "ticks": ""
             }
            },
            "type": "scattercarpet"
           }
          ],
          "scattergeo": [
           {
            "marker": {
             "colorbar": {
              "outlinewidth": 0,
              "ticks": ""
             }
            },
            "type": "scattergeo"
           }
          ],
          "scattergl": [
           {
            "marker": {
             "colorbar": {
              "outlinewidth": 0,
              "ticks": ""
             }
            },
            "type": "scattergl"
           }
          ],
          "scattermapbox": [
           {
            "marker": {
             "colorbar": {
              "outlinewidth": 0,
              "ticks": ""
             }
            },
            "type": "scattermapbox"
           }
          ],
          "scatterpolar": [
           {
            "marker": {
             "colorbar": {
              "outlinewidth": 0,
              "ticks": ""
             }
            },
            "type": "scatterpolar"
           }
          ],
          "scatterpolargl": [
           {
            "marker": {
             "colorbar": {
              "outlinewidth": 0,
              "ticks": ""
             }
            },
            "type": "scatterpolargl"
           }
          ],
          "scatterternary": [
           {
            "marker": {
             "colorbar": {
              "outlinewidth": 0,
              "ticks": ""
             }
            },
            "type": "scatterternary"
           }
          ],
          "surface": [
           {
            "colorbar": {
             "outlinewidth": 0,
             "ticks": ""
            },
            "colorscale": [
             [
              0,
              "#0d0887"
             ],
             [
              0.1111111111111111,
              "#46039f"
             ],
             [
              0.2222222222222222,
              "#7201a8"
             ],
             [
              0.3333333333333333,
              "#9c179e"
             ],
             [
              0.4444444444444444,
              "#bd3786"
             ],
             [
              0.5555555555555556,
              "#d8576b"
             ],
             [
              0.6666666666666666,
              "#ed7953"
             ],
             [
              0.7777777777777778,
              "#fb9f3a"
             ],
             [
              0.8888888888888888,
              "#fdca26"
             ],
             [
              1,
              "#f0f921"
             ]
            ],
            "type": "surface"
           }
          ],
          "table": [
           {
            "cells": {
             "fill": {
              "color": "#EBF0F8"
             },
             "line": {
              "color": "white"
             }
            },
            "header": {
             "fill": {
              "color": "#C8D4E3"
             },
             "line": {
              "color": "white"
             }
            },
            "type": "table"
           }
          ]
         },
         "layout": {
          "annotationdefaults": {
           "arrowcolor": "#2a3f5f",
           "arrowhead": 0,
           "arrowwidth": 1
          },
          "autotypenumbers": "strict",
          "coloraxis": {
           "colorbar": {
            "outlinewidth": 0,
            "ticks": ""
           }
          },
          "colorscale": {
           "diverging": [
            [
             0,
             "#8e0152"
            ],
            [
             0.1,
             "#c51b7d"
            ],
            [
             0.2,
             "#de77ae"
            ],
            [
             0.3,
             "#f1b6da"
            ],
            [
             0.4,
             "#fde0ef"
            ],
            [
             0.5,
             "#f7f7f7"
            ],
            [
             0.6,
             "#e6f5d0"
            ],
            [
             0.7,
             "#b8e186"
            ],
            [
             0.8,
             "#7fbc41"
            ],
            [
             0.9,
             "#4d9221"
            ],
            [
             1,
             "#276419"
            ]
           ],
           "sequential": [
            [
             0,
             "#0d0887"
            ],
            [
             0.1111111111111111,
             "#46039f"
            ],
            [
             0.2222222222222222,
             "#7201a8"
            ],
            [
             0.3333333333333333,
             "#9c179e"
            ],
            [
             0.4444444444444444,
             "#bd3786"
            ],
            [
             0.5555555555555556,
             "#d8576b"
            ],
            [
             0.6666666666666666,
             "#ed7953"
            ],
            [
             0.7777777777777778,
             "#fb9f3a"
            ],
            [
             0.8888888888888888,
             "#fdca26"
            ],
            [
             1,
             "#f0f921"
            ]
           ],
           "sequentialminus": [
            [
             0,
             "#0d0887"
            ],
            [
             0.1111111111111111,
             "#46039f"
            ],
            [
             0.2222222222222222,
             "#7201a8"
            ],
            [
             0.3333333333333333,
             "#9c179e"
            ],
            [
             0.4444444444444444,
             "#bd3786"
            ],
            [
             0.5555555555555556,
             "#d8576b"
            ],
            [
             0.6666666666666666,
             "#ed7953"
            ],
            [
             0.7777777777777778,
             "#fb9f3a"
            ],
            [
             0.8888888888888888,
             "#fdca26"
            ],
            [
             1,
             "#f0f921"
            ]
           ]
          },
          "colorway": [
           "#636efa",
           "#EF553B",
           "#00cc96",
           "#ab63fa",
           "#FFA15A",
           "#19d3f3",
           "#FF6692",
           "#B6E880",
           "#FF97FF",
           "#FECB52"
          ],
          "font": {
           "color": "#2a3f5f"
          },
          "geo": {
           "bgcolor": "white",
           "lakecolor": "white",
           "landcolor": "#E5ECF6",
           "showlakes": true,
           "showland": true,
           "subunitcolor": "white"
          },
          "hoverlabel": {
           "align": "left"
          },
          "hovermode": "closest",
          "mapbox": {
           "style": "light"
          },
          "paper_bgcolor": "white",
          "plot_bgcolor": "#E5ECF6",
          "polar": {
           "angularaxis": {
            "gridcolor": "white",
            "linecolor": "white",
            "ticks": ""
           },
           "bgcolor": "#E5ECF6",
           "radialaxis": {
            "gridcolor": "white",
            "linecolor": "white",
            "ticks": ""
           }
          },
          "scene": {
           "xaxis": {
            "backgroundcolor": "#E5ECF6",
            "gridcolor": "white",
            "gridwidth": 2,
            "linecolor": "white",
            "showbackground": true,
            "ticks": "",
            "zerolinecolor": "white"
           },
           "yaxis": {
            "backgroundcolor": "#E5ECF6",
            "gridcolor": "white",
            "gridwidth": 2,
            "linecolor": "white",
            "showbackground": true,
            "ticks": "",
            "zerolinecolor": "white"
           },
           "zaxis": {
            "backgroundcolor": "#E5ECF6",
            "gridcolor": "white",
            "gridwidth": 2,
            "linecolor": "white",
            "showbackground": true,
            "ticks": "",
            "zerolinecolor": "white"
           }
          },
          "shapedefaults": {
           "line": {
            "color": "#2a3f5f"
           }
          },
          "ternary": {
           "aaxis": {
            "gridcolor": "white",
            "linecolor": "white",
            "ticks": ""
           },
           "baxis": {
            "gridcolor": "white",
            "linecolor": "white",
            "ticks": ""
           },
           "bgcolor": "#E5ECF6",
           "caxis": {
            "gridcolor": "white",
            "linecolor": "white",
            "ticks": ""
           }
          },
          "title": {
           "x": 0.05
          },
          "xaxis": {
           "automargin": true,
           "gridcolor": "white",
           "linecolor": "white",
           "ticks": "",
           "title": {
            "standoff": 15
           },
           "zerolinecolor": "white",
           "zerolinewidth": 2
          },
          "yaxis": {
           "automargin": true,
           "gridcolor": "white",
           "linecolor": "white",
           "ticks": "",
           "title": {
            "standoff": 15
           },
           "zerolinecolor": "white",
           "zerolinewidth": 2
          }
         }
        }
       }
      }
     },
     "metadata": {},
     "output_type": "display_data"
    }
   ],
   "source": [
    "epochen_genres_count[\"adjusted_sample\"] = [sample if round(sample, 0) > 0 else sample + 1 for sample in epochen_genres_count[\"sample\"]]\n",
    "epochen_genres_count[\"adjusted_sample\"][5] -= 2 # Barock x Gebrauchsliteratur\n",
    "epochen_genres_count[\"adjusted_sample\"][27] -= 4 # Revolutionsjahre x Zeitung\n",
    "\n",
    "fig = go.Figure(data=[go.Table(\n",
    "    header=dict(values=[\"Epoche x Hauptklasse\", \"Anzahl\", \"Gewichtung (Anzahl / 4436)\", \"Samplezahl (Gewichtung * 100)\", \"Ajustierte Samplezahl\"],\n",
    "                fill_color=\"paleturquoise\",\n",
    "                align=\"left\"),\n",
    "    cells=dict(values=[list(epochen_genres_count[\"epochen_genres_strata\"]), list(epochen_genres_count[\"count\"]), list(round(epochen_genres_count[\"weight\"], 4)), list(round(epochen_genres_count[\"sample\"], 0)), list(round(epochen_genres_count[\"adjusted_sample\"], 0))],\n",
    "               fill_color=\"lavender\",\n",
    "               align=\"left\"))\n",
    "])\n",
    "fig.update_layout(height=1800)\n",
    "fig.show()"
   ]
  },
  {
   "cell_type": "markdown",
   "metadata": {},
   "source": [
    "### 2. Extrahieren der Samples und Kreieren eines neuen Tables innerhalb der SQL-Datenbank ###\n",
    "In diesem Schritt wird die gewichtete Zufallsstichprobe entnommen und in eine neue table \"samples\" in der Datenbank eingespiesen.\n",
    "\n",
    "**WICHTIG: Die Struktur der Datenbank wird verändert, ein Backup sollte lokal kreiert werden.**"
   ]
  },
  {
   "cell_type": "code",
   "execution_count": 101,
   "metadata": {},
   "outputs": [],
   "source": [
    "import sqlite3\n",
    "\n",
    "con = sqlite3.connect(\"Datenbank.db\")\n",
    "cur = con.cursor()\n",
    "\n",
    "cur.execute(\n",
    "    \"\"\"\n",
    "    CREATE TABLE samples (\n",
    "        text_index INTEGER PRIMARY KEY,\n",
    "        haupttitel TEXT,\n",
    "        untertitel TEXT,\n",
    "        volumetitel TEXT,\n",
    "        autor TEXT,\n",
    "        hauptklasse TEXT,\n",
    "        subklasse TEXT,\n",
    "        sprache TEXT,\n",
    "        text TEXT,\n",
    "        publikationsjahr INTEGER,\n",
    "        zeitstratum TEXT,\n",
    "        genrestratum TEXT,\n",
    "        epochen_genres_strata TEXT\n",
    "    );\n",
    "    \"\"\"\n",
    ")\n",
    "con.commit()\n",
    "con.close()"
   ]
  },
  {
   "cell_type": "code",
   "execution_count": 127,
   "metadata": {},
   "outputs": [],
   "source": [
    "con = sqlite3.connect(\"Datenbank.db\")\n",
    "cur = con.cursor()\n",
    "\n",
    "epoch_list = list(epochen_genres_count[\"epochen_genres_strata\"])\n",
    "sample_list = list(map(int, round(epochen_genres_count[\"adjusted_sample\"], 0)))\n",
    "\n",
    "epoch_samples = dict(zip(epoch_list, sample_list))\n",
    "\n",
    "for epochexgenre, sample_size in epoch_samples.items():\n",
    "    sample_size = int(sample_size)\n",
    "    query = f\"\"\"\n",
    "        INSERT INTO samples (text_index, haupttitel, untertitel, volumetitel, autor, hauptklasse, subklasse, sprache, text, publikationsjahr, zeitstratum, genrestratum, epochen_genres_strata)\n",
    "                SELECT text_index, haupttitel, untertitel, volumetitel, autor, hauptklasse, subklasse, sprache, text, publikationsjahr, zeitstratum, genrestratum, epochen_genres_strata\n",
    "                FROM my_data\n",
    "                WHERE epochen_genres_strata = ?\n",
    "                ORDER BY RANDOM()\n",
    "                LIMIT {sample_size}\n",
    "\n",
    "\"\"\"\n",
    "    cur.execute(query, (epochexgenre,))\n",
    "\n",
    "con.commit()\n",
    "con.close()"
   ]
  },
  {
   "cell_type": "markdown",
   "metadata": {},
   "source": [
    "Jetzt wurde die samples-Datenbank befüllt mit 100 zufälligen Textstichproben. An dieser Stelle werden nun die Titel und Untertitel, der Autor und die dazugehörige Epoche x Hauptklasse aufgelistet."
   ]
  },
  {
   "cell_type": "code",
   "execution_count": 135,
   "metadata": {},
   "outputs": [
    {
     "data": {
      "application/vnd.plotly.v1+json": {
       "config": {
        "plotlyServerURL": "https://plot.ly"
       },
       "data": [
        {
         "cells": {
          "align": "left",
          "fill": {
           "color": "lavender"
          },
          "values": [
           [
            "Aufklärung x Belletristik",
            "Aufklärung x Belletristik",
            "Aufklärung x Belletristik",
            "Aufklärung x Belletristik",
            "Aufklärung x Belletristik",
            "Aufklärung x Gebrauchsliteratur",
            "Aufklärung x Gebrauchsliteratur",
            "Aufklärung x Gebrauchsliteratur",
            "Aufklärung x Gebrauchsliteratur",
            "Aufklärung x Wissenschaft",
            "Aufklärung x Wissenschaft",
            "Aufklärung x Wissenschaft",
            "Aufklärung x Wissenschaft",
            "Aufklärung x Wissenschaft",
            "Aufklärung x Wissenschaft",
            "Aufklärung x Wissenschaft",
            "Aufklärung x Zeitung",
            "Aufklärung x Zeitung",
            "Aufklärung x Zeitung",
            "Aufklärung x Zeitung",
            "Barock x Belletristik",
            "Barock x Belletristik",
            "Barock x Gebrauchsliteratur",
            "Barock x Gebrauchsliteratur",
            "Barock x Gebrauchsliteratur",
            "Barock x Gebrauchsliteratur",
            "Barock x Gebrauchsliteratur",
            "Barock x Gebrauchsliteratur",
            "Barock x Gebrauchsliteratur",
            "Barock x Gebrauchsliteratur",
            "Barock x Gebrauchsliteratur",
            "Barock x Gebrauchsliteratur",
            "Barock x Gebrauchsliteratur",
            "Barock x Gebrauchsliteratur",
            "Barock x Wissenschaft",
            "Barock x Wissenschaft",
            "Barock x Zeitung",
            "Frühes 19. Jahrhundert x Belletristik",
            "Frühes 19. Jahrhundert x Belletristik",
            "Frühes 19. Jahrhundert x Belletristik",
            "Frühes 19. Jahrhundert x Belletristik",
            "Frühes 19. Jahrhundert x Gebrauchsliteratur",
            "Frühes 19. Jahrhundert x Wissenschaft",
            "Frühes 19. Jahrhundert x Wissenschaft",
            "Frühes 19. Jahrhundert x Wissenschaft",
            "Frühes 19. Jahrhundert x Zeitung",
            "Industrielle Revolution x Belletristik",
            "Industrielle Revolution x Belletristik",
            "Industrielle Revolution x Belletristik",
            "Industrielle Revolution x Gebrauchsliteratur",
            "Industrielle Revolution x Gebrauchsliteratur",
            "Industrielle Revolution x Wissenschaft",
            "Industrielle Revolution x Wissenschaft",
            "Industrielle Revolution x Wissenschaft",
            "Industrielle Revolution x Wissenschaft",
            "Industrielle Revolution x Wissenschaft",
            "Industrielle Revolution x Wissenschaft",
            "Industrielle Revolution x Zeitung",
            "Industrielle Revolution x Zeitung",
            "Industrielle Revolution x Zeitung",
            "Moderne x Belletristik",
            "Moderne x Belletristik",
            "Moderne x Belletristik",
            "Moderne x Gebrauchsliteratur",
            "Moderne x Gebrauchsliteratur",
            "Moderne x Gebrauchsliteratur",
            "Moderne x Gebrauchsliteratur",
            "Moderne x Gebrauchsliteratur",
            "Moderne x Gebrauchsliteratur",
            "Moderne x Gebrauchsliteratur",
            "Moderne x Wissenschaft",
            "Moderne x Wissenschaft",
            "Moderne x Zeitung",
            "Moderne x Zeitung",
            "Moderne x Zeitung",
            "Renaissance x Belletristik",
            "Renaissance x Gebrauchsliteratur",
            "Renaissance x Gebrauchsliteratur",
            "Renaissance x Wissenschaft",
            "Renaissance x Zeitung",
            "Revolutionsjahre x Belletristik",
            "Revolutionsjahre x Gebrauchsliteratur",
            "Revolutionsjahre x Wissenschaft",
            "Revolutionsjahre x Zeitung",
            "Revolutionsjahre x Zeitung",
            "Revolutionsjahre x Zeitung",
            "Revolutionsjahre x Zeitung",
            "Revolutionsjahre x Zeitung",
            "Revolutionsjahre x Zeitung",
            "Revolutionsjahre x Zeitung",
            "Revolutionsjahre x Zeitung",
            "Revolutionsjahre x Zeitung",
            "Revolutionsjahre x Zeitung",
            "Revolutionsjahre x Zeitung",
            "Revolutionsjahre x Zeitung",
            "Revolutionsjahre x Zeitung",
            "Revolutionsjahre x Zeitung",
            "Revolutionsjahre x Zeitung",
            "Spätmittelalter x Belletristik",
            "Spätmittelalter x Gebrauchsliteratur"
           ],
           [
            "Klopstock, Friedrich Gottlieb",
            "Goethe, Johann Wolfgang von",
            "Raspe, Rudolf Erich",
            "Schulz, Friedrich",
            "Hunold, Christian Friedrich",
            "Mendelssohn, Moses",
            "Reuß-Ebersdorf, Erdmuthe Benigna von",
            "Riemann, Johann Friedrich",
            "Tönnies, Johann Heinrich",
            "Blumenbach, Johann Friedrich",
            "Herder, Johann Gottfried von",
            "Füchsel, Georg Christian",
            "Löscher, Valentin Ernst",
            "Möser, Justus",
            "Müller, Johann Bernhard",
            "Glück, Christian Friedrich von",
            "Geyken, Alexander",
            "Geyken, Alexander",
            "Geyken, Alexander",
            "Geyken, Alexander",
            "Lohenstein, Daniel Casper von",
            "Opitz, Martin",
            "Millichius, Leonhartus",
            "Neomenius, Johann",
            "Arndt, Johann",
            "Dach, Simon",
            "Dach, Simon",
            "Dach, Simon",
            "Baudis, Andreas",
            "Stuer, Barnim von",
            "Dach, Simon",
            "Silber, Wolfgang",
            "Dach, Simon",
            "Schwemler, David",
            "Kramer, Matthias",
            "Basilius, Valentinus",
            "Geyken, Alexander",
            "Pückler-Muskau, Hermann von",
            "Immermann, Karl",
            "Büchner, Georg",
            "Grillparzer, Franz",
            "Fouqué, Caroline de La Motte-",
            "Gessert, Ferdinand",
            "Strauß, David Friedrich",
            "Thaer, Albrecht Daniel",
            "Geyken, Alexander",
            "Ebers, Georg",
            "Fontane, Theodor",
            "Lewald, Fanny",
            "Druskowitz, Helene von",
            "Seehaussen, Richard",
            "Stein, Lorenz von",
            "Stein, Lorenz von",
            "Strouhal, Vincenz",
            "Mohr, Otto",
            "Bastian, Adolf",
            "Mangoldt, Hans von",
            "Geyken, Alexander",
            "Geyken, Alexander",
            "Geyken, Alexander",
            "Schnitzler, Arthur",
            "Schmid, Hermann",
            "Ziegler, Franz Wilhelm",
            "Sanders, Daniel",
            "Luxemburg, Rosa",
            "von Löbell, Heinrich",
            "Sanders, Daniel",
            "Humboldt, Alexander von",
            "Sanders, Daniel",
            "Humboldt, Alexander von",
            "Humboldt, Alexander von",
            "Humboldt, Alexander von",
            "Geyken, Alexander",
            "Geyken, Alexander",
            "Geyken, Alexander",
            "Sachs, Hans",
            "Schnepff, Erhard",
            "Kirchner, Timotheus",
            "N. N., Alexander",
            "Dilbaum, Samuel",
            "Schoppe, Amalie",
            "Aston, Louise",
            "Stock, Ch. L.",
            "Geyken, Alexander",
            "Geyken, Alexander",
            "Geyken, Alexander",
            "Geyken, Alexander",
            "Geyken, Alexander",
            "Geyken, Alexander",
            "Geyken, Alexander",
            "Geyken, Alexander",
            "Geyken, Alexander",
            "Geyken, Alexander",
            "Geyken, Alexander",
            "Geyken, Alexander",
            "Geyken, Alexander",
            "Geyken, Alexander",
            "Geyken, Alexander",
            "Geyken, Alexander",
            "Geyken, Alexander"
           ],
           [
            "Der Messias",
            "Wilhelm Meisters Lehrjahre",
            "Wunderbare Reisen zu Wasser und Lande, Feldzüge und lustige Abentheuer des Freyherrn von Münchhausen, wie er dieselben bey der Flasche im Cirkel seiner Freunde selbst zu erzählen pflegt",
            "Neue Reise durch Italien",
            "Die Edle Bemühung müssiger Stunden",
            "Ueber die Frage: was heißt aufklären?",
            "Vormundschaftsvereinbarung",
            "Praktische Anweisung zum Teichbau",
            "Auszug der Geschichte zur Erklärung der Offenbarung Johannis",
            "Beyträge zur Naturgeschichte",
            "Briefe zu Beförderung der Humanität",
            "Entwurf zu der ältesten Erd- und Menschengeschichte, nebst einem Versuch, den Ursprung der Sprache zu finden",
            "Historie Des Römischen Huren-Regiments Der Theodoræ und Maroziæ",
            "Osnabrückische Geschichte",
            "Leben und Gewohnheiten Der Ostiacken",
            "Versuch einer ausführlichen Erläuterung der Pandecten nach Hellfeld ein Commentar für meine Zuhörer",
            "Num. 80, 19. May 1736",
            "XXXII. Stück/ am Freytage/ den 15. August",
            "Num. 153, 24. September 1751",
            "Der allerneuesten Europäischen Welt- und Staats-Geschichte II. Theil",
            "Ibrahim Sultan",
            "Schäfferey Von der Nimfen Hercinie",
            "Christliche Leich vnd Ehrenpredigt",
            "Kriegs: vnd Helden mutt. wie vnd woher der zu nehmen. Auß dem alten Krieges gesetz/ von Gott selbst gegeben/ Deut. 20, v. 1. 2. 3. 4.",
            "Von wahrem Christenthumb",
            "Bey seligem Hintrit aus dieser Welt Des weiland Ehrnvesten/ Achtbarn und Kunstreichen H. Jochim Westphalen/ allhie in der löblichen Stadt Kneiphof wolbestalten Rahts-Apoteckern",
            "Billige Klage/ Welche bey frühzeitigem und dannenhero schmertzlichem Ableiben Des ... Hn. Ludwig Wilhelms von Pudewels/ Uff Rickgarben ErbHerrn",
            "Schuldigste Hertzliche Trawrigkeit/ Welche über dem seligen zwar Höchstbetrübten Hintritt aus dieser Welt Des ... Herrn Hn. Wilhelm Heinrichen Marggraffen und ChurErben zu Brandenb. in Preüssen ... Unsers gewesenen gnädigsten Fürsten und Herrn Welcher 1648. 21. Mey erfrewlichst gebohren und 1649. 24. Weinmonat ... sanfft und selig/ diese Welt gesegnet/ ... empfunden",
            "Leichpredigt/ Welche bey dem Begräbnüs Des Ehrbaren vnd Gelehrten Christophori Vtlandes des Jüngern",
            "Summarischer vnd kurtzer bericht Von der Türcken vrsprung/ jren Kaisern vnd sieghafften Kriegen/ Auch endlichen bösen vntergang/ welches bald nach seiner eigen Pristern vnd Magis Propheceyung geschehen wird. Aus dem bewertsten Geschichtschreibern zusam gezogen Durch Barnim von Stuer/ der Philosophiae vnd Medicinae Doctorem & Mathematicum",
            "Bey sehr frühzeitigem und trawrigem Abschiede Des lieben und anmuhtigen Kindes Gertruden/ Des ... Herren Stephani Gorlovii/ Der Philosop. M. und der Morgenländischen Sprachen/ bey hiesiger hohen Schulen berühmten Prof. Publ. hertzlieben Töchterleins",
            "Threnodia Parturientis",
            "Die Lehrer werden leuchten wie des Himmels Glantz",
            "Glaubens-Kampff und Sieg Des Weyland HochEdelgebornen/ Gestrengen und Mannvehsten Herrn August Ernst Knochens uff Sollmitz/ im Fürstenthum Anhalt/ Churfl. Durchl. zu Sachsen",
            "Allgemeiner Schau-Platz/ auf welchem vermittelst einer kurtzen Frag-Ordnung vorgestellet wird die Teutsche und Italiänische Benennung aller Haupt-Dinge der Welt",
            "De occvlta philosophia",
            "Relation: Aller Fürnemmen vnd gedenckwürdigen Historien/ so sich hin vnnd wider in Hoch vnnd Nieder Teutschland/ auch in Franckreich/ Jtalien/ Schott vnd Engelland/ Hisspanien/ Hungern/ Polen/ Siebenbürgen/ Wallachey/ Moldaw/ Türckey/ etc. Jnn diesem 1609. Jahr verlauffen vnd zugetragen möchte",
            "Briefe eines Verstorbenen",
            "Münchhausen",
            "Danton's Tod",
            "Sappho",
            "Ueber deutsche Geselligkeit ",
            "Ueber den Begriff und die Wichtigkeit der Schulzucht besonders für die Volksschulen",
            "Das Leben Jesu, kritisch bearbeitet",
            "Grundsätze der rationellen Landwirthschaft",
            "Am Freitag, den 13. Februar",
            "Eine Aegyptische Königstochter",
            "Meine Kinderjahre",
            "Adele",
            "Moderne Versuche eines Religionsersatzes",
            "Schulordnung der Städtischen höheren Mädchenschule zu Marburg",
            "Die Verwaltungslehre",
            "Die Verwaltungslehre",
            "Ueber eine besondere Art der Tonerregung",
            "Beiträge zur Theorie der Holz- und Eisenkonstruktionen",
            "Der Völkergedanke im Aufbau einer Wissenschaft vom Menschen und seine Begründung auf ethnologische Sammlungen",
            "Die Lehre vom Unternehmergewinn",
            "Der Arbeitgeber",
            "Nr. 122, 28.05.1895.",
            "Allgemeine Zeitung",
            "Traumnovelle",
            "Mohrenfranzl",
            "Saat und Ernte",
            "Brief an Adele Glaßbrenner",
            "Frauenwahlrecht und Klassenkampf",
            "Brief an Edgar Vincent D'Abernon",
            "Brief an Heinrich Schliemann",
            "Antwort des Jubilars [auf Überreichung des Jubiläumsdiploms der Kaiserlich-Leopoldinischen Akademie der Naturforscher]",
            "Brief an die Redaktion der Münchner Neuesten Nachrichten",
            "Herrn von Humboldt's Antwortschreiben an Wilhelm Heine",
            "Geognostische und physikalische Beobachtungen über die Vulkane der Hochebene von Quito",
            "Neue physikalische Beobachtungen im spanischen Amerika. Aus Briefen an Fourcroy und Lalande.",
            "Nr. 87, 28.10.1908.",
            "Nr. 53, 22.02.1909.",
            "Nr. 156, 30.12.1909.",
            "Die irrfart Ulissi mit den Werbern und seiner gemahel Penelope",
            "Ordnung in Eesachen",
            "Histori deß Sacramentstreits, Darinnen klärlich außgeführet wirdt, wie diese Zwytracht entstanden, biß auff unsere Zeit continuiret, Und sonderlich was hierinn von den Augspurgischen Confessionsverwandten ... zu gründtlicher Widerlegung deß Zwinglischen unnd Calvinischen Irrthumbs ... gehandelt worden",
            "Splendor Solis",
            "ANNVS CHRISTI, 1597",
            "Der Prophet",
            "Aus dem Leben einer Frau",
            "Grundzüge der Verfassung des Gesellenwesens der deutschen Handwerker in alter und neuer Zeit",
            "Neue Rheinische Zeitung",
            "Neue Rheinische Zeitung",
            "Allgemeine Auswanderungs-Zeitung",
            "Neue Rheinische Zeitung",
            "Allgemeine Auswanderungs-Zeitung",
            "Neue Rheinische Zeitung",
            "Neue Rheinische Zeitung",
            "Neue Rheinische Zeitung",
            "Neue Rheinische Zeitung",
            "Neue Rheinische Zeitung",
            "Neue Rheinische Zeitung",
            "Neue Rheinische Zeitung",
            "Neue Rheinische Zeitung",
            "Neue Rheinische Zeitung",
            "Allgemeine Auswanderungs-Zeitung",
            "Ritter Gottfried",
            "Promptuarium Medicinae, niederdeutsch"
           ]
          ]
         },
         "header": {
          "align": "center",
          "fill": {
           "color": "paleturquoise"
          },
          "values": [
           "epochen_genres_strata",
           "autor",
           "haupttitel"
          ]
         },
         "type": "table"
        }
       ],
       "layout": {
        "height": 3000,
        "template": {
         "data": {
          "bar": [
           {
            "error_x": {
             "color": "#2a3f5f"
            },
            "error_y": {
             "color": "#2a3f5f"
            },
            "marker": {
             "line": {
              "color": "#E5ECF6",
              "width": 0.5
             },
             "pattern": {
              "fillmode": "overlay",
              "size": 10,
              "solidity": 0.2
             }
            },
            "type": "bar"
           }
          ],
          "barpolar": [
           {
            "marker": {
             "line": {
              "color": "#E5ECF6",
              "width": 0.5
             },
             "pattern": {
              "fillmode": "overlay",
              "size": 10,
              "solidity": 0.2
             }
            },
            "type": "barpolar"
           }
          ],
          "carpet": [
           {
            "aaxis": {
             "endlinecolor": "#2a3f5f",
             "gridcolor": "white",
             "linecolor": "white",
             "minorgridcolor": "white",
             "startlinecolor": "#2a3f5f"
            },
            "baxis": {
             "endlinecolor": "#2a3f5f",
             "gridcolor": "white",
             "linecolor": "white",
             "minorgridcolor": "white",
             "startlinecolor": "#2a3f5f"
            },
            "type": "carpet"
           }
          ],
          "choropleth": [
           {
            "colorbar": {
             "outlinewidth": 0,
             "ticks": ""
            },
            "type": "choropleth"
           }
          ],
          "contour": [
           {
            "colorbar": {
             "outlinewidth": 0,
             "ticks": ""
            },
            "colorscale": [
             [
              0,
              "#0d0887"
             ],
             [
              0.1111111111111111,
              "#46039f"
             ],
             [
              0.2222222222222222,
              "#7201a8"
             ],
             [
              0.3333333333333333,
              "#9c179e"
             ],
             [
              0.4444444444444444,
              "#bd3786"
             ],
             [
              0.5555555555555556,
              "#d8576b"
             ],
             [
              0.6666666666666666,
              "#ed7953"
             ],
             [
              0.7777777777777778,
              "#fb9f3a"
             ],
             [
              0.8888888888888888,
              "#fdca26"
             ],
             [
              1,
              "#f0f921"
             ]
            ],
            "type": "contour"
           }
          ],
          "contourcarpet": [
           {
            "colorbar": {
             "outlinewidth": 0,
             "ticks": ""
            },
            "type": "contourcarpet"
           }
          ],
          "heatmap": [
           {
            "colorbar": {
             "outlinewidth": 0,
             "ticks": ""
            },
            "colorscale": [
             [
              0,
              "#0d0887"
             ],
             [
              0.1111111111111111,
              "#46039f"
             ],
             [
              0.2222222222222222,
              "#7201a8"
             ],
             [
              0.3333333333333333,
              "#9c179e"
             ],
             [
              0.4444444444444444,
              "#bd3786"
             ],
             [
              0.5555555555555556,
              "#d8576b"
             ],
             [
              0.6666666666666666,
              "#ed7953"
             ],
             [
              0.7777777777777778,
              "#fb9f3a"
             ],
             [
              0.8888888888888888,
              "#fdca26"
             ],
             [
              1,
              "#f0f921"
             ]
            ],
            "type": "heatmap"
           }
          ],
          "heatmapgl": [
           {
            "colorbar": {
             "outlinewidth": 0,
             "ticks": ""
            },
            "colorscale": [
             [
              0,
              "#0d0887"
             ],
             [
              0.1111111111111111,
              "#46039f"
             ],
             [
              0.2222222222222222,
              "#7201a8"
             ],
             [
              0.3333333333333333,
              "#9c179e"
             ],
             [
              0.4444444444444444,
              "#bd3786"
             ],
             [
              0.5555555555555556,
              "#d8576b"
             ],
             [
              0.6666666666666666,
              "#ed7953"
             ],
             [
              0.7777777777777778,
              "#fb9f3a"
             ],
             [
              0.8888888888888888,
              "#fdca26"
             ],
             [
              1,
              "#f0f921"
             ]
            ],
            "type": "heatmapgl"
           }
          ],
          "histogram": [
           {
            "marker": {
             "pattern": {
              "fillmode": "overlay",
              "size": 10,
              "solidity": 0.2
             }
            },
            "type": "histogram"
           }
          ],
          "histogram2d": [
           {
            "colorbar": {
             "outlinewidth": 0,
             "ticks": ""
            },
            "colorscale": [
             [
              0,
              "#0d0887"
             ],
             [
              0.1111111111111111,
              "#46039f"
             ],
             [
              0.2222222222222222,
              "#7201a8"
             ],
             [
              0.3333333333333333,
              "#9c179e"
             ],
             [
              0.4444444444444444,
              "#bd3786"
             ],
             [
              0.5555555555555556,
              "#d8576b"
             ],
             [
              0.6666666666666666,
              "#ed7953"
             ],
             [
              0.7777777777777778,
              "#fb9f3a"
             ],
             [
              0.8888888888888888,
              "#fdca26"
             ],
             [
              1,
              "#f0f921"
             ]
            ],
            "type": "histogram2d"
           }
          ],
          "histogram2dcontour": [
           {
            "colorbar": {
             "outlinewidth": 0,
             "ticks": ""
            },
            "colorscale": [
             [
              0,
              "#0d0887"
             ],
             [
              0.1111111111111111,
              "#46039f"
             ],
             [
              0.2222222222222222,
              "#7201a8"
             ],
             [
              0.3333333333333333,
              "#9c179e"
             ],
             [
              0.4444444444444444,
              "#bd3786"
             ],
             [
              0.5555555555555556,
              "#d8576b"
             ],
             [
              0.6666666666666666,
              "#ed7953"
             ],
             [
              0.7777777777777778,
              "#fb9f3a"
             ],
             [
              0.8888888888888888,
              "#fdca26"
             ],
             [
              1,
              "#f0f921"
             ]
            ],
            "type": "histogram2dcontour"
           }
          ],
          "mesh3d": [
           {
            "colorbar": {
             "outlinewidth": 0,
             "ticks": ""
            },
            "type": "mesh3d"
           }
          ],
          "parcoords": [
           {
            "line": {
             "colorbar": {
              "outlinewidth": 0,
              "ticks": ""
             }
            },
            "type": "parcoords"
           }
          ],
          "pie": [
           {
            "automargin": true,
            "type": "pie"
           }
          ],
          "scatter": [
           {
            "fillpattern": {
             "fillmode": "overlay",
             "size": 10,
             "solidity": 0.2
            },
            "type": "scatter"
           }
          ],
          "scatter3d": [
           {
            "line": {
             "colorbar": {
              "outlinewidth": 0,
              "ticks": ""
             }
            },
            "marker": {
             "colorbar": {
              "outlinewidth": 0,
              "ticks": ""
             }
            },
            "type": "scatter3d"
           }
          ],
          "scattercarpet": [
           {
            "marker": {
             "colorbar": {
              "outlinewidth": 0,
              "ticks": ""
             }
            },
            "type": "scattercarpet"
           }
          ],
          "scattergeo": [
           {
            "marker": {
             "colorbar": {
              "outlinewidth": 0,
              "ticks": ""
             }
            },
            "type": "scattergeo"
           }
          ],
          "scattergl": [
           {
            "marker": {
             "colorbar": {
              "outlinewidth": 0,
              "ticks": ""
             }
            },
            "type": "scattergl"
           }
          ],
          "scattermapbox": [
           {
            "marker": {
             "colorbar": {
              "outlinewidth": 0,
              "ticks": ""
             }
            },
            "type": "scattermapbox"
           }
          ],
          "scatterpolar": [
           {
            "marker": {
             "colorbar": {
              "outlinewidth": 0,
              "ticks": ""
             }
            },
            "type": "scatterpolar"
           }
          ],
          "scatterpolargl": [
           {
            "marker": {
             "colorbar": {
              "outlinewidth": 0,
              "ticks": ""
             }
            },
            "type": "scatterpolargl"
           }
          ],
          "scatterternary": [
           {
            "marker": {
             "colorbar": {
              "outlinewidth": 0,
              "ticks": ""
             }
            },
            "type": "scatterternary"
           }
          ],
          "surface": [
           {
            "colorbar": {
             "outlinewidth": 0,
             "ticks": ""
            },
            "colorscale": [
             [
              0,
              "#0d0887"
             ],
             [
              0.1111111111111111,
              "#46039f"
             ],
             [
              0.2222222222222222,
              "#7201a8"
             ],
             [
              0.3333333333333333,
              "#9c179e"
             ],
             [
              0.4444444444444444,
              "#bd3786"
             ],
             [
              0.5555555555555556,
              "#d8576b"
             ],
             [
              0.6666666666666666,
              "#ed7953"
             ],
             [
              0.7777777777777778,
              "#fb9f3a"
             ],
             [
              0.8888888888888888,
              "#fdca26"
             ],
             [
              1,
              "#f0f921"
             ]
            ],
            "type": "surface"
           }
          ],
          "table": [
           {
            "cells": {
             "fill": {
              "color": "#EBF0F8"
             },
             "line": {
              "color": "white"
             }
            },
            "header": {
             "fill": {
              "color": "#C8D4E3"
             },
             "line": {
              "color": "white"
             }
            },
            "type": "table"
           }
          ]
         },
         "layout": {
          "annotationdefaults": {
           "arrowcolor": "#2a3f5f",
           "arrowhead": 0,
           "arrowwidth": 1
          },
          "autotypenumbers": "strict",
          "coloraxis": {
           "colorbar": {
            "outlinewidth": 0,
            "ticks": ""
           }
          },
          "colorscale": {
           "diverging": [
            [
             0,
             "#8e0152"
            ],
            [
             0.1,
             "#c51b7d"
            ],
            [
             0.2,
             "#de77ae"
            ],
            [
             0.3,
             "#f1b6da"
            ],
            [
             0.4,
             "#fde0ef"
            ],
            [
             0.5,
             "#f7f7f7"
            ],
            [
             0.6,
             "#e6f5d0"
            ],
            [
             0.7,
             "#b8e186"
            ],
            [
             0.8,
             "#7fbc41"
            ],
            [
             0.9,
             "#4d9221"
            ],
            [
             1,
             "#276419"
            ]
           ],
           "sequential": [
            [
             0,
             "#0d0887"
            ],
            [
             0.1111111111111111,
             "#46039f"
            ],
            [
             0.2222222222222222,
             "#7201a8"
            ],
            [
             0.3333333333333333,
             "#9c179e"
            ],
            [
             0.4444444444444444,
             "#bd3786"
            ],
            [
             0.5555555555555556,
             "#d8576b"
            ],
            [
             0.6666666666666666,
             "#ed7953"
            ],
            [
             0.7777777777777778,
             "#fb9f3a"
            ],
            [
             0.8888888888888888,
             "#fdca26"
            ],
            [
             1,
             "#f0f921"
            ]
           ],
           "sequentialminus": [
            [
             0,
             "#0d0887"
            ],
            [
             0.1111111111111111,
             "#46039f"
            ],
            [
             0.2222222222222222,
             "#7201a8"
            ],
            [
             0.3333333333333333,
             "#9c179e"
            ],
            [
             0.4444444444444444,
             "#bd3786"
            ],
            [
             0.5555555555555556,
             "#d8576b"
            ],
            [
             0.6666666666666666,
             "#ed7953"
            ],
            [
             0.7777777777777778,
             "#fb9f3a"
            ],
            [
             0.8888888888888888,
             "#fdca26"
            ],
            [
             1,
             "#f0f921"
            ]
           ]
          },
          "colorway": [
           "#636efa",
           "#EF553B",
           "#00cc96",
           "#ab63fa",
           "#FFA15A",
           "#19d3f3",
           "#FF6692",
           "#B6E880",
           "#FF97FF",
           "#FECB52"
          ],
          "font": {
           "color": "#2a3f5f"
          },
          "geo": {
           "bgcolor": "white",
           "lakecolor": "white",
           "landcolor": "#E5ECF6",
           "showlakes": true,
           "showland": true,
           "subunitcolor": "white"
          },
          "hoverlabel": {
           "align": "left"
          },
          "hovermode": "closest",
          "mapbox": {
           "style": "light"
          },
          "paper_bgcolor": "white",
          "plot_bgcolor": "#E5ECF6",
          "polar": {
           "angularaxis": {
            "gridcolor": "white",
            "linecolor": "white",
            "ticks": ""
           },
           "bgcolor": "#E5ECF6",
           "radialaxis": {
            "gridcolor": "white",
            "linecolor": "white",
            "ticks": ""
           }
          },
          "scene": {
           "xaxis": {
            "backgroundcolor": "#E5ECF6",
            "gridcolor": "white",
            "gridwidth": 2,
            "linecolor": "white",
            "showbackground": true,
            "ticks": "",
            "zerolinecolor": "white"
           },
           "yaxis": {
            "backgroundcolor": "#E5ECF6",
            "gridcolor": "white",
            "gridwidth": 2,
            "linecolor": "white",
            "showbackground": true,
            "ticks": "",
            "zerolinecolor": "white"
           },
           "zaxis": {
            "backgroundcolor": "#E5ECF6",
            "gridcolor": "white",
            "gridwidth": 2,
            "linecolor": "white",
            "showbackground": true,
            "ticks": "",
            "zerolinecolor": "white"
           }
          },
          "shapedefaults": {
           "line": {
            "color": "#2a3f5f"
           }
          },
          "ternary": {
           "aaxis": {
            "gridcolor": "white",
            "linecolor": "white",
            "ticks": ""
           },
           "baxis": {
            "gridcolor": "white",
            "linecolor": "white",
            "ticks": ""
           },
           "bgcolor": "#E5ECF6",
           "caxis": {
            "gridcolor": "white",
            "linecolor": "white",
            "ticks": ""
           }
          },
          "title": {
           "x": 0.05
          },
          "xaxis": {
           "automargin": true,
           "gridcolor": "white",
           "linecolor": "white",
           "ticks": "",
           "title": {
            "standoff": 15
           },
           "zerolinecolor": "white",
           "zerolinewidth": 2
          },
          "yaxis": {
           "automargin": true,
           "gridcolor": "white",
           "linecolor": "white",
           "ticks": "",
           "title": {
            "standoff": 15
           },
           "zerolinecolor": "white",
           "zerolinewidth": 2
          }
         }
        },
        "title": {
         "text": "Textstichproben"
        }
       }
      }
     },
     "metadata": {},
     "output_type": "display_data"
    }
   ],
   "source": [
    "import pandas as pd\n",
    "import sqlite3\n",
    "import plotly.graph_objects as go\n",
    "\n",
    "con = sqlite3.connect(\"Datenbank.db\")\n",
    "\n",
    "query = \"\"\"SELECT epochen_genres_strata, autor, haupttitel FROM samples\"\"\"\n",
    "\n",
    "df = pd.read_sql_query(query, con)\n",
    "df_sorted = df.sort_values(by=\"epochen_genres_strata\", ascending=True)\n",
    "\n",
    "fig = go.Figure(data=[go.Table(\n",
    "    header=dict(\n",
    "        values=list(df_sorted.columns),\n",
    "        fill_color=\"paleturquoise\",\n",
    "        align=\"center\"\n",
    "    ),\n",
    "    cells=dict(\n",
    "        values=[df_sorted[col] for col in df_sorted.columns],\n",
    "        fill_color=\"lavender\",\n",
    "        align=\"left\"\n",
    "    )\n",
    ")])\n",
    "con.close()\n",
    "fig.update_layout(title=\"Textstichproben\", height=3000)\n",
    "fig.show()\n",
    "\n"
   ]
  },
  {
   "cell_type": "markdown",
   "metadata": {},
   "source": [
    "Bei einer genaueren Betrachtung wird klar, dass die Epoche x Hauptklasse-Schicht Revolutionsjahre x Zeitung einen Bias gegenüber der Neuen Rheinischen Zeitung hat. Dieser Bias kann auch bestätigt werden, wenn die Gesamtanzahl aller Zeitungen aus den Revolutionsjahren miteinander verglichen werden."
   ]
  },
  {
   "cell_type": "code",
   "execution_count": 136,
   "metadata": {},
   "outputs": [
    {
     "data": {
      "application/vnd.plotly.v1+json": {
       "config": {
        "plotlyServerURL": "https://plot.ly"
       },
       "data": [
        {
         "name": "Anzahl Texte pro Revolutionsjahre x Zeitung",
         "type": "bar",
         "x": [
          "Allgemeine Auswandererzeitung Rudolstadt",
          "Allgemeine Auswanderungs-Zeitung",
          "Allgemeine Zeitung",
          "Die Bayerische Presse",
          "Dienstag, 2. Mai",
          "Donnerstag, 4. Mai",
          "Freitag, 5. Mai",
          "Mittwoch, 3. Mai",
          "Montag, 1. Mai",
          "Neue Rheinische Zeitung"
         ],
         "y": [
          1,
          38,
          181,
          74,
          1,
          1,
          1,
          1,
          1,
          530
         ]
        }
       ],
       "layout": {
        "hovermode": "x",
        "template": {
         "data": {
          "bar": [
           {
            "error_x": {
             "color": "#2a3f5f"
            },
            "error_y": {
             "color": "#2a3f5f"
            },
            "marker": {
             "line": {
              "color": "#E5ECF6",
              "width": 0.5
             },
             "pattern": {
              "fillmode": "overlay",
              "size": 10,
              "solidity": 0.2
             }
            },
            "type": "bar"
           }
          ],
          "barpolar": [
           {
            "marker": {
             "line": {
              "color": "#E5ECF6",
              "width": 0.5
             },
             "pattern": {
              "fillmode": "overlay",
              "size": 10,
              "solidity": 0.2
             }
            },
            "type": "barpolar"
           }
          ],
          "carpet": [
           {
            "aaxis": {
             "endlinecolor": "#2a3f5f",
             "gridcolor": "white",
             "linecolor": "white",
             "minorgridcolor": "white",
             "startlinecolor": "#2a3f5f"
            },
            "baxis": {
             "endlinecolor": "#2a3f5f",
             "gridcolor": "white",
             "linecolor": "white",
             "minorgridcolor": "white",
             "startlinecolor": "#2a3f5f"
            },
            "type": "carpet"
           }
          ],
          "choropleth": [
           {
            "colorbar": {
             "outlinewidth": 0,
             "ticks": ""
            },
            "type": "choropleth"
           }
          ],
          "contour": [
           {
            "colorbar": {
             "outlinewidth": 0,
             "ticks": ""
            },
            "colorscale": [
             [
              0,
              "#0d0887"
             ],
             [
              0.1111111111111111,
              "#46039f"
             ],
             [
              0.2222222222222222,
              "#7201a8"
             ],
             [
              0.3333333333333333,
              "#9c179e"
             ],
             [
              0.4444444444444444,
              "#bd3786"
             ],
             [
              0.5555555555555556,
              "#d8576b"
             ],
             [
              0.6666666666666666,
              "#ed7953"
             ],
             [
              0.7777777777777778,
              "#fb9f3a"
             ],
             [
              0.8888888888888888,
              "#fdca26"
             ],
             [
              1,
              "#f0f921"
             ]
            ],
            "type": "contour"
           }
          ],
          "contourcarpet": [
           {
            "colorbar": {
             "outlinewidth": 0,
             "ticks": ""
            },
            "type": "contourcarpet"
           }
          ],
          "heatmap": [
           {
            "colorbar": {
             "outlinewidth": 0,
             "ticks": ""
            },
            "colorscale": [
             [
              0,
              "#0d0887"
             ],
             [
              0.1111111111111111,
              "#46039f"
             ],
             [
              0.2222222222222222,
              "#7201a8"
             ],
             [
              0.3333333333333333,
              "#9c179e"
             ],
             [
              0.4444444444444444,
              "#bd3786"
             ],
             [
              0.5555555555555556,
              "#d8576b"
             ],
             [
              0.6666666666666666,
              "#ed7953"
             ],
             [
              0.7777777777777778,
              "#fb9f3a"
             ],
             [
              0.8888888888888888,
              "#fdca26"
             ],
             [
              1,
              "#f0f921"
             ]
            ],
            "type": "heatmap"
           }
          ],
          "heatmapgl": [
           {
            "colorbar": {
             "outlinewidth": 0,
             "ticks": ""
            },
            "colorscale": [
             [
              0,
              "#0d0887"
             ],
             [
              0.1111111111111111,
              "#46039f"
             ],
             [
              0.2222222222222222,
              "#7201a8"
             ],
             [
              0.3333333333333333,
              "#9c179e"
             ],
             [
              0.4444444444444444,
              "#bd3786"
             ],
             [
              0.5555555555555556,
              "#d8576b"
             ],
             [
              0.6666666666666666,
              "#ed7953"
             ],
             [
              0.7777777777777778,
              "#fb9f3a"
             ],
             [
              0.8888888888888888,
              "#fdca26"
             ],
             [
              1,
              "#f0f921"
             ]
            ],
            "type": "heatmapgl"
           }
          ],
          "histogram": [
           {
            "marker": {
             "pattern": {
              "fillmode": "overlay",
              "size": 10,
              "solidity": 0.2
             }
            },
            "type": "histogram"
           }
          ],
          "histogram2d": [
           {
            "colorbar": {
             "outlinewidth": 0,
             "ticks": ""
            },
            "colorscale": [
             [
              0,
              "#0d0887"
             ],
             [
              0.1111111111111111,
              "#46039f"
             ],
             [
              0.2222222222222222,
              "#7201a8"
             ],
             [
              0.3333333333333333,
              "#9c179e"
             ],
             [
              0.4444444444444444,
              "#bd3786"
             ],
             [
              0.5555555555555556,
              "#d8576b"
             ],
             [
              0.6666666666666666,
              "#ed7953"
             ],
             [
              0.7777777777777778,
              "#fb9f3a"
             ],
             [
              0.8888888888888888,
              "#fdca26"
             ],
             [
              1,
              "#f0f921"
             ]
            ],
            "type": "histogram2d"
           }
          ],
          "histogram2dcontour": [
           {
            "colorbar": {
             "outlinewidth": 0,
             "ticks": ""
            },
            "colorscale": [
             [
              0,
              "#0d0887"
             ],
             [
              0.1111111111111111,
              "#46039f"
             ],
             [
              0.2222222222222222,
              "#7201a8"
             ],
             [
              0.3333333333333333,
              "#9c179e"
             ],
             [
              0.4444444444444444,
              "#bd3786"
             ],
             [
              0.5555555555555556,
              "#d8576b"
             ],
             [
              0.6666666666666666,
              "#ed7953"
             ],
             [
              0.7777777777777778,
              "#fb9f3a"
             ],
             [
              0.8888888888888888,
              "#fdca26"
             ],
             [
              1,
              "#f0f921"
             ]
            ],
            "type": "histogram2dcontour"
           }
          ],
          "mesh3d": [
           {
            "colorbar": {
             "outlinewidth": 0,
             "ticks": ""
            },
            "type": "mesh3d"
           }
          ],
          "parcoords": [
           {
            "line": {
             "colorbar": {
              "outlinewidth": 0,
              "ticks": ""
             }
            },
            "type": "parcoords"
           }
          ],
          "pie": [
           {
            "automargin": true,
            "type": "pie"
           }
          ],
          "scatter": [
           {
            "fillpattern": {
             "fillmode": "overlay",
             "size": 10,
             "solidity": 0.2
            },
            "type": "scatter"
           }
          ],
          "scatter3d": [
           {
            "line": {
             "colorbar": {
              "outlinewidth": 0,
              "ticks": ""
             }
            },
            "marker": {
             "colorbar": {
              "outlinewidth": 0,
              "ticks": ""
             }
            },
            "type": "scatter3d"
           }
          ],
          "scattercarpet": [
           {
            "marker": {
             "colorbar": {
              "outlinewidth": 0,
              "ticks": ""
             }
            },
            "type": "scattercarpet"
           }
          ],
          "scattergeo": [
           {
            "marker": {
             "colorbar": {
              "outlinewidth": 0,
              "ticks": ""
             }
            },
            "type": "scattergeo"
           }
          ],
          "scattergl": [
           {
            "marker": {
             "colorbar": {
              "outlinewidth": 0,
              "ticks": ""
             }
            },
            "type": "scattergl"
           }
          ],
          "scattermapbox": [
           {
            "marker": {
             "colorbar": {
              "outlinewidth": 0,
              "ticks": ""
             }
            },
            "type": "scattermapbox"
           }
          ],
          "scatterpolar": [
           {
            "marker": {
             "colorbar": {
              "outlinewidth": 0,
              "ticks": ""
             }
            },
            "type": "scatterpolar"
           }
          ],
          "scatterpolargl": [
           {
            "marker": {
             "colorbar": {
              "outlinewidth": 0,
              "ticks": ""
             }
            },
            "type": "scatterpolargl"
           }
          ],
          "scatterternary": [
           {
            "marker": {
             "colorbar": {
              "outlinewidth": 0,
              "ticks": ""
             }
            },
            "type": "scatterternary"
           }
          ],
          "surface": [
           {
            "colorbar": {
             "outlinewidth": 0,
             "ticks": ""
            },
            "colorscale": [
             [
              0,
              "#0d0887"
             ],
             [
              0.1111111111111111,
              "#46039f"
             ],
             [
              0.2222222222222222,
              "#7201a8"
             ],
             [
              0.3333333333333333,
              "#9c179e"
             ],
             [
              0.4444444444444444,
              "#bd3786"
             ],
             [
              0.5555555555555556,
              "#d8576b"
             ],
             [
              0.6666666666666666,
              "#ed7953"
             ],
             [
              0.7777777777777778,
              "#fb9f3a"
             ],
             [
              0.8888888888888888,
              "#fdca26"
             ],
             [
              1,
              "#f0f921"
             ]
            ],
            "type": "surface"
           }
          ],
          "table": [
           {
            "cells": {
             "fill": {
              "color": "#EBF0F8"
             },
             "line": {
              "color": "white"
             }
            },
            "header": {
             "fill": {
              "color": "#C8D4E3"
             },
             "line": {
              "color": "white"
             }
            },
            "type": "table"
           }
          ]
         },
         "layout": {
          "annotationdefaults": {
           "arrowcolor": "#2a3f5f",
           "arrowhead": 0,
           "arrowwidth": 1
          },
          "autotypenumbers": "strict",
          "coloraxis": {
           "colorbar": {
            "outlinewidth": 0,
            "ticks": ""
           }
          },
          "colorscale": {
           "diverging": [
            [
             0,
             "#8e0152"
            ],
            [
             0.1,
             "#c51b7d"
            ],
            [
             0.2,
             "#de77ae"
            ],
            [
             0.3,
             "#f1b6da"
            ],
            [
             0.4,
             "#fde0ef"
            ],
            [
             0.5,
             "#f7f7f7"
            ],
            [
             0.6,
             "#e6f5d0"
            ],
            [
             0.7,
             "#b8e186"
            ],
            [
             0.8,
             "#7fbc41"
            ],
            [
             0.9,
             "#4d9221"
            ],
            [
             1,
             "#276419"
            ]
           ],
           "sequential": [
            [
             0,
             "#0d0887"
            ],
            [
             0.1111111111111111,
             "#46039f"
            ],
            [
             0.2222222222222222,
             "#7201a8"
            ],
            [
             0.3333333333333333,
             "#9c179e"
            ],
            [
             0.4444444444444444,
             "#bd3786"
            ],
            [
             0.5555555555555556,
             "#d8576b"
            ],
            [
             0.6666666666666666,
             "#ed7953"
            ],
            [
             0.7777777777777778,
             "#fb9f3a"
            ],
            [
             0.8888888888888888,
             "#fdca26"
            ],
            [
             1,
             "#f0f921"
            ]
           ],
           "sequentialminus": [
            [
             0,
             "#0d0887"
            ],
            [
             0.1111111111111111,
             "#46039f"
            ],
            [
             0.2222222222222222,
             "#7201a8"
            ],
            [
             0.3333333333333333,
             "#9c179e"
            ],
            [
             0.4444444444444444,
             "#bd3786"
            ],
            [
             0.5555555555555556,
             "#d8576b"
            ],
            [
             0.6666666666666666,
             "#ed7953"
            ],
            [
             0.7777777777777778,
             "#fb9f3a"
            ],
            [
             0.8888888888888888,
             "#fdca26"
            ],
            [
             1,
             "#f0f921"
            ]
           ]
          },
          "colorway": [
           "#636efa",
           "#EF553B",
           "#00cc96",
           "#ab63fa",
           "#FFA15A",
           "#19d3f3",
           "#FF6692",
           "#B6E880",
           "#FF97FF",
           "#FECB52"
          ],
          "font": {
           "color": "#2a3f5f"
          },
          "geo": {
           "bgcolor": "white",
           "lakecolor": "white",
           "landcolor": "#E5ECF6",
           "showlakes": true,
           "showland": true,
           "subunitcolor": "white"
          },
          "hoverlabel": {
           "align": "left"
          },
          "hovermode": "closest",
          "mapbox": {
           "style": "light"
          },
          "paper_bgcolor": "white",
          "plot_bgcolor": "#E5ECF6",
          "polar": {
           "angularaxis": {
            "gridcolor": "white",
            "linecolor": "white",
            "ticks": ""
           },
           "bgcolor": "#E5ECF6",
           "radialaxis": {
            "gridcolor": "white",
            "linecolor": "white",
            "ticks": ""
           }
          },
          "scene": {
           "xaxis": {
            "backgroundcolor": "#E5ECF6",
            "gridcolor": "white",
            "gridwidth": 2,
            "linecolor": "white",
            "showbackground": true,
            "ticks": "",
            "zerolinecolor": "white"
           },
           "yaxis": {
            "backgroundcolor": "#E5ECF6",
            "gridcolor": "white",
            "gridwidth": 2,
            "linecolor": "white",
            "showbackground": true,
            "ticks": "",
            "zerolinecolor": "white"
           },
           "zaxis": {
            "backgroundcolor": "#E5ECF6",
            "gridcolor": "white",
            "gridwidth": 2,
            "linecolor": "white",
            "showbackground": true,
            "ticks": "",
            "zerolinecolor": "white"
           }
          },
          "shapedefaults": {
           "line": {
            "color": "#2a3f5f"
           }
          },
          "ternary": {
           "aaxis": {
            "gridcolor": "white",
            "linecolor": "white",
            "ticks": ""
           },
           "baxis": {
            "gridcolor": "white",
            "linecolor": "white",
            "ticks": ""
           },
           "bgcolor": "#E5ECF6",
           "caxis": {
            "gridcolor": "white",
            "linecolor": "white",
            "ticks": ""
           }
          },
          "title": {
           "x": 0.05
          },
          "xaxis": {
           "automargin": true,
           "gridcolor": "white",
           "linecolor": "white",
           "ticks": "",
           "title": {
            "standoff": 15
           },
           "zerolinecolor": "white",
           "zerolinewidth": 2
          },
          "yaxis": {
           "automargin": true,
           "gridcolor": "white",
           "linecolor": "white",
           "ticks": "",
           "title": {
            "standoff": 15
           },
           "zerolinecolor": "white",
           "zerolinewidth": 2
          }
         }
        },
        "title": {
         "text": "Anzahl Texte pro Haupttitel in Revolutionsjahre x Zeitung"
        },
        "xaxis": {
         "title": {
          "text": "Haupttitel"
         }
        },
        "yaxis": {
         "title": {
          "text": "Anzahl Texte"
         }
        }
       }
      }
     },
     "metadata": {},
     "output_type": "display_data"
    }
   ],
   "source": [
    "import sqlite3\n",
    "import pandas as pd\n",
    "import plotly.graph_objects as go\n",
    "\n",
    "con = sqlite3.connect(\"Datenbank.db\")\n",
    "query = \"\"\"SELECT haupttitel FROM my_data WHERE epochen_genres_strata='Revolutionsjahre x Zeitung'\"\"\"\n",
    "\n",
    "df = pd.read_sql_query(query, con)\n",
    "\n",
    "haupttitel_count = df.groupby(\"haupttitel\").size().reset_index(name=\"count\")\n",
    "\n",
    "\n",
    "fig = go.Figure(data=[go.Bar(name=\"Anzahl Texte pro Revolutionsjahre x Zeitung\", x=haupttitel_count[\"haupttitel\"], y=haupttitel_count[\"count\"])])\n",
    "\n",
    "fig.update_layout(\n",
    "    title=\"Anzahl Texte pro Haupttitel in Revolutionsjahre x Zeitung\",\n",
    "    xaxis_title=\"Haupttitel\",\n",
    "    yaxis_title=\"Anzahl Texte\",\n",
    "    hovermode=\"x\"\n",
    ")\n",
    "\n",
    "con.close()\n",
    "fig.show()"
   ]
  },
  {
   "cell_type": "markdown",
   "metadata": {},
   "source": [
    "Um ein gleichmässigeres Sampling zu gewährleisten werden die 15 Samples proportional aufgeteilt."
   ]
  },
  {
   "cell_type": "code",
   "execution_count": 9,
   "metadata": {},
   "outputs": [
    {
     "data": {
      "application/vnd.plotly.v1+json": {
       "config": {
        "plotlyServerURL": "https://plot.ly"
       },
       "data": [
        {
         "cells": {
          "align": "left",
          "fill": {
           "color": "lavender"
          },
          "values": [
           [
            "Allgemeine Auswandererzeitung Rudolstadt",
            "Allgemeine Auswanderungs-Zeitung",
            "Allgemeine Zeitung",
            "Die Bayerische Presse",
            "Dienstag, 2. Mai",
            "Donnerstag, 4. Mai",
            "Freitag, 5. Mai",
            "Mittwoch, 3. Mai",
            "Montag, 1. Mai",
            "Neue Rheinische Zeitung"
           ],
           [
            1,
            38,
            181,
            74,
            1,
            1,
            1,
            1,
            1,
            530
           ],
           [
            0.00121,
            0.04584,
            0.21834,
            0.08926,
            0.00121,
            0.00121,
            0.00121,
            0.00121,
            0.00121,
            0.63932
           ],
           [
            0,
            1,
            3,
            1,
            0,
            0,
            0,
            0,
            0,
            10
           ]
          ]
         },
         "header": {
          "align": "center",
          "fill": {
           "color": "paleturquoise"
          },
          "values": [
           "haupttitel",
           "count",
           "weight",
           "sample_size"
          ]
         },
         "type": "table"
        }
       ],
       "layout": {
        "template": {
         "data": {
          "bar": [
           {
            "error_x": {
             "color": "#2a3f5f"
            },
            "error_y": {
             "color": "#2a3f5f"
            },
            "marker": {
             "line": {
              "color": "#E5ECF6",
              "width": 0.5
             },
             "pattern": {
              "fillmode": "overlay",
              "size": 10,
              "solidity": 0.2
             }
            },
            "type": "bar"
           }
          ],
          "barpolar": [
           {
            "marker": {
             "line": {
              "color": "#E5ECF6",
              "width": 0.5
             },
             "pattern": {
              "fillmode": "overlay",
              "size": 10,
              "solidity": 0.2
             }
            },
            "type": "barpolar"
           }
          ],
          "carpet": [
           {
            "aaxis": {
             "endlinecolor": "#2a3f5f",
             "gridcolor": "white",
             "linecolor": "white",
             "minorgridcolor": "white",
             "startlinecolor": "#2a3f5f"
            },
            "baxis": {
             "endlinecolor": "#2a3f5f",
             "gridcolor": "white",
             "linecolor": "white",
             "minorgridcolor": "white",
             "startlinecolor": "#2a3f5f"
            },
            "type": "carpet"
           }
          ],
          "choropleth": [
           {
            "colorbar": {
             "outlinewidth": 0,
             "ticks": ""
            },
            "type": "choropleth"
           }
          ],
          "contour": [
           {
            "colorbar": {
             "outlinewidth": 0,
             "ticks": ""
            },
            "colorscale": [
             [
              0,
              "#0d0887"
             ],
             [
              0.1111111111111111,
              "#46039f"
             ],
             [
              0.2222222222222222,
              "#7201a8"
             ],
             [
              0.3333333333333333,
              "#9c179e"
             ],
             [
              0.4444444444444444,
              "#bd3786"
             ],
             [
              0.5555555555555556,
              "#d8576b"
             ],
             [
              0.6666666666666666,
              "#ed7953"
             ],
             [
              0.7777777777777778,
              "#fb9f3a"
             ],
             [
              0.8888888888888888,
              "#fdca26"
             ],
             [
              1,
              "#f0f921"
             ]
            ],
            "type": "contour"
           }
          ],
          "contourcarpet": [
           {
            "colorbar": {
             "outlinewidth": 0,
             "ticks": ""
            },
            "type": "contourcarpet"
           }
          ],
          "heatmap": [
           {
            "colorbar": {
             "outlinewidth": 0,
             "ticks": ""
            },
            "colorscale": [
             [
              0,
              "#0d0887"
             ],
             [
              0.1111111111111111,
              "#46039f"
             ],
             [
              0.2222222222222222,
              "#7201a8"
             ],
             [
              0.3333333333333333,
              "#9c179e"
             ],
             [
              0.4444444444444444,
              "#bd3786"
             ],
             [
              0.5555555555555556,
              "#d8576b"
             ],
             [
              0.6666666666666666,
              "#ed7953"
             ],
             [
              0.7777777777777778,
              "#fb9f3a"
             ],
             [
              0.8888888888888888,
              "#fdca26"
             ],
             [
              1,
              "#f0f921"
             ]
            ],
            "type": "heatmap"
           }
          ],
          "heatmapgl": [
           {
            "colorbar": {
             "outlinewidth": 0,
             "ticks": ""
            },
            "colorscale": [
             [
              0,
              "#0d0887"
             ],
             [
              0.1111111111111111,
              "#46039f"
             ],
             [
              0.2222222222222222,
              "#7201a8"
             ],
             [
              0.3333333333333333,
              "#9c179e"
             ],
             [
              0.4444444444444444,
              "#bd3786"
             ],
             [
              0.5555555555555556,
              "#d8576b"
             ],
             [
              0.6666666666666666,
              "#ed7953"
             ],
             [
              0.7777777777777778,
              "#fb9f3a"
             ],
             [
              0.8888888888888888,
              "#fdca26"
             ],
             [
              1,
              "#f0f921"
             ]
            ],
            "type": "heatmapgl"
           }
          ],
          "histogram": [
           {
            "marker": {
             "pattern": {
              "fillmode": "overlay",
              "size": 10,
              "solidity": 0.2
             }
            },
            "type": "histogram"
           }
          ],
          "histogram2d": [
           {
            "colorbar": {
             "outlinewidth": 0,
             "ticks": ""
            },
            "colorscale": [
             [
              0,
              "#0d0887"
             ],
             [
              0.1111111111111111,
              "#46039f"
             ],
             [
              0.2222222222222222,
              "#7201a8"
             ],
             [
              0.3333333333333333,
              "#9c179e"
             ],
             [
              0.4444444444444444,
              "#bd3786"
             ],
             [
              0.5555555555555556,
              "#d8576b"
             ],
             [
              0.6666666666666666,
              "#ed7953"
             ],
             [
              0.7777777777777778,
              "#fb9f3a"
             ],
             [
              0.8888888888888888,
              "#fdca26"
             ],
             [
              1,
              "#f0f921"
             ]
            ],
            "type": "histogram2d"
           }
          ],
          "histogram2dcontour": [
           {
            "colorbar": {
             "outlinewidth": 0,
             "ticks": ""
            },
            "colorscale": [
             [
              0,
              "#0d0887"
             ],
             [
              0.1111111111111111,
              "#46039f"
             ],
             [
              0.2222222222222222,
              "#7201a8"
             ],
             [
              0.3333333333333333,
              "#9c179e"
             ],
             [
              0.4444444444444444,
              "#bd3786"
             ],
             [
              0.5555555555555556,
              "#d8576b"
             ],
             [
              0.6666666666666666,
              "#ed7953"
             ],
             [
              0.7777777777777778,
              "#fb9f3a"
             ],
             [
              0.8888888888888888,
              "#fdca26"
             ],
             [
              1,
              "#f0f921"
             ]
            ],
            "type": "histogram2dcontour"
           }
          ],
          "mesh3d": [
           {
            "colorbar": {
             "outlinewidth": 0,
             "ticks": ""
            },
            "type": "mesh3d"
           }
          ],
          "parcoords": [
           {
            "line": {
             "colorbar": {
              "outlinewidth": 0,
              "ticks": ""
             }
            },
            "type": "parcoords"
           }
          ],
          "pie": [
           {
            "automargin": true,
            "type": "pie"
           }
          ],
          "scatter": [
           {
            "fillpattern": {
             "fillmode": "overlay",
             "size": 10,
             "solidity": 0.2
            },
            "type": "scatter"
           }
          ],
          "scatter3d": [
           {
            "line": {
             "colorbar": {
              "outlinewidth": 0,
              "ticks": ""
             }
            },
            "marker": {
             "colorbar": {
              "outlinewidth": 0,
              "ticks": ""
             }
            },
            "type": "scatter3d"
           }
          ],
          "scattercarpet": [
           {
            "marker": {
             "colorbar": {
              "outlinewidth": 0,
              "ticks": ""
             }
            },
            "type": "scattercarpet"
           }
          ],
          "scattergeo": [
           {
            "marker": {
             "colorbar": {
              "outlinewidth": 0,
              "ticks": ""
             }
            },
            "type": "scattergeo"
           }
          ],
          "scattergl": [
           {
            "marker": {
             "colorbar": {
              "outlinewidth": 0,
              "ticks": ""
             }
            },
            "type": "scattergl"
           }
          ],
          "scattermapbox": [
           {
            "marker": {
             "colorbar": {
              "outlinewidth": 0,
              "ticks": ""
             }
            },
            "type": "scattermapbox"
           }
          ],
          "scatterpolar": [
           {
            "marker": {
             "colorbar": {
              "outlinewidth": 0,
              "ticks": ""
             }
            },
            "type": "scatterpolar"
           }
          ],
          "scatterpolargl": [
           {
            "marker": {
             "colorbar": {
              "outlinewidth": 0,
              "ticks": ""
             }
            },
            "type": "scatterpolargl"
           }
          ],
          "scatterternary": [
           {
            "marker": {
             "colorbar": {
              "outlinewidth": 0,
              "ticks": ""
             }
            },
            "type": "scatterternary"
           }
          ],
          "surface": [
           {
            "colorbar": {
             "outlinewidth": 0,
             "ticks": ""
            },
            "colorscale": [
             [
              0,
              "#0d0887"
             ],
             [
              0.1111111111111111,
              "#46039f"
             ],
             [
              0.2222222222222222,
              "#7201a8"
             ],
             [
              0.3333333333333333,
              "#9c179e"
             ],
             [
              0.4444444444444444,
              "#bd3786"
             ],
             [
              0.5555555555555556,
              "#d8576b"
             ],
             [
              0.6666666666666666,
              "#ed7953"
             ],
             [
              0.7777777777777778,
              "#fb9f3a"
             ],
             [
              0.8888888888888888,
              "#fdca26"
             ],
             [
              1,
              "#f0f921"
             ]
            ],
            "type": "surface"
           }
          ],
          "table": [
           {
            "cells": {
             "fill": {
              "color": "#EBF0F8"
             },
             "line": {
              "color": "white"
             }
            },
            "header": {
             "fill": {
              "color": "#C8D4E3"
             },
             "line": {
              "color": "white"
             }
            },
            "type": "table"
           }
          ]
         },
         "layout": {
          "annotationdefaults": {
           "arrowcolor": "#2a3f5f",
           "arrowhead": 0,
           "arrowwidth": 1
          },
          "autotypenumbers": "strict",
          "coloraxis": {
           "colorbar": {
            "outlinewidth": 0,
            "ticks": ""
           }
          },
          "colorscale": {
           "diverging": [
            [
             0,
             "#8e0152"
            ],
            [
             0.1,
             "#c51b7d"
            ],
            [
             0.2,
             "#de77ae"
            ],
            [
             0.3,
             "#f1b6da"
            ],
            [
             0.4,
             "#fde0ef"
            ],
            [
             0.5,
             "#f7f7f7"
            ],
            [
             0.6,
             "#e6f5d0"
            ],
            [
             0.7,
             "#b8e186"
            ],
            [
             0.8,
             "#7fbc41"
            ],
            [
             0.9,
             "#4d9221"
            ],
            [
             1,
             "#276419"
            ]
           ],
           "sequential": [
            [
             0,
             "#0d0887"
            ],
            [
             0.1111111111111111,
             "#46039f"
            ],
            [
             0.2222222222222222,
             "#7201a8"
            ],
            [
             0.3333333333333333,
             "#9c179e"
            ],
            [
             0.4444444444444444,
             "#bd3786"
            ],
            [
             0.5555555555555556,
             "#d8576b"
            ],
            [
             0.6666666666666666,
             "#ed7953"
            ],
            [
             0.7777777777777778,
             "#fb9f3a"
            ],
            [
             0.8888888888888888,
             "#fdca26"
            ],
            [
             1,
             "#f0f921"
            ]
           ],
           "sequentialminus": [
            [
             0,
             "#0d0887"
            ],
            [
             0.1111111111111111,
             "#46039f"
            ],
            [
             0.2222222222222222,
             "#7201a8"
            ],
            [
             0.3333333333333333,
             "#9c179e"
            ],
            [
             0.4444444444444444,
             "#bd3786"
            ],
            [
             0.5555555555555556,
             "#d8576b"
            ],
            [
             0.6666666666666666,
             "#ed7953"
            ],
            [
             0.7777777777777778,
             "#fb9f3a"
            ],
            [
             0.8888888888888888,
             "#fdca26"
            ],
            [
             1,
             "#f0f921"
            ]
           ]
          },
          "colorway": [
           "#636efa",
           "#EF553B",
           "#00cc96",
           "#ab63fa",
           "#FFA15A",
           "#19d3f3",
           "#FF6692",
           "#B6E880",
           "#FF97FF",
           "#FECB52"
          ],
          "font": {
           "color": "#2a3f5f"
          },
          "geo": {
           "bgcolor": "white",
           "lakecolor": "white",
           "landcolor": "#E5ECF6",
           "showlakes": true,
           "showland": true,
           "subunitcolor": "white"
          },
          "hoverlabel": {
           "align": "left"
          },
          "hovermode": "closest",
          "mapbox": {
           "style": "light"
          },
          "paper_bgcolor": "white",
          "plot_bgcolor": "#E5ECF6",
          "polar": {
           "angularaxis": {
            "gridcolor": "white",
            "linecolor": "white",
            "ticks": ""
           },
           "bgcolor": "#E5ECF6",
           "radialaxis": {
            "gridcolor": "white",
            "linecolor": "white",
            "ticks": ""
           }
          },
          "scene": {
           "xaxis": {
            "backgroundcolor": "#E5ECF6",
            "gridcolor": "white",
            "gridwidth": 2,
            "linecolor": "white",
            "showbackground": true,
            "ticks": "",
            "zerolinecolor": "white"
           },
           "yaxis": {
            "backgroundcolor": "#E5ECF6",
            "gridcolor": "white",
            "gridwidth": 2,
            "linecolor": "white",
            "showbackground": true,
            "ticks": "",
            "zerolinecolor": "white"
           },
           "zaxis": {
            "backgroundcolor": "#E5ECF6",
            "gridcolor": "white",
            "gridwidth": 2,
            "linecolor": "white",
            "showbackground": true,
            "ticks": "",
            "zerolinecolor": "white"
           }
          },
          "shapedefaults": {
           "line": {
            "color": "#2a3f5f"
           }
          },
          "ternary": {
           "aaxis": {
            "gridcolor": "white",
            "linecolor": "white",
            "ticks": ""
           },
           "baxis": {
            "gridcolor": "white",
            "linecolor": "white",
            "ticks": ""
           },
           "bgcolor": "#E5ECF6",
           "caxis": {
            "gridcolor": "white",
            "linecolor": "white",
            "ticks": ""
           }
          },
          "title": {
           "x": 0.05
          },
          "xaxis": {
           "automargin": true,
           "gridcolor": "white",
           "linecolor": "white",
           "ticks": "",
           "title": {
            "standoff": 15
           },
           "zerolinecolor": "white",
           "zerolinewidth": 2
          },
          "yaxis": {
           "automargin": true,
           "gridcolor": "white",
           "linecolor": "white",
           "ticks": "",
           "title": {
            "standoff": 15
           },
           "zerolinecolor": "white",
           "zerolinewidth": 2
          }
         }
        },
        "title": {
         "text": "Revolutionsjahre x Zeitung Aufschichtung"
        }
       }
      }
     },
     "metadata": {},
     "output_type": "display_data"
    }
   ],
   "source": [
    "import sqlite3\n",
    "import pandas as pd\n",
    "import plotly.graph_objects as go\n",
    "\n",
    "con = sqlite3.connect(\"Datenbank.db\")\n",
    "cur = con.cursor()\n",
    "query = \"\"\"SELECT haupttitel FROM my_data WHERE epochen_genres_strata = 'Revolutionsjahre x Zeitung'\"\"\"\n",
    "\n",
    "total_count = cur.execute(\"SELECT COUNT(epochen_genres_strata) FROM my_data WHERE epochen_genres_strata='Revolutionsjahre x Zeitung'\").fetchone()[0]\n",
    "\n",
    "df = pd.read_sql_query(query, con)\n",
    "\n",
    "haupttitel_count = df.groupby(\"haupttitel\").size().reset_index(name=\"count\")\n",
    "\n",
    "\n",
    "haupttitel_count[\"weight\"] = haupttitel_count[\"count\"] / total_count\n",
    "\n",
    "haupttitel_count[\"sample_size\"] = round(haupttitel_count[\"weight\"] * 15, 0)\n",
    "\n",
    "haupttitel_count[\"weight\"] = round(haupttitel_count['weight'], 5)\n",
    "\n",
    "fig = go.Figure(data=[go.Table(\n",
    "    header=dict(\n",
    "        values=list(haupttitel_count.columns),\n",
    "        fill_color=\"paleturquoise\",\n",
    "        align=\"center\"\n",
    "    ),\n",
    "    cells=dict(\n",
    "        values=[haupttitel_count[col] for col in haupttitel_count.columns],\n",
    "        fill_color=\"lavender\",\n",
    "        align=\"left\"\n",
    "    )\n",
    ")])\n",
    "\n",
    "con.close()\n",
    "fig.update_layout(title=\"Revolutionsjahre x Zeitung Aufschichtung\")\n",
    "fig.show()"
   ]
  },
  {
   "cell_type": "markdown",
   "metadata": {},
   "source": [
    "Wie hier sichtbar wird, gibt es von den Zeitungen \n",
    "- Montag, 1. Mai\n",
    "- Dienstag, 2. Mai\n",
    "- Mittwoch, 3. Mai\n",
    "- Donnerstag, 4. Mai\n",
    "- Freitag, 5. Mai\n",
    "- Allgemeine Auswandererzeitung Rudolstadt\n",
    "nur jeweils ein Exemplar.\n",
    "\n",
    "Es wird vermutet, dass die Zeitungen mit den Wochentagen, strukturell und linguistisch ähnlich sind. Zunächst wird überprüft, ob die Publikationsjahre übereinstimmen und der Herausgeber die gleiche Person ist."
   ]
  },
  {
   "cell_type": "code",
   "execution_count": 13,
   "metadata": {},
   "outputs": [
    {
     "name": "stdout",
     "output_type": "stream",
     "text": [
      "Die Zeitschrift 'Montag, 1. Mai' wurde 1848 von Geyken, Alexander publiziert.\n",
      "Die Zeitschrift 'Dienstag, 2. Mai' wurde 1848 von Geyken, Alexander publiziert.\n",
      "Die Zeitschrift 'Mittwoch, 3. Mai' wurde 1848 von Geyken, Alexander publiziert.\n",
      "Die Zeitschrift 'Donnerstag, 4. Mai' wurde 1848 von Geyken, Alexander publiziert.\n",
      "Die Zeitschrift 'Freitag, 5. Mai' wurde 1848 von Geyken, Alexander publiziert.\n"
     ]
    }
   ],
   "source": [
    "import sqlite3\n",
    "\n",
    "con = sqlite3.connect(\"Datenbank.db\")\n",
    "cur = con.cursor()\n",
    "\n",
    "outputs = cur.execute(\"\"\"SELECT haupttitel, publikationsjahr, autor FROM my_data WHERE haupttitel IN (\n",
    "                    'Montag, 1. Mai',\n",
    "                    'Dienstag, 2. Mai',\n",
    "                    'Mittwoch, 3. Mai',\n",
    "                    'Donnerstag, 4. Mai',\n",
    "                    'Freitag, 5. Mai'\n",
    "                  )\"\"\").fetchall()\n",
    "\n",
    "for output in outputs:\n",
    "    title = output[0]\n",
    "    year = output[1]\n",
    "    author = output[2]\n",
    "    print(f\"Die Zeitschrift '{title}' wurde {year} von {author} publiziert.\")\n",
    "\n",
    "con.close()"
   ]
  },
  {
   "cell_type": "markdown",
   "metadata": {},
   "source": [
    "Dies bestätigt die Annahme, dass alle Zeitungen im gleichen Jahr und vom gleichen Herausgeber sind. Der Vergleich der Zeitungen im Deutschen Textarchiv bestätigt zudem, dass sie zu der Zeitung \"Staats und Gelehrte Zetung des Hamburgischen unpartheiischen Correspondenten\" zugehörig sind:\n",
    "\n",
    "https://www.deutschestextarchiv.de/book/view/hc_1040105_1848?p=1\n",
    "https://www.deutschestextarchiv.de/book/view/hc_1050205_1848?p=1\n",
    "https://www.deutschestextarchiv.de/book/view/hc_1060305_1848?p=1\n",
    "https://www.deutschestextarchiv.de/book/view/hc_1070405_1848?p=1\n",
    "https://www.deutschestextarchiv.de/book/view/hc_1080505_1848?p=1\n",
    "\n",
    "Für den Preprocessing-Schritt reicht es deshalb, die Sample-Menge dieser Zeitung auf eins zu beschränken.\n",
    "\n",
    "Nun wird geprüft, ob zwischen der Allgemeinen Auswandererzeitung Rudolstadt (ein Exemplar) und der Allgemeinen Auswanderungs-Zeitung (38 Exemplare) ein Zusammenhang besteht. Dabei wird Autorenschaft und Untertitel miteinander abgeglichen."
   ]
  },
  {
   "cell_type": "code",
   "execution_count": 33,
   "metadata": {},
   "outputs": [
    {
     "data": {
      "application/vnd.plotly.v1+json": {
       "config": {
        "plotlyServerURL": "https://plot.ly"
       },
       "data": [
        {
         "cells": {
          "values": [
           [
            "Allgemeine Auswanderungs-Zeitung",
            "Allgemeine Auswandererzeitung Rudolstadt"
           ],
           [
            "Organ für Kunde aus deutschen Ansiedlungen, für Rath und That zu Gunsten der fortziehenden Brüder, sowie für Oeffentlichkeit in Auswanderungssachen überhaupt.",
            "Organ für Kunde aus deutschen Ansiedlungen, für Rath und That zu Gunsten der fortziehenden Brüder, sowie für Oeffentlichkeit in Auswanderungssachen überhaupt."
           ],
           [
            "Geyken, Alexander",
            "Geyken, Alexander"
           ]
          ]
         },
         "header": {
          "values": [
           "Haupttitel",
           "Untertitel",
           "Autor"
          ]
         },
         "type": "table"
        }
       ],
       "layout": {
        "template": {
         "data": {
          "bar": [
           {
            "error_x": {
             "color": "#2a3f5f"
            },
            "error_y": {
             "color": "#2a3f5f"
            },
            "marker": {
             "line": {
              "color": "#E5ECF6",
              "width": 0.5
             },
             "pattern": {
              "fillmode": "overlay",
              "size": 10,
              "solidity": 0.2
             }
            },
            "type": "bar"
           }
          ],
          "barpolar": [
           {
            "marker": {
             "line": {
              "color": "#E5ECF6",
              "width": 0.5
             },
             "pattern": {
              "fillmode": "overlay",
              "size": 10,
              "solidity": 0.2
             }
            },
            "type": "barpolar"
           }
          ],
          "carpet": [
           {
            "aaxis": {
             "endlinecolor": "#2a3f5f",
             "gridcolor": "white",
             "linecolor": "white",
             "minorgridcolor": "white",
             "startlinecolor": "#2a3f5f"
            },
            "baxis": {
             "endlinecolor": "#2a3f5f",
             "gridcolor": "white",
             "linecolor": "white",
             "minorgridcolor": "white",
             "startlinecolor": "#2a3f5f"
            },
            "type": "carpet"
           }
          ],
          "choropleth": [
           {
            "colorbar": {
             "outlinewidth": 0,
             "ticks": ""
            },
            "type": "choropleth"
           }
          ],
          "contour": [
           {
            "colorbar": {
             "outlinewidth": 0,
             "ticks": ""
            },
            "colorscale": [
             [
              0,
              "#0d0887"
             ],
             [
              0.1111111111111111,
              "#46039f"
             ],
             [
              0.2222222222222222,
              "#7201a8"
             ],
             [
              0.3333333333333333,
              "#9c179e"
             ],
             [
              0.4444444444444444,
              "#bd3786"
             ],
             [
              0.5555555555555556,
              "#d8576b"
             ],
             [
              0.6666666666666666,
              "#ed7953"
             ],
             [
              0.7777777777777778,
              "#fb9f3a"
             ],
             [
              0.8888888888888888,
              "#fdca26"
             ],
             [
              1,
              "#f0f921"
             ]
            ],
            "type": "contour"
           }
          ],
          "contourcarpet": [
           {
            "colorbar": {
             "outlinewidth": 0,
             "ticks": ""
            },
            "type": "contourcarpet"
           }
          ],
          "heatmap": [
           {
            "colorbar": {
             "outlinewidth": 0,
             "ticks": ""
            },
            "colorscale": [
             [
              0,
              "#0d0887"
             ],
             [
              0.1111111111111111,
              "#46039f"
             ],
             [
              0.2222222222222222,
              "#7201a8"
             ],
             [
              0.3333333333333333,
              "#9c179e"
             ],
             [
              0.4444444444444444,
              "#bd3786"
             ],
             [
              0.5555555555555556,
              "#d8576b"
             ],
             [
              0.6666666666666666,
              "#ed7953"
             ],
             [
              0.7777777777777778,
              "#fb9f3a"
             ],
             [
              0.8888888888888888,
              "#fdca26"
             ],
             [
              1,
              "#f0f921"
             ]
            ],
            "type": "heatmap"
           }
          ],
          "heatmapgl": [
           {
            "colorbar": {
             "outlinewidth": 0,
             "ticks": ""
            },
            "colorscale": [
             [
              0,
              "#0d0887"
             ],
             [
              0.1111111111111111,
              "#46039f"
             ],
             [
              0.2222222222222222,
              "#7201a8"
             ],
             [
              0.3333333333333333,
              "#9c179e"
             ],
             [
              0.4444444444444444,
              "#bd3786"
             ],
             [
              0.5555555555555556,
              "#d8576b"
             ],
             [
              0.6666666666666666,
              "#ed7953"
             ],
             [
              0.7777777777777778,
              "#fb9f3a"
             ],
             [
              0.8888888888888888,
              "#fdca26"
             ],
             [
              1,
              "#f0f921"
             ]
            ],
            "type": "heatmapgl"
           }
          ],
          "histogram": [
           {
            "marker": {
             "pattern": {
              "fillmode": "overlay",
              "size": 10,
              "solidity": 0.2
             }
            },
            "type": "histogram"
           }
          ],
          "histogram2d": [
           {
            "colorbar": {
             "outlinewidth": 0,
             "ticks": ""
            },
            "colorscale": [
             [
              0,
              "#0d0887"
             ],
             [
              0.1111111111111111,
              "#46039f"
             ],
             [
              0.2222222222222222,
              "#7201a8"
             ],
             [
              0.3333333333333333,
              "#9c179e"
             ],
             [
              0.4444444444444444,
              "#bd3786"
             ],
             [
              0.5555555555555556,
              "#d8576b"
             ],
             [
              0.6666666666666666,
              "#ed7953"
             ],
             [
              0.7777777777777778,
              "#fb9f3a"
             ],
             [
              0.8888888888888888,
              "#fdca26"
             ],
             [
              1,
              "#f0f921"
             ]
            ],
            "type": "histogram2d"
           }
          ],
          "histogram2dcontour": [
           {
            "colorbar": {
             "outlinewidth": 0,
             "ticks": ""
            },
            "colorscale": [
             [
              0,
              "#0d0887"
             ],
             [
              0.1111111111111111,
              "#46039f"
             ],
             [
              0.2222222222222222,
              "#7201a8"
             ],
             [
              0.3333333333333333,
              "#9c179e"
             ],
             [
              0.4444444444444444,
              "#bd3786"
             ],
             [
              0.5555555555555556,
              "#d8576b"
             ],
             [
              0.6666666666666666,
              "#ed7953"
             ],
             [
              0.7777777777777778,
              "#fb9f3a"
             ],
             [
              0.8888888888888888,
              "#fdca26"
             ],
             [
              1,
              "#f0f921"
             ]
            ],
            "type": "histogram2dcontour"
           }
          ],
          "mesh3d": [
           {
            "colorbar": {
             "outlinewidth": 0,
             "ticks": ""
            },
            "type": "mesh3d"
           }
          ],
          "parcoords": [
           {
            "line": {
             "colorbar": {
              "outlinewidth": 0,
              "ticks": ""
             }
            },
            "type": "parcoords"
           }
          ],
          "pie": [
           {
            "automargin": true,
            "type": "pie"
           }
          ],
          "scatter": [
           {
            "fillpattern": {
             "fillmode": "overlay",
             "size": 10,
             "solidity": 0.2
            },
            "type": "scatter"
           }
          ],
          "scatter3d": [
           {
            "line": {
             "colorbar": {
              "outlinewidth": 0,
              "ticks": ""
             }
            },
            "marker": {
             "colorbar": {
              "outlinewidth": 0,
              "ticks": ""
             }
            },
            "type": "scatter3d"
           }
          ],
          "scattercarpet": [
           {
            "marker": {
             "colorbar": {
              "outlinewidth": 0,
              "ticks": ""
             }
            },
            "type": "scattercarpet"
           }
          ],
          "scattergeo": [
           {
            "marker": {
             "colorbar": {
              "outlinewidth": 0,
              "ticks": ""
             }
            },
            "type": "scattergeo"
           }
          ],
          "scattergl": [
           {
            "marker": {
             "colorbar": {
              "outlinewidth": 0,
              "ticks": ""
             }
            },
            "type": "scattergl"
           }
          ],
          "scattermapbox": [
           {
            "marker": {
             "colorbar": {
              "outlinewidth": 0,
              "ticks": ""
             }
            },
            "type": "scattermapbox"
           }
          ],
          "scatterpolar": [
           {
            "marker": {
             "colorbar": {
              "outlinewidth": 0,
              "ticks": ""
             }
            },
            "type": "scatterpolar"
           }
          ],
          "scatterpolargl": [
           {
            "marker": {
             "colorbar": {
              "outlinewidth": 0,
              "ticks": ""
             }
            },
            "type": "scatterpolargl"
           }
          ],
          "scatterternary": [
           {
            "marker": {
             "colorbar": {
              "outlinewidth": 0,
              "ticks": ""
             }
            },
            "type": "scatterternary"
           }
          ],
          "surface": [
           {
            "colorbar": {
             "outlinewidth": 0,
             "ticks": ""
            },
            "colorscale": [
             [
              0,
              "#0d0887"
             ],
             [
              0.1111111111111111,
              "#46039f"
             ],
             [
              0.2222222222222222,
              "#7201a8"
             ],
             [
              0.3333333333333333,
              "#9c179e"
             ],
             [
              0.4444444444444444,
              "#bd3786"
             ],
             [
              0.5555555555555556,
              "#d8576b"
             ],
             [
              0.6666666666666666,
              "#ed7953"
             ],
             [
              0.7777777777777778,
              "#fb9f3a"
             ],
             [
              0.8888888888888888,
              "#fdca26"
             ],
             [
              1,
              "#f0f921"
             ]
            ],
            "type": "surface"
           }
          ],
          "table": [
           {
            "cells": {
             "fill": {
              "color": "#EBF0F8"
             },
             "line": {
              "color": "white"
             }
            },
            "header": {
             "fill": {
              "color": "#C8D4E3"
             },
             "line": {
              "color": "white"
             }
            },
            "type": "table"
           }
          ]
         },
         "layout": {
          "annotationdefaults": {
           "arrowcolor": "#2a3f5f",
           "arrowhead": 0,
           "arrowwidth": 1
          },
          "autotypenumbers": "strict",
          "coloraxis": {
           "colorbar": {
            "outlinewidth": 0,
            "ticks": ""
           }
          },
          "colorscale": {
           "diverging": [
            [
             0,
             "#8e0152"
            ],
            [
             0.1,
             "#c51b7d"
            ],
            [
             0.2,
             "#de77ae"
            ],
            [
             0.3,
             "#f1b6da"
            ],
            [
             0.4,
             "#fde0ef"
            ],
            [
             0.5,
             "#f7f7f7"
            ],
            [
             0.6,
             "#e6f5d0"
            ],
            [
             0.7,
             "#b8e186"
            ],
            [
             0.8,
             "#7fbc41"
            ],
            [
             0.9,
             "#4d9221"
            ],
            [
             1,
             "#276419"
            ]
           ],
           "sequential": [
            [
             0,
             "#0d0887"
            ],
            [
             0.1111111111111111,
             "#46039f"
            ],
            [
             0.2222222222222222,
             "#7201a8"
            ],
            [
             0.3333333333333333,
             "#9c179e"
            ],
            [
             0.4444444444444444,
             "#bd3786"
            ],
            [
             0.5555555555555556,
             "#d8576b"
            ],
            [
             0.6666666666666666,
             "#ed7953"
            ],
            [
             0.7777777777777778,
             "#fb9f3a"
            ],
            [
             0.8888888888888888,
             "#fdca26"
            ],
            [
             1,
             "#f0f921"
            ]
           ],
           "sequentialminus": [
            [
             0,
             "#0d0887"
            ],
            [
             0.1111111111111111,
             "#46039f"
            ],
            [
             0.2222222222222222,
             "#7201a8"
            ],
            [
             0.3333333333333333,
             "#9c179e"
            ],
            [
             0.4444444444444444,
             "#bd3786"
            ],
            [
             0.5555555555555556,
             "#d8576b"
            ],
            [
             0.6666666666666666,
             "#ed7953"
            ],
            [
             0.7777777777777778,
             "#fb9f3a"
            ],
            [
             0.8888888888888888,
             "#fdca26"
            ],
            [
             1,
             "#f0f921"
            ]
           ]
          },
          "colorway": [
           "#636efa",
           "#EF553B",
           "#00cc96",
           "#ab63fa",
           "#FFA15A",
           "#19d3f3",
           "#FF6692",
           "#B6E880",
           "#FF97FF",
           "#FECB52"
          ],
          "font": {
           "color": "#2a3f5f"
          },
          "geo": {
           "bgcolor": "white",
           "lakecolor": "white",
           "landcolor": "#E5ECF6",
           "showlakes": true,
           "showland": true,
           "subunitcolor": "white"
          },
          "hoverlabel": {
           "align": "left"
          },
          "hovermode": "closest",
          "mapbox": {
           "style": "light"
          },
          "paper_bgcolor": "white",
          "plot_bgcolor": "#E5ECF6",
          "polar": {
           "angularaxis": {
            "gridcolor": "white",
            "linecolor": "white",
            "ticks": ""
           },
           "bgcolor": "#E5ECF6",
           "radialaxis": {
            "gridcolor": "white",
            "linecolor": "white",
            "ticks": ""
           }
          },
          "scene": {
           "xaxis": {
            "backgroundcolor": "#E5ECF6",
            "gridcolor": "white",
            "gridwidth": 2,
            "linecolor": "white",
            "showbackground": true,
            "ticks": "",
            "zerolinecolor": "white"
           },
           "yaxis": {
            "backgroundcolor": "#E5ECF6",
            "gridcolor": "white",
            "gridwidth": 2,
            "linecolor": "white",
            "showbackground": true,
            "ticks": "",
            "zerolinecolor": "white"
           },
           "zaxis": {
            "backgroundcolor": "#E5ECF6",
            "gridcolor": "white",
            "gridwidth": 2,
            "linecolor": "white",
            "showbackground": true,
            "ticks": "",
            "zerolinecolor": "white"
           }
          },
          "shapedefaults": {
           "line": {
            "color": "#2a3f5f"
           }
          },
          "ternary": {
           "aaxis": {
            "gridcolor": "white",
            "linecolor": "white",
            "ticks": ""
           },
           "baxis": {
            "gridcolor": "white",
            "linecolor": "white",
            "ticks": ""
           },
           "bgcolor": "#E5ECF6",
           "caxis": {
            "gridcolor": "white",
            "linecolor": "white",
            "ticks": ""
           }
          },
          "title": {
           "x": 0.05
          },
          "xaxis": {
           "automargin": true,
           "gridcolor": "white",
           "linecolor": "white",
           "ticks": "",
           "title": {
            "standoff": 15
           },
           "zerolinecolor": "white",
           "zerolinewidth": 2
          },
          "yaxis": {
           "automargin": true,
           "gridcolor": "white",
           "linecolor": "white",
           "ticks": "",
           "title": {
            "standoff": 15
           },
           "zerolinecolor": "white",
           "zerolinewidth": 2
          }
         }
        }
       }
      }
     },
     "metadata": {},
     "output_type": "display_data"
    }
   ],
   "source": [
    "import sqlite3\n",
    "import plotly.graph_objects as go\n",
    "\n",
    "con = sqlite3.connect(\"Datenbank.db\")\n",
    "cur = con.cursor()\n",
    "\n",
    "outputs = cur.execute(\"\"\"SELECT DISTINCT haupttitel, untertitel, autor FROM my_data WHERE haupttitel IN ('Allgemeine Auswanderungs-Zeitung', 'Allgemeine Auswandererzeitung Rudolstadt')\"\"\").fetchall()\n",
    "\n",
    "titles= [output[0] for output in outputs]\n",
    "subtitles=[output[1] for output in outputs]\n",
    "authors=[output[2] for output in outputs]\n",
    "\n",
    "fig = go.Figure(data=[go.Table(header=dict(values=[\"Haupttitel\", \"Untertitel\", \"Autor\"]), cells=dict(values=[titles, subtitles, authors]))])\n",
    "\n",
    "fig.show()\n",
    "\n",
    "con.close()\n"
   ]
  },
  {
   "cell_type": "markdown",
   "metadata": {},
   "source": [
    "Hiermit ist klar ersichtlich, dass die Allgemeine Auswandererzeitung Rudolstadt die gleiche Zeitung darstellt wie die Allgemeine Auswanderungs-Zeitung. Daher kann diese weggellassen werden, ohne an Repräsentation zu verlieren."
   ]
  },
  {
   "cell_type": "markdown",
   "metadata": {},
   "source": [
    "Nun ergibt sich die Ajustierte Samplemenge wiefolgt: Von der Neuen Rheinischen Zeitung wird ein Sample weniger genommen, und von den fünf Wochentag-Zeitungen wird zufällig ein Sample herausgenommen. \n",
    "\n",
    "Die Samples werden neu gesammelt, mit der aktualisierten Strategie:"
   ]
  },
  {
   "cell_type": "markdown",
   "metadata": {},
   "source": [
    "Zunächst werden alle Zufallsstichproben vom Typ \"Revolutionsjahre x Zeitung\" gelöscht"
   ]
  },
  {
   "cell_type": "code",
   "execution_count": 36,
   "metadata": {},
   "outputs": [],
   "source": [
    "import sqlite3\n",
    "\n",
    "con = sqlite3.connect(\"Datenbank.db\")\n",
    "cur = con.cursor()\n",
    "\n",
    "cur.execute(\"\"\"DELETE FROM samples WHERE epochen_genres_strata='Revolutionsjahre x Zeitung'\"\"\")\n",
    "\n",
    "con.commit()\n",
    "con.close()"
   ]
  },
  {
   "cell_type": "markdown",
   "metadata": {},
   "source": [
    "Danach wird ein Dictionary erstellt, das die Samplemenge an den jeweiligen Haupttitel anbindet."
   ]
  },
  {
   "cell_type": "code",
   "execution_count": 96,
   "metadata": {},
   "outputs": [
    {
     "name": "stdout",
     "output_type": "stream",
     "text": [
      "{'Allgemeine Auswandererzeitung Rudolstadt': 0, 'Allgemeine Auswanderungs-Zeitung': 1, 'Allgemeine Zeitung': 3, 'Die Bayerische Presse': 1, 'Dienstag, 2. Mai': 0, 'Donnerstag, 4. Mai': 0, 'Freitag, 5. Mai': 1, 'Mittwoch, 3. Mai': 0, 'Montag, 1. Mai': 0, 'Neue Rheinische Zeitung': 9}\n"
     ]
    }
   ],
   "source": [
    "import random\n",
    "sample_list = {}\n",
    "\n",
    "random_choice_of_mai = random.choice(['Montag, 1. Mai', 'Dienstag, 2. Mai', 'Mittwoch, 3. Mai', 'Donnerstag, 4. Mai','Freitag, 5. Mai'])\n",
    "\n",
    "# Ajustieren der Samplemenge\n",
    "haupttitel_count[\"adjusted_sample\"] = [sample for sample in haupttitel_count[\"sample_size\"]]\n",
    "haupttitel_count.loc[haupttitel_count[\"haupttitel\"] == random_choice_of_mai, \"adjusted_sample\"] += 1\n",
    "haupttitel_count.loc[haupttitel_count[\"haupttitel\"] == \"Neue Rheinische Zeitung\", \"adjusted_sample\"] -= 1\n",
    "\n",
    "# Dictionary erstellen\n",
    "samples = list(map(int, haupttitel_count.adjusted_sample))\n",
    "titles = list(haupttitel_count.haupttitel)\n",
    "sample_dict = dict(zip(titles, samples))\n",
    "\n",
    "\n",
    "\n"
   ]
  },
  {
   "cell_type": "markdown",
   "metadata": {},
   "source": [
    "Stichproben sammeln"
   ]
  },
  {
   "cell_type": "code",
   "execution_count": 97,
   "metadata": {},
   "outputs": [],
   "source": [
    "import sqlite3\n",
    "\n",
    "con = sqlite3.connect(\"Datenbank.db\")\n",
    "cur = con.cursor()\n",
    "\n",
    "for title, sample_size in sample_dict.items():\n",
    "    sample_size = int(sample_size)\n",
    "    query = f\"\"\"\n",
    "        INSERT INTO samples (text_index, haupttitel, untertitel, volumetitel, autor, hauptklasse, subklasse, sprache, text, publikationsjahr, zeitstratum, genrestratum, epochen_genres_strata)\n",
    "                SELECT text_index, haupttitel, untertitel, volumetitel, autor, hauptklasse, subklasse, sprache, text, publikationsjahr, zeitstratum, genrestratum, epochen_genres_strata\n",
    "                FROM my_data\n",
    "                WHERE haupttitel = ?\n",
    "                ORDER BY RANDOM()\n",
    "                LIMIT {sample_size}\n",
    "\n",
    "\"\"\"\n",
    "    cur.execute(query, (title,))\n",
    "\n",
    "con.commit()\n",
    "con.close()"
   ]
  },
  {
   "cell_type": "markdown",
   "metadata": {},
   "source": [
    "Nun kann überprüft werden, ob die aktualisierte Liste repräsentativer ist und weniger Wiederholungen enthält."
   ]
  },
  {
   "cell_type": "code",
   "execution_count": 98,
   "metadata": {},
   "outputs": [
    {
     "data": {
      "application/vnd.plotly.v1+json": {
       "config": {
        "plotlyServerURL": "https://plot.ly"
       },
       "data": [
        {
         "cells": {
          "align": "left",
          "fill": {
           "color": "lavender"
          },
          "values": [
           [
            "Aufklärung x Belletristik",
            "Aufklärung x Belletristik",
            "Aufklärung x Belletristik",
            "Aufklärung x Belletristik",
            "Aufklärung x Belletristik",
            "Aufklärung x Gebrauchsliteratur",
            "Aufklärung x Gebrauchsliteratur",
            "Aufklärung x Gebrauchsliteratur",
            "Aufklärung x Gebrauchsliteratur",
            "Aufklärung x Wissenschaft",
            "Aufklärung x Wissenschaft",
            "Aufklärung x Wissenschaft",
            "Aufklärung x Wissenschaft",
            "Aufklärung x Wissenschaft",
            "Aufklärung x Wissenschaft",
            "Aufklärung x Wissenschaft",
            "Aufklärung x Zeitung",
            "Aufklärung x Zeitung",
            "Aufklärung x Zeitung",
            "Aufklärung x Zeitung",
            "Barock x Belletristik",
            "Barock x Belletristik",
            "Barock x Gebrauchsliteratur",
            "Barock x Gebrauchsliteratur",
            "Barock x Gebrauchsliteratur",
            "Barock x Gebrauchsliteratur",
            "Barock x Gebrauchsliteratur",
            "Barock x Gebrauchsliteratur",
            "Barock x Gebrauchsliteratur",
            "Barock x Gebrauchsliteratur",
            "Barock x Gebrauchsliteratur",
            "Barock x Gebrauchsliteratur",
            "Barock x Gebrauchsliteratur",
            "Barock x Gebrauchsliteratur",
            "Barock x Wissenschaft",
            "Barock x Wissenschaft",
            "Barock x Zeitung",
            "Frühes 19. Jahrhundert x Belletristik",
            "Frühes 19. Jahrhundert x Belletristik",
            "Frühes 19. Jahrhundert x Belletristik",
            "Frühes 19. Jahrhundert x Belletristik",
            "Frühes 19. Jahrhundert x Gebrauchsliteratur",
            "Frühes 19. Jahrhundert x Wissenschaft",
            "Frühes 19. Jahrhundert x Wissenschaft",
            "Frühes 19. Jahrhundert x Wissenschaft",
            "Frühes 19. Jahrhundert x Zeitung",
            "Industrielle Revolution x Belletristik",
            "Industrielle Revolution x Belletristik",
            "Industrielle Revolution x Belletristik",
            "Industrielle Revolution x Gebrauchsliteratur",
            "Industrielle Revolution x Gebrauchsliteratur",
            "Industrielle Revolution x Wissenschaft",
            "Industrielle Revolution x Wissenschaft",
            "Industrielle Revolution x Wissenschaft",
            "Industrielle Revolution x Wissenschaft",
            "Industrielle Revolution x Wissenschaft",
            "Industrielle Revolution x Wissenschaft",
            "Industrielle Revolution x Zeitung",
            "Industrielle Revolution x Zeitung",
            "Industrielle Revolution x Zeitung",
            "Moderne x Belletristik",
            "Moderne x Belletristik",
            "Moderne x Belletristik",
            "Moderne x Gebrauchsliteratur",
            "Moderne x Gebrauchsliteratur",
            "Moderne x Gebrauchsliteratur",
            "Moderne x Gebrauchsliteratur",
            "Moderne x Gebrauchsliteratur",
            "Moderne x Gebrauchsliteratur",
            "Moderne x Gebrauchsliteratur",
            "Moderne x Wissenschaft",
            "Moderne x Wissenschaft",
            "Moderne x Zeitung",
            "Moderne x Zeitung",
            "Moderne x Zeitung",
            "Renaissance x Belletristik",
            "Renaissance x Gebrauchsliteratur",
            "Renaissance x Gebrauchsliteratur",
            "Renaissance x Wissenschaft",
            "Renaissance x Zeitung",
            "Revolutionsjahre x Belletristik",
            "Revolutionsjahre x Gebrauchsliteratur",
            "Revolutionsjahre x Wissenschaft",
            "Revolutionsjahre x Zeitung",
            "Revolutionsjahre x Zeitung",
            "Revolutionsjahre x Zeitung",
            "Revolutionsjahre x Zeitung",
            "Revolutionsjahre x Zeitung",
            "Revolutionsjahre x Zeitung",
            "Revolutionsjahre x Zeitung",
            "Revolutionsjahre x Zeitung",
            "Revolutionsjahre x Zeitung",
            "Revolutionsjahre x Zeitung",
            "Revolutionsjahre x Zeitung",
            "Revolutionsjahre x Zeitung",
            "Revolutionsjahre x Zeitung",
            "Revolutionsjahre x Zeitung",
            "Revolutionsjahre x Zeitung",
            "Spätmittelalter x Belletristik",
            "Spätmittelalter x Gebrauchsliteratur"
           ],
           [
            "Klopstock, Friedrich Gottlieb",
            "Hunold, Christian Friedrich",
            "Schulz, Friedrich",
            "Goethe, Johann Wolfgang von",
            "Raspe, Rudolf Erich",
            "Mendelssohn, Moses",
            "Riemann, Johann Friedrich",
            "Reuß-Ebersdorf, Erdmuthe Benigna von",
            "Tönnies, Johann Heinrich",
            "Löscher, Valentin Ernst",
            "Müller, Johann Bernhard",
            "Herder, Johann Gottfried von",
            "Glück, Christian Friedrich von",
            "Möser, Justus",
            "Blumenbach, Johann Friedrich",
            "Füchsel, Georg Christian",
            "Geyken, Alexander",
            "Geyken, Alexander",
            "Geyken, Alexander",
            "Geyken, Alexander",
            "Opitz, Martin",
            "Lohenstein, Daniel Casper von",
            "Schwemler, David",
            "Silber, Wolfgang",
            "Baudis, Andreas",
            "Neomenius, Johann",
            "Dach, Simon",
            "Dach, Simon",
            "Dach, Simon",
            "Dach, Simon",
            "Millichius, Leonhartus",
            "Arndt, Johann",
            "Stuer, Barnim von",
            "Dach, Simon",
            "Basilius, Valentinus",
            "Kramer, Matthias",
            "Geyken, Alexander",
            "Büchner, Georg",
            "Grillparzer, Franz",
            "Immermann, Karl",
            "Pückler-Muskau, Hermann von",
            "Fouqué, Caroline de La Motte-",
            "Thaer, Albrecht Daniel",
            "Gessert, Ferdinand",
            "Strauß, David Friedrich",
            "Geyken, Alexander",
            "Ebers, Georg",
            "Lewald, Fanny",
            "Fontane, Theodor",
            "Druskowitz, Helene von",
            "Seehaussen, Richard",
            "Mohr, Otto",
            "Stein, Lorenz von",
            "Stein, Lorenz von",
            "Bastian, Adolf",
            "Strouhal, Vincenz",
            "Mangoldt, Hans von",
            "Geyken, Alexander",
            "Geyken, Alexander",
            "Geyken, Alexander",
            "Schmid, Hermann",
            "Schnitzler, Arthur",
            "Ziegler, Franz Wilhelm",
            "Sanders, Daniel",
            "Humboldt, Alexander von",
            "Humboldt, Alexander von",
            "Sanders, Daniel",
            "Sanders, Daniel",
            "von Löbell, Heinrich",
            "Luxemburg, Rosa",
            "Humboldt, Alexander von",
            "Humboldt, Alexander von",
            "Geyken, Alexander",
            "Geyken, Alexander",
            "Geyken, Alexander",
            "Sachs, Hans",
            "Kirchner, Timotheus",
            "Schnepff, Erhard",
            "N. N., Alexander",
            "Dilbaum, Samuel",
            "Schoppe, Amalie",
            "Aston, Louise",
            "Stock, Ch. L.",
            "Geyken, Alexander",
            "Geyken, Alexander",
            "Geyken, Alexander",
            "Geyken, Alexander",
            "Geyken, Alexander",
            "Geyken, Alexander",
            "Geyken, Alexander",
            "Geyken, Alexander",
            "Geyken, Alexander",
            "Geyken, Alexander",
            "Geyken, Alexander",
            "Geyken, Alexander",
            "Geyken, Alexander",
            "Geyken, Alexander",
            "Geyken, Alexander",
            "Geyken, Alexander",
            "Geyken, Alexander"
           ],
           [
            "Der Messias",
            "Die Edle Bemühung müssiger Stunden",
            "Neue Reise durch Italien",
            "Wilhelm Meisters Lehrjahre",
            "Wunderbare Reisen zu Wasser und Lande, Feldzüge und lustige Abentheuer des Freyherrn von Münchhausen, wie er dieselben bey der Flasche im Cirkel seiner Freunde selbst zu erzählen pflegt",
            "Ueber die Frage: was heißt aufklären?",
            "Praktische Anweisung zum Teichbau",
            "Vormundschaftsvereinbarung",
            "Auszug der Geschichte zur Erklärung der Offenbarung Johannis",
            "Historie Des Römischen Huren-Regiments Der Theodoræ und Maroziæ",
            "Leben und Gewohnheiten Der Ostiacken",
            "Briefe zu Beförderung der Humanität",
            "Versuch einer ausführlichen Erläuterung der Pandecten nach Hellfeld ein Commentar für meine Zuhörer",
            "Osnabrückische Geschichte",
            "Beyträge zur Naturgeschichte",
            "Entwurf zu der ältesten Erd- und Menschengeschichte, nebst einem Versuch, den Ursprung der Sprache zu finden",
            "XXXII. Stück/ am Freytage/ den 15. August",
            "Num. 80, 19. May 1736",
            "Num. 153, 24. September 1751",
            "Der allerneuesten Europäischen Welt- und Staats-Geschichte II. Theil",
            "Schäfferey Von der Nimfen Hercinie",
            "Ibrahim Sultan",
            "Glaubens-Kampff und Sieg Des Weyland HochEdelgebornen/ Gestrengen und Mannvehsten Herrn August Ernst Knochens uff Sollmitz/ im Fürstenthum Anhalt/ Churfl. Durchl. zu Sachsen",
            "Threnodia Parturientis",
            "Leichpredigt/ Welche bey dem Begräbnüs Des Ehrbaren vnd Gelehrten Christophori Vtlandes des Jüngern",
            "Kriegs: vnd Helden mutt. wie vnd woher der zu nehmen. Auß dem alten Krieges gesetz/ von Gott selbst gegeben/ Deut. 20, v. 1. 2. 3. 4.",
            "Schuldigste Hertzliche Trawrigkeit/ Welche über dem seligen zwar Höchstbetrübten Hintritt aus dieser Welt Des ... Herrn Hn. Wilhelm Heinrichen Marggraffen und ChurErben zu Brandenb. in Preüssen ... Unsers gewesenen gnädigsten Fürsten und Herrn Welcher 1648. 21. Mey erfrewlichst gebohren und 1649. 24. Weinmonat ... sanfft und selig/ diese Welt gesegnet/ ... empfunden",
            "Billige Klage/ Welche bey frühzeitigem und dannenhero schmertzlichem Ableiben Des ... Hn. Ludwig Wilhelms von Pudewels/ Uff Rickgarben ErbHerrn",
            "Bey seligem Hintrit aus dieser Welt Des weiland Ehrnvesten/ Achtbarn und Kunstreichen H. Jochim Westphalen/ allhie in der löblichen Stadt Kneiphof wolbestalten Rahts-Apoteckern",
            "Bey sehr frühzeitigem und trawrigem Abschiede Des lieben und anmuhtigen Kindes Gertruden/ Des ... Herren Stephani Gorlovii/ Der Philosop. M. und der Morgenländischen Sprachen/ bey hiesiger hohen Schulen berühmten Prof. Publ. hertzlieben Töchterleins",
            "Christliche Leich vnd Ehrenpredigt",
            "Von wahrem Christenthumb",
            "Summarischer vnd kurtzer bericht Von der Türcken vrsprung/ jren Kaisern vnd sieghafften Kriegen/ Auch endlichen bösen vntergang/ welches bald nach seiner eigen Pristern vnd Magis Propheceyung geschehen wird. Aus dem bewertsten Geschichtschreibern zusam gezogen Durch Barnim von Stuer/ der Philosophiae vnd Medicinae Doctorem & Mathematicum",
            "Die Lehrer werden leuchten wie des Himmels Glantz",
            "De occvlta philosophia",
            "Allgemeiner Schau-Platz/ auf welchem vermittelst einer kurtzen Frag-Ordnung vorgestellet wird die Teutsche und Italiänische Benennung aller Haupt-Dinge der Welt",
            "Relation: Aller Fürnemmen vnd gedenckwürdigen Historien/ so sich hin vnnd wider in Hoch vnnd Nieder Teutschland/ auch in Franckreich/ Jtalien/ Schott vnd Engelland/ Hisspanien/ Hungern/ Polen/ Siebenbürgen/ Wallachey/ Moldaw/ Türckey/ etc. Jnn diesem 1609. Jahr verlauffen vnd zugetragen möchte",
            "Danton's Tod",
            "Sappho",
            "Münchhausen",
            "Briefe eines Verstorbenen",
            "Ueber deutsche Geselligkeit ",
            "Grundsätze der rationellen Landwirthschaft",
            "Ueber den Begriff und die Wichtigkeit der Schulzucht besonders für die Volksschulen",
            "Das Leben Jesu, kritisch bearbeitet",
            "Am Freitag, den 13. Februar",
            "Eine Aegyptische Königstochter",
            "Adele",
            "Meine Kinderjahre",
            "Moderne Versuche eines Religionsersatzes",
            "Schulordnung der Städtischen höheren Mädchenschule zu Marburg",
            "Beiträge zur Theorie der Holz- und Eisenkonstruktionen",
            "Die Verwaltungslehre",
            "Die Verwaltungslehre",
            "Der Völkergedanke im Aufbau einer Wissenschaft vom Menschen und seine Begründung auf ethnologische Sammlungen",
            "Ueber eine besondere Art der Tonerregung",
            "Die Lehre vom Unternehmergewinn",
            "Der Arbeitgeber",
            "Allgemeine Zeitung",
            "Nr. 122, 28.05.1895.",
            "Mohrenfranzl",
            "Traumnovelle",
            "Saat und Ernte",
            "Brief an Adele Glaßbrenner",
            "Herrn von Humboldt's Antwortschreiben an Wilhelm Heine",
            "Antwort des Jubilars [auf Überreichung des Jubiläumsdiploms der Kaiserlich-Leopoldinischen Akademie der Naturforscher]",
            "Brief an Heinrich Schliemann",
            "Brief an die Redaktion der Münchner Neuesten Nachrichten",
            "Brief an Edgar Vincent D'Abernon",
            "Frauenwahlrecht und Klassenkampf",
            "Geognostische und physikalische Beobachtungen über die Vulkane der Hochebene von Quito",
            "Neue physikalische Beobachtungen im spanischen Amerika. Aus Briefen an Fourcroy und Lalande.",
            "Nr. 53, 22.02.1909.",
            "Nr. 156, 30.12.1909.",
            "Nr. 87, 28.10.1908.",
            "Die irrfart Ulissi mit den Werbern und seiner gemahel Penelope",
            "Histori deß Sacramentstreits, Darinnen klärlich außgeführet wirdt, wie diese Zwytracht entstanden, biß auff unsere Zeit continuiret, Und sonderlich was hierinn von den Augspurgischen Confessionsverwandten ... zu gründtlicher Widerlegung deß Zwinglischen unnd Calvinischen Irrthumbs ... gehandelt worden",
            "Ordnung in Eesachen",
            "Splendor Solis",
            "ANNVS CHRISTI, 1597",
            "Der Prophet",
            "Aus dem Leben einer Frau",
            "Grundzüge der Verfassung des Gesellenwesens der deutschen Handwerker in alter und neuer Zeit",
            "Allgemeine Zeitung",
            "Freitag, 5. Mai",
            "Allgemeine Zeitung",
            "Neue Rheinische Zeitung",
            "Allgemeine Zeitung",
            "Neue Rheinische Zeitung",
            "Neue Rheinische Zeitung",
            "Neue Rheinische Zeitung",
            "Neue Rheinische Zeitung",
            "Neue Rheinische Zeitung",
            "Allgemeine Auswanderungs-Zeitung",
            "Die Bayerische Presse",
            "Neue Rheinische Zeitung",
            "Neue Rheinische Zeitung",
            "Neue Rheinische Zeitung",
            "Ritter Gottfried",
            "Promptuarium Medicinae, niederdeutsch"
           ]
          ]
         },
         "header": {
          "align": "center",
          "fill": {
           "color": "paleturquoise"
          },
          "values": [
           "epochen_genres_strata",
           "autor",
           "haupttitel"
          ]
         },
         "type": "table"
        }
       ],
       "layout": {
        "height": 3000,
        "template": {
         "data": {
          "bar": [
           {
            "error_x": {
             "color": "#2a3f5f"
            },
            "error_y": {
             "color": "#2a3f5f"
            },
            "marker": {
             "line": {
              "color": "#E5ECF6",
              "width": 0.5
             },
             "pattern": {
              "fillmode": "overlay",
              "size": 10,
              "solidity": 0.2
             }
            },
            "type": "bar"
           }
          ],
          "barpolar": [
           {
            "marker": {
             "line": {
              "color": "#E5ECF6",
              "width": 0.5
             },
             "pattern": {
              "fillmode": "overlay",
              "size": 10,
              "solidity": 0.2
             }
            },
            "type": "barpolar"
           }
          ],
          "carpet": [
           {
            "aaxis": {
             "endlinecolor": "#2a3f5f",
             "gridcolor": "white",
             "linecolor": "white",
             "minorgridcolor": "white",
             "startlinecolor": "#2a3f5f"
            },
            "baxis": {
             "endlinecolor": "#2a3f5f",
             "gridcolor": "white",
             "linecolor": "white",
             "minorgridcolor": "white",
             "startlinecolor": "#2a3f5f"
            },
            "type": "carpet"
           }
          ],
          "choropleth": [
           {
            "colorbar": {
             "outlinewidth": 0,
             "ticks": ""
            },
            "type": "choropleth"
           }
          ],
          "contour": [
           {
            "colorbar": {
             "outlinewidth": 0,
             "ticks": ""
            },
            "colorscale": [
             [
              0,
              "#0d0887"
             ],
             [
              0.1111111111111111,
              "#46039f"
             ],
             [
              0.2222222222222222,
              "#7201a8"
             ],
             [
              0.3333333333333333,
              "#9c179e"
             ],
             [
              0.4444444444444444,
              "#bd3786"
             ],
             [
              0.5555555555555556,
              "#d8576b"
             ],
             [
              0.6666666666666666,
              "#ed7953"
             ],
             [
              0.7777777777777778,
              "#fb9f3a"
             ],
             [
              0.8888888888888888,
              "#fdca26"
             ],
             [
              1,
              "#f0f921"
             ]
            ],
            "type": "contour"
           }
          ],
          "contourcarpet": [
           {
            "colorbar": {
             "outlinewidth": 0,
             "ticks": ""
            },
            "type": "contourcarpet"
           }
          ],
          "heatmap": [
           {
            "colorbar": {
             "outlinewidth": 0,
             "ticks": ""
            },
            "colorscale": [
             [
              0,
              "#0d0887"
             ],
             [
              0.1111111111111111,
              "#46039f"
             ],
             [
              0.2222222222222222,
              "#7201a8"
             ],
             [
              0.3333333333333333,
              "#9c179e"
             ],
             [
              0.4444444444444444,
              "#bd3786"
             ],
             [
              0.5555555555555556,
              "#d8576b"
             ],
             [
              0.6666666666666666,
              "#ed7953"
             ],
             [
              0.7777777777777778,
              "#fb9f3a"
             ],
             [
              0.8888888888888888,
              "#fdca26"
             ],
             [
              1,
              "#f0f921"
             ]
            ],
            "type": "heatmap"
           }
          ],
          "heatmapgl": [
           {
            "colorbar": {
             "outlinewidth": 0,
             "ticks": ""
            },
            "colorscale": [
             [
              0,
              "#0d0887"
             ],
             [
              0.1111111111111111,
              "#46039f"
             ],
             [
              0.2222222222222222,
              "#7201a8"
             ],
             [
              0.3333333333333333,
              "#9c179e"
             ],
             [
              0.4444444444444444,
              "#bd3786"
             ],
             [
              0.5555555555555556,
              "#d8576b"
             ],
             [
              0.6666666666666666,
              "#ed7953"
             ],
             [
              0.7777777777777778,
              "#fb9f3a"
             ],
             [
              0.8888888888888888,
              "#fdca26"
             ],
             [
              1,
              "#f0f921"
             ]
            ],
            "type": "heatmapgl"
           }
          ],
          "histogram": [
           {
            "marker": {
             "pattern": {
              "fillmode": "overlay",
              "size": 10,
              "solidity": 0.2
             }
            },
            "type": "histogram"
           }
          ],
          "histogram2d": [
           {
            "colorbar": {
             "outlinewidth": 0,
             "ticks": ""
            },
            "colorscale": [
             [
              0,
              "#0d0887"
             ],
             [
              0.1111111111111111,
              "#46039f"
             ],
             [
              0.2222222222222222,
              "#7201a8"
             ],
             [
              0.3333333333333333,
              "#9c179e"
             ],
             [
              0.4444444444444444,
              "#bd3786"
             ],
             [
              0.5555555555555556,
              "#d8576b"
             ],
             [
              0.6666666666666666,
              "#ed7953"
             ],
             [
              0.7777777777777778,
              "#fb9f3a"
             ],
             [
              0.8888888888888888,
              "#fdca26"
             ],
             [
              1,
              "#f0f921"
             ]
            ],
            "type": "histogram2d"
           }
          ],
          "histogram2dcontour": [
           {
            "colorbar": {
             "outlinewidth": 0,
             "ticks": ""
            },
            "colorscale": [
             [
              0,
              "#0d0887"
             ],
             [
              0.1111111111111111,
              "#46039f"
             ],
             [
              0.2222222222222222,
              "#7201a8"
             ],
             [
              0.3333333333333333,
              "#9c179e"
             ],
             [
              0.4444444444444444,
              "#bd3786"
             ],
             [
              0.5555555555555556,
              "#d8576b"
             ],
             [
              0.6666666666666666,
              "#ed7953"
             ],
             [
              0.7777777777777778,
              "#fb9f3a"
             ],
             [
              0.8888888888888888,
              "#fdca26"
             ],
             [
              1,
              "#f0f921"
             ]
            ],
            "type": "histogram2dcontour"
           }
          ],
          "mesh3d": [
           {
            "colorbar": {
             "outlinewidth": 0,
             "ticks": ""
            },
            "type": "mesh3d"
           }
          ],
          "parcoords": [
           {
            "line": {
             "colorbar": {
              "outlinewidth": 0,
              "ticks": ""
             }
            },
            "type": "parcoords"
           }
          ],
          "pie": [
           {
            "automargin": true,
            "type": "pie"
           }
          ],
          "scatter": [
           {
            "fillpattern": {
             "fillmode": "overlay",
             "size": 10,
             "solidity": 0.2
            },
            "type": "scatter"
           }
          ],
          "scatter3d": [
           {
            "line": {
             "colorbar": {
              "outlinewidth": 0,
              "ticks": ""
             }
            },
            "marker": {
             "colorbar": {
              "outlinewidth": 0,
              "ticks": ""
             }
            },
            "type": "scatter3d"
           }
          ],
          "scattercarpet": [
           {
            "marker": {
             "colorbar": {
              "outlinewidth": 0,
              "ticks": ""
             }
            },
            "type": "scattercarpet"
           }
          ],
          "scattergeo": [
           {
            "marker": {
             "colorbar": {
              "outlinewidth": 0,
              "ticks": ""
             }
            },
            "type": "scattergeo"
           }
          ],
          "scattergl": [
           {
            "marker": {
             "colorbar": {
              "outlinewidth": 0,
              "ticks": ""
             }
            },
            "type": "scattergl"
           }
          ],
          "scattermapbox": [
           {
            "marker": {
             "colorbar": {
              "outlinewidth": 0,
              "ticks": ""
             }
            },
            "type": "scattermapbox"
           }
          ],
          "scatterpolar": [
           {
            "marker": {
             "colorbar": {
              "outlinewidth": 0,
              "ticks": ""
             }
            },
            "type": "scatterpolar"
           }
          ],
          "scatterpolargl": [
           {
            "marker": {
             "colorbar": {
              "outlinewidth": 0,
              "ticks": ""
             }
            },
            "type": "scatterpolargl"
           }
          ],
          "scatterternary": [
           {
            "marker": {
             "colorbar": {
              "outlinewidth": 0,
              "ticks": ""
             }
            },
            "type": "scatterternary"
           }
          ],
          "surface": [
           {
            "colorbar": {
             "outlinewidth": 0,
             "ticks": ""
            },
            "colorscale": [
             [
              0,
              "#0d0887"
             ],
             [
              0.1111111111111111,
              "#46039f"
             ],
             [
              0.2222222222222222,
              "#7201a8"
             ],
             [
              0.3333333333333333,
              "#9c179e"
             ],
             [
              0.4444444444444444,
              "#bd3786"
             ],
             [
              0.5555555555555556,
              "#d8576b"
             ],
             [
              0.6666666666666666,
              "#ed7953"
             ],
             [
              0.7777777777777778,
              "#fb9f3a"
             ],
             [
              0.8888888888888888,
              "#fdca26"
             ],
             [
              1,
              "#f0f921"
             ]
            ],
            "type": "surface"
           }
          ],
          "table": [
           {
            "cells": {
             "fill": {
              "color": "#EBF0F8"
             },
             "line": {
              "color": "white"
             }
            },
            "header": {
             "fill": {
              "color": "#C8D4E3"
             },
             "line": {
              "color": "white"
             }
            },
            "type": "table"
           }
          ]
         },
         "layout": {
          "annotationdefaults": {
           "arrowcolor": "#2a3f5f",
           "arrowhead": 0,
           "arrowwidth": 1
          },
          "autotypenumbers": "strict",
          "coloraxis": {
           "colorbar": {
            "outlinewidth": 0,
            "ticks": ""
           }
          },
          "colorscale": {
           "diverging": [
            [
             0,
             "#8e0152"
            ],
            [
             0.1,
             "#c51b7d"
            ],
            [
             0.2,
             "#de77ae"
            ],
            [
             0.3,
             "#f1b6da"
            ],
            [
             0.4,
             "#fde0ef"
            ],
            [
             0.5,
             "#f7f7f7"
            ],
            [
             0.6,
             "#e6f5d0"
            ],
            [
             0.7,
             "#b8e186"
            ],
            [
             0.8,
             "#7fbc41"
            ],
            [
             0.9,
             "#4d9221"
            ],
            [
             1,
             "#276419"
            ]
           ],
           "sequential": [
            [
             0,
             "#0d0887"
            ],
            [
             0.1111111111111111,
             "#46039f"
            ],
            [
             0.2222222222222222,
             "#7201a8"
            ],
            [
             0.3333333333333333,
             "#9c179e"
            ],
            [
             0.4444444444444444,
             "#bd3786"
            ],
            [
             0.5555555555555556,
             "#d8576b"
            ],
            [
             0.6666666666666666,
             "#ed7953"
            ],
            [
             0.7777777777777778,
             "#fb9f3a"
            ],
            [
             0.8888888888888888,
             "#fdca26"
            ],
            [
             1,
             "#f0f921"
            ]
           ],
           "sequentialminus": [
            [
             0,
             "#0d0887"
            ],
            [
             0.1111111111111111,
             "#46039f"
            ],
            [
             0.2222222222222222,
             "#7201a8"
            ],
            [
             0.3333333333333333,
             "#9c179e"
            ],
            [
             0.4444444444444444,
             "#bd3786"
            ],
            [
             0.5555555555555556,
             "#d8576b"
            ],
            [
             0.6666666666666666,
             "#ed7953"
            ],
            [
             0.7777777777777778,
             "#fb9f3a"
            ],
            [
             0.8888888888888888,
             "#fdca26"
            ],
            [
             1,
             "#f0f921"
            ]
           ]
          },
          "colorway": [
           "#636efa",
           "#EF553B",
           "#00cc96",
           "#ab63fa",
           "#FFA15A",
           "#19d3f3",
           "#FF6692",
           "#B6E880",
           "#FF97FF",
           "#FECB52"
          ],
          "font": {
           "color": "#2a3f5f"
          },
          "geo": {
           "bgcolor": "white",
           "lakecolor": "white",
           "landcolor": "#E5ECF6",
           "showlakes": true,
           "showland": true,
           "subunitcolor": "white"
          },
          "hoverlabel": {
           "align": "left"
          },
          "hovermode": "closest",
          "mapbox": {
           "style": "light"
          },
          "paper_bgcolor": "white",
          "plot_bgcolor": "#E5ECF6",
          "polar": {
           "angularaxis": {
            "gridcolor": "white",
            "linecolor": "white",
            "ticks": ""
           },
           "bgcolor": "#E5ECF6",
           "radialaxis": {
            "gridcolor": "white",
            "linecolor": "white",
            "ticks": ""
           }
          },
          "scene": {
           "xaxis": {
            "backgroundcolor": "#E5ECF6",
            "gridcolor": "white",
            "gridwidth": 2,
            "linecolor": "white",
            "showbackground": true,
            "ticks": "",
            "zerolinecolor": "white"
           },
           "yaxis": {
            "backgroundcolor": "#E5ECF6",
            "gridcolor": "white",
            "gridwidth": 2,
            "linecolor": "white",
            "showbackground": true,
            "ticks": "",
            "zerolinecolor": "white"
           },
           "zaxis": {
            "backgroundcolor": "#E5ECF6",
            "gridcolor": "white",
            "gridwidth": 2,
            "linecolor": "white",
            "showbackground": true,
            "ticks": "",
            "zerolinecolor": "white"
           }
          },
          "shapedefaults": {
           "line": {
            "color": "#2a3f5f"
           }
          },
          "ternary": {
           "aaxis": {
            "gridcolor": "white",
            "linecolor": "white",
            "ticks": ""
           },
           "baxis": {
            "gridcolor": "white",
            "linecolor": "white",
            "ticks": ""
           },
           "bgcolor": "#E5ECF6",
           "caxis": {
            "gridcolor": "white",
            "linecolor": "white",
            "ticks": ""
           }
          },
          "title": {
           "x": 0.05
          },
          "xaxis": {
           "automargin": true,
           "gridcolor": "white",
           "linecolor": "white",
           "ticks": "",
           "title": {
            "standoff": 15
           },
           "zerolinecolor": "white",
           "zerolinewidth": 2
          },
          "yaxis": {
           "automargin": true,
           "gridcolor": "white",
           "linecolor": "white",
           "ticks": "",
           "title": {
            "standoff": 15
           },
           "zerolinecolor": "white",
           "zerolinewidth": 2
          }
         }
        },
        "title": {
         "text": "Textstichproben"
        }
       }
      }
     },
     "metadata": {},
     "output_type": "display_data"
    }
   ],
   "source": [
    "import pandas as pd\n",
    "import sqlite3\n",
    "import plotly.graph_objects as go\n",
    "\n",
    "con = sqlite3.connect(\"Datenbank.db\")\n",
    "\n",
    "query = \"\"\"SELECT epochen_genres_strata, autor, haupttitel FROM samples\"\"\"\n",
    "\n",
    "df = pd.read_sql_query(query, con)\n",
    "df_sorted = df.sort_values(by=\"epochen_genres_strata\", ascending=True)\n",
    "\n",
    "fig = go.Figure(data=[go.Table(\n",
    "    header=dict(\n",
    "        values=list(df_sorted.columns),\n",
    "        fill_color=\"paleturquoise\",\n",
    "        align=\"center\"\n",
    "    ),\n",
    "    cells=dict(\n",
    "        values=[df_sorted[col] for col in df_sorted.columns],\n",
    "        fill_color=\"lavender\",\n",
    "        align=\"left\"\n",
    "    )\n",
    ")])\n",
    "con.close()\n",
    "fig.update_layout(title=\"Textstichproben\", height=3000)\n",
    "fig.show()\n",
    "\n"
   ]
  },
  {
   "cell_type": "markdown",
   "metadata": {},
   "source": [
    "Und eine letzte Überprüfung, ob die Sample Zahl immer noch 100 ist:"
   ]
  },
  {
   "cell_type": "code",
   "execution_count": 101,
   "metadata": {},
   "outputs": [
    {
     "name": "stdout",
     "output_type": "stream",
     "text": [
      "100\n"
     ]
    }
   ],
   "source": [
    "import sqlite3\n",
    "\n",
    "con = sqlite3.connect(\"Datenbank.db\")\n",
    "cur = con.cursor()\n",
    "\n",
    "print(cur.execute(\"SELECT COUNT(*) FROM samples\").fetchone()[0])"
   ]
  },
  {
   "cell_type": "markdown",
   "metadata": {},
   "source": [
    "### Da nun alle Stichproben gesammelt sind, ist dieses Jupyter Notebook hier zu Ende. In einem weiteren Schritt wird das Preprocessing anhand dieser 100 Stichproben erstellt ###"
   ]
  }
 ],
 "metadata": {
  "kernelspec": {
   "display_name": "HistTopMod",
   "language": "python",
   "name": "python3"
  },
  "language_info": {
   "codemirror_mode": {
    "name": "ipython",
    "version": 3
   },
   "file_extension": ".py",
   "mimetype": "text/x-python",
   "name": "python",
   "nbconvert_exporter": "python",
   "pygments_lexer": "ipython3",
   "version": "3.12.0"
  }
 },
 "nbformat": 4,
 "nbformat_minor": 2
}
