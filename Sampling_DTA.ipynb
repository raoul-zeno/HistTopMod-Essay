{
 "cells": [
  {
   "cell_type": "markdown",
   "metadata": {},
   "source": [
    "### Text-Sampling des Gesamtkorpus des Deutschen Textarchiv ###"
   ]
  },
  {
   "cell_type": "markdown",
   "metadata": {},
   "source": [
    "Dieses Jupyter-Notebook wurde eingerichtet, um die Einzelschritte für das Text-Sampling der Texte aufzuzeigen, und für die Gewährleistung der Nachprüfbarkeit. Es sollte ein interaktives Herausfinden von wichtigen Erkenntnissen ermöglichen."
   ]
  },
  {
   "cell_type": "markdown",
   "metadata": {},
   "source": [
    "Für die Datenbank-Analyse werden folgende libraries benötigt (nicht komplett):"
   ]
  },
  {
   "cell_type": "markdown",
   "metadata": {},
   "source": [
    "- Pandas, für Visualisierungen\n",
    "- SQLite, für Datenbankerstellung und -abfragen\n",
    "- NLTK, für Wortdistributionen\n",
    "- Matplotlib, für Visualisierungen\n",
    "- Wordcloud, für Tokenfrequenz\n",
    "- evtl. Plotly, für interaktive Visualisierungen\n",
    "- \n",
    "- ... und mehr (extensible)"
   ]
  },
  {
   "cell_type": "markdown",
   "metadata": {},
   "source": [
    "Vorgehen für das Sampling (mit Hilfe von ChatGPT, Prompt: \"Any tips on sampling?\")\n"
   ]
  },
  {
   "cell_type": "markdown",
   "metadata": {},
   "source": [
    "1. Analyse der proportionalen Repräsentationen von Dekaden, Genres, Länge. Ziel: Erkenntnis über die Sample-Menge für Dekaden, Genres, Länge in Bezug auf ihrer prozentualen Repräsentation im Gesamtkorpus. (Geschichtete Zufallsstichprobe)\n",
    "2. Zufallsstichprobe mit Einschränkungen (Automatisiert):\n",
    "    - repräsentative Menge an Beispieltexten in Bezug auf Gesamtkorpus, Länge (sehr kurze und sehr lange)\n",
    "    - \"Handverlesene\", sehr repräsentative Texte kriegen Vorrang bei der Auswahl\n",
    "3. Quirks-Analyse:\n",
    "    - Unüblich oft vorkommende Tokens\n",
    "    - Archaischer oder genre-spezifischer Wortschatz\n",
    "    - N-Gram Analyse\n",
    "    - Tokenlänge-Distribution\n",
    "    - Buchstaben-Distribution\n",
    "    - Verwendung von weiteren Sprachen (z.B. Latein)\n",
    "Für diesen Schritt sollte möglichst mit Visualisierungen gearbeitet werden: Word Clouds, Bar charts, top-N Wörter, heatmaps, Histogramme, Scatterplots, Time-Series Plots\n",
    "4. Manuelle Inspektionen\n"
   ]
  },
  {
   "cell_type": "markdown",
   "metadata": {},
   "source": [
    "## 1. Analysen der proportionalen Repräsentationen von Dekaden, Genres, Länge ##"
   ]
  },
  {
   "cell_type": "markdown",
   "metadata": {},
   "source": [
    "***Dekaden***"
   ]
  },
  {
   "cell_type": "markdown",
   "metadata": {},
   "source": [
    "Zuerst werden die Jahre ausgelesen von der Datenbank und in ein DataFrame gesetzt (vereinfachte Visualisierungen)"
   ]
  },
  {
   "cell_type": "code",
   "execution_count": 2,
   "metadata": {},
   "outputs": [],
   "source": [
    "import sqlite3\n",
    "import pandas as pd\n",
    "\n",
    "con = sqlite3.connect(\"Datenbank.db\")\n",
    "abfrage = \"\"\"SELECT publikationsjahr FROM my_data;\"\"\"\n",
    "\n",
    "df = pd.read_sql_query(abfrage, con)\n",
    "\n",
    "con.close()"
   ]
  },
  {
   "cell_type": "markdown",
   "metadata": {},
   "source": [
    "Nun werden die Texte pro Jahr gezählt mit pandas:"
   ]
  },
  {
   "cell_type": "code",
   "execution_count": 3,
   "metadata": {},
   "outputs": [],
   "source": [
    "yearly_count = df.groupby(\"publikationsjahr\").size().reset_index(name=\"count\")"
   ]
  },
  {
   "cell_type": "markdown",
   "metadata": {},
   "source": [
    "Hier werden die Daten dann visualisiert mithilfe von plotly. Zuerst muss plotly aber installiert werden."
   ]
  },
  {
   "cell_type": "code",
   "execution_count": 1,
   "metadata": {},
   "outputs": [
    {
     "name": "stdout",
     "output_type": "stream",
     "text": [
      "Collecting plotly\n",
      "  Using cached plotly-5.24.1-py3-none-any.whl.metadata (7.3 kB)\n",
      "Collecting tenacity>=6.2.0 (from plotly)\n",
      "  Using cached tenacity-9.0.0-py3-none-any.whl.metadata (1.2 kB)\n",
      "Requirement already satisfied: packaging in c:\\users\\raoul\\desktop\\new_histtop\\histtopmod-essay\\histtopmod\\lib\\site-packages (from plotly) (24.2)\n",
      "Using cached plotly-5.24.1-py3-none-any.whl (19.1 MB)\n",
      "Using cached tenacity-9.0.0-py3-none-any.whl (28 kB)\n",
      "Installing collected packages: tenacity, plotly\n",
      "Successfully installed plotly-5.24.1 tenacity-9.0.0\n",
      "Note: you may need to restart the kernel to use updated packages.\n"
     ]
    },
    {
     "name": "stderr",
     "output_type": "stream",
     "text": [
      "\n",
      "[notice] A new release of pip is available: 24.0 -> 24.3.1\n",
      "[notice] To update, run: python.exe -m pip install --upgrade pip\n"
     ]
    }
   ],
   "source": [
    "%pip install plotly"
   ]
  },
  {
   "cell_type": "markdown",
   "metadata": {},
   "source": [
    "Nun kann Plotly für die Visualisierung verwendet werden:"
   ]
  },
  {
   "cell_type": "code",
   "execution_count": null,
   "metadata": {},
   "outputs": [],
   "source": [
    "import plotly.graph_objects as go\n",
    "\n",
    "fig = go.Figure(data=[go.Bar(name=\"Texte pro Jahr\", x=yearly_count[\"publikationsjahr\"], y=yearly_count[\"count\"])])\n",
    "\n",
    "fig.update_layout(\n",
    "    title=\"Anzahl Texte pro Jahr\",\n",
    "    xaxis_title=\"Jahr\",\n",
    "    yaxis_title=\"Anzahl\",\n",
    "    hovermode=\"x\"\n",
    ")\n",
    "\n",
    "fig.show()\n"
   ]
  },
  {
   "cell_type": "markdown",
   "metadata": {},
   "source": [
    "***Analyse:***"
   ]
  },
  {
   "cell_type": "markdown",
   "metadata": {},
   "source": [
    "Sehr auffällig ist der Spike in den Jahren von 1840-1848. Dies fällt in den Zeitraum verschiedener Revolutionen in Europa und muss separat berücksichtigt werden beim Sampling. Es wurde entschieden, eine Stratifizierung vorzunehmen, in Epochen, um ein proportionales Sampling zu ermöglichen. Dies sollte mehr Einblick geben, wie sich die Verteilung der Texte innerhalb (mehr oder weniger arbiträren) Epochen verändert hat. \n",
    "\n",
    "Die Epochen werden aufgeteilt in:\n",
    "- Spätmittelalter (1473-1500)\n",
    "- Renaissance (1501-1600)\n",
    "- Barock (1601-1700)\n",
    "- Aufklärung (1701-1800)\n",
    "- Frühes 19. Jahrhundert (1801-1839)\n",
    "- Revolutionsjahre (1840-1850)\n",
    "- Industrielle Revolution (1851-1900)\n",
    "- Moderne (1901-1987)\n",
    "\n",
    "Dafür wird eine neue Spalte \"Zeitstratum\" in der SQL-Datenbank erstellt und die Texte gemäss ihrem Publikationsjahr eingestuft."
   ]
  },
  {
   "cell_type": "code",
   "execution_count": 3,
   "metadata": {},
   "outputs": [],
   "source": [
    "import sqlite3\n",
    "\n",
    "con = sqlite3.connect(\"Datenbank.db\")\n",
    "cur = con.cursor()\n",
    "\n",
    "cur.execute(\"\"\"\n",
    "    ALTER TABLE my_data\n",
    "    ADD COLUMN 'zeitstratum'\n",
    "\"\"\")\n",
    "\n",
    "cur.execute(\"\"\"\n",
    "    UPDATE my_data\n",
    "    SET zeitstratum = CASE\n",
    "            WHEN publikationsjahr BETWEEN 1473 AND 1500 THEN 'Spätmittelalter'\n",
    "            WHEN publikationsjahr BETWEEN 1501 AND 1600 THEN 'Renaissance'\n",
    "            WHEN publikationsjahr BETWEEN 1601 AND 1700 THEN 'Barock'\n",
    "            WHEN publikationsjahr BETWEEN 1701 AND 1800 THEN 'Aufklärung'\n",
    "            WHEN publikationsjahr BETWEEN 1801 AND 1839 THEN 'Frühes 19. Jahrhundert'\n",
    "            WHEN publikationsjahr BETWEEN 1840 AND 1850 THEN 'Revolutionsjahre'\n",
    "            WHEN publikationsjahr BETWEEN 1851 AND 1900 THEN 'Industrielle Revolution'\n",
    "            ELSE 'Moderne'\n",
    "    END;\n",
    "\"\"\")\n",
    "con.commit()\n"
   ]
  },
  {
   "cell_type": "markdown",
   "metadata": {},
   "source": [
    "Tests:"
   ]
  },
  {
   "cell_type": "code",
   "execution_count": null,
   "metadata": {},
   "outputs": [],
   "source": [
    "testjahre = [1473, 1536, 1650, 1750, 1830, 1848, 1890, 1914] # Diese Daten haben mindestens einen Text (siehe Visualisierung oben)\n",
    "\n",
    "for year in testjahre:\n",
    "    print(f\"Das Jahr {year} ist in der Epoche {cur.execute(\"SELECT zeitstratum FROM my_data WHERE publikationsjahr=?\", (year,)).fetchone()[0]}\")"
   ]
  },
  {
   "cell_type": "code",
   "execution_count": 5,
   "metadata": {},
   "outputs": [],
   "source": [
    "con.close()"
   ]
  },
  {
   "cell_type": "markdown",
   "metadata": {},
   "source": [
    "Nun kann eine neue Visualisierung gemäss diesen Epochen gemacht werden, in der Form einer Bar-Chart."
   ]
  },
  {
   "cell_type": "code",
   "execution_count": null,
   "metadata": {},
   "outputs": [],
   "source": [
    "import plotly.graph_objects as go\n",
    "import sqlite3\n",
    "import pandas as pd\n",
    "\n",
    "con = sqlite3.connect(\"Datenbank.db\")\n",
    "query = \"\"\"SELECT zeitstratum FROM my_data\"\"\"\n",
    "\n",
    "df = pd.read_sql_query(query, con)\n",
    "\n",
    "con.close()\n",
    "\n",
    "epoch_count = df.groupby(\"zeitstratum\").size().reset_index(name=\"count\")\n",
    "\n",
    "fig = go.Figure(data=[go.Bar(name=\"Texte pro Epoche\", x=epoch_count[\"zeitstratum\"], y=epoch_count[\"count\"])])\n",
    "\n",
    "fig.update_layout(\n",
    "    title=\"Anzahl Texte pro Epoche\",\n",
    "    xaxis_title=\"Epoche\",\n",
    "    yaxis_title=\"Anzahl\",\n",
    "    hovermode=\"x\"\n",
    ")\n",
    "\n",
    "fig.show()\n"
   ]
  },
  {
   "cell_type": "markdown",
   "metadata": {},
   "source": [
    "***Hauptgenre***"
   ]
  },
  {
   "cell_type": "markdown",
   "metadata": {},
   "source": [
    "Äquivalent zur vorherigen Abfragen, deshalb abgekürzt in einer Ausführung:"
   ]
  },
  {
   "cell_type": "code",
   "execution_count": null,
   "metadata": {},
   "outputs": [],
   "source": [
    "import sqlite3\n",
    "import pandas as pd\n",
    "import plotly.graph_objects as go\n",
    "\n",
    "con = sqlite3.connect(\"Datenbank.db\")\n",
    "abfrage = \"\"\"SELECT hauptklasse FROM my_data\"\"\"\n",
    "\n",
    "df = pd.read_sql_query(abfrage, con)\n",
    "\n",
    "con.close()\n",
    "\n",
    "class_count = df.groupby(\"hauptklasse\").size().reset_index(name=\"count\")\n",
    "\n",
    "fig = go.Figure(data=[go.Bar(name=\"Texte pro Hauptklasse\", x=class_count[\"hauptklasse\"], y=class_count[\"count\"])])\n",
    "\n",
    "fig.update_layout(\n",
    "    title=\"Anzahl Texte pro Hauptklasse\",\n",
    "    xaxis_title=\"Hauptklasse\",\n",
    "    yaxis_title=\"Anzahl\",\n",
    "    hovermode=\"x\"\n",
    ")\n",
    "\n",
    "fig.show()"
   ]
  },
  {
   "cell_type": "markdown",
   "metadata": {},
   "source": [
    "***Analyse***"
   ]
  },
  {
   "cell_type": "markdown",
   "metadata": {},
   "source": [
    "Da die Texte in nur vier Hauptklassen unterteilt werden, ist diese Visualisierung nicht wirklich repräsentativ. Die Subgenres geben wahrscheinlich mehr Aufschluss über die Verteilung."
   ]
  },
  {
   "cell_type": "markdown",
   "metadata": {},
   "source": [
    "***Subgenre***"
   ]
  },
  {
   "cell_type": "code",
   "execution_count": null,
   "metadata": {},
   "outputs": [],
   "source": [
    "import sqlite3\n",
    "import pandas as pd\n",
    "import plotly.graph_objects as go\n",
    "\n",
    "con = sqlite3.connect(\"Datenbank.db\")\n",
    "abfrage = \"\"\"SELECT subklasse FROM my_data\"\"\"\n",
    "\n",
    "df = pd.read_sql_query(abfrage, con)\n",
    "\n",
    "con.close()\n",
    "\n",
    "class_count = df.groupby(\"subklasse\").size().reset_index(name=\"count\")\n",
    "\n",
    "fig = go.Figure(data=[go.Bar(name=\"Texte pro Subgenre\", x=class_count[\"subklasse\"], y=class_count[\"count\"])])\n",
    "\n",
    "fig.update_layout(\n",
    "    title=\"Anzahl Texte pro Subgenre\",\n",
    "    xaxis_title=\"Subgenre\",\n",
    "    yaxis_title=\"Anzahl\",\n",
    "    hovermode=\"x\"\n",
    ")\n",
    "\n",
    "fig.show()"
   ]
  },
  {
   "cell_type": "markdown",
   "metadata": {},
   "source": [
    "***Analyse***"
   ]
  },
  {
   "cell_type": "markdown",
   "metadata": {},
   "source": [
    "Problematisch an dieser Visualisierung ist die grosse Anzahl an Subgenres: 127. Um den Noise der Visualisierung zu verringern, werden die Hauptgenres und Subgenres kombiniert. Zunächst wird ein Dictionary erstellt, dass die Subgenres als Teilmenge der Hauptgenres auszeichnet."
   ]
  },
  {
   "cell_type": "code",
   "execution_count": 14,
   "metadata": {},
   "outputs": [],
   "source": [
    "import sqlite3\n",
    "\n",
    "con = sqlite3.connect(\"Datenbank.db\")\n",
    "cur = con.cursor()\n",
    "\n",
    "genre_dict = {\n",
    "    \"Belletristik\" : [],\n",
    "    \"Gebrauchsliteratur\" : [],\n",
    "    \"Wissenschaft\" : [],\n",
    "    \"Zeitung\" : []\n",
    "}\n",
    "\n",
    "for genre in genre_dict:\n",
    "    list_of_rows = cur.execute(\"SELECT DISTINCT subklasse FROM my_data WHERE hauptklasse=?\", (genre, ))\n",
    "    list_of_subgenres = [row[0] for row in list_of_rows]\n",
    "    genre_dict[genre] = list_of_subgenres"
   ]
  },
  {
   "cell_type": "code",
   "execution_count": null,
   "metadata": {},
   "outputs": [],
   "source": [
    "import pprint as pp\n",
    "pp.pprint(genre_dict)"
   ]
  },
  {
   "cell_type": "code",
   "execution_count": null,
   "metadata": {},
   "outputs": [],
   "source": [
    "print(len(genre_dict[\"Wissenschaft\"]))\n",
    "\n",
    "wissenschaft = \"Medizin, Physik, Biologie, Zoologie, Anthropologie, Geographie; Ethnologie, Mathematik, Astronomie, Geologie, Naturgeschichte, Chemie, Anatomie, Physiologie, Tierheilkunde, Gartenbau, Landwirtschaft. Sprachwissenschaft, Literaturwissenschaft, Theologie, Philosophie, Geschichte, Altertumskunde, Archäologie, Ethnologie, Philologie. Psychologie, Soziologie, Politik, Gesellschaft, Gesellschaftswissenschaften, Kameralwissenschaft, Militär. Ökonomie, Recht, Jura, Politik, Ökonomie, Gesellschaftswissenschaften; Recht, Politik, Anstandsliteratur. Technik, Musik, Musikwissenschaft, Kunstgeschichte, Buchwesen, Architektur, Bergbau, Glasherstellung. Geographie, Geowissenschaften, Naturwissenschaft, Naturwissenschaft; Philosophie, Alchemie, Alchemie, Medizin, Sonstiges, Historiographie, Historiographie; Recht, Ordensliteratur:Jesuiten. Pädagogik, Brief, Astronomie \"\n",
    "missing = []\n",
    "\n",
    "for subgenre in genre_dict[\"Wissenschaft\"]:\n",
    "    if subgenre not in wissenschaft:\n",
    "        missing.append(subgenre)\n",
    "\n",
    "print(missing)"
   ]
  },
  {
   "cell_type": "markdown",
   "metadata": {},
   "source": [
    "Mit Hilfe von ChatGPT kann diese Hauptgenres-Subgenres-Klassifizierung in eine übersichtlichere Gruppierung aufgeteilt werden (Prompt: \"Wie können diese Hauptgenres und Subgenres repräsentativ verknappt oder zusammengefügt werden, damit die Anzahl Genres übersichtlich bleibt, gib mir einen Vorschlag\" + genre_dict). Der Output von ChatGPT sieht diese Stratifizierung vor:\n",
    "\n",
    "- Belletristik:\n",
    "    - Lyrik & Poesie\n",
    "        - Lyrik\n",
    "        - Lyrik;Libretto\n",
    "        - Lyrik;Drama\n",
    "        - Lyrik;Epigramm\n",
    "        - Lyrik;Prosa;Drama\n",
    "        - Reimpaarspruch\n",
    "        - Lied\n",
    "        - Satire\n",
    "        - Städtelob\n",
    "        - Religiöse Reimpaarerzählung\n",
    "        - Lyrik;Prosa\n",
    "        - Epik\n",
    "        - Heldenepik\n",
    "    - Prosa & Erzählungen\n",
    "        - Roman\n",
    "        - Novelle\n",
    "        - Prosa\n",
    "        - Epos\n",
    "        - Dialog\n",
    "        - Briefroman\n",
    "        - Schäferdichtung\n",
    "        - Reiseliteratur\n",
    "    - Drama\n",
    "        - Drama\n",
    "        - Drama;Prosa\n",
    "        - Lyrik;Drama;Prosa\n",
    "    - Autobiographische & Biographische Werke\n",
    "        - Autobiographie\n",
    "        - Biographie\n",
    "        - (Auto)biographie\n",
    "    - Kinder- & Jugendliteratur\n",
    "        - Kinderliteratur\n",
    "        - Märchen\n",
    "    - Sonstige literarische Genres\n",
    "        - Briefe\n",
    "        - Lexikon\n",
    "\n",
    "- Gebrauchsliteratur:\n",
    "    - Praktische Literatur\n",
    "        - Hausväterliteratur\n",
    "        - Kochbuch\n",
    "        - Handbuch\n",
    "        - Rhetorik\n",
    "        - Lexikon\n",
    "        - Wörterbuch\n",
    "        - Briefsteller\n",
    "        - Rechnungsbuch\n",
    "        - Gartenbau\n",
    "        - Pädagogik\n",
    "        - Schulbuch\n",
    "    - Religiöse & Erbauliche Literatur\n",
    "        - Leichenpredigt\n",
    "        - Gelegenheitsschrift;Tod\n",
    "        - Gelegenheitsschrift;Tod;Lyrik\n",
    "        - Erbauungsliteratur\n",
    "        - Andachtsbuch\n",
    "        - Bibelübersetzung\n",
    "        - Gelegenheitsschrift;Fest\n",
    "        - Anstandsliteratur\n",
    "    - Politische & Rechtliche Texte\n",
    "        - Politik\n",
    "        - Verordnung\n",
    "        - Reformschrift\n",
    "        - Recht\n",
    "        - Bericht\n",
    "        - Streitschrift;Brief\n",
    "        - Amtsdruckschrift\n",
    "        - Gelegenheitsschrift;Vertrag\n",
    "    - Wissenschaftlich-Populäre Literatur\n",
    "        - Populärwissenschaft\n",
    "        - Philologie\n",
    "        - Zoologie\n",
    "        - Biologie\n",
    "        - Naturwissenschaft\n",
    "        - Astronomie\n",
    "        - Mathematik\n",
    "        - Geologie\n",
    "        - Bergbau\n",
    "        - Psychologie\n",
    "        - Astrologie\n",
    "        - Pflanzenbuch\n",
    "        - Kriminalistik\n",
    "        - Theologie\n",
    "        - Technik\n",
    "        - Ökonomie\n",
    "        - Philosophie\n",
    "        - Medizin\n",
    "    - Künstlerische & Kreative Texte\n",
    "        - Kunst\n",
    "        - Musik\n",
    "        - Verslehre\n",
    "        - Poetik\n",
    "        - Zeitschrift\n",
    "        - Satire\n",
    "        - Rede\n",
    "    - Reise- & Erfahrungsberichte\n",
    "        - Reiseliteratur\n",
    "        - Tagebuch\n",
    "        - Autobiographie\n",
    "        - Rezension\n",
    "    - Sonstige Gebrauchsliteratur\n",
    "        - Gesellschaft\n",
    "        - Regionalgeschichte\n",
    "        - Kolportageliteratur\n",
    "        - Sport\n",
    "        - Flugschrift\n",
    "        - Sonstiges\n",
    "- Wissenschaft:\n",
    "    - Naturwissenschaften\n",
    "        - Medizin\n",
    "        - Physik\n",
    "        - Biologie\n",
    "        - Zoologie\n",
    "        - Astronomie\n",
    "        - Geologie\n",
    "        - Naturgeschichte\n",
    "        - Chemie\n",
    "        - Anatomie\n",
    "        - Physiologie\n",
    "        - Tierheilkunde\n",
    "        - Geographie\n",
    "        - Geowissenschaft\n",
    "        - Naturwissenschaft\n",
    "        - Mathematik\n",
    "        - Anthropologie\n",
    "    - Geisteswissenschaften\n",
    "        - Sprachwissenschaft\n",
    "        - Literaturwissenschaft\n",
    "        - Theologie\n",
    "        - Philosophie\n",
    "        - Gesschichte\n",
    "        - Altertumskunde\n",
    "        - Archäologie\n",
    "        - Ethnologie\n",
    "        - Philologie\n",
    "        - Musik\n",
    "        - Musikwissenschaft\n",
    "        - Kunstgeschichte\n",
    "        - Architektur\n",
    "        - Naturwissenschaft;Philosophie\n",
    "        - Historiographie\n",
    "        - Pädagogik\n",
    "        - Geographie;Ethnologie\n",
    "    - Sozialwissenschaften\n",
    "        - Psychologie\n",
    "        - Soziologie\n",
    "        - Politik\n",
    "        - Gesellschaft\n",
    "        - Gesellschaftswissenschaften\n",
    "        - Kameralwissenschaft\n",
    "        - Militär\n",
    "    - Wirtschaft und Recht\n",
    "        - Ökonomie\n",
    "        - Recht\n",
    "        - Jura\n",
    "        - Politik\n",
    "        - Gesellschaftswissenschaften;Recht\n",
    "        - Politik\n",
    "        - Anstandsliteratur\n",
    "        - Historiographie;Recht\n",
    "    - Technische Wissenschaften\n",
    "        - Technik\n",
    "        - Bergbau\n",
    "        - Glasherstellung\n",
    "        - Landwirtschaft\n",
    "        - Gartenbau\n",
    "    - Sonstiges\n",
    "        - Alchemie\n",
    "        - Sonstiges\n",
    "        - Ordensliteratur:Jesuiten\n",
    "        - Brief\n",
    "\n",
    "- Zeitung\n",
    "\n"
   ]
  },
  {
   "cell_type": "markdown",
   "metadata": {},
   "source": [
    "Fine-Tuning war noch nötig, aber schliesslich gibt es diese Subgenres und Hauptgenres:\n",
    "- Belletristik\n",
    "    - Lyrik & Poesie\n",
    "    - Prosa & Erzählungen\n",
    "    - Drama\n",
    "    - Autobiographische & Biographische Werke\n",
    "    - Kinder- & Jugendliteratur\n",
    "    - Sonstige literarische Genres\n",
    "- Gebrauchsliteratur\n",
    "    - Praktische Literatur\n",
    "    - Religiöse & Erbauliche Literatur\n",
    "    - Politische & Rechtliche Texte\n",
    "    - Wissenschaftlich-Populäre Literatur\n",
    "    - Künstlerische & Kreative Texte\n",
    "    - Reise- & Erfahrungsberichte\n",
    "    - Sonstige Gebrauchsliteratur\n",
    "- Wissenschaften\n",
    "    - Naturwissenschaften\n",
    "    - Geisteswissenschaften\n",
    "    - Sozialwissenschaften\n",
    "    - Wirtschaft und Recht\n",
    "    - Technische Wissenschaften\n",
    "    - Sonstiges\n",
    "- Zeitung"
   ]
  },
  {
   "cell_type": "markdown",
   "metadata": {},
   "source": [
    "In einem nächsten Schritt werden diese Genres in eine neue Spalte \"Genrestratum\" in die SQL-Datenbank eingespeist. Dieser Code ist ein bisschen lang, aufgrund der Fülle an Subgenres"
   ]
  },
  {
   "cell_type": "code",
   "execution_count": null,
   "metadata": {},
   "outputs": [],
   "source": [
    "import sqlite3\n",
    "\n",
    "con = sqlite3.connect(\"Datenbank.db\")\n",
    "cur = con.cursor()\n",
    "\n",
    "cur.execute(\"\"\"\n",
    "            ALTER TABLE my_data\n",
    "            ADD COLUMN 'genrestratum' TEXT\n",
    "            \"\"\")"
   ]
  },
  {
   "cell_type": "code",
   "execution_count": 37,
   "metadata": {},
   "outputs": [],
   "source": [
    "con = sqlite3.connect(\"Datenbank.db\")\n",
    "cur = con.cursor()\n",
    "\n",
    "cur.execute(\"\"\"\n",
    "    UPDATE my_data\n",
    "    SET genrestratum = CASE\n",
    "            WHEN hauptklasse IN ('Belletristik') AND subklasse IN (\n",
    "                'Lyrik',\n",
    "                'Lyrik, Libretto',\n",
    "                'Lyrik, Drama',\n",
    "                'Lyrik, Epigramm',\n",
    "                'Lyrik; Prosa; Drama',\n",
    "                'Reimpaarspruch',\n",
    "                'Lied',\n",
    "                'Satire',\n",
    "                'Städtelob',\n",
    "                'Religiöse Reimpaarerzählung',\n",
    "                'Lyrik; Prosa',\n",
    "                'Epik',\n",
    "                'Heldenepik'\n",
    "            ) THEN 'Belletristik; Lyrik,Poesie'\n",
    "            WHEN hauptklasse IN ('Belletristik') AND subklasse IN (\n",
    "                'Roman',\n",
    "                'Novelle',\n",
    "                'Prosa',\n",
    "                'Epos',\n",
    "                'Dialog',\n",
    "                'Briefroman',\n",
    "                'Schäferdichtung',\n",
    "                'Reiseliteratur'\n",
    "            ) THEN 'Belletristik; Prosa,Erzählungen'\n",
    "            WHEN hauptklasse IN ('Belletristik') AND subklasse IN (\n",
    "                'Drama',\n",
    "                'Drama; Prosa',\n",
    "                'Lyrik; Drama; Prosa'\n",
    "            ) THEN 'Belletristik; Drama'\n",
    "            WHEN hauptklasse IN ('Belletristik') AND subklasse IN (\n",
    "                'Autobiographie',\n",
    "                'Biographie',\n",
    "                '(Auto)biographie'\n",
    "            ) THEN 'Belletristik; Autobiographische und Biographische Werke'\n",
    "            WHEN hauptklasse IN ('Belletristik') AND subklasse IN (\n",
    "                'Kinderliteratur',\n",
    "                'Märchen'\n",
    "            ) THEN 'Belletristik; Kinderliteratur'\n",
    "            WHEN hauptklasse IN ('Belletristik') AND subklasse IN (\n",
    "                'Briefe',\n",
    "                'Lexikon'\n",
    "            ) THEN 'Belletristik; Sonstige'\n",
    "            WHEN hauptklasse IN ('Gebrauchsliteratur') AND subklasse IN (\n",
    "                'Hausväterliteratur',\n",
    "                'Kochbuch',\n",
    "                'Handbuch',\n",
    "                'Rhetorik',\n",
    "                'Lexikon',\n",
    "                'Wörterbuch',\n",
    "                'Briefsteller',\n",
    "                'Rechnungsbuch',\n",
    "                'Gartenbau',\n",
    "                'Pädagogik',\n",
    "                'Schulbuch',\n",
    "                'Handbuch, Rhetorik'\n",
    "            ) THEN 'Gebrauchsliteratur; Praktische Literatur'\n",
    "            WHEN hauptklasse IN ('Gebrauchsliteratur') AND subklasse IN (\n",
    "                'Leichenpredigt',\n",
    "                'Gelegenheitsschrift:Tod',\n",
    "                'Gelegenheitsschrift:Tod; Lyrik',\n",
    "                'Erbauungsliteratur',\n",
    "                'Andachtsbuch',\n",
    "                'Bibelübersetzung',\n",
    "                'Gelegenheitsschrift:Fest',\n",
    "                'Anstandsliteratur'\n",
    "            ) THEN 'Gebrauchsliteratur; Religiöse und Erbauliche Literatur'\n",
    "            WHEN hauptklasse IN ('Gebrauchsliteratur') AND subklasse IN (\n",
    "                'Politik',\n",
    "                'Verordnung',\n",
    "                'Reformschrift',\n",
    "                'Recht',\n",
    "                'Bericht',\n",
    "                'Streitschrift; Brief',\n",
    "                'Amtsdruckschrift',\n",
    "                'Gelegenheitsschrift:Vertrag'\n",
    "            ) THEN 'Gebrauchsliteratur; Politische und Rechtliche Texte'\n",
    "            WHEN hauptklasse IN ('Gebrauchsliteratur') AND subklasse IN (\n",
    "                'Populärwissenschaft',\n",
    "                'Philologie',\n",
    "                'Zoologie',\n",
    "                'Biologie',\n",
    "                'Naturwissenschaft',\n",
    "                'Astronomie',\n",
    "                'Mathematik',\n",
    "                'Geologie',\n",
    "                'Bergbau',\n",
    "                'Psychologie',\n",
    "                'Astrologie',\n",
    "                'Pflanzenbuch',\n",
    "                'Kriminalistik',\n",
    "                'Theologie',\n",
    "                'Technik',\n",
    "                'Ökonomie',\n",
    "                'Philosophie',\n",
    "                'Medizin'\n",
    "            ) THEN 'Gebrauchsliteratur; Wissenschaftlich-Populäre Literatur'\n",
    "            WHEN hauptklasse IN ('Gebrauchsliteratur') AND subklasse IN (\n",
    "                'Kunst',\n",
    "                'Musik',\n",
    "                'Verslehre',\n",
    "                'Poetik',\n",
    "                'Zeitschrift',\n",
    "                'Satire',\n",
    "                'Rede'\n",
    "            ) THEN 'Gebrauchsliteratur; Künstlerische und Kreative Texte'\n",
    "            WHEN hauptklasse IN ('Gebrauchsliteratur') AND subklasse IN (\n",
    "                'Reiseliteratur',\n",
    "                'Tagebuch',\n",
    "                'Autobiographie',\n",
    "                'Rezension'\n",
    "            ) THEN 'Gebrauchsliteratur; Reise- und Erfahrungsberichte'\n",
    "            WHEN hauptklasse IN ('Gebrauchsliteratur') AND subklasse IN (\n",
    "                'Gesellschaft',\n",
    "                'Regionalgeschichte',\n",
    "                'Kolportageliteratur',\n",
    "                'Sport',\n",
    "                'Flugschrift',\n",
    "                'Sonstiges',\n",
    "                'Brief'\n",
    "            ) THEN 'Gebrauchsliteratur; Sonstige'\n",
    "            WHEN hauptklasse IN ('Wissenschaft') AND subklasse IN (\n",
    "                'Medizin',\n",
    "                'Physik',\n",
    "                'Biologie',\n",
    "                'Zoologie',\n",
    "                'Astronomie',\n",
    "                'Geologie',\n",
    "                'Naturgeschichte',\n",
    "                'Chemie',\n",
    "                'Anatomie',\n",
    "                'Physiologie',\n",
    "                'Tierheilkunde',\n",
    "                'Geographie',\n",
    "                'Geowissenschaft',\n",
    "                'Naturwissenschaft',\n",
    "                'Mathematik',\n",
    "                'Anthropologie',\n",
    "                'Geowissenschaften'\n",
    "            ) THEN 'Wissenschaft; Naturwissenschaften'\n",
    "            WHEN hauptklasse IN ('Wissenschaft') AND subklasse IN (\n",
    "                'Sprachwissenschaft',\n",
    "                'Literaturwissenschaft',\n",
    "                'Theologie',\n",
    "                'Philosophie',\n",
    "                'Geschichte',\n",
    "                'Altertumskunde',\n",
    "                'Archäologie',\n",
    "                'Ethnologie',\n",
    "                'Philologie',\n",
    "                'Musik',\n",
    "                'Musikwissenschaft',\n",
    "                'Kunstgeschichte',\n",
    "                'Architektur',\n",
    "                'Naturwissenschaft; Philosophie',\n",
    "                'Historiographie',\n",
    "                'Pädagogik',\n",
    "                'Geographie; Ethnologie'\n",
    "            ) THEN 'Wissenschaft; Geisteswissenschaften'\n",
    "            WHEN hauptklasse IN ('Wissenschaft') AND subklasse IN (\n",
    "                'Psychologie',\n",
    "                'Soziologie',\n",
    "                'Politik',\n",
    "                'Gesellschaft',\n",
    "                'Gesellschaftswissenschaften',\n",
    "                'Kameralwissenschaft',\n",
    "                'Militär'\n",
    "            ) THEN 'Wissenschaft; Sozialwissenschaften'\n",
    "            WHEN hauptklasse IN ('Wissenschaft') AND subklasse IN (\n",
    "                'Ökonomie',\n",
    "                'Recht',\n",
    "                'Jura',\n",
    "                'Politik',\n",
    "                'Gesellschaftswissenschaften; Recht',\n",
    "                'Politik',\n",
    "                'Anstandsliteratur',\n",
    "                'Historiographie; Recht',\n",
    "                'Buchwesen',\n",
    "                'Politik, Anstandsliteratur',\n",
    "                'Politik, Ökonomie'\n",
    "            ) THEN 'Wissenschaft; Wirtschaft und Recht'\n",
    "            WHEN hauptklasse IN ('Wissenschaft') AND subklasse IN (\n",
    "                'Technik',\n",
    "                'Bergbau',\n",
    "                'Glasherstellung',\n",
    "                'Landwirtschaft',\n",
    "                'Gartenbau'\n",
    "            ) THEN 'Wissenschaft; Technische Wissenschaften'\n",
    "            WHEN hauptklasse IN ('Wissenschaft') AND subklasse IN (\n",
    "                'Alchemie',\n",
    "                'Sonstiges',\n",
    "                'Ordensliteratur:Jesuiten',\n",
    "                'Brief',\n",
    "                'Alchemie, Medizin'\n",
    "            ) THEN 'Wissenschaft; Sonstiges'\n",
    "            WHEN hauptklasse IN ('Zeitung') THEN 'Zeitung'\n",
    "\n",
    "    END\n",
    "\"\"\")\n",
    "\n",
    "con.commit()"
   ]
  },
  {
   "cell_type": "markdown",
   "metadata": {},
   "source": [
    "Hier folgt ein Test, um sicherzustellen, dass die Zuweisung für jeden Text erfolgreich war:"
   ]
  },
  {
   "cell_type": "code",
   "execution_count": null,
   "metadata": {},
   "outputs": [],
   "source": [
    "# Schauen, ob alle Texte einen Eintrag in der genrestratum-Spalte haben\n",
    "without_genrestratum = cur.execute(\"SELECT text_index FROM my_data WHERE genrestratum=NULL\").fetchall()\n",
    "\n",
    "if not without_genrestratum:\n",
    "    print(\"Alles zugewiesen!\")\n",
    "else:\n",
    "    print(without_genrestratum)"
   ]
  },
  {
   "cell_type": "code",
   "execution_count": 38,
   "metadata": {},
   "outputs": [],
   "source": [
    "con.close()"
   ]
  },
  {
   "cell_type": "markdown",
   "metadata": {},
   "source": [
    "Nun können die Genres visualisiert werden! Zunächst einmal die Verteilung über alle Genrestrata, dann spezifisch innerhalb der Hauptklassen."
   ]
  },
  {
   "cell_type": "code",
   "execution_count": null,
   "metadata": {},
   "outputs": [],
   "source": [
    "import sqlite3\n",
    "import pandas as pd\n",
    "import plotly.graph_objects as go\n",
    "\n",
    "con = sqlite3.connect(\"Datenbank.db\")\n",
    "query = \"\"\"SELECT genrestratum FROM my_data\"\"\"\n",
    "\n",
    "df = pd.read_sql_query(query, con)\n",
    "\n",
    "genre_count = df.groupby(\"genrestratum\").size().reset_index(name=\"count\")\n",
    "\n",
    "fig = go.Figure(data=[go.Bar(name=\"Texte pro Genre\", x=genre_count[\"genrestratum\"], y=genre_count[\"count\"])])\n",
    "\n",
    "fig.update_layout(\n",
    "    title=\"Anzahl Texte pro Genre\",\n",
    "    xaxis_title=\"Genres\",\n",
    "    yaxis_title=\"Anzahl Texte\",\n",
    "    hovermode=\"x\"\n",
    ")\n",
    "\n",
    "fig.show()"
   ]
  },
  {
   "cell_type": "markdown",
   "metadata": {},
   "source": [
    "Belletristik:"
   ]
  },
  {
   "cell_type": "code",
   "execution_count": null,
   "metadata": {},
   "outputs": [],
   "source": [
    "query_belletristik = \"\"\"SELECT genrestratum FROM my_data WHERE hauptklasse='Belletristik'\"\"\"\n",
    "\n",
    "df = pd.read_sql_query(query_belletristik, con)\n",
    "\n",
    "belletristik_count = df.groupby(\"genrestratum\").size().reset_index(name=\"count\")\n",
    "\n",
    "fig = go.Figure(data=[go.Bar(name=\"Texte pro Genre in Belletristik\", x=belletristik_count[\"genrestratum\"], y=belletristik_count[\"count\"])])\n",
    "\n",
    "fig.update_layout(\n",
    "    title=\"Anzahl Texte pro Subgenre in Belletristik\",\n",
    "    xaxis_title=\"Subgenres\",\n",
    "    yaxis_title=\"Anzahl Texte\",\n",
    "    hovermode=\"x\"\n",
    ")\n",
    "fig.show()"
   ]
  },
  {
   "cell_type": "markdown",
   "metadata": {},
   "source": [
    "Gebrauchsliteratur:"
   ]
  },
  {
   "cell_type": "code",
   "execution_count": null,
   "metadata": {},
   "outputs": [],
   "source": [
    "query_gebrauchsliteratur = \"\"\"SELECT genrestratum FROM my_data WHERE hauptklasse='Gebrauchsliteratur'\"\"\"\n",
    "\n",
    "df = pd.read_sql_query(query_gebrauchsliteratur, con)\n",
    "\n",
    "gebrauchsliteratur_count = df.groupby(\"genrestratum\").size().reset_index(name=\"count\")\n",
    "\n",
    "fig = go.Figure(data=[go.Bar(name=\"Texte pro Genre in Gebrauchsliteratur\", x=gebrauchsliteratur_count[\"genrestratum\"], y=gebrauchsliteratur_count[\"count\"])])\n",
    "\n",
    "fig.update_layout(\n",
    "    title=\"Anzahl Texte pro Subgenre in Gebrauchsliteratur\",\n",
    "    xaxis_title=\"Subgenres\",\n",
    "    yaxis_title=\"Anzahl Texte\",\n",
    "    hovermode=\"x\"\n",
    ")\n",
    "fig.show()"
   ]
  },
  {
   "cell_type": "markdown",
   "metadata": {},
   "source": [
    "Wissenschaft:"
   ]
  },
  {
   "cell_type": "code",
   "execution_count": null,
   "metadata": {},
   "outputs": [],
   "source": [
    "query_wissenschaft = \"\"\"SELECT genrestratum FROM my_data WHERE hauptklasse='Wissenschaft'\"\"\"\n",
    "\n",
    "df = pd.read_sql_query(query_wissenschaft, con)\n",
    "\n",
    "wissenschaft_count = df.groupby(\"genrestratum\").size().reset_index(name=\"count\")\n",
    "\n",
    "fig = go.Figure(data=[go.Bar(name=\"Texte pro Genre in Wissenschaft\", x=wissenschaft_count[\"genrestratum\"], y=wissenschaft_count[\"count\"])])\n",
    "\n",
    "fig.update_layout(\n",
    "    title=\"Anzahl Texte pro Subgenre in Wissenschaft\",\n",
    "    xaxis_title=\"Subgenres\",\n",
    "    yaxis_title=\"Anzahl Texte\",\n",
    "    hovermode=\"x\"\n",
    ")\n",
    "fig.show()"
   ]
  },
  {
   "cell_type": "markdown",
   "metadata": {},
   "source": [
    "## Kombinierte Strata Epochen x Hauptklasse ##\n",
    "An dieser Stelle soll nun eine Kombination stattfinden zwischen den vorhin definierten Epochenstrata und den Hauptklassenstrata. So kann gewährleistet werden, dass eine repräsentative Auswahl an Stichprobentexten gemacht werden kann. \n",
    "\n",
    "Die Subgenres wurden weggelassen, wegen der erhöhten Komplexität. Durch die Kombination von Epochen und Hauptklassen ergeben sich:\n",
    "\n",
    "Epochen x Hauptklasse = 8 * 4 = 32 potentielle Kombinationen.\n",
    "\n",
    "Mit den Subgenres erhöht sich diese Zahl um:\n",
    "\n",
    "Epochen x Hauptklasse x Subklasse = 8 * 4 * 20 = 640 potentielle Kombinationen. \n",
    "\n",
    "Von diesen 640 Kombinationen werden voraussichtlich ziemlich viele leer sein (z.B. Spätmittelalter x Wissenschaft x Philosophie) aufgrund der Sparsity der Daten. \n",
    "\n",
    "Die Hauptdimensionen Epoche und Hauptklasse sind für diese Analyse repräsentativ genug."
   ]
  },
  {
   "cell_type": "markdown",
   "metadata": {},
   "source": []
  },
  {
   "cell_type": "markdown",
   "metadata": {},
   "source": [
    "Zunächst wird eine neue Spalte erstellt mit dem Titel \"epochen-genres-strata\":"
   ]
  },
  {
   "cell_type": "code",
   "execution_count": 46,
   "metadata": {},
   "outputs": [],
   "source": [
    "import sqlite3\n",
    "\n",
    "con = sqlite3.connect(\"Datenbank.db\")\n",
    "cur = con.cursor()\n",
    "\n",
    "cur.execute(\"\"\"\n",
    "        ALTER TABLE my_data\n",
    "        ADD epochen_genres_strata TEXT\n",
    "\"\"\")\n",
    "\n",
    "con.commit()\n",
    "con.close()"
   ]
  },
  {
   "cell_type": "markdown",
   "metadata": {},
   "source": [
    "Um die Spalte mit den Epoche_Genres_strata zu füllen, wird bei jeder Reihe geprüft, welcher Epoche sie angehört und was die hauptklasse ist."
   ]
  },
  {
   "cell_type": "code",
   "execution_count": 48,
   "metadata": {},
   "outputs": [],
   "source": [
    "import sqlite3\n",
    "\n",
    "con = sqlite3.connect(\"Datenbank.db\")\n",
    "cur = con.cursor()\n",
    "\n",
    "cur.execute(\"\"\"\n",
    "    UPDATE my_data\n",
    "    SET epochen_genres_strata = CASE\n",
    "            WHEN zeitstratum = 'Spätmittelalter' AND hauptklasse = 'Belletristik' THEN 'Spätmittelalter x Belletristik'\n",
    "            WHEN zeitstratum = 'Spätmittelalter' AND hauptklasse = 'Gebrauchsliteratur' THEN 'Spätmittelalter x Gebrauchsliteratur'\n",
    "            WHEN zeitstratum = 'Spätmittelalter' AND hauptklasse = 'Wissenschaft' THEN 'Spätmittelalter x Wissenschaft'\n",
    "            WHEN zeitstratum = 'Spätmittelalter' AND hauptklasse = 'Zeitung' THEN 'Spätmittelalter x Zeitung'\n",
    "            WHEN zeitstratum = 'Barock' AND hauptklasse = 'Belletristik' THEN 'Barock x Belletristik'\n",
    "            WHEN zeitstratum = 'Barock' AND hauptklasse = 'Gebrauchsliteratur' THEN 'Barock x Gebrauchsliteratur'\n",
    "            WHEN zeitstratum = 'Barock' AND hauptklasse = 'Wissenschaft' THEN 'Barock x Wissenschaft'\n",
    "            WHEN zeitstratum = 'Barock' AND hauptklasse = 'Zeitung' THEN 'Barock x Zeitung'\n",
    "            WHEN zeitstratum = 'Renaissance' AND hauptklasse = 'Belletristik' THEN 'Renaissance x Belletristik'\n",
    "            WHEN zeitstratum = 'Renaissance' AND hauptklasse = 'Gebrauchsliteratur' THEN 'Renaissance x Gebrauchsliteratur'\n",
    "            WHEN zeitstratum = 'Renaissance' AND hauptklasse = 'Wissenschaft' THEN 'Renaissance x Wissenschaft'\n",
    "            WHEN zeitstratum = 'Renaissance' AND hauptklasse = 'Zeitung' THEN 'Renaissance x Zeitung'\n",
    "            WHEN zeitstratum = 'Aufklärung' AND hauptklasse = 'Belletristik' THEN 'Aufklärung x Belletristik'\n",
    "            WHEN zeitstratum = 'Aufklärung' AND hauptklasse = 'Gebrauchsliteratur' THEN 'Aufklärung x Gebrauchsliteratur'\n",
    "            WHEN zeitstratum = 'Aufklärung' AND hauptklasse = 'Wissenschaft' THEN 'Aufklärung x Wissenschaft'\n",
    "            WHEN zeitstratum = 'Aufklärung' AND hauptklasse = 'Zeitung' THEN 'Aufklärung x Zeitung'\n",
    "            WHEN zeitstratum = 'Frühes 19. Jahrhundert' AND hauptklasse = 'Belletristik' THEN 'Frühes 19. Jahrhundert x Belletristik'\n",
    "            WHEN zeitstratum = 'Frühes 19. Jahrhundert' AND hauptklasse = 'Gebrauchsliteratur' THEN 'Frühes 19. Jahrhundert x Gebrauchsliteratur'\n",
    "            WHEN zeitstratum = 'Frühes 19. Jahrhundert' AND hauptklasse = 'Wissenschaft' THEN 'Frühes 19. Jahrhundert x Wissenschaft'\n",
    "            WHEN zeitstratum = 'Frühes 19. Jahrhundert' AND hauptklasse = 'Zeitung' THEN 'Frühes 19. Jahrhundert x Zeitung'\n",
    "            WHEN zeitstratum = 'Revolutionsjahre' AND hauptklasse = 'Belletristik' THEN 'Revolutionsjahre x Belletristik'\n",
    "            WHEN zeitstratum = 'Revolutionsjahre' AND hauptklasse = 'Gebrauchsliteratur' THEN 'Revolutionsjahre x Gebrauchsliteratur'\n",
    "            WHEN zeitstratum = 'Revolutionsjahre' AND hauptklasse = 'Wissenschaft' THEN 'Revolutionsjahre x Wissenschaft'\n",
    "            WHEN zeitstratum = 'Revolutionsjahre' AND hauptklasse = 'Zeitung' THEN 'Revolutionsjahre x Zeitung'\n",
    "            WHEN zeitstratum = 'Industrielle Revolution' AND hauptklasse = 'Belletristik' THEN 'Industrielle Revolution x Belletristik'\n",
    "            WHEN zeitstratum = 'Industrielle Revolution' AND hauptklasse = 'Gebrauchsliteratur' THEN 'Industrielle Revolution x Gebrauchsliteratur'\n",
    "            WHEN zeitstratum = 'Industrielle Revolution' AND hauptklasse = 'Wissenschaft' THEN 'Industrielle Revolution x Wissenschaft'\n",
    "            WHEN zeitstratum = 'Industrielle Revolution' AND hauptklasse = 'Zeitung' THEN 'Industrielle Revolution x Zeitung'\n",
    "            WHEN zeitstratum = 'Moderne' AND hauptklasse = 'Belletristik' THEN 'Moderne x Belletristik'\n",
    "            WHEN zeitstratum = 'Moderne' AND hauptklasse = 'Gebrauchsliteratur' THEN 'Moderne x Gebrauchsliteratur'\n",
    "            WHEN zeitstratum = 'Moderne' AND hauptklasse = 'Wissenschaft' THEN 'Moderne x Wissenschaft'\n",
    "            WHEN zeitstratum = 'Moderne' AND hauptklasse = 'Zeitung' THEN 'Moderne x Zeitung'\n",
    "    END\n",
    "\"\"\")\n",
    "\n",
    "con.commit()\n",
    "con.close()"
   ]
  },
  {
   "cell_type": "markdown",
   "metadata": {},
   "source": [
    "Nun visualisieren wir diese neue Klassifizierung. Sie bildet die Grundlage für das Sampling."
   ]
  },
  {
   "cell_type": "code",
   "execution_count": 2,
   "metadata": {},
   "outputs": [
    {
     "data": {
      "application/vnd.plotly.v1+json": {
       "config": {
        "plotlyServerURL": "https://plot.ly"
       },
       "data": [
        {
         "name": "Anzahl Texte als Epochen x Hauptklasse",
         "type": "bar",
         "x": [
          "Aufklärung x Belletristik",
          "Aufklärung x Gebrauchsliteratur",
          "Aufklärung x Wissenschaft",
          "Aufklärung x Zeitung",
          "Barock x Belletristik",
          "Barock x Gebrauchsliteratur",
          "Barock x Wissenschaft",
          "Barock x Zeitung",
          "Frühes 19. Jahrhundert x Belletristik",
          "Frühes 19. Jahrhundert x Gebrauchsliteratur",
          "Frühes 19. Jahrhundert x Wissenschaft",
          "Frühes 19. Jahrhundert x Zeitung",
          "Industrielle Revolution x Belletristik",
          "Industrielle Revolution x Gebrauchsliteratur",
          "Industrielle Revolution x Wissenschaft",
          "Industrielle Revolution x Zeitung",
          "Moderne x Belletristik",
          "Moderne x Gebrauchsliteratur",
          "Moderne x Wissenschaft",
          "Moderne x Zeitung",
          "Renaissance x Belletristik",
          "Renaissance x Gebrauchsliteratur",
          "Renaissance x Wissenschaft",
          "Renaissance x Zeitung",
          "Revolutionsjahre x Belletristik",
          "Revolutionsjahre x Gebrauchsliteratur",
          "Revolutionsjahre x Wissenschaft",
          "Revolutionsjahre x Zeitung",
          "Spätmittelalter x Belletristik",
          "Spätmittelalter x Gebrauchsliteratur"
         ],
         "y": [
          225,
          181,
          313,
          173,
          76,
          601,
          101,
          5,
          158,
          48,
          149,
          47,
          146,
          110,
          252,
          143,
          113,
          321,
          81,
          119,
          2,
          105,
          2,
          1,
          45,
          31,
          43,
          829,
          4,
          12
         ]
        }
       ],
       "layout": {
        "hovermode": "x",
        "template": {
         "data": {
          "bar": [
           {
            "error_x": {
             "color": "#2a3f5f"
            },
            "error_y": {
             "color": "#2a3f5f"
            },
            "marker": {
             "line": {
              "color": "#E5ECF6",
              "width": 0.5
             },
             "pattern": {
              "fillmode": "overlay",
              "size": 10,
              "solidity": 0.2
             }
            },
            "type": "bar"
           }
          ],
          "barpolar": [
           {
            "marker": {
             "line": {
              "color": "#E5ECF6",
              "width": 0.5
             },
             "pattern": {
              "fillmode": "overlay",
              "size": 10,
              "solidity": 0.2
             }
            },
            "type": "barpolar"
           }
          ],
          "carpet": [
           {
            "aaxis": {
             "endlinecolor": "#2a3f5f",
             "gridcolor": "white",
             "linecolor": "white",
             "minorgridcolor": "white",
             "startlinecolor": "#2a3f5f"
            },
            "baxis": {
             "endlinecolor": "#2a3f5f",
             "gridcolor": "white",
             "linecolor": "white",
             "minorgridcolor": "white",
             "startlinecolor": "#2a3f5f"
            },
            "type": "carpet"
           }
          ],
          "choropleth": [
           {
            "colorbar": {
             "outlinewidth": 0,
             "ticks": ""
            },
            "type": "choropleth"
           }
          ],
          "contour": [
           {
            "colorbar": {
             "outlinewidth": 0,
             "ticks": ""
            },
            "colorscale": [
             [
              0,
              "#0d0887"
             ],
             [
              0.1111111111111111,
              "#46039f"
             ],
             [
              0.2222222222222222,
              "#7201a8"
             ],
             [
              0.3333333333333333,
              "#9c179e"
             ],
             [
              0.4444444444444444,
              "#bd3786"
             ],
             [
              0.5555555555555556,
              "#d8576b"
             ],
             [
              0.6666666666666666,
              "#ed7953"
             ],
             [
              0.7777777777777778,
              "#fb9f3a"
             ],
             [
              0.8888888888888888,
              "#fdca26"
             ],
             [
              1,
              "#f0f921"
             ]
            ],
            "type": "contour"
           }
          ],
          "contourcarpet": [
           {
            "colorbar": {
             "outlinewidth": 0,
             "ticks": ""
            },
            "type": "contourcarpet"
           }
          ],
          "heatmap": [
           {
            "colorbar": {
             "outlinewidth": 0,
             "ticks": ""
            },
            "colorscale": [
             [
              0,
              "#0d0887"
             ],
             [
              0.1111111111111111,
              "#46039f"
             ],
             [
              0.2222222222222222,
              "#7201a8"
             ],
             [
              0.3333333333333333,
              "#9c179e"
             ],
             [
              0.4444444444444444,
              "#bd3786"
             ],
             [
              0.5555555555555556,
              "#d8576b"
             ],
             [
              0.6666666666666666,
              "#ed7953"
             ],
             [
              0.7777777777777778,
              "#fb9f3a"
             ],
             [
              0.8888888888888888,
              "#fdca26"
             ],
             [
              1,
              "#f0f921"
             ]
            ],
            "type": "heatmap"
           }
          ],
          "heatmapgl": [
           {
            "colorbar": {
             "outlinewidth": 0,
             "ticks": ""
            },
            "colorscale": [
             [
              0,
              "#0d0887"
             ],
             [
              0.1111111111111111,
              "#46039f"
             ],
             [
              0.2222222222222222,
              "#7201a8"
             ],
             [
              0.3333333333333333,
              "#9c179e"
             ],
             [
              0.4444444444444444,
              "#bd3786"
             ],
             [
              0.5555555555555556,
              "#d8576b"
             ],
             [
              0.6666666666666666,
              "#ed7953"
             ],
             [
              0.7777777777777778,
              "#fb9f3a"
             ],
             [
              0.8888888888888888,
              "#fdca26"
             ],
             [
              1,
              "#f0f921"
             ]
            ],
            "type": "heatmapgl"
           }
          ],
          "histogram": [
           {
            "marker": {
             "pattern": {
              "fillmode": "overlay",
              "size": 10,
              "solidity": 0.2
             }
            },
            "type": "histogram"
           }
          ],
          "histogram2d": [
           {
            "colorbar": {
             "outlinewidth": 0,
             "ticks": ""
            },
            "colorscale": [
             [
              0,
              "#0d0887"
             ],
             [
              0.1111111111111111,
              "#46039f"
             ],
             [
              0.2222222222222222,
              "#7201a8"
             ],
             [
              0.3333333333333333,
              "#9c179e"
             ],
             [
              0.4444444444444444,
              "#bd3786"
             ],
             [
              0.5555555555555556,
              "#d8576b"
             ],
             [
              0.6666666666666666,
              "#ed7953"
             ],
             [
              0.7777777777777778,
              "#fb9f3a"
             ],
             [
              0.8888888888888888,
              "#fdca26"
             ],
             [
              1,
              "#f0f921"
             ]
            ],
            "type": "histogram2d"
           }
          ],
          "histogram2dcontour": [
           {
            "colorbar": {
             "outlinewidth": 0,
             "ticks": ""
            },
            "colorscale": [
             [
              0,
              "#0d0887"
             ],
             [
              0.1111111111111111,
              "#46039f"
             ],
             [
              0.2222222222222222,
              "#7201a8"
             ],
             [
              0.3333333333333333,
              "#9c179e"
             ],
             [
              0.4444444444444444,
              "#bd3786"
             ],
             [
              0.5555555555555556,
              "#d8576b"
             ],
             [
              0.6666666666666666,
              "#ed7953"
             ],
             [
              0.7777777777777778,
              "#fb9f3a"
             ],
             [
              0.8888888888888888,
              "#fdca26"
             ],
             [
              1,
              "#f0f921"
             ]
            ],
            "type": "histogram2dcontour"
           }
          ],
          "mesh3d": [
           {
            "colorbar": {
             "outlinewidth": 0,
             "ticks": ""
            },
            "type": "mesh3d"
           }
          ],
          "parcoords": [
           {
            "line": {
             "colorbar": {
              "outlinewidth": 0,
              "ticks": ""
             }
            },
            "type": "parcoords"
           }
          ],
          "pie": [
           {
            "automargin": true,
            "type": "pie"
           }
          ],
          "scatter": [
           {
            "fillpattern": {
             "fillmode": "overlay",
             "size": 10,
             "solidity": 0.2
            },
            "type": "scatter"
           }
          ],
          "scatter3d": [
           {
            "line": {
             "colorbar": {
              "outlinewidth": 0,
              "ticks": ""
             }
            },
            "marker": {
             "colorbar": {
              "outlinewidth": 0,
              "ticks": ""
             }
            },
            "type": "scatter3d"
           }
          ],
          "scattercarpet": [
           {
            "marker": {
             "colorbar": {
              "outlinewidth": 0,
              "ticks": ""
             }
            },
            "type": "scattercarpet"
           }
          ],
          "scattergeo": [
           {
            "marker": {
             "colorbar": {
              "outlinewidth": 0,
              "ticks": ""
             }
            },
            "type": "scattergeo"
           }
          ],
          "scattergl": [
           {
            "marker": {
             "colorbar": {
              "outlinewidth": 0,
              "ticks": ""
             }
            },
            "type": "scattergl"
           }
          ],
          "scattermapbox": [
           {
            "marker": {
             "colorbar": {
              "outlinewidth": 0,
              "ticks": ""
             }
            },
            "type": "scattermapbox"
           }
          ],
          "scatterpolar": [
           {
            "marker": {
             "colorbar": {
              "outlinewidth": 0,
              "ticks": ""
             }
            },
            "type": "scatterpolar"
           }
          ],
          "scatterpolargl": [
           {
            "marker": {
             "colorbar": {
              "outlinewidth": 0,
              "ticks": ""
             }
            },
            "type": "scatterpolargl"
           }
          ],
          "scatterternary": [
           {
            "marker": {
             "colorbar": {
              "outlinewidth": 0,
              "ticks": ""
             }
            },
            "type": "scatterternary"
           }
          ],
          "surface": [
           {
            "colorbar": {
             "outlinewidth": 0,
             "ticks": ""
            },
            "colorscale": [
             [
              0,
              "#0d0887"
             ],
             [
              0.1111111111111111,
              "#46039f"
             ],
             [
              0.2222222222222222,
              "#7201a8"
             ],
             [
              0.3333333333333333,
              "#9c179e"
             ],
             [
              0.4444444444444444,
              "#bd3786"
             ],
             [
              0.5555555555555556,
              "#d8576b"
             ],
             [
              0.6666666666666666,
              "#ed7953"
             ],
             [
              0.7777777777777778,
              "#fb9f3a"
             ],
             [
              0.8888888888888888,
              "#fdca26"
             ],
             [
              1,
              "#f0f921"
             ]
            ],
            "type": "surface"
           }
          ],
          "table": [
           {
            "cells": {
             "fill": {
              "color": "#EBF0F8"
             },
             "line": {
              "color": "white"
             }
            },
            "header": {
             "fill": {
              "color": "#C8D4E3"
             },
             "line": {
              "color": "white"
             }
            },
            "type": "table"
           }
          ]
         },
         "layout": {
          "annotationdefaults": {
           "arrowcolor": "#2a3f5f",
           "arrowhead": 0,
           "arrowwidth": 1
          },
          "autotypenumbers": "strict",
          "coloraxis": {
           "colorbar": {
            "outlinewidth": 0,
            "ticks": ""
           }
          },
          "colorscale": {
           "diverging": [
            [
             0,
             "#8e0152"
            ],
            [
             0.1,
             "#c51b7d"
            ],
            [
             0.2,
             "#de77ae"
            ],
            [
             0.3,
             "#f1b6da"
            ],
            [
             0.4,
             "#fde0ef"
            ],
            [
             0.5,
             "#f7f7f7"
            ],
            [
             0.6,
             "#e6f5d0"
            ],
            [
             0.7,
             "#b8e186"
            ],
            [
             0.8,
             "#7fbc41"
            ],
            [
             0.9,
             "#4d9221"
            ],
            [
             1,
             "#276419"
            ]
           ],
           "sequential": [
            [
             0,
             "#0d0887"
            ],
            [
             0.1111111111111111,
             "#46039f"
            ],
            [
             0.2222222222222222,
             "#7201a8"
            ],
            [
             0.3333333333333333,
             "#9c179e"
            ],
            [
             0.4444444444444444,
             "#bd3786"
            ],
            [
             0.5555555555555556,
             "#d8576b"
            ],
            [
             0.6666666666666666,
             "#ed7953"
            ],
            [
             0.7777777777777778,
             "#fb9f3a"
            ],
            [
             0.8888888888888888,
             "#fdca26"
            ],
            [
             1,
             "#f0f921"
            ]
           ],
           "sequentialminus": [
            [
             0,
             "#0d0887"
            ],
            [
             0.1111111111111111,
             "#46039f"
            ],
            [
             0.2222222222222222,
             "#7201a8"
            ],
            [
             0.3333333333333333,
             "#9c179e"
            ],
            [
             0.4444444444444444,
             "#bd3786"
            ],
            [
             0.5555555555555556,
             "#d8576b"
            ],
            [
             0.6666666666666666,
             "#ed7953"
            ],
            [
             0.7777777777777778,
             "#fb9f3a"
            ],
            [
             0.8888888888888888,
             "#fdca26"
            ],
            [
             1,
             "#f0f921"
            ]
           ]
          },
          "colorway": [
           "#636efa",
           "#EF553B",
           "#00cc96",
           "#ab63fa",
           "#FFA15A",
           "#19d3f3",
           "#FF6692",
           "#B6E880",
           "#FF97FF",
           "#FECB52"
          ],
          "font": {
           "color": "#2a3f5f"
          },
          "geo": {
           "bgcolor": "white",
           "lakecolor": "white",
           "landcolor": "#E5ECF6",
           "showlakes": true,
           "showland": true,
           "subunitcolor": "white"
          },
          "hoverlabel": {
           "align": "left"
          },
          "hovermode": "closest",
          "mapbox": {
           "style": "light"
          },
          "paper_bgcolor": "white",
          "plot_bgcolor": "#E5ECF6",
          "polar": {
           "angularaxis": {
            "gridcolor": "white",
            "linecolor": "white",
            "ticks": ""
           },
           "bgcolor": "#E5ECF6",
           "radialaxis": {
            "gridcolor": "white",
            "linecolor": "white",
            "ticks": ""
           }
          },
          "scene": {
           "xaxis": {
            "backgroundcolor": "#E5ECF6",
            "gridcolor": "white",
            "gridwidth": 2,
            "linecolor": "white",
            "showbackground": true,
            "ticks": "",
            "zerolinecolor": "white"
           },
           "yaxis": {
            "backgroundcolor": "#E5ECF6",
            "gridcolor": "white",
            "gridwidth": 2,
            "linecolor": "white",
            "showbackground": true,
            "ticks": "",
            "zerolinecolor": "white"
           },
           "zaxis": {
            "backgroundcolor": "#E5ECF6",
            "gridcolor": "white",
            "gridwidth": 2,
            "linecolor": "white",
            "showbackground": true,
            "ticks": "",
            "zerolinecolor": "white"
           }
          },
          "shapedefaults": {
           "line": {
            "color": "#2a3f5f"
           }
          },
          "ternary": {
           "aaxis": {
            "gridcolor": "white",
            "linecolor": "white",
            "ticks": ""
           },
           "baxis": {
            "gridcolor": "white",
            "linecolor": "white",
            "ticks": ""
           },
           "bgcolor": "#E5ECF6",
           "caxis": {
            "gridcolor": "white",
            "linecolor": "white",
            "ticks": ""
           }
          },
          "title": {
           "x": 0.05
          },
          "xaxis": {
           "automargin": true,
           "gridcolor": "white",
           "linecolor": "white",
           "ticks": "",
           "title": {
            "standoff": 15
           },
           "zerolinecolor": "white",
           "zerolinewidth": 2
          },
          "yaxis": {
           "automargin": true,
           "gridcolor": "white",
           "linecolor": "white",
           "ticks": "",
           "title": {
            "standoff": 15
           },
           "zerolinecolor": "white",
           "zerolinewidth": 2
          }
         }
        },
        "title": {
         "text": "Anzahl Texte pro Epochen x Hauptklasse"
        },
        "xaxis": {
         "title": {
          "text": "Epoche x Hauptklasse"
         }
        },
        "yaxis": {
         "title": {
          "text": "Anzahl Texte"
         }
        }
       }
      }
     },
     "metadata": {},
     "output_type": "display_data"
    }
   ],
   "source": [
    "import sqlite3\n",
    "import pandas as pd\n",
    "import plotly.graph_objects as go\n",
    "\n",
    "con = sqlite3.connect(\"Datenbank.db\")\n",
    "query = \"\"\"SELECT epochen_genres_strata FROM my_data\"\"\"\n",
    "\n",
    "df = pd.read_sql_query(query, con)\n",
    "\n",
    "epochen_genres_count = df.groupby(\"epochen_genres_strata\").size().reset_index(name=\"count\")\n",
    "\n",
    "fig = go.Figure(data=[go.Bar(name=\"Anzahl Texte als Epochen x Hauptklasse\", x=epochen_genres_count[\"epochen_genres_strata\"], y=epochen_genres_count[\"count\"])])\n",
    "\n",
    "fig.update_layout(\n",
    "    title=\"Anzahl Texte pro Epochen x Hauptklasse\",\n",
    "    xaxis_title=\"Epoche x Hauptklasse\",\n",
    "    yaxis_title=\"Anzahl Texte\",\n",
    "    hovermode=\"x\"\n",
    ")\n",
    "\n",
    "fig.show()\n",
    "\n",
    "con.close()"
   ]
  },
  {
   "cell_type": "markdown",
   "metadata": {},
   "source": [
    "Jetzt wird die Berechnung der Gewichtung gemacht, um Herauszufinden, welche Samplingmenge von wo genommen werden sollte. Dafür kann das DataFrame von vorhin verwendet werden. Die Gewichtung und die Samplesize müssen noch hinzugefügt werden."
   ]
  },
  {
   "cell_type": "code",
   "execution_count": 4,
   "metadata": {},
   "outputs": [
    {
     "data": {
      "application/vnd.plotly.v1+json": {
       "config": {
        "plotlyServerURL": "https://plot.ly"
       },
       "data": [
        {
         "cells": {
          "align": "left",
          "fill": {
           "color": "lavender"
          },
          "values": [
           [
            "Aufklärung x Belletristik",
            "Aufklärung x Gebrauchsliteratur",
            "Aufklärung x Wissenschaft",
            "Aufklärung x Zeitung",
            "Barock x Belletristik",
            "Barock x Gebrauchsliteratur",
            "Barock x Wissenschaft",
            "Barock x Zeitung",
            "Frühes 19. Jahrhundert x Belletristik",
            "Frühes 19. Jahrhundert x Gebrauchsliteratur",
            "Frühes 19. Jahrhundert x Wissenschaft",
            "Frühes 19. Jahrhundert x Zeitung",
            "Industrielle Revolution x Belletristik",
            "Industrielle Revolution x Gebrauchsliteratur",
            "Industrielle Revolution x Wissenschaft",
            "Industrielle Revolution x Zeitung",
            "Moderne x Belletristik",
            "Moderne x Gebrauchsliteratur",
            "Moderne x Wissenschaft",
            "Moderne x Zeitung",
            "Renaissance x Belletristik",
            "Renaissance x Gebrauchsliteratur",
            "Renaissance x Wissenschaft",
            "Renaissance x Zeitung",
            "Revolutionsjahre x Belletristik",
            "Revolutionsjahre x Gebrauchsliteratur",
            "Revolutionsjahre x Wissenschaft",
            "Revolutionsjahre x Zeitung",
            "Spätmittelalter x Belletristik",
            "Spätmittelalter x Gebrauchsliteratur"
           ],
           [
            225,
            181,
            313,
            173,
            76,
            601,
            101,
            5,
            158,
            48,
            149,
            47,
            146,
            110,
            252,
            143,
            113,
            321,
            81,
            119,
            2,
            105,
            2,
            1,
            45,
            31,
            43,
            829,
            4,
            12
           ],
           [
            0.0507,
            0.0408,
            0.0706,
            0.039,
            0.0171,
            0.1355,
            0.0228,
            0.0011,
            0.0356,
            0.0108,
            0.0336,
            0.0106,
            0.0329,
            0.0248,
            0.0568,
            0.0322,
            0.0255,
            0.0724,
            0.0183,
            0.0268,
            0.0005,
            0.0237,
            0.0005,
            0.0002,
            0.0101,
            0.007,
            0.0097,
            0.1869,
            0.0009,
            0.0027
           ],
           [
            5,
            4,
            7,
            4,
            2,
            14,
            2,
            0,
            4,
            1,
            3,
            1,
            3,
            2,
            6,
            3,
            3,
            7,
            2,
            3,
            0,
            2,
            0,
            0,
            1,
            1,
            1,
            19,
            0,
            0
           ]
          ]
         },
         "header": {
          "align": "left",
          "fill": {
           "color": "paleturquoise"
          },
          "values": [
           "Epoche x Hauptklasse",
           "Anzahl",
           "Gewichtung (Anzahl / 4436)",
           "Samplezahl (Gewichtung * 100)"
          ]
         },
         "type": "table"
        }
       ],
       "layout": {
        "height": 1490,
        "template": {
         "data": {
          "bar": [
           {
            "error_x": {
             "color": "#2a3f5f"
            },
            "error_y": {
             "color": "#2a3f5f"
            },
            "marker": {
             "line": {
              "color": "#E5ECF6",
              "width": 0.5
             },
             "pattern": {
              "fillmode": "overlay",
              "size": 10,
              "solidity": 0.2
             }
            },
            "type": "bar"
           }
          ],
          "barpolar": [
           {
            "marker": {
             "line": {
              "color": "#E5ECF6",
              "width": 0.5
             },
             "pattern": {
              "fillmode": "overlay",
              "size": 10,
              "solidity": 0.2
             }
            },
            "type": "barpolar"
           }
          ],
          "carpet": [
           {
            "aaxis": {
             "endlinecolor": "#2a3f5f",
             "gridcolor": "white",
             "linecolor": "white",
             "minorgridcolor": "white",
             "startlinecolor": "#2a3f5f"
            },
            "baxis": {
             "endlinecolor": "#2a3f5f",
             "gridcolor": "white",
             "linecolor": "white",
             "minorgridcolor": "white",
             "startlinecolor": "#2a3f5f"
            },
            "type": "carpet"
           }
          ],
          "choropleth": [
           {
            "colorbar": {
             "outlinewidth": 0,
             "ticks": ""
            },
            "type": "choropleth"
           }
          ],
          "contour": [
           {
            "colorbar": {
             "outlinewidth": 0,
             "ticks": ""
            },
            "colorscale": [
             [
              0,
              "#0d0887"
             ],
             [
              0.1111111111111111,
              "#46039f"
             ],
             [
              0.2222222222222222,
              "#7201a8"
             ],
             [
              0.3333333333333333,
              "#9c179e"
             ],
             [
              0.4444444444444444,
              "#bd3786"
             ],
             [
              0.5555555555555556,
              "#d8576b"
             ],
             [
              0.6666666666666666,
              "#ed7953"
             ],
             [
              0.7777777777777778,
              "#fb9f3a"
             ],
             [
              0.8888888888888888,
              "#fdca26"
             ],
             [
              1,
              "#f0f921"
             ]
            ],
            "type": "contour"
           }
          ],
          "contourcarpet": [
           {
            "colorbar": {
             "outlinewidth": 0,
             "ticks": ""
            },
            "type": "contourcarpet"
           }
          ],
          "heatmap": [
           {
            "colorbar": {
             "outlinewidth": 0,
             "ticks": ""
            },
            "colorscale": [
             [
              0,
              "#0d0887"
             ],
             [
              0.1111111111111111,
              "#46039f"
             ],
             [
              0.2222222222222222,
              "#7201a8"
             ],
             [
              0.3333333333333333,
              "#9c179e"
             ],
             [
              0.4444444444444444,
              "#bd3786"
             ],
             [
              0.5555555555555556,
              "#d8576b"
             ],
             [
              0.6666666666666666,
              "#ed7953"
             ],
             [
              0.7777777777777778,
              "#fb9f3a"
             ],
             [
              0.8888888888888888,
              "#fdca26"
             ],
             [
              1,
              "#f0f921"
             ]
            ],
            "type": "heatmap"
           }
          ],
          "heatmapgl": [
           {
            "colorbar": {
             "outlinewidth": 0,
             "ticks": ""
            },
            "colorscale": [
             [
              0,
              "#0d0887"
             ],
             [
              0.1111111111111111,
              "#46039f"
             ],
             [
              0.2222222222222222,
              "#7201a8"
             ],
             [
              0.3333333333333333,
              "#9c179e"
             ],
             [
              0.4444444444444444,
              "#bd3786"
             ],
             [
              0.5555555555555556,
              "#d8576b"
             ],
             [
              0.6666666666666666,
              "#ed7953"
             ],
             [
              0.7777777777777778,
              "#fb9f3a"
             ],
             [
              0.8888888888888888,
              "#fdca26"
             ],
             [
              1,
              "#f0f921"
             ]
            ],
            "type": "heatmapgl"
           }
          ],
          "histogram": [
           {
            "marker": {
             "pattern": {
              "fillmode": "overlay",
              "size": 10,
              "solidity": 0.2
             }
            },
            "type": "histogram"
           }
          ],
          "histogram2d": [
           {
            "colorbar": {
             "outlinewidth": 0,
             "ticks": ""
            },
            "colorscale": [
             [
              0,
              "#0d0887"
             ],
             [
              0.1111111111111111,
              "#46039f"
             ],
             [
              0.2222222222222222,
              "#7201a8"
             ],
             [
              0.3333333333333333,
              "#9c179e"
             ],
             [
              0.4444444444444444,
              "#bd3786"
             ],
             [
              0.5555555555555556,
              "#d8576b"
             ],
             [
              0.6666666666666666,
              "#ed7953"
             ],
             [
              0.7777777777777778,
              "#fb9f3a"
             ],
             [
              0.8888888888888888,
              "#fdca26"
             ],
             [
              1,
              "#f0f921"
             ]
            ],
            "type": "histogram2d"
           }
          ],
          "histogram2dcontour": [
           {
            "colorbar": {
             "outlinewidth": 0,
             "ticks": ""
            },
            "colorscale": [
             [
              0,
              "#0d0887"
             ],
             [
              0.1111111111111111,
              "#46039f"
             ],
             [
              0.2222222222222222,
              "#7201a8"
             ],
             [
              0.3333333333333333,
              "#9c179e"
             ],
             [
              0.4444444444444444,
              "#bd3786"
             ],
             [
              0.5555555555555556,
              "#d8576b"
             ],
             [
              0.6666666666666666,
              "#ed7953"
             ],
             [
              0.7777777777777778,
              "#fb9f3a"
             ],
             [
              0.8888888888888888,
              "#fdca26"
             ],
             [
              1,
              "#f0f921"
             ]
            ],
            "type": "histogram2dcontour"
           }
          ],
          "mesh3d": [
           {
            "colorbar": {
             "outlinewidth": 0,
             "ticks": ""
            },
            "type": "mesh3d"
           }
          ],
          "parcoords": [
           {
            "line": {
             "colorbar": {
              "outlinewidth": 0,
              "ticks": ""
             }
            },
            "type": "parcoords"
           }
          ],
          "pie": [
           {
            "automargin": true,
            "type": "pie"
           }
          ],
          "scatter": [
           {
            "fillpattern": {
             "fillmode": "overlay",
             "size": 10,
             "solidity": 0.2
            },
            "type": "scatter"
           }
          ],
          "scatter3d": [
           {
            "line": {
             "colorbar": {
              "outlinewidth": 0,
              "ticks": ""
             }
            },
            "marker": {
             "colorbar": {
              "outlinewidth": 0,
              "ticks": ""
             }
            },
            "type": "scatter3d"
           }
          ],
          "scattercarpet": [
           {
            "marker": {
             "colorbar": {
              "outlinewidth": 0,
              "ticks": ""
             }
            },
            "type": "scattercarpet"
           }
          ],
          "scattergeo": [
           {
            "marker": {
             "colorbar": {
              "outlinewidth": 0,
              "ticks": ""
             }
            },
            "type": "scattergeo"
           }
          ],
          "scattergl": [
           {
            "marker": {
             "colorbar": {
              "outlinewidth": 0,
              "ticks": ""
             }
            },
            "type": "scattergl"
           }
          ],
          "scattermapbox": [
           {
            "marker": {
             "colorbar": {
              "outlinewidth": 0,
              "ticks": ""
             }
            },
            "type": "scattermapbox"
           }
          ],
          "scatterpolar": [
           {
            "marker": {
             "colorbar": {
              "outlinewidth": 0,
              "ticks": ""
             }
            },
            "type": "scatterpolar"
           }
          ],
          "scatterpolargl": [
           {
            "marker": {
             "colorbar": {
              "outlinewidth": 0,
              "ticks": ""
             }
            },
            "type": "scatterpolargl"
           }
          ],
          "scatterternary": [
           {
            "marker": {
             "colorbar": {
              "outlinewidth": 0,
              "ticks": ""
             }
            },
            "type": "scatterternary"
           }
          ],
          "surface": [
           {
            "colorbar": {
             "outlinewidth": 0,
             "ticks": ""
            },
            "colorscale": [
             [
              0,
              "#0d0887"
             ],
             [
              0.1111111111111111,
              "#46039f"
             ],
             [
              0.2222222222222222,
              "#7201a8"
             ],
             [
              0.3333333333333333,
              "#9c179e"
             ],
             [
              0.4444444444444444,
              "#bd3786"
             ],
             [
              0.5555555555555556,
              "#d8576b"
             ],
             [
              0.6666666666666666,
              "#ed7953"
             ],
             [
              0.7777777777777778,
              "#fb9f3a"
             ],
             [
              0.8888888888888888,
              "#fdca26"
             ],
             [
              1,
              "#f0f921"
             ]
            ],
            "type": "surface"
           }
          ],
          "table": [
           {
            "cells": {
             "fill": {
              "color": "#EBF0F8"
             },
             "line": {
              "color": "white"
             }
            },
            "header": {
             "fill": {
              "color": "#C8D4E3"
             },
             "line": {
              "color": "white"
             }
            },
            "type": "table"
           }
          ]
         },
         "layout": {
          "annotationdefaults": {
           "arrowcolor": "#2a3f5f",
           "arrowhead": 0,
           "arrowwidth": 1
          },
          "autotypenumbers": "strict",
          "coloraxis": {
           "colorbar": {
            "outlinewidth": 0,
            "ticks": ""
           }
          },
          "colorscale": {
           "diverging": [
            [
             0,
             "#8e0152"
            ],
            [
             0.1,
             "#c51b7d"
            ],
            [
             0.2,
             "#de77ae"
            ],
            [
             0.3,
             "#f1b6da"
            ],
            [
             0.4,
             "#fde0ef"
            ],
            [
             0.5,
             "#f7f7f7"
            ],
            [
             0.6,
             "#e6f5d0"
            ],
            [
             0.7,
             "#b8e186"
            ],
            [
             0.8,
             "#7fbc41"
            ],
            [
             0.9,
             "#4d9221"
            ],
            [
             1,
             "#276419"
            ]
           ],
           "sequential": [
            [
             0,
             "#0d0887"
            ],
            [
             0.1111111111111111,
             "#46039f"
            ],
            [
             0.2222222222222222,
             "#7201a8"
            ],
            [
             0.3333333333333333,
             "#9c179e"
            ],
            [
             0.4444444444444444,
             "#bd3786"
            ],
            [
             0.5555555555555556,
             "#d8576b"
            ],
            [
             0.6666666666666666,
             "#ed7953"
            ],
            [
             0.7777777777777778,
             "#fb9f3a"
            ],
            [
             0.8888888888888888,
             "#fdca26"
            ],
            [
             1,
             "#f0f921"
            ]
           ],
           "sequentialminus": [
            [
             0,
             "#0d0887"
            ],
            [
             0.1111111111111111,
             "#46039f"
            ],
            [
             0.2222222222222222,
             "#7201a8"
            ],
            [
             0.3333333333333333,
             "#9c179e"
            ],
            [
             0.4444444444444444,
             "#bd3786"
            ],
            [
             0.5555555555555556,
             "#d8576b"
            ],
            [
             0.6666666666666666,
             "#ed7953"
            ],
            [
             0.7777777777777778,
             "#fb9f3a"
            ],
            [
             0.8888888888888888,
             "#fdca26"
            ],
            [
             1,
             "#f0f921"
            ]
           ]
          },
          "colorway": [
           "#636efa",
           "#EF553B",
           "#00cc96",
           "#ab63fa",
           "#FFA15A",
           "#19d3f3",
           "#FF6692",
           "#B6E880",
           "#FF97FF",
           "#FECB52"
          ],
          "font": {
           "color": "#2a3f5f"
          },
          "geo": {
           "bgcolor": "white",
           "lakecolor": "white",
           "landcolor": "#E5ECF6",
           "showlakes": true,
           "showland": true,
           "subunitcolor": "white"
          },
          "hoverlabel": {
           "align": "left"
          },
          "hovermode": "closest",
          "mapbox": {
           "style": "light"
          },
          "paper_bgcolor": "white",
          "plot_bgcolor": "#E5ECF6",
          "polar": {
           "angularaxis": {
            "gridcolor": "white",
            "linecolor": "white",
            "ticks": ""
           },
           "bgcolor": "#E5ECF6",
           "radialaxis": {
            "gridcolor": "white",
            "linecolor": "white",
            "ticks": ""
           }
          },
          "scene": {
           "xaxis": {
            "backgroundcolor": "#E5ECF6",
            "gridcolor": "white",
            "gridwidth": 2,
            "linecolor": "white",
            "showbackground": true,
            "ticks": "",
            "zerolinecolor": "white"
           },
           "yaxis": {
            "backgroundcolor": "#E5ECF6",
            "gridcolor": "white",
            "gridwidth": 2,
            "linecolor": "white",
            "showbackground": true,
            "ticks": "",
            "zerolinecolor": "white"
           },
           "zaxis": {
            "backgroundcolor": "#E5ECF6",
            "gridcolor": "white",
            "gridwidth": 2,
            "linecolor": "white",
            "showbackground": true,
            "ticks": "",
            "zerolinecolor": "white"
           }
          },
          "shapedefaults": {
           "line": {
            "color": "#2a3f5f"
           }
          },
          "ternary": {
           "aaxis": {
            "gridcolor": "white",
            "linecolor": "white",
            "ticks": ""
           },
           "baxis": {
            "gridcolor": "white",
            "linecolor": "white",
            "ticks": ""
           },
           "bgcolor": "#E5ECF6",
           "caxis": {
            "gridcolor": "white",
            "linecolor": "white",
            "ticks": ""
           }
          },
          "title": {
           "x": 0.05
          },
          "xaxis": {
           "automargin": true,
           "gridcolor": "white",
           "linecolor": "white",
           "ticks": "",
           "title": {
            "standoff": 15
           },
           "zerolinecolor": "white",
           "zerolinewidth": 2
          },
          "yaxis": {
           "automargin": true,
           "gridcolor": "white",
           "linecolor": "white",
           "ticks": "",
           "title": {
            "standoff": 15
           },
           "zerolinecolor": "white",
           "zerolinewidth": 2
          }
         }
        }
       }
      }
     },
     "metadata": {},
     "output_type": "display_data"
    }
   ],
   "source": [
    "epochen_genres_count[\"weight\"] = [count / 4436 for count in epochen_genres_count[\"count\"]]\n",
    "epochen_genres_count[\"sample\"] = [weight * 100 for weight in epochen_genres_count[\"weight\"]]\n",
    "\n",
    "fig = go.Figure(data=[go.Table(\n",
    "    header=dict(values=[\"Epoche x Hauptklasse\", \"Anzahl\", \"Gewichtung (Anzahl / 4436)\", \"Samplezahl (Gewichtung * 100)\"],\n",
    "                fill_color=\"paleturquoise\",\n",
    "                align=\"left\"),\n",
    "    cells=dict(values=[list(epochen_genres_count[\"epochen_genres_strata\"]), list(epochen_genres_count[\"count\"]), list(round(epochen_genres_count[\"weight\"], 4)), list(round(epochen_genres_count[\"sample\"], 0))],\n",
    "               fill_color=\"lavender\",\n",
    "               align=\"left\"))\n",
    "])\n",
    "fig.update_layout(height=1490)\n",
    "fig.show()"
   ]
  },
  {
   "cell_type": "markdown",
   "metadata": {},
   "source": [
    "Wie erwartet sind einige der Epoche x Hauptklasse-Elemente nur in geringer Anzahl vertreten. Im Detail sind das:\n",
    "- Barock x Zeitung (Anzahl 5)\n",
    "- Renaissance x Belletristik (Anzahl 2)\n",
    "- Renaissance x Wissenschaft (Anzahl 2)\n",
    "- Renaissance x Zeitung (Anzahl 1)\n",
    "- Spätmittelalter x Belletristik (Anzahl 4)\n",
    "- Spätmittelalter x Gebrauchsliteratur (Anzahl 12)\n",
    "\n",
    "Für die Repräsentation dieser seltenen Strata wird jeweils ein Sample genommen. Um die Gesamtzahl der Samples bei 100 zu lassen, werden vier Samples von dem dominanten Stratum Revolutionsjahre x Zeitung und 2 von dem Stratum Barock x Gebrauchsliteratur abgezogen. \n",
    "\n",
    "Die ajustierte Samplemenge sieht nun so aus:"
   ]
  },
  {
   "cell_type": "markdown",
   "metadata": {},
   "source": []
  },
  {
   "cell_type": "code",
   "execution_count": 5,
   "metadata": {},
   "outputs": [
    {
     "name": "stderr",
     "output_type": "stream",
     "text": [
      "C:\\Users\\raoul\\AppData\\Local\\Temp\\ipykernel_27716\\3234172964.py:2: FutureWarning:\n",
      "\n",
      "ChainedAssignmentError: behaviour will change in pandas 3.0!\n",
      "You are setting values through chained assignment. Currently this works in certain cases, but when using Copy-on-Write (which will become the default behaviour in pandas 3.0) this will never work to update the original DataFrame or Series, because the intermediate object on which we are setting values will behave as a copy.\n",
      "A typical example is when you are setting values in a column of a DataFrame, like:\n",
      "\n",
      "df[\"col\"][row_indexer] = value\n",
      "\n",
      "Use `df.loc[row_indexer, \"col\"] = values` instead, to perform the assignment in a single step and ensure this keeps updating the original `df`.\n",
      "\n",
      "See the caveats in the documentation: https://pandas.pydata.org/pandas-docs/stable/user_guide/indexing.html#returning-a-view-versus-a-copy\n",
      "\n",
      "\n",
      "C:\\Users\\raoul\\AppData\\Local\\Temp\\ipykernel_27716\\3234172964.py:2: SettingWithCopyWarning:\n",
      "\n",
      "\n",
      "A value is trying to be set on a copy of a slice from a DataFrame\n",
      "\n",
      "See the caveats in the documentation: https://pandas.pydata.org/pandas-docs/stable/user_guide/indexing.html#returning-a-view-versus-a-copy\n",
      "\n",
      "C:\\Users\\raoul\\AppData\\Local\\Temp\\ipykernel_27716\\3234172964.py:3: FutureWarning:\n",
      "\n",
      "ChainedAssignmentError: behaviour will change in pandas 3.0!\n",
      "You are setting values through chained assignment. Currently this works in certain cases, but when using Copy-on-Write (which will become the default behaviour in pandas 3.0) this will never work to update the original DataFrame or Series, because the intermediate object on which we are setting values will behave as a copy.\n",
      "A typical example is when you are setting values in a column of a DataFrame, like:\n",
      "\n",
      "df[\"col\"][row_indexer] = value\n",
      "\n",
      "Use `df.loc[row_indexer, \"col\"] = values` instead, to perform the assignment in a single step and ensure this keeps updating the original `df`.\n",
      "\n",
      "See the caveats in the documentation: https://pandas.pydata.org/pandas-docs/stable/user_guide/indexing.html#returning-a-view-versus-a-copy\n",
      "\n",
      "\n",
      "C:\\Users\\raoul\\AppData\\Local\\Temp\\ipykernel_27716\\3234172964.py:3: SettingWithCopyWarning:\n",
      "\n",
      "\n",
      "A value is trying to be set on a copy of a slice from a DataFrame\n",
      "\n",
      "See the caveats in the documentation: https://pandas.pydata.org/pandas-docs/stable/user_guide/indexing.html#returning-a-view-versus-a-copy\n",
      "\n"
     ]
    },
    {
     "data": {
      "application/vnd.plotly.v1+json": {
       "config": {
        "plotlyServerURL": "https://plot.ly"
       },
       "data": [
        {
         "cells": {
          "align": "left",
          "fill": {
           "color": "lavender"
          },
          "values": [
           [
            "Aufklärung x Belletristik",
            "Aufklärung x Gebrauchsliteratur",
            "Aufklärung x Wissenschaft",
            "Aufklärung x Zeitung",
            "Barock x Belletristik",
            "Barock x Gebrauchsliteratur",
            "Barock x Wissenschaft",
            "Barock x Zeitung",
            "Frühes 19. Jahrhundert x Belletristik",
            "Frühes 19. Jahrhundert x Gebrauchsliteratur",
            "Frühes 19. Jahrhundert x Wissenschaft",
            "Frühes 19. Jahrhundert x Zeitung",
            "Industrielle Revolution x Belletristik",
            "Industrielle Revolution x Gebrauchsliteratur",
            "Industrielle Revolution x Wissenschaft",
            "Industrielle Revolution x Zeitung",
            "Moderne x Belletristik",
            "Moderne x Gebrauchsliteratur",
            "Moderne x Wissenschaft",
            "Moderne x Zeitung",
            "Renaissance x Belletristik",
            "Renaissance x Gebrauchsliteratur",
            "Renaissance x Wissenschaft",
            "Renaissance x Zeitung",
            "Revolutionsjahre x Belletristik",
            "Revolutionsjahre x Gebrauchsliteratur",
            "Revolutionsjahre x Wissenschaft",
            "Revolutionsjahre x Zeitung",
            "Spätmittelalter x Belletristik",
            "Spätmittelalter x Gebrauchsliteratur"
           ],
           [
            225,
            181,
            313,
            173,
            76,
            601,
            101,
            5,
            158,
            48,
            149,
            47,
            146,
            110,
            252,
            143,
            113,
            321,
            81,
            119,
            2,
            105,
            2,
            1,
            45,
            31,
            43,
            829,
            4,
            12
           ],
           [
            0.0507,
            0.0408,
            0.0706,
            0.039,
            0.0171,
            0.1355,
            0.0228,
            0.0011,
            0.0356,
            0.0108,
            0.0336,
            0.0106,
            0.0329,
            0.0248,
            0.0568,
            0.0322,
            0.0255,
            0.0724,
            0.0183,
            0.0268,
            0.0005,
            0.0237,
            0.0005,
            0.0002,
            0.0101,
            0.007,
            0.0097,
            0.1869,
            0.0009,
            0.0027
           ],
           [
            5,
            4,
            7,
            4,
            2,
            14,
            2,
            0,
            4,
            1,
            3,
            1,
            3,
            2,
            6,
            3,
            3,
            7,
            2,
            3,
            0,
            2,
            0,
            0,
            1,
            1,
            1,
            19,
            0,
            0
           ],
           [
            5,
            4,
            7,
            4,
            2,
            12,
            2,
            1,
            4,
            1,
            3,
            1,
            3,
            2,
            6,
            3,
            3,
            7,
            2,
            3,
            1,
            2,
            1,
            1,
            1,
            1,
            1,
            15,
            1,
            1
           ]
          ]
         },
         "header": {
          "align": "left",
          "fill": {
           "color": "paleturquoise"
          },
          "values": [
           "Epoche x Hauptklasse",
           "Anzahl",
           "Gewichtung (Anzahl / 4436)",
           "Samplezahl (Gewichtung * 100)",
           "Ajustierte Samplezahl"
          ]
         },
         "type": "table"
        }
       ],
       "layout": {
        "height": 1800,
        "template": {
         "data": {
          "bar": [
           {
            "error_x": {
             "color": "#2a3f5f"
            },
            "error_y": {
             "color": "#2a3f5f"
            },
            "marker": {
             "line": {
              "color": "#E5ECF6",
              "width": 0.5
             },
             "pattern": {
              "fillmode": "overlay",
              "size": 10,
              "solidity": 0.2
             }
            },
            "type": "bar"
           }
          ],
          "barpolar": [
           {
            "marker": {
             "line": {
              "color": "#E5ECF6",
              "width": 0.5
             },
             "pattern": {
              "fillmode": "overlay",
              "size": 10,
              "solidity": 0.2
             }
            },
            "type": "barpolar"
           }
          ],
          "carpet": [
           {
            "aaxis": {
             "endlinecolor": "#2a3f5f",
             "gridcolor": "white",
             "linecolor": "white",
             "minorgridcolor": "white",
             "startlinecolor": "#2a3f5f"
            },
            "baxis": {
             "endlinecolor": "#2a3f5f",
             "gridcolor": "white",
             "linecolor": "white",
             "minorgridcolor": "white",
             "startlinecolor": "#2a3f5f"
            },
            "type": "carpet"
           }
          ],
          "choropleth": [
           {
            "colorbar": {
             "outlinewidth": 0,
             "ticks": ""
            },
            "type": "choropleth"
           }
          ],
          "contour": [
           {
            "colorbar": {
             "outlinewidth": 0,
             "ticks": ""
            },
            "colorscale": [
             [
              0,
              "#0d0887"
             ],
             [
              0.1111111111111111,
              "#46039f"
             ],
             [
              0.2222222222222222,
              "#7201a8"
             ],
             [
              0.3333333333333333,
              "#9c179e"
             ],
             [
              0.4444444444444444,
              "#bd3786"
             ],
             [
              0.5555555555555556,
              "#d8576b"
             ],
             [
              0.6666666666666666,
              "#ed7953"
             ],
             [
              0.7777777777777778,
              "#fb9f3a"
             ],
             [
              0.8888888888888888,
              "#fdca26"
             ],
             [
              1,
              "#f0f921"
             ]
            ],
            "type": "contour"
           }
          ],
          "contourcarpet": [
           {
            "colorbar": {
             "outlinewidth": 0,
             "ticks": ""
            },
            "type": "contourcarpet"
           }
          ],
          "heatmap": [
           {
            "colorbar": {
             "outlinewidth": 0,
             "ticks": ""
            },
            "colorscale": [
             [
              0,
              "#0d0887"
             ],
             [
              0.1111111111111111,
              "#46039f"
             ],
             [
              0.2222222222222222,
              "#7201a8"
             ],
             [
              0.3333333333333333,
              "#9c179e"
             ],
             [
              0.4444444444444444,
              "#bd3786"
             ],
             [
              0.5555555555555556,
              "#d8576b"
             ],
             [
              0.6666666666666666,
              "#ed7953"
             ],
             [
              0.7777777777777778,
              "#fb9f3a"
             ],
             [
              0.8888888888888888,
              "#fdca26"
             ],
             [
              1,
              "#f0f921"
             ]
            ],
            "type": "heatmap"
           }
          ],
          "heatmapgl": [
           {
            "colorbar": {
             "outlinewidth": 0,
             "ticks": ""
            },
            "colorscale": [
             [
              0,
              "#0d0887"
             ],
             [
              0.1111111111111111,
              "#46039f"
             ],
             [
              0.2222222222222222,
              "#7201a8"
             ],
             [
              0.3333333333333333,
              "#9c179e"
             ],
             [
              0.4444444444444444,
              "#bd3786"
             ],
             [
              0.5555555555555556,
              "#d8576b"
             ],
             [
              0.6666666666666666,
              "#ed7953"
             ],
             [
              0.7777777777777778,
              "#fb9f3a"
             ],
             [
              0.8888888888888888,
              "#fdca26"
             ],
             [
              1,
              "#f0f921"
             ]
            ],
            "type": "heatmapgl"
           }
          ],
          "histogram": [
           {
            "marker": {
             "pattern": {
              "fillmode": "overlay",
              "size": 10,
              "solidity": 0.2
             }
            },
            "type": "histogram"
           }
          ],
          "histogram2d": [
           {
            "colorbar": {
             "outlinewidth": 0,
             "ticks": ""
            },
            "colorscale": [
             [
              0,
              "#0d0887"
             ],
             [
              0.1111111111111111,
              "#46039f"
             ],
             [
              0.2222222222222222,
              "#7201a8"
             ],
             [
              0.3333333333333333,
              "#9c179e"
             ],
             [
              0.4444444444444444,
              "#bd3786"
             ],
             [
              0.5555555555555556,
              "#d8576b"
             ],
             [
              0.6666666666666666,
              "#ed7953"
             ],
             [
              0.7777777777777778,
              "#fb9f3a"
             ],
             [
              0.8888888888888888,
              "#fdca26"
             ],
             [
              1,
              "#f0f921"
             ]
            ],
            "type": "histogram2d"
           }
          ],
          "histogram2dcontour": [
           {
            "colorbar": {
             "outlinewidth": 0,
             "ticks": ""
            },
            "colorscale": [
             [
              0,
              "#0d0887"
             ],
             [
              0.1111111111111111,
              "#46039f"
             ],
             [
              0.2222222222222222,
              "#7201a8"
             ],
             [
              0.3333333333333333,
              "#9c179e"
             ],
             [
              0.4444444444444444,
              "#bd3786"
             ],
             [
              0.5555555555555556,
              "#d8576b"
             ],
             [
              0.6666666666666666,
              "#ed7953"
             ],
             [
              0.7777777777777778,
              "#fb9f3a"
             ],
             [
              0.8888888888888888,
              "#fdca26"
             ],
             [
              1,
              "#f0f921"
             ]
            ],
            "type": "histogram2dcontour"
           }
          ],
          "mesh3d": [
           {
            "colorbar": {
             "outlinewidth": 0,
             "ticks": ""
            },
            "type": "mesh3d"
           }
          ],
          "parcoords": [
           {
            "line": {
             "colorbar": {
              "outlinewidth": 0,
              "ticks": ""
             }
            },
            "type": "parcoords"
           }
          ],
          "pie": [
           {
            "automargin": true,
            "type": "pie"
           }
          ],
          "scatter": [
           {
            "fillpattern": {
             "fillmode": "overlay",
             "size": 10,
             "solidity": 0.2
            },
            "type": "scatter"
           }
          ],
          "scatter3d": [
           {
            "line": {
             "colorbar": {
              "outlinewidth": 0,
              "ticks": ""
             }
            },
            "marker": {
             "colorbar": {
              "outlinewidth": 0,
              "ticks": ""
             }
            },
            "type": "scatter3d"
           }
          ],
          "scattercarpet": [
           {
            "marker": {
             "colorbar": {
              "outlinewidth": 0,
              "ticks": ""
             }
            },
            "type": "scattercarpet"
           }
          ],
          "scattergeo": [
           {
            "marker": {
             "colorbar": {
              "outlinewidth": 0,
              "ticks": ""
             }
            },
            "type": "scattergeo"
           }
          ],
          "scattergl": [
           {
            "marker": {
             "colorbar": {
              "outlinewidth": 0,
              "ticks": ""
             }
            },
            "type": "scattergl"
           }
          ],
          "scattermapbox": [
           {
            "marker": {
             "colorbar": {
              "outlinewidth": 0,
              "ticks": ""
             }
            },
            "type": "scattermapbox"
           }
          ],
          "scatterpolar": [
           {
            "marker": {
             "colorbar": {
              "outlinewidth": 0,
              "ticks": ""
             }
            },
            "type": "scatterpolar"
           }
          ],
          "scatterpolargl": [
           {
            "marker": {
             "colorbar": {
              "outlinewidth": 0,
              "ticks": ""
             }
            },
            "type": "scatterpolargl"
           }
          ],
          "scatterternary": [
           {
            "marker": {
             "colorbar": {
              "outlinewidth": 0,
              "ticks": ""
             }
            },
            "type": "scatterternary"
           }
          ],
          "surface": [
           {
            "colorbar": {
             "outlinewidth": 0,
             "ticks": ""
            },
            "colorscale": [
             [
              0,
              "#0d0887"
             ],
             [
              0.1111111111111111,
              "#46039f"
             ],
             [
              0.2222222222222222,
              "#7201a8"
             ],
             [
              0.3333333333333333,
              "#9c179e"
             ],
             [
              0.4444444444444444,
              "#bd3786"
             ],
             [
              0.5555555555555556,
              "#d8576b"
             ],
             [
              0.6666666666666666,
              "#ed7953"
             ],
             [
              0.7777777777777778,
              "#fb9f3a"
             ],
             [
              0.8888888888888888,
              "#fdca26"
             ],
             [
              1,
              "#f0f921"
             ]
            ],
            "type": "surface"
           }
          ],
          "table": [
           {
            "cells": {
             "fill": {
              "color": "#EBF0F8"
             },
             "line": {
              "color": "white"
             }
            },
            "header": {
             "fill": {
              "color": "#C8D4E3"
             },
             "line": {
              "color": "white"
             }
            },
            "type": "table"
           }
          ]
         },
         "layout": {
          "annotationdefaults": {
           "arrowcolor": "#2a3f5f",
           "arrowhead": 0,
           "arrowwidth": 1
          },
          "autotypenumbers": "strict",
          "coloraxis": {
           "colorbar": {
            "outlinewidth": 0,
            "ticks": ""
           }
          },
          "colorscale": {
           "diverging": [
            [
             0,
             "#8e0152"
            ],
            [
             0.1,
             "#c51b7d"
            ],
            [
             0.2,
             "#de77ae"
            ],
            [
             0.3,
             "#f1b6da"
            ],
            [
             0.4,
             "#fde0ef"
            ],
            [
             0.5,
             "#f7f7f7"
            ],
            [
             0.6,
             "#e6f5d0"
            ],
            [
             0.7,
             "#b8e186"
            ],
            [
             0.8,
             "#7fbc41"
            ],
            [
             0.9,
             "#4d9221"
            ],
            [
             1,
             "#276419"
            ]
           ],
           "sequential": [
            [
             0,
             "#0d0887"
            ],
            [
             0.1111111111111111,
             "#46039f"
            ],
            [
             0.2222222222222222,
             "#7201a8"
            ],
            [
             0.3333333333333333,
             "#9c179e"
            ],
            [
             0.4444444444444444,
             "#bd3786"
            ],
            [
             0.5555555555555556,
             "#d8576b"
            ],
            [
             0.6666666666666666,
             "#ed7953"
            ],
            [
             0.7777777777777778,
             "#fb9f3a"
            ],
            [
             0.8888888888888888,
             "#fdca26"
            ],
            [
             1,
             "#f0f921"
            ]
           ],
           "sequentialminus": [
            [
             0,
             "#0d0887"
            ],
            [
             0.1111111111111111,
             "#46039f"
            ],
            [
             0.2222222222222222,
             "#7201a8"
            ],
            [
             0.3333333333333333,
             "#9c179e"
            ],
            [
             0.4444444444444444,
             "#bd3786"
            ],
            [
             0.5555555555555556,
             "#d8576b"
            ],
            [
             0.6666666666666666,
             "#ed7953"
            ],
            [
             0.7777777777777778,
             "#fb9f3a"
            ],
            [
             0.8888888888888888,
             "#fdca26"
            ],
            [
             1,
             "#f0f921"
            ]
           ]
          },
          "colorway": [
           "#636efa",
           "#EF553B",
           "#00cc96",
           "#ab63fa",
           "#FFA15A",
           "#19d3f3",
           "#FF6692",
           "#B6E880",
           "#FF97FF",
           "#FECB52"
          ],
          "font": {
           "color": "#2a3f5f"
          },
          "geo": {
           "bgcolor": "white",
           "lakecolor": "white",
           "landcolor": "#E5ECF6",
           "showlakes": true,
           "showland": true,
           "subunitcolor": "white"
          },
          "hoverlabel": {
           "align": "left"
          },
          "hovermode": "closest",
          "mapbox": {
           "style": "light"
          },
          "paper_bgcolor": "white",
          "plot_bgcolor": "#E5ECF6",
          "polar": {
           "angularaxis": {
            "gridcolor": "white",
            "linecolor": "white",
            "ticks": ""
           },
           "bgcolor": "#E5ECF6",
           "radialaxis": {
            "gridcolor": "white",
            "linecolor": "white",
            "ticks": ""
           }
          },
          "scene": {
           "xaxis": {
            "backgroundcolor": "#E5ECF6",
            "gridcolor": "white",
            "gridwidth": 2,
            "linecolor": "white",
            "showbackground": true,
            "ticks": "",
            "zerolinecolor": "white"
           },
           "yaxis": {
            "backgroundcolor": "#E5ECF6",
            "gridcolor": "white",
            "gridwidth": 2,
            "linecolor": "white",
            "showbackground": true,
            "ticks": "",
            "zerolinecolor": "white"
           },
           "zaxis": {
            "backgroundcolor": "#E5ECF6",
            "gridcolor": "white",
            "gridwidth": 2,
            "linecolor": "white",
            "showbackground": true,
            "ticks": "",
            "zerolinecolor": "white"
           }
          },
          "shapedefaults": {
           "line": {
            "color": "#2a3f5f"
           }
          },
          "ternary": {
           "aaxis": {
            "gridcolor": "white",
            "linecolor": "white",
            "ticks": ""
           },
           "baxis": {
            "gridcolor": "white",
            "linecolor": "white",
            "ticks": ""
           },
           "bgcolor": "#E5ECF6",
           "caxis": {
            "gridcolor": "white",
            "linecolor": "white",
            "ticks": ""
           }
          },
          "title": {
           "x": 0.05
          },
          "xaxis": {
           "automargin": true,
           "gridcolor": "white",
           "linecolor": "white",
           "ticks": "",
           "title": {
            "standoff": 15
           },
           "zerolinecolor": "white",
           "zerolinewidth": 2
          },
          "yaxis": {
           "automargin": true,
           "gridcolor": "white",
           "linecolor": "white",
           "ticks": "",
           "title": {
            "standoff": 15
           },
           "zerolinecolor": "white",
           "zerolinewidth": 2
          }
         }
        }
       }
      }
     },
     "metadata": {},
     "output_type": "display_data"
    }
   ],
   "source": [
    "epochen_genres_count[\"adjusted_sample\"] = [sample if round(sample, 0) > 0 else sample + 1 for sample in epochen_genres_count[\"sample\"]]\n",
    "epochen_genres_count[\"adjusted_sample\"][5] -= 2 # Barock x Gebrauchsliteratur\n",
    "epochen_genres_count[\"adjusted_sample\"][27] -= 4 # Revolutionsjahre x Zeitung\n",
    "\n",
    "fig = go.Figure(data=[go.Table(\n",
    "    header=dict(values=[\"Epoche x Hauptklasse\", \"Anzahl\", \"Gewichtung (Anzahl / 4436)\", \"Samplezahl (Gewichtung * 100)\", \"Ajustierte Samplezahl\"],\n",
    "                fill_color=\"paleturquoise\",\n",
    "                align=\"left\"),\n",
    "    cells=dict(values=[list(epochen_genres_count[\"epochen_genres_strata\"]), list(epochen_genres_count[\"count\"]), list(round(epochen_genres_count[\"weight\"], 4)), list(round(epochen_genres_count[\"sample\"], 0)), list(round(epochen_genres_count[\"adjusted_sample\"], 0))],\n",
    "               fill_color=\"lavender\",\n",
    "               align=\"left\"))\n",
    "])\n",
    "fig.update_layout(height=1800)\n",
    "fig.show()"
   ]
  },
  {
   "cell_type": "markdown",
   "metadata": {},
   "source": [
    "### 2. Extrahieren der Samples und Kreieren eines neuen Tables innerhalb der SQL-Datenbank ###\n",
    "In diesem Schritt wird die gewichtete Zufallsstichprobe entnommen und in eine neue table \"samples\" in der Datenbank eingespiesen.\n",
    "\n",
    "**WICHTIG: Die Struktur der Datenbank wird verändert, ein Backup sollte lokal kreiert werden.**"
   ]
  },
  {
   "cell_type": "code",
   "execution_count": 101,
   "metadata": {},
   "outputs": [],
   "source": [
    "import sqlite3\n",
    "\n",
    "con = sqlite3.connect(\"Datenbank.db\")\n",
    "cur = con.cursor()\n",
    "\n",
    "cur.execute(\n",
    "    \"\"\"\n",
    "    CREATE TABLE samples (\n",
    "        text_index INTEGER PRIMARY KEY,\n",
    "        haupttitel TEXT,\n",
    "        untertitel TEXT,\n",
    "        volumetitel TEXT,\n",
    "        autor TEXT,\n",
    "        hauptklasse TEXT,\n",
    "        subklasse TEXT,\n",
    "        sprache TEXT,\n",
    "        text TEXT,\n",
    "        publikationsjahr INTEGER,\n",
    "        zeitstratum TEXT,\n",
    "        genrestratum TEXT,\n",
    "        epochen_genres_strata TEXT\n",
    "    );\n",
    "    \"\"\"\n",
    ")\n",
    "con.commit()\n",
    "con.close()"
   ]
  },
  {
   "cell_type": "code",
   "execution_count": 127,
   "metadata": {},
   "outputs": [],
   "source": [
    "con = sqlite3.connect(\"Datenbank.db\")\n",
    "cur = con.cursor()\n",
    "\n",
    "epoch_list = list(epochen_genres_count[\"epochen_genres_strata\"])\n",
    "sample_list = list(map(int, round(epochen_genres_count[\"adjusted_sample\"], 0)))\n",
    "\n",
    "epoch_samples = dict(zip(epoch_list, sample_list))\n",
    "\n",
    "for epochexgenre, sample_size in epoch_samples.items():\n",
    "    sample_size = int(sample_size)\n",
    "    query = f\"\"\"\n",
    "        INSERT INTO samples (text_index, haupttitel, untertitel, volumetitel, autor, hauptklasse, subklasse, sprache, text, publikationsjahr, zeitstratum, genrestratum, epochen_genres_strata)\n",
    "                SELECT text_index, haupttitel, untertitel, volumetitel, autor, hauptklasse, subklasse, sprache, text, publikationsjahr, zeitstratum, genrestratum, epochen_genres_strata\n",
    "                FROM my_data\n",
    "                WHERE epochen_genres_strata = ?\n",
    "                ORDER BY RANDOM()\n",
    "                LIMIT {sample_size}\n",
    "\n",
    "\"\"\"\n",
    "    cur.execute(query, (epochexgenre,))\n",
    "\n",
    "con.commit()\n",
    "con.close()"
   ]
  },
  {
   "cell_type": "markdown",
   "metadata": {},
   "source": [
    "Jetzt wurde die samples-Datenbank befüllt mit 100 zufälligen Textstichproben. An dieser Stelle werden nun die Titel und Untertitel, der Autor und die dazugehörige Epoche x Hauptklasse aufgelistet."
   ]
  },
  {
   "cell_type": "code",
   "execution_count": 6,
   "metadata": {},
   "outputs": [
    {
     "data": {
      "application/vnd.plotly.v1+json": {
       "config": {
        "plotlyServerURL": "https://plot.ly"
       },
       "data": [
        {
         "cells": {
          "align": "left",
          "fill": {
           "color": "lavender"
          },
          "values": [
           [
            "Aufklärung x Belletristik",
            "Aufklärung x Belletristik",
            "Aufklärung x Belletristik",
            "Aufklärung x Belletristik",
            "Aufklärung x Belletristik",
            "Aufklärung x Gebrauchsliteratur",
            "Aufklärung x Gebrauchsliteratur",
            "Aufklärung x Gebrauchsliteratur",
            "Aufklärung x Gebrauchsliteratur",
            "Aufklärung x Wissenschaft",
            "Aufklärung x Wissenschaft",
            "Aufklärung x Wissenschaft",
            "Aufklärung x Wissenschaft",
            "Aufklärung x Wissenschaft",
            "Aufklärung x Wissenschaft",
            "Aufklärung x Wissenschaft",
            "Aufklärung x Zeitung",
            "Aufklärung x Zeitung",
            "Aufklärung x Zeitung",
            "Aufklärung x Zeitung",
            "Barock x Belletristik",
            "Barock x Belletristik",
            "Barock x Gebrauchsliteratur",
            "Barock x Gebrauchsliteratur",
            "Barock x Gebrauchsliteratur",
            "Barock x Gebrauchsliteratur",
            "Barock x Gebrauchsliteratur",
            "Barock x Gebrauchsliteratur",
            "Barock x Gebrauchsliteratur",
            "Barock x Gebrauchsliteratur",
            "Barock x Gebrauchsliteratur",
            "Barock x Gebrauchsliteratur",
            "Barock x Gebrauchsliteratur",
            "Barock x Gebrauchsliteratur",
            "Barock x Wissenschaft",
            "Barock x Wissenschaft",
            "Barock x Zeitung",
            "Frühes 19. Jahrhundert x Belletristik",
            "Frühes 19. Jahrhundert x Belletristik",
            "Frühes 19. Jahrhundert x Belletristik",
            "Frühes 19. Jahrhundert x Belletristik",
            "Frühes 19. Jahrhundert x Gebrauchsliteratur",
            "Frühes 19. Jahrhundert x Wissenschaft",
            "Frühes 19. Jahrhundert x Wissenschaft",
            "Frühes 19. Jahrhundert x Wissenschaft",
            "Frühes 19. Jahrhundert x Zeitung",
            "Industrielle Revolution x Belletristik",
            "Industrielle Revolution x Belletristik",
            "Industrielle Revolution x Belletristik",
            "Industrielle Revolution x Gebrauchsliteratur",
            "Industrielle Revolution x Gebrauchsliteratur",
            "Industrielle Revolution x Wissenschaft",
            "Industrielle Revolution x Wissenschaft",
            "Industrielle Revolution x Wissenschaft",
            "Industrielle Revolution x Wissenschaft",
            "Industrielle Revolution x Wissenschaft",
            "Industrielle Revolution x Wissenschaft",
            "Industrielle Revolution x Zeitung",
            "Industrielle Revolution x Zeitung",
            "Industrielle Revolution x Zeitung",
            "Moderne x Belletristik",
            "Moderne x Belletristik",
            "Moderne x Belletristik",
            "Moderne x Gebrauchsliteratur",
            "Moderne x Gebrauchsliteratur",
            "Moderne x Gebrauchsliteratur",
            "Moderne x Gebrauchsliteratur",
            "Moderne x Gebrauchsliteratur",
            "Moderne x Gebrauchsliteratur",
            "Moderne x Gebrauchsliteratur",
            "Moderne x Wissenschaft",
            "Moderne x Wissenschaft",
            "Moderne x Zeitung",
            "Moderne x Zeitung",
            "Moderne x Zeitung",
            "Renaissance x Belletristik",
            "Renaissance x Gebrauchsliteratur",
            "Renaissance x Gebrauchsliteratur",
            "Renaissance x Wissenschaft",
            "Renaissance x Zeitung",
            "Revolutionsjahre x Belletristik",
            "Revolutionsjahre x Gebrauchsliteratur",
            "Revolutionsjahre x Wissenschaft",
            "Revolutionsjahre x Zeitung",
            "Revolutionsjahre x Zeitung",
            "Revolutionsjahre x Zeitung",
            "Revolutionsjahre x Zeitung",
            "Revolutionsjahre x Zeitung",
            "Revolutionsjahre x Zeitung",
            "Revolutionsjahre x Zeitung",
            "Revolutionsjahre x Zeitung",
            "Revolutionsjahre x Zeitung",
            "Revolutionsjahre x Zeitung",
            "Revolutionsjahre x Zeitung",
            "Revolutionsjahre x Zeitung",
            "Revolutionsjahre x Zeitung",
            "Revolutionsjahre x Zeitung",
            "Revolutionsjahre x Zeitung",
            "Spätmittelalter x Belletristik",
            "Spätmittelalter x Gebrauchsliteratur"
           ],
           [
            "Meißner, August Gottlieb",
            "Goethe, Johann Wolfgang von",
            "Moritz, Karl Philipp",
            "Abschatz, Hans Assmann von",
            "Scheyb, Franz Christoph von",
            "Schenck, Gottfried Anton",
            "Braunschweig-Wolfenbüttel, Anton Ulrich von",
            "Finen, Eberhard",
            "Lémery, Nicolas",
            "Lambert, Johann Heinrich",
            "Justi, Johann Heinrich Gottlob von",
            "Humboldt, Alexander von",
            "Geyken, Friedrich",
            "Scheuchzer, Johann Jacob",
            "Blumenbach, Johann Friedrich",
            "Pertsch, Johann Georg",
            "Geyken, Alexander",
            "Geyken, Alexander",
            "Geyken, Alexander",
            "Geyken, Alexander",
            "Grimmelshausen, Hans Jakob Christoffel von",
            "Weckherlin, Georg Rodolf",
            "Hübner, Johann",
            "Neomenius, Johann",
            "Dach, Simon",
            "Walther, Martin",
            "Dach, Simon",
            "Silber, Wolfgang",
            "Eckard, Melchior",
            "Hoepner, Johann",
            "Briaeus, Franciscus",
            "Tilesius, Gottfried ",
            "Dach, Simon",
            "Wild, Johann Daniel",
            "Zeiller, Martin",
            "Sturm, Johann Christoph",
            "Geyken, Alexander",
            "Rückert, Friedrich",
            "Körner, Theodor",
            "Nettelbeck, Joachim",
            "Jean Paul, Alexander",
            "Fouqué, Caroline de La Motte-",
            "Valentin, Gabriel Gustav",
            "Parthey, Gustav",
            "Novalis, Alexander",
            "Geyken, Alexander",
            "Keller, Gottfried",
            "Meißner, Alfred",
            "Vischer, Friedrich Theodor von",
            "Kleinschmidt, Theodor August Friedrich Wilhelm",
            "Mercier, Helene",
            "Robert, Carl",
            "Fischer, Hermann",
            "Vischer, Friedrich Theodor von",
            "Humboldt, Alexander von",
            "Heyse, Paul",
            "Brehm, Alfred Edmund",
            "Geyken, Alexander",
            "Geyken, Alexander",
            "Geyken, Alexander",
            "Wolff, Margarethe von",
            "Wildermuth, Ottilie",
            "Trakl, Georg",
            "Sanders, Daniel",
            "Sanders, Daniel",
            "Sanders, Daniel",
            "Heyde, Ludwig",
            "Sanders, Daniel",
            "Martin, Marie",
            "Sanders, Daniel",
            "Beck, Ludwig",
            "Humboldt, Alexander von",
            "Geyken, Alexander",
            "Geyken, Alexander",
            "Geyken, Alexander",
            "Has, Kunz",
            "Geyken, Alexander",
            "Geyken, Alexander",
            "N. N., Alexander",
            "Dilbaum, Samuel",
            "Nestroy, Johann",
            "Geyken, Alexander",
            "Ranke, Leopold von",
            "Geyken, Alexander",
            "Geyken, Alexander",
            "Geyken, Alexander",
            "Geyken, Alexander",
            "Geyken, Alexander",
            "Geyken, Alexander",
            "Geyken, Alexander",
            "Geyken, Alexander",
            "Geyken, Alexander",
            "Geyken, Alexander",
            "Geyken, Alexander",
            "Geyken, Alexander",
            "Geyken, Alexander",
            "Geyken, Alexander",
            "Geyken, Alexander",
            "Has, Kunz",
            "Geyken, Alexander"
           ],
           [
            "Kriminal Geschichten",
            "Die Leiden des jungen Werthers",
            "Anton Reiser",
            "Poetische Ubersetzungen und Gedichte",
            "Theresiade",
            "Geschicht–Beschreibung der Stadt Wißbaden",
            "Als Von Dem Durchlauchtigsten Fürsten und Herrn/ Herrn Anton Ulrich/ Hertzogen zu Braunschweig und Lüneburg etc. ... Der ... Herr M. Joh. Bernhard Luhn/ Der ... Facultät allhier Wohl-verdienter Adjunctus, Zum Prediger am Hof im Wolffenbüttel den XVIII Decemb. MDCCV ... berufen/ und den XX. darauff gewöhnlich ordiniret und introduciret wurde/ Wolten Jhre schuldige Gratulation ... ablegen ... . Gerdesius",
            "Eine selige Veränderung Worauf die Christen harren und die darinn zu suchende Beste Veränderung",
            "Vollständiges Materialien-Lexicon",
            "Neues Organon",
            "Geschichte des Erd-Cörpers aus seinen äusserlichen und unterirdischen Beschaffenheiten hergeleitet und erwiesen",
            "Auszüge aus Briefen",
            "Ueber die deutsche Litteratur, die Mängel die man ihr vorwerfen kann, die Ursachen derselben und die Mittel sie zu verbessern",
            "Beschreibung Der Natur-Geschichten Des Schweitzerlands",
            "Handbuch der Naturgeschichte",
            "Das Recht Der Beicht-Stühle",
            "XXXII. Stück/ am Freytage/ den 15. August",
            "Num. 115, 19. Julii 1771",
            "Num. 100, 24. Junii 1789",
            "Num. 71, 4. May 1790",
            "Deß Weltberuffenen SIMPLICISSIMI Pralerey und Gepräng mit seinem Teutschen Michel",
            "Oden vnd Gesäng",
            "Poetisches Handbuch",
            "Exilii humani Miseria & Consolatio",
            "Klag- und Trost-Reimchen Bey seligem wiewol hochbetrübtem Abschied aus dieser Welt Des weiland HochEdelgebohrnen Herrn Joachim Wilhelm von Brumsee/ auf Robitten Sudlack und etc. ErbHerrn",
            "Leichpredigt/ Vber dem Begräbnüß/ deß Ehrwirdigen vnd Wolgelahrten Herrn IOANNIS HENTZNERI",
            "Christliches Gedächtnis Dem Weyland Ehrenvesten Nahmhafften Wolweisen Hn. Bartholomaeus Teichman/ der Stadt Heiligen-Beil wolverdienten Bürgermeister",
            "Threnodia Parturientis",
            "Eine Christliche Leichpredigt/ Bey dem Begrebnis der Ehrntugendreichen frawen Justinae/ des Edlen/ Ehrnuhesten/ Wolbenambten Herrn Johann Lieben",
            "Leichpredigt Vber das Sprüchlein Esaiae am 26. Cap. Von einer Gebererin. Bey Christlicher Leichbestattung der Erbarn vnd tugendsamen Frawen Elisabeth",
            "Leichpredigt/ Bey der Begrebnuß/ Weiland der Ehr- vnd Tugendsamen Frawen/ Agnetis Schmöllin",
            "II. Christliche Predigten. I. Bey dem Leichbegängniß/ Des weyland Ehrenvesten vnnd Wolgeachten Herren Friderich Reimans",
            "Klag und Trost-Schrifftchen Bey sehr betrawrlichem aber seligem Hintrit aus dieser Welt Des Weiland Ehrnvesten und Vornehmgeachten Hieronymi Hieronymi Mitbürgers und Handelsmans dieser Löblichen Stadt Kneiphoff Königsbergk",
            "Rosa generosa",
            "Centuria Variarum Quæstionum",
            "Des Unvergleichlichen Archjmedjs Kunst-Bücher ",
            "Relation: Aller Fürnemmen vnd gedenckwürdigen Historien/ so sich hin vnnd wider in Hoch vnnd Nieder Teutschland/ auch in Franckreich/ Jtalien/ Schott vnd Engelland/ Hisspanien/ Hungern/ Polen/ Siebenbürgen/ Wallachey/ Moldaw/ Türckey/ etc. Jnn diesem 1609. Jahr verlauffen vnd zugetragen möchte",
            "Die Weisheit des Brahmanen",
            "Leyer und Schwerdt",
            "Joachim Nettelbeck, Bürger zu Colberg",
            "Titan",
            "Ueber deutsche Geselligkeit ",
            "Handbuch der Entwicklungsgeschichte des Menschen",
            "Vorlesungen über physikalische Geographie",
            "Die Christenheit oder Europa",
            "Am Mittewochen, den 22. Oktober",
            "Der grüne Heinrich",
            "Die Prinzessin von Portugal",
            "Auch Einer",
            "Zur Erinnerung an den am 28. Juni 1865 verstorbenen vorhinnigen ersten Lehrer und Conrector an der Mädchenschule zu Marburg, Herrn Peter Kutsch",
            "Die Frauenbewegung in Deutschland",
            "Bild und Lied",
            "Die Werkzeugmaschinen",
            "Ästhetik oder Wissenschaft des Schönen",
            "[Humboldt an Flügel]",
            "Einleitung",
            "Illustrirtes Thierleben",
            "Allgemeine Zeitung",
            "Nr. 134, 14.06.1897.",
            "Nr. 100, 02.05.1892.",
            "Gemüth und Selbstsucht",
            "Streit in der Liebe und Liebe im Streit",
            "Gedichte",
            "Brief an Adele Glaßbrenner",
            "Brief an Adele Glaßbrenner",
            "Brief an Berthold Auerbach.",
            "Jesuitenfrage und Frauenstimmrecht",
            "Brief an Wachs",
            "Wahre Frauenbildung",
            "Brief an Hermann Rollett",
            "Die Geschichte des Eisens in technischer und kulturgeschichtlicher Beziehung",
            "Über die Verbindung zwischen dem Orinoco und Amazonenfluss",
            "Nr. 3, 04.01.1901.",
            "Nr. 1082, 22.08.1907.",
            "Nr. 76, 20.09.1916.",
            "Ein spruch vonn einem pecken knecht, der funff vnschuldiger menschen grausamlich ermodet zu Wien in Osterreych",
            "Wahrhaftige Erklärung des hohen trostreichen Artikels von der Person, Amt, und Majestät unseres lieben Herrn und Heilandes Jesu Christi, Gottes und Marien Sohn",
            "Kirchenordnung: Wie es mit Christlicher Lere/ reichung der Sacrament/ Ordination der Diener des Euangelij/ Ordentlichen Ceremonien/ Visitation/ Consistorio vnd Schulen/ Jm Hertzogthumb Lünenburgk gehalten wird",
            "Splendor Solis",
            "ANNVS CHRISTI, 1597",
            "Einen Jux will er sich machen",
            "Öffentliche Charaktere",
            "Deutsche Geschichte im Zeitalter der Reformation",
            "Allgemeine Zeitung",
            "Allgemeine Auswanderungs-Zeitung",
            "Die Bayerische Presse",
            "Allgemeine Zeitung",
            "Neue Rheinische Zeitung",
            "Neue Rheinische Zeitung",
            "Neue Rheinische Zeitung",
            "Allgemeine Zeitung",
            "Neue Rheinische Zeitung",
            "Donnerstag, 4. Mai",
            "Allgemeine Zeitung",
            "Neue Rheinische Zeitung",
            "Neue Rheinische Zeitung",
            "Neue Rheinische Zeitung",
            "Neue Rheinische Zeitung",
            "Von der Welt Lauf",
            "Almanach für Nürnberg auf das Jahr 1481"
           ]
          ]
         },
         "header": {
          "align": "center",
          "fill": {
           "color": "paleturquoise"
          },
          "values": [
           "epochen_genres_strata",
           "autor",
           "haupttitel"
          ]
         },
         "type": "table"
        }
       ],
       "layout": {
        "height": 3000,
        "template": {
         "data": {
          "bar": [
           {
            "error_x": {
             "color": "#2a3f5f"
            },
            "error_y": {
             "color": "#2a3f5f"
            },
            "marker": {
             "line": {
              "color": "#E5ECF6",
              "width": 0.5
             },
             "pattern": {
              "fillmode": "overlay",
              "size": 10,
              "solidity": 0.2
             }
            },
            "type": "bar"
           }
          ],
          "barpolar": [
           {
            "marker": {
             "line": {
              "color": "#E5ECF6",
              "width": 0.5
             },
             "pattern": {
              "fillmode": "overlay",
              "size": 10,
              "solidity": 0.2
             }
            },
            "type": "barpolar"
           }
          ],
          "carpet": [
           {
            "aaxis": {
             "endlinecolor": "#2a3f5f",
             "gridcolor": "white",
             "linecolor": "white",
             "minorgridcolor": "white",
             "startlinecolor": "#2a3f5f"
            },
            "baxis": {
             "endlinecolor": "#2a3f5f",
             "gridcolor": "white",
             "linecolor": "white",
             "minorgridcolor": "white",
             "startlinecolor": "#2a3f5f"
            },
            "type": "carpet"
           }
          ],
          "choropleth": [
           {
            "colorbar": {
             "outlinewidth": 0,
             "ticks": ""
            },
            "type": "choropleth"
           }
          ],
          "contour": [
           {
            "colorbar": {
             "outlinewidth": 0,
             "ticks": ""
            },
            "colorscale": [
             [
              0,
              "#0d0887"
             ],
             [
              0.1111111111111111,
              "#46039f"
             ],
             [
              0.2222222222222222,
              "#7201a8"
             ],
             [
              0.3333333333333333,
              "#9c179e"
             ],
             [
              0.4444444444444444,
              "#bd3786"
             ],
             [
              0.5555555555555556,
              "#d8576b"
             ],
             [
              0.6666666666666666,
              "#ed7953"
             ],
             [
              0.7777777777777778,
              "#fb9f3a"
             ],
             [
              0.8888888888888888,
              "#fdca26"
             ],
             [
              1,
              "#f0f921"
             ]
            ],
            "type": "contour"
           }
          ],
          "contourcarpet": [
           {
            "colorbar": {
             "outlinewidth": 0,
             "ticks": ""
            },
            "type": "contourcarpet"
           }
          ],
          "heatmap": [
           {
            "colorbar": {
             "outlinewidth": 0,
             "ticks": ""
            },
            "colorscale": [
             [
              0,
              "#0d0887"
             ],
             [
              0.1111111111111111,
              "#46039f"
             ],
             [
              0.2222222222222222,
              "#7201a8"
             ],
             [
              0.3333333333333333,
              "#9c179e"
             ],
             [
              0.4444444444444444,
              "#bd3786"
             ],
             [
              0.5555555555555556,
              "#d8576b"
             ],
             [
              0.6666666666666666,
              "#ed7953"
             ],
             [
              0.7777777777777778,
              "#fb9f3a"
             ],
             [
              0.8888888888888888,
              "#fdca26"
             ],
             [
              1,
              "#f0f921"
             ]
            ],
            "type": "heatmap"
           }
          ],
          "heatmapgl": [
           {
            "colorbar": {
             "outlinewidth": 0,
             "ticks": ""
            },
            "colorscale": [
             [
              0,
              "#0d0887"
             ],
             [
              0.1111111111111111,
              "#46039f"
             ],
             [
              0.2222222222222222,
              "#7201a8"
             ],
             [
              0.3333333333333333,
              "#9c179e"
             ],
             [
              0.4444444444444444,
              "#bd3786"
             ],
             [
              0.5555555555555556,
              "#d8576b"
             ],
             [
              0.6666666666666666,
              "#ed7953"
             ],
             [
              0.7777777777777778,
              "#fb9f3a"
             ],
             [
              0.8888888888888888,
              "#fdca26"
             ],
             [
              1,
              "#f0f921"
             ]
            ],
            "type": "heatmapgl"
           }
          ],
          "histogram": [
           {
            "marker": {
             "pattern": {
              "fillmode": "overlay",
              "size": 10,
              "solidity": 0.2
             }
            },
            "type": "histogram"
           }
          ],
          "histogram2d": [
           {
            "colorbar": {
             "outlinewidth": 0,
             "ticks": ""
            },
            "colorscale": [
             [
              0,
              "#0d0887"
             ],
             [
              0.1111111111111111,
              "#46039f"
             ],
             [
              0.2222222222222222,
              "#7201a8"
             ],
             [
              0.3333333333333333,
              "#9c179e"
             ],
             [
              0.4444444444444444,
              "#bd3786"
             ],
             [
              0.5555555555555556,
              "#d8576b"
             ],
             [
              0.6666666666666666,
              "#ed7953"
             ],
             [
              0.7777777777777778,
              "#fb9f3a"
             ],
             [
              0.8888888888888888,
              "#fdca26"
             ],
             [
              1,
              "#f0f921"
             ]
            ],
            "type": "histogram2d"
           }
          ],
          "histogram2dcontour": [
           {
            "colorbar": {
             "outlinewidth": 0,
             "ticks": ""
            },
            "colorscale": [
             [
              0,
              "#0d0887"
             ],
             [
              0.1111111111111111,
              "#46039f"
             ],
             [
              0.2222222222222222,
              "#7201a8"
             ],
             [
              0.3333333333333333,
              "#9c179e"
             ],
             [
              0.4444444444444444,
              "#bd3786"
             ],
             [
              0.5555555555555556,
              "#d8576b"
             ],
             [
              0.6666666666666666,
              "#ed7953"
             ],
             [
              0.7777777777777778,
              "#fb9f3a"
             ],
             [
              0.8888888888888888,
              "#fdca26"
             ],
             [
              1,
              "#f0f921"
             ]
            ],
            "type": "histogram2dcontour"
           }
          ],
          "mesh3d": [
           {
            "colorbar": {
             "outlinewidth": 0,
             "ticks": ""
            },
            "type": "mesh3d"
           }
          ],
          "parcoords": [
           {
            "line": {
             "colorbar": {
              "outlinewidth": 0,
              "ticks": ""
             }
            },
            "type": "parcoords"
           }
          ],
          "pie": [
           {
            "automargin": true,
            "type": "pie"
           }
          ],
          "scatter": [
           {
            "fillpattern": {
             "fillmode": "overlay",
             "size": 10,
             "solidity": 0.2
            },
            "type": "scatter"
           }
          ],
          "scatter3d": [
           {
            "line": {
             "colorbar": {
              "outlinewidth": 0,
              "ticks": ""
             }
            },
            "marker": {
             "colorbar": {
              "outlinewidth": 0,
              "ticks": ""
             }
            },
            "type": "scatter3d"
           }
          ],
          "scattercarpet": [
           {
            "marker": {
             "colorbar": {
              "outlinewidth": 0,
              "ticks": ""
             }
            },
            "type": "scattercarpet"
           }
          ],
          "scattergeo": [
           {
            "marker": {
             "colorbar": {
              "outlinewidth": 0,
              "ticks": ""
             }
            },
            "type": "scattergeo"
           }
          ],
          "scattergl": [
           {
            "marker": {
             "colorbar": {
              "outlinewidth": 0,
              "ticks": ""
             }
            },
            "type": "scattergl"
           }
          ],
          "scattermapbox": [
           {
            "marker": {
             "colorbar": {
              "outlinewidth": 0,
              "ticks": ""
             }
            },
            "type": "scattermapbox"
           }
          ],
          "scatterpolar": [
           {
            "marker": {
             "colorbar": {
              "outlinewidth": 0,
              "ticks": ""
             }
            },
            "type": "scatterpolar"
           }
          ],
          "scatterpolargl": [
           {
            "marker": {
             "colorbar": {
              "outlinewidth": 0,
              "ticks": ""
             }
            },
            "type": "scatterpolargl"
           }
          ],
          "scatterternary": [
           {
            "marker": {
             "colorbar": {
              "outlinewidth": 0,
              "ticks": ""
             }
            },
            "type": "scatterternary"
           }
          ],
          "surface": [
           {
            "colorbar": {
             "outlinewidth": 0,
             "ticks": ""
            },
            "colorscale": [
             [
              0,
              "#0d0887"
             ],
             [
              0.1111111111111111,
              "#46039f"
             ],
             [
              0.2222222222222222,
              "#7201a8"
             ],
             [
              0.3333333333333333,
              "#9c179e"
             ],
             [
              0.4444444444444444,
              "#bd3786"
             ],
             [
              0.5555555555555556,
              "#d8576b"
             ],
             [
              0.6666666666666666,
              "#ed7953"
             ],
             [
              0.7777777777777778,
              "#fb9f3a"
             ],
             [
              0.8888888888888888,
              "#fdca26"
             ],
             [
              1,
              "#f0f921"
             ]
            ],
            "type": "surface"
           }
          ],
          "table": [
           {
            "cells": {
             "fill": {
              "color": "#EBF0F8"
             },
             "line": {
              "color": "white"
             }
            },
            "header": {
             "fill": {
              "color": "#C8D4E3"
             },
             "line": {
              "color": "white"
             }
            },
            "type": "table"
           }
          ]
         },
         "layout": {
          "annotationdefaults": {
           "arrowcolor": "#2a3f5f",
           "arrowhead": 0,
           "arrowwidth": 1
          },
          "autotypenumbers": "strict",
          "coloraxis": {
           "colorbar": {
            "outlinewidth": 0,
            "ticks": ""
           }
          },
          "colorscale": {
           "diverging": [
            [
             0,
             "#8e0152"
            ],
            [
             0.1,
             "#c51b7d"
            ],
            [
             0.2,
             "#de77ae"
            ],
            [
             0.3,
             "#f1b6da"
            ],
            [
             0.4,
             "#fde0ef"
            ],
            [
             0.5,
             "#f7f7f7"
            ],
            [
             0.6,
             "#e6f5d0"
            ],
            [
             0.7,
             "#b8e186"
            ],
            [
             0.8,
             "#7fbc41"
            ],
            [
             0.9,
             "#4d9221"
            ],
            [
             1,
             "#276419"
            ]
           ],
           "sequential": [
            [
             0,
             "#0d0887"
            ],
            [
             0.1111111111111111,
             "#46039f"
            ],
            [
             0.2222222222222222,
             "#7201a8"
            ],
            [
             0.3333333333333333,
             "#9c179e"
            ],
            [
             0.4444444444444444,
             "#bd3786"
            ],
            [
             0.5555555555555556,
             "#d8576b"
            ],
            [
             0.6666666666666666,
             "#ed7953"
            ],
            [
             0.7777777777777778,
             "#fb9f3a"
            ],
            [
             0.8888888888888888,
             "#fdca26"
            ],
            [
             1,
             "#f0f921"
            ]
           ],
           "sequentialminus": [
            [
             0,
             "#0d0887"
            ],
            [
             0.1111111111111111,
             "#46039f"
            ],
            [
             0.2222222222222222,
             "#7201a8"
            ],
            [
             0.3333333333333333,
             "#9c179e"
            ],
            [
             0.4444444444444444,
             "#bd3786"
            ],
            [
             0.5555555555555556,
             "#d8576b"
            ],
            [
             0.6666666666666666,
             "#ed7953"
            ],
            [
             0.7777777777777778,
             "#fb9f3a"
            ],
            [
             0.8888888888888888,
             "#fdca26"
            ],
            [
             1,
             "#f0f921"
            ]
           ]
          },
          "colorway": [
           "#636efa",
           "#EF553B",
           "#00cc96",
           "#ab63fa",
           "#FFA15A",
           "#19d3f3",
           "#FF6692",
           "#B6E880",
           "#FF97FF",
           "#FECB52"
          ],
          "font": {
           "color": "#2a3f5f"
          },
          "geo": {
           "bgcolor": "white",
           "lakecolor": "white",
           "landcolor": "#E5ECF6",
           "showlakes": true,
           "showland": true,
           "subunitcolor": "white"
          },
          "hoverlabel": {
           "align": "left"
          },
          "hovermode": "closest",
          "mapbox": {
           "style": "light"
          },
          "paper_bgcolor": "white",
          "plot_bgcolor": "#E5ECF6",
          "polar": {
           "angularaxis": {
            "gridcolor": "white",
            "linecolor": "white",
            "ticks": ""
           },
           "bgcolor": "#E5ECF6",
           "radialaxis": {
            "gridcolor": "white",
            "linecolor": "white",
            "ticks": ""
           }
          },
          "scene": {
           "xaxis": {
            "backgroundcolor": "#E5ECF6",
            "gridcolor": "white",
            "gridwidth": 2,
            "linecolor": "white",
            "showbackground": true,
            "ticks": "",
            "zerolinecolor": "white"
           },
           "yaxis": {
            "backgroundcolor": "#E5ECF6",
            "gridcolor": "white",
            "gridwidth": 2,
            "linecolor": "white",
            "showbackground": true,
            "ticks": "",
            "zerolinecolor": "white"
           },
           "zaxis": {
            "backgroundcolor": "#E5ECF6",
            "gridcolor": "white",
            "gridwidth": 2,
            "linecolor": "white",
            "showbackground": true,
            "ticks": "",
            "zerolinecolor": "white"
           }
          },
          "shapedefaults": {
           "line": {
            "color": "#2a3f5f"
           }
          },
          "ternary": {
           "aaxis": {
            "gridcolor": "white",
            "linecolor": "white",
            "ticks": ""
           },
           "baxis": {
            "gridcolor": "white",
            "linecolor": "white",
            "ticks": ""
           },
           "bgcolor": "#E5ECF6",
           "caxis": {
            "gridcolor": "white",
            "linecolor": "white",
            "ticks": ""
           }
          },
          "title": {
           "x": 0.05
          },
          "xaxis": {
           "automargin": true,
           "gridcolor": "white",
           "linecolor": "white",
           "ticks": "",
           "title": {
            "standoff": 15
           },
           "zerolinecolor": "white",
           "zerolinewidth": 2
          },
          "yaxis": {
           "automargin": true,
           "gridcolor": "white",
           "linecolor": "white",
           "ticks": "",
           "title": {
            "standoff": 15
           },
           "zerolinecolor": "white",
           "zerolinewidth": 2
          }
         }
        },
        "title": {
         "text": "Textstichproben"
        }
       }
      }
     },
     "metadata": {},
     "output_type": "display_data"
    }
   ],
   "source": [
    "import pandas as pd\n",
    "import sqlite3\n",
    "import plotly.graph_objects as go\n",
    "\n",
    "con = sqlite3.connect(\"Datenbank.db\")\n",
    "\n",
    "query = \"\"\"SELECT epochen_genres_strata, autor, haupttitel FROM samples\"\"\"\n",
    "\n",
    "df = pd.read_sql_query(query, con)\n",
    "df_sorted = df.sort_values(by=\"epochen_genres_strata\", ascending=True)\n",
    "\n",
    "fig = go.Figure(data=[go.Table(\n",
    "    header=dict(\n",
    "        values=list(df_sorted.columns),\n",
    "        fill_color=\"paleturquoise\",\n",
    "        align=\"center\"\n",
    "    ),\n",
    "    cells=dict(\n",
    "        values=[df_sorted[col] for col in df_sorted.columns],\n",
    "        fill_color=\"lavender\",\n",
    "        align=\"left\"\n",
    "    )\n",
    ")])\n",
    "con.close()\n",
    "fig.update_layout(title=\"Textstichproben\", height=3000)\n",
    "fig.show()\n",
    "\n"
   ]
  },
  {
   "cell_type": "markdown",
   "metadata": {},
   "source": [
    "Bei einer genaueren Betrachtung wird klar, dass die Epoche x Hauptklasse-Schicht Revolutionsjahre x Zeitung einen Bias gegenüber der Neuen Rheinischen Zeitung hat. Dieser Bias kann auch bestätigt werden, wenn die Gesamtanzahl aller Zeitungen aus den Revolutionsjahren miteinander verglichen werden."
   ]
  },
  {
   "cell_type": "code",
   "execution_count": 7,
   "metadata": {},
   "outputs": [
    {
     "data": {
      "application/vnd.plotly.v1+json": {
       "config": {
        "plotlyServerURL": "https://plot.ly"
       },
       "data": [
        {
         "name": "Anzahl Texte pro Revolutionsjahre x Zeitung",
         "type": "bar",
         "x": [
          "Allgemeine Auswandererzeitung Rudolstadt",
          "Allgemeine Auswanderungs-Zeitung",
          "Allgemeine Zeitung",
          "Die Bayerische Presse",
          "Dienstag, 2. Mai",
          "Donnerstag, 4. Mai",
          "Freitag, 5. Mai",
          "Mittwoch, 3. Mai",
          "Montag, 1. Mai",
          "Neue Rheinische Zeitung"
         ],
         "y": [
          1,
          38,
          181,
          74,
          1,
          1,
          1,
          1,
          1,
          530
         ]
        }
       ],
       "layout": {
        "hovermode": "x",
        "template": {
         "data": {
          "bar": [
           {
            "error_x": {
             "color": "#2a3f5f"
            },
            "error_y": {
             "color": "#2a3f5f"
            },
            "marker": {
             "line": {
              "color": "#E5ECF6",
              "width": 0.5
             },
             "pattern": {
              "fillmode": "overlay",
              "size": 10,
              "solidity": 0.2
             }
            },
            "type": "bar"
           }
          ],
          "barpolar": [
           {
            "marker": {
             "line": {
              "color": "#E5ECF6",
              "width": 0.5
             },
             "pattern": {
              "fillmode": "overlay",
              "size": 10,
              "solidity": 0.2
             }
            },
            "type": "barpolar"
           }
          ],
          "carpet": [
           {
            "aaxis": {
             "endlinecolor": "#2a3f5f",
             "gridcolor": "white",
             "linecolor": "white",
             "minorgridcolor": "white",
             "startlinecolor": "#2a3f5f"
            },
            "baxis": {
             "endlinecolor": "#2a3f5f",
             "gridcolor": "white",
             "linecolor": "white",
             "minorgridcolor": "white",
             "startlinecolor": "#2a3f5f"
            },
            "type": "carpet"
           }
          ],
          "choropleth": [
           {
            "colorbar": {
             "outlinewidth": 0,
             "ticks": ""
            },
            "type": "choropleth"
           }
          ],
          "contour": [
           {
            "colorbar": {
             "outlinewidth": 0,
             "ticks": ""
            },
            "colorscale": [
             [
              0,
              "#0d0887"
             ],
             [
              0.1111111111111111,
              "#46039f"
             ],
             [
              0.2222222222222222,
              "#7201a8"
             ],
             [
              0.3333333333333333,
              "#9c179e"
             ],
             [
              0.4444444444444444,
              "#bd3786"
             ],
             [
              0.5555555555555556,
              "#d8576b"
             ],
             [
              0.6666666666666666,
              "#ed7953"
             ],
             [
              0.7777777777777778,
              "#fb9f3a"
             ],
             [
              0.8888888888888888,
              "#fdca26"
             ],
             [
              1,
              "#f0f921"
             ]
            ],
            "type": "contour"
           }
          ],
          "contourcarpet": [
           {
            "colorbar": {
             "outlinewidth": 0,
             "ticks": ""
            },
            "type": "contourcarpet"
           }
          ],
          "heatmap": [
           {
            "colorbar": {
             "outlinewidth": 0,
             "ticks": ""
            },
            "colorscale": [
             [
              0,
              "#0d0887"
             ],
             [
              0.1111111111111111,
              "#46039f"
             ],
             [
              0.2222222222222222,
              "#7201a8"
             ],
             [
              0.3333333333333333,
              "#9c179e"
             ],
             [
              0.4444444444444444,
              "#bd3786"
             ],
             [
              0.5555555555555556,
              "#d8576b"
             ],
             [
              0.6666666666666666,
              "#ed7953"
             ],
             [
              0.7777777777777778,
              "#fb9f3a"
             ],
             [
              0.8888888888888888,
              "#fdca26"
             ],
             [
              1,
              "#f0f921"
             ]
            ],
            "type": "heatmap"
           }
          ],
          "heatmapgl": [
           {
            "colorbar": {
             "outlinewidth": 0,
             "ticks": ""
            },
            "colorscale": [
             [
              0,
              "#0d0887"
             ],
             [
              0.1111111111111111,
              "#46039f"
             ],
             [
              0.2222222222222222,
              "#7201a8"
             ],
             [
              0.3333333333333333,
              "#9c179e"
             ],
             [
              0.4444444444444444,
              "#bd3786"
             ],
             [
              0.5555555555555556,
              "#d8576b"
             ],
             [
              0.6666666666666666,
              "#ed7953"
             ],
             [
              0.7777777777777778,
              "#fb9f3a"
             ],
             [
              0.8888888888888888,
              "#fdca26"
             ],
             [
              1,
              "#f0f921"
             ]
            ],
            "type": "heatmapgl"
           }
          ],
          "histogram": [
           {
            "marker": {
             "pattern": {
              "fillmode": "overlay",
              "size": 10,
              "solidity": 0.2
             }
            },
            "type": "histogram"
           }
          ],
          "histogram2d": [
           {
            "colorbar": {
             "outlinewidth": 0,
             "ticks": ""
            },
            "colorscale": [
             [
              0,
              "#0d0887"
             ],
             [
              0.1111111111111111,
              "#46039f"
             ],
             [
              0.2222222222222222,
              "#7201a8"
             ],
             [
              0.3333333333333333,
              "#9c179e"
             ],
             [
              0.4444444444444444,
              "#bd3786"
             ],
             [
              0.5555555555555556,
              "#d8576b"
             ],
             [
              0.6666666666666666,
              "#ed7953"
             ],
             [
              0.7777777777777778,
              "#fb9f3a"
             ],
             [
              0.8888888888888888,
              "#fdca26"
             ],
             [
              1,
              "#f0f921"
             ]
            ],
            "type": "histogram2d"
           }
          ],
          "histogram2dcontour": [
           {
            "colorbar": {
             "outlinewidth": 0,
             "ticks": ""
            },
            "colorscale": [
             [
              0,
              "#0d0887"
             ],
             [
              0.1111111111111111,
              "#46039f"
             ],
             [
              0.2222222222222222,
              "#7201a8"
             ],
             [
              0.3333333333333333,
              "#9c179e"
             ],
             [
              0.4444444444444444,
              "#bd3786"
             ],
             [
              0.5555555555555556,
              "#d8576b"
             ],
             [
              0.6666666666666666,
              "#ed7953"
             ],
             [
              0.7777777777777778,
              "#fb9f3a"
             ],
             [
              0.8888888888888888,
              "#fdca26"
             ],
             [
              1,
              "#f0f921"
             ]
            ],
            "type": "histogram2dcontour"
           }
          ],
          "mesh3d": [
           {
            "colorbar": {
             "outlinewidth": 0,
             "ticks": ""
            },
            "type": "mesh3d"
           }
          ],
          "parcoords": [
           {
            "line": {
             "colorbar": {
              "outlinewidth": 0,
              "ticks": ""
             }
            },
            "type": "parcoords"
           }
          ],
          "pie": [
           {
            "automargin": true,
            "type": "pie"
           }
          ],
          "scatter": [
           {
            "fillpattern": {
             "fillmode": "overlay",
             "size": 10,
             "solidity": 0.2
            },
            "type": "scatter"
           }
          ],
          "scatter3d": [
           {
            "line": {
             "colorbar": {
              "outlinewidth": 0,
              "ticks": ""
             }
            },
            "marker": {
             "colorbar": {
              "outlinewidth": 0,
              "ticks": ""
             }
            },
            "type": "scatter3d"
           }
          ],
          "scattercarpet": [
           {
            "marker": {
             "colorbar": {
              "outlinewidth": 0,
              "ticks": ""
             }
            },
            "type": "scattercarpet"
           }
          ],
          "scattergeo": [
           {
            "marker": {
             "colorbar": {
              "outlinewidth": 0,
              "ticks": ""
             }
            },
            "type": "scattergeo"
           }
          ],
          "scattergl": [
           {
            "marker": {
             "colorbar": {
              "outlinewidth": 0,
              "ticks": ""
             }
            },
            "type": "scattergl"
           }
          ],
          "scattermapbox": [
           {
            "marker": {
             "colorbar": {
              "outlinewidth": 0,
              "ticks": ""
             }
            },
            "type": "scattermapbox"
           }
          ],
          "scatterpolar": [
           {
            "marker": {
             "colorbar": {
              "outlinewidth": 0,
              "ticks": ""
             }
            },
            "type": "scatterpolar"
           }
          ],
          "scatterpolargl": [
           {
            "marker": {
             "colorbar": {
              "outlinewidth": 0,
              "ticks": ""
             }
            },
            "type": "scatterpolargl"
           }
          ],
          "scatterternary": [
           {
            "marker": {
             "colorbar": {
              "outlinewidth": 0,
              "ticks": ""
             }
            },
            "type": "scatterternary"
           }
          ],
          "surface": [
           {
            "colorbar": {
             "outlinewidth": 0,
             "ticks": ""
            },
            "colorscale": [
             [
              0,
              "#0d0887"
             ],
             [
              0.1111111111111111,
              "#46039f"
             ],
             [
              0.2222222222222222,
              "#7201a8"
             ],
             [
              0.3333333333333333,
              "#9c179e"
             ],
             [
              0.4444444444444444,
              "#bd3786"
             ],
             [
              0.5555555555555556,
              "#d8576b"
             ],
             [
              0.6666666666666666,
              "#ed7953"
             ],
             [
              0.7777777777777778,
              "#fb9f3a"
             ],
             [
              0.8888888888888888,
              "#fdca26"
             ],
             [
              1,
              "#f0f921"
             ]
            ],
            "type": "surface"
           }
          ],
          "table": [
           {
            "cells": {
             "fill": {
              "color": "#EBF0F8"
             },
             "line": {
              "color": "white"
             }
            },
            "header": {
             "fill": {
              "color": "#C8D4E3"
             },
             "line": {
              "color": "white"
             }
            },
            "type": "table"
           }
          ]
         },
         "layout": {
          "annotationdefaults": {
           "arrowcolor": "#2a3f5f",
           "arrowhead": 0,
           "arrowwidth": 1
          },
          "autotypenumbers": "strict",
          "coloraxis": {
           "colorbar": {
            "outlinewidth": 0,
            "ticks": ""
           }
          },
          "colorscale": {
           "diverging": [
            [
             0,
             "#8e0152"
            ],
            [
             0.1,
             "#c51b7d"
            ],
            [
             0.2,
             "#de77ae"
            ],
            [
             0.3,
             "#f1b6da"
            ],
            [
             0.4,
             "#fde0ef"
            ],
            [
             0.5,
             "#f7f7f7"
            ],
            [
             0.6,
             "#e6f5d0"
            ],
            [
             0.7,
             "#b8e186"
            ],
            [
             0.8,
             "#7fbc41"
            ],
            [
             0.9,
             "#4d9221"
            ],
            [
             1,
             "#276419"
            ]
           ],
           "sequential": [
            [
             0,
             "#0d0887"
            ],
            [
             0.1111111111111111,
             "#46039f"
            ],
            [
             0.2222222222222222,
             "#7201a8"
            ],
            [
             0.3333333333333333,
             "#9c179e"
            ],
            [
             0.4444444444444444,
             "#bd3786"
            ],
            [
             0.5555555555555556,
             "#d8576b"
            ],
            [
             0.6666666666666666,
             "#ed7953"
            ],
            [
             0.7777777777777778,
             "#fb9f3a"
            ],
            [
             0.8888888888888888,
             "#fdca26"
            ],
            [
             1,
             "#f0f921"
            ]
           ],
           "sequentialminus": [
            [
             0,
             "#0d0887"
            ],
            [
             0.1111111111111111,
             "#46039f"
            ],
            [
             0.2222222222222222,
             "#7201a8"
            ],
            [
             0.3333333333333333,
             "#9c179e"
            ],
            [
             0.4444444444444444,
             "#bd3786"
            ],
            [
             0.5555555555555556,
             "#d8576b"
            ],
            [
             0.6666666666666666,
             "#ed7953"
            ],
            [
             0.7777777777777778,
             "#fb9f3a"
            ],
            [
             0.8888888888888888,
             "#fdca26"
            ],
            [
             1,
             "#f0f921"
            ]
           ]
          },
          "colorway": [
           "#636efa",
           "#EF553B",
           "#00cc96",
           "#ab63fa",
           "#FFA15A",
           "#19d3f3",
           "#FF6692",
           "#B6E880",
           "#FF97FF",
           "#FECB52"
          ],
          "font": {
           "color": "#2a3f5f"
          },
          "geo": {
           "bgcolor": "white",
           "lakecolor": "white",
           "landcolor": "#E5ECF6",
           "showlakes": true,
           "showland": true,
           "subunitcolor": "white"
          },
          "hoverlabel": {
           "align": "left"
          },
          "hovermode": "closest",
          "mapbox": {
           "style": "light"
          },
          "paper_bgcolor": "white",
          "plot_bgcolor": "#E5ECF6",
          "polar": {
           "angularaxis": {
            "gridcolor": "white",
            "linecolor": "white",
            "ticks": ""
           },
           "bgcolor": "#E5ECF6",
           "radialaxis": {
            "gridcolor": "white",
            "linecolor": "white",
            "ticks": ""
           }
          },
          "scene": {
           "xaxis": {
            "backgroundcolor": "#E5ECF6",
            "gridcolor": "white",
            "gridwidth": 2,
            "linecolor": "white",
            "showbackground": true,
            "ticks": "",
            "zerolinecolor": "white"
           },
           "yaxis": {
            "backgroundcolor": "#E5ECF6",
            "gridcolor": "white",
            "gridwidth": 2,
            "linecolor": "white",
            "showbackground": true,
            "ticks": "",
            "zerolinecolor": "white"
           },
           "zaxis": {
            "backgroundcolor": "#E5ECF6",
            "gridcolor": "white",
            "gridwidth": 2,
            "linecolor": "white",
            "showbackground": true,
            "ticks": "",
            "zerolinecolor": "white"
           }
          },
          "shapedefaults": {
           "line": {
            "color": "#2a3f5f"
           }
          },
          "ternary": {
           "aaxis": {
            "gridcolor": "white",
            "linecolor": "white",
            "ticks": ""
           },
           "baxis": {
            "gridcolor": "white",
            "linecolor": "white",
            "ticks": ""
           },
           "bgcolor": "#E5ECF6",
           "caxis": {
            "gridcolor": "white",
            "linecolor": "white",
            "ticks": ""
           }
          },
          "title": {
           "x": 0.05
          },
          "xaxis": {
           "automargin": true,
           "gridcolor": "white",
           "linecolor": "white",
           "ticks": "",
           "title": {
            "standoff": 15
           },
           "zerolinecolor": "white",
           "zerolinewidth": 2
          },
          "yaxis": {
           "automargin": true,
           "gridcolor": "white",
           "linecolor": "white",
           "ticks": "",
           "title": {
            "standoff": 15
           },
           "zerolinecolor": "white",
           "zerolinewidth": 2
          }
         }
        },
        "title": {
         "text": "Anzahl Texte pro Haupttitel in Revolutionsjahre x Zeitung"
        },
        "xaxis": {
         "title": {
          "text": "Haupttitel"
         }
        },
        "yaxis": {
         "title": {
          "text": "Anzahl Texte"
         }
        }
       }
      }
     },
     "metadata": {},
     "output_type": "display_data"
    }
   ],
   "source": [
    "import sqlite3\n",
    "import pandas as pd\n",
    "import plotly.graph_objects as go\n",
    "\n",
    "con = sqlite3.connect(\"Datenbank.db\")\n",
    "query = \"\"\"SELECT haupttitel FROM my_data WHERE epochen_genres_strata='Revolutionsjahre x Zeitung'\"\"\"\n",
    "\n",
    "df = pd.read_sql_query(query, con)\n",
    "\n",
    "haupttitel_count = df.groupby(\"haupttitel\").size().reset_index(name=\"count\")\n",
    "\n",
    "\n",
    "fig = go.Figure(data=[go.Bar(name=\"Anzahl Texte pro Revolutionsjahre x Zeitung\", x=haupttitel_count[\"haupttitel\"], y=haupttitel_count[\"count\"])])\n",
    "\n",
    "fig.update_layout(\n",
    "    title=\"Anzahl Texte pro Haupttitel in Revolutionsjahre x Zeitung\",\n",
    "    xaxis_title=\"Haupttitel\",\n",
    "    yaxis_title=\"Anzahl Texte\",\n",
    "    hovermode=\"x\"\n",
    ")\n",
    "\n",
    "con.close()\n",
    "fig.show()"
   ]
  },
  {
   "cell_type": "markdown",
   "metadata": {},
   "source": [
    "Um ein gleichmässigeres Sampling zu gewährleisten werden die 15 Samples proportional aufgeteilt."
   ]
  },
  {
   "cell_type": "code",
   "execution_count": 8,
   "metadata": {},
   "outputs": [
    {
     "data": {
      "application/vnd.plotly.v1+json": {
       "config": {
        "plotlyServerURL": "https://plot.ly"
       },
       "data": [
        {
         "cells": {
          "align": "left",
          "fill": {
           "color": "lavender"
          },
          "values": [
           [
            "Allgemeine Auswandererzeitung Rudolstadt",
            "Allgemeine Auswanderungs-Zeitung",
            "Allgemeine Zeitung",
            "Die Bayerische Presse",
            "Dienstag, 2. Mai",
            "Donnerstag, 4. Mai",
            "Freitag, 5. Mai",
            "Mittwoch, 3. Mai",
            "Montag, 1. Mai",
            "Neue Rheinische Zeitung"
           ],
           [
            1,
            38,
            181,
            74,
            1,
            1,
            1,
            1,
            1,
            530
           ],
           [
            0.00121,
            0.04584,
            0.21834,
            0.08926,
            0.00121,
            0.00121,
            0.00121,
            0.00121,
            0.00121,
            0.63932
           ],
           [
            0,
            1,
            3,
            1,
            0,
            0,
            0,
            0,
            0,
            10
           ]
          ]
         },
         "header": {
          "align": "center",
          "fill": {
           "color": "paleturquoise"
          },
          "values": [
           "haupttitel",
           "count",
           "weight",
           "sample_size"
          ]
         },
         "type": "table"
        }
       ],
       "layout": {
        "template": {
         "data": {
          "bar": [
           {
            "error_x": {
             "color": "#2a3f5f"
            },
            "error_y": {
             "color": "#2a3f5f"
            },
            "marker": {
             "line": {
              "color": "#E5ECF6",
              "width": 0.5
             },
             "pattern": {
              "fillmode": "overlay",
              "size": 10,
              "solidity": 0.2
             }
            },
            "type": "bar"
           }
          ],
          "barpolar": [
           {
            "marker": {
             "line": {
              "color": "#E5ECF6",
              "width": 0.5
             },
             "pattern": {
              "fillmode": "overlay",
              "size": 10,
              "solidity": 0.2
             }
            },
            "type": "barpolar"
           }
          ],
          "carpet": [
           {
            "aaxis": {
             "endlinecolor": "#2a3f5f",
             "gridcolor": "white",
             "linecolor": "white",
             "minorgridcolor": "white",
             "startlinecolor": "#2a3f5f"
            },
            "baxis": {
             "endlinecolor": "#2a3f5f",
             "gridcolor": "white",
             "linecolor": "white",
             "minorgridcolor": "white",
             "startlinecolor": "#2a3f5f"
            },
            "type": "carpet"
           }
          ],
          "choropleth": [
           {
            "colorbar": {
             "outlinewidth": 0,
             "ticks": ""
            },
            "type": "choropleth"
           }
          ],
          "contour": [
           {
            "colorbar": {
             "outlinewidth": 0,
             "ticks": ""
            },
            "colorscale": [
             [
              0,
              "#0d0887"
             ],
             [
              0.1111111111111111,
              "#46039f"
             ],
             [
              0.2222222222222222,
              "#7201a8"
             ],
             [
              0.3333333333333333,
              "#9c179e"
             ],
             [
              0.4444444444444444,
              "#bd3786"
             ],
             [
              0.5555555555555556,
              "#d8576b"
             ],
             [
              0.6666666666666666,
              "#ed7953"
             ],
             [
              0.7777777777777778,
              "#fb9f3a"
             ],
             [
              0.8888888888888888,
              "#fdca26"
             ],
             [
              1,
              "#f0f921"
             ]
            ],
            "type": "contour"
           }
          ],
          "contourcarpet": [
           {
            "colorbar": {
             "outlinewidth": 0,
             "ticks": ""
            },
            "type": "contourcarpet"
           }
          ],
          "heatmap": [
           {
            "colorbar": {
             "outlinewidth": 0,
             "ticks": ""
            },
            "colorscale": [
             [
              0,
              "#0d0887"
             ],
             [
              0.1111111111111111,
              "#46039f"
             ],
             [
              0.2222222222222222,
              "#7201a8"
             ],
             [
              0.3333333333333333,
              "#9c179e"
             ],
             [
              0.4444444444444444,
              "#bd3786"
             ],
             [
              0.5555555555555556,
              "#d8576b"
             ],
             [
              0.6666666666666666,
              "#ed7953"
             ],
             [
              0.7777777777777778,
              "#fb9f3a"
             ],
             [
              0.8888888888888888,
              "#fdca26"
             ],
             [
              1,
              "#f0f921"
             ]
            ],
            "type": "heatmap"
           }
          ],
          "heatmapgl": [
           {
            "colorbar": {
             "outlinewidth": 0,
             "ticks": ""
            },
            "colorscale": [
             [
              0,
              "#0d0887"
             ],
             [
              0.1111111111111111,
              "#46039f"
             ],
             [
              0.2222222222222222,
              "#7201a8"
             ],
             [
              0.3333333333333333,
              "#9c179e"
             ],
             [
              0.4444444444444444,
              "#bd3786"
             ],
             [
              0.5555555555555556,
              "#d8576b"
             ],
             [
              0.6666666666666666,
              "#ed7953"
             ],
             [
              0.7777777777777778,
              "#fb9f3a"
             ],
             [
              0.8888888888888888,
              "#fdca26"
             ],
             [
              1,
              "#f0f921"
             ]
            ],
            "type": "heatmapgl"
           }
          ],
          "histogram": [
           {
            "marker": {
             "pattern": {
              "fillmode": "overlay",
              "size": 10,
              "solidity": 0.2
             }
            },
            "type": "histogram"
           }
          ],
          "histogram2d": [
           {
            "colorbar": {
             "outlinewidth": 0,
             "ticks": ""
            },
            "colorscale": [
             [
              0,
              "#0d0887"
             ],
             [
              0.1111111111111111,
              "#46039f"
             ],
             [
              0.2222222222222222,
              "#7201a8"
             ],
             [
              0.3333333333333333,
              "#9c179e"
             ],
             [
              0.4444444444444444,
              "#bd3786"
             ],
             [
              0.5555555555555556,
              "#d8576b"
             ],
             [
              0.6666666666666666,
              "#ed7953"
             ],
             [
              0.7777777777777778,
              "#fb9f3a"
             ],
             [
              0.8888888888888888,
              "#fdca26"
             ],
             [
              1,
              "#f0f921"
             ]
            ],
            "type": "histogram2d"
           }
          ],
          "histogram2dcontour": [
           {
            "colorbar": {
             "outlinewidth": 0,
             "ticks": ""
            },
            "colorscale": [
             [
              0,
              "#0d0887"
             ],
             [
              0.1111111111111111,
              "#46039f"
             ],
             [
              0.2222222222222222,
              "#7201a8"
             ],
             [
              0.3333333333333333,
              "#9c179e"
             ],
             [
              0.4444444444444444,
              "#bd3786"
             ],
             [
              0.5555555555555556,
              "#d8576b"
             ],
             [
              0.6666666666666666,
              "#ed7953"
             ],
             [
              0.7777777777777778,
              "#fb9f3a"
             ],
             [
              0.8888888888888888,
              "#fdca26"
             ],
             [
              1,
              "#f0f921"
             ]
            ],
            "type": "histogram2dcontour"
           }
          ],
          "mesh3d": [
           {
            "colorbar": {
             "outlinewidth": 0,
             "ticks": ""
            },
            "type": "mesh3d"
           }
          ],
          "parcoords": [
           {
            "line": {
             "colorbar": {
              "outlinewidth": 0,
              "ticks": ""
             }
            },
            "type": "parcoords"
           }
          ],
          "pie": [
           {
            "automargin": true,
            "type": "pie"
           }
          ],
          "scatter": [
           {
            "fillpattern": {
             "fillmode": "overlay",
             "size": 10,
             "solidity": 0.2
            },
            "type": "scatter"
           }
          ],
          "scatter3d": [
           {
            "line": {
             "colorbar": {
              "outlinewidth": 0,
              "ticks": ""
             }
            },
            "marker": {
             "colorbar": {
              "outlinewidth": 0,
              "ticks": ""
             }
            },
            "type": "scatter3d"
           }
          ],
          "scattercarpet": [
           {
            "marker": {
             "colorbar": {
              "outlinewidth": 0,
              "ticks": ""
             }
            },
            "type": "scattercarpet"
           }
          ],
          "scattergeo": [
           {
            "marker": {
             "colorbar": {
              "outlinewidth": 0,
              "ticks": ""
             }
            },
            "type": "scattergeo"
           }
          ],
          "scattergl": [
           {
            "marker": {
             "colorbar": {
              "outlinewidth": 0,
              "ticks": ""
             }
            },
            "type": "scattergl"
           }
          ],
          "scattermapbox": [
           {
            "marker": {
             "colorbar": {
              "outlinewidth": 0,
              "ticks": ""
             }
            },
            "type": "scattermapbox"
           }
          ],
          "scatterpolar": [
           {
            "marker": {
             "colorbar": {
              "outlinewidth": 0,
              "ticks": ""
             }
            },
            "type": "scatterpolar"
           }
          ],
          "scatterpolargl": [
           {
            "marker": {
             "colorbar": {
              "outlinewidth": 0,
              "ticks": ""
             }
            },
            "type": "scatterpolargl"
           }
          ],
          "scatterternary": [
           {
            "marker": {
             "colorbar": {
              "outlinewidth": 0,
              "ticks": ""
             }
            },
            "type": "scatterternary"
           }
          ],
          "surface": [
           {
            "colorbar": {
             "outlinewidth": 0,
             "ticks": ""
            },
            "colorscale": [
             [
              0,
              "#0d0887"
             ],
             [
              0.1111111111111111,
              "#46039f"
             ],
             [
              0.2222222222222222,
              "#7201a8"
             ],
             [
              0.3333333333333333,
              "#9c179e"
             ],
             [
              0.4444444444444444,
              "#bd3786"
             ],
             [
              0.5555555555555556,
              "#d8576b"
             ],
             [
              0.6666666666666666,
              "#ed7953"
             ],
             [
              0.7777777777777778,
              "#fb9f3a"
             ],
             [
              0.8888888888888888,
              "#fdca26"
             ],
             [
              1,
              "#f0f921"
             ]
            ],
            "type": "surface"
           }
          ],
          "table": [
           {
            "cells": {
             "fill": {
              "color": "#EBF0F8"
             },
             "line": {
              "color": "white"
             }
            },
            "header": {
             "fill": {
              "color": "#C8D4E3"
             },
             "line": {
              "color": "white"
             }
            },
            "type": "table"
           }
          ]
         },
         "layout": {
          "annotationdefaults": {
           "arrowcolor": "#2a3f5f",
           "arrowhead": 0,
           "arrowwidth": 1
          },
          "autotypenumbers": "strict",
          "coloraxis": {
           "colorbar": {
            "outlinewidth": 0,
            "ticks": ""
           }
          },
          "colorscale": {
           "diverging": [
            [
             0,
             "#8e0152"
            ],
            [
             0.1,
             "#c51b7d"
            ],
            [
             0.2,
             "#de77ae"
            ],
            [
             0.3,
             "#f1b6da"
            ],
            [
             0.4,
             "#fde0ef"
            ],
            [
             0.5,
             "#f7f7f7"
            ],
            [
             0.6,
             "#e6f5d0"
            ],
            [
             0.7,
             "#b8e186"
            ],
            [
             0.8,
             "#7fbc41"
            ],
            [
             0.9,
             "#4d9221"
            ],
            [
             1,
             "#276419"
            ]
           ],
           "sequential": [
            [
             0,
             "#0d0887"
            ],
            [
             0.1111111111111111,
             "#46039f"
            ],
            [
             0.2222222222222222,
             "#7201a8"
            ],
            [
             0.3333333333333333,
             "#9c179e"
            ],
            [
             0.4444444444444444,
             "#bd3786"
            ],
            [
             0.5555555555555556,
             "#d8576b"
            ],
            [
             0.6666666666666666,
             "#ed7953"
            ],
            [
             0.7777777777777778,
             "#fb9f3a"
            ],
            [
             0.8888888888888888,
             "#fdca26"
            ],
            [
             1,
             "#f0f921"
            ]
           ],
           "sequentialminus": [
            [
             0,
             "#0d0887"
            ],
            [
             0.1111111111111111,
             "#46039f"
            ],
            [
             0.2222222222222222,
             "#7201a8"
            ],
            [
             0.3333333333333333,
             "#9c179e"
            ],
            [
             0.4444444444444444,
             "#bd3786"
            ],
            [
             0.5555555555555556,
             "#d8576b"
            ],
            [
             0.6666666666666666,
             "#ed7953"
            ],
            [
             0.7777777777777778,
             "#fb9f3a"
            ],
            [
             0.8888888888888888,
             "#fdca26"
            ],
            [
             1,
             "#f0f921"
            ]
           ]
          },
          "colorway": [
           "#636efa",
           "#EF553B",
           "#00cc96",
           "#ab63fa",
           "#FFA15A",
           "#19d3f3",
           "#FF6692",
           "#B6E880",
           "#FF97FF",
           "#FECB52"
          ],
          "font": {
           "color": "#2a3f5f"
          },
          "geo": {
           "bgcolor": "white",
           "lakecolor": "white",
           "landcolor": "#E5ECF6",
           "showlakes": true,
           "showland": true,
           "subunitcolor": "white"
          },
          "hoverlabel": {
           "align": "left"
          },
          "hovermode": "closest",
          "mapbox": {
           "style": "light"
          },
          "paper_bgcolor": "white",
          "plot_bgcolor": "#E5ECF6",
          "polar": {
           "angularaxis": {
            "gridcolor": "white",
            "linecolor": "white",
            "ticks": ""
           },
           "bgcolor": "#E5ECF6",
           "radialaxis": {
            "gridcolor": "white",
            "linecolor": "white",
            "ticks": ""
           }
          },
          "scene": {
           "xaxis": {
            "backgroundcolor": "#E5ECF6",
            "gridcolor": "white",
            "gridwidth": 2,
            "linecolor": "white",
            "showbackground": true,
            "ticks": "",
            "zerolinecolor": "white"
           },
           "yaxis": {
            "backgroundcolor": "#E5ECF6",
            "gridcolor": "white",
            "gridwidth": 2,
            "linecolor": "white",
            "showbackground": true,
            "ticks": "",
            "zerolinecolor": "white"
           },
           "zaxis": {
            "backgroundcolor": "#E5ECF6",
            "gridcolor": "white",
            "gridwidth": 2,
            "linecolor": "white",
            "showbackground": true,
            "ticks": "",
            "zerolinecolor": "white"
           }
          },
          "shapedefaults": {
           "line": {
            "color": "#2a3f5f"
           }
          },
          "ternary": {
           "aaxis": {
            "gridcolor": "white",
            "linecolor": "white",
            "ticks": ""
           },
           "baxis": {
            "gridcolor": "white",
            "linecolor": "white",
            "ticks": ""
           },
           "bgcolor": "#E5ECF6",
           "caxis": {
            "gridcolor": "white",
            "linecolor": "white",
            "ticks": ""
           }
          },
          "title": {
           "x": 0.05
          },
          "xaxis": {
           "automargin": true,
           "gridcolor": "white",
           "linecolor": "white",
           "ticks": "",
           "title": {
            "standoff": 15
           },
           "zerolinecolor": "white",
           "zerolinewidth": 2
          },
          "yaxis": {
           "automargin": true,
           "gridcolor": "white",
           "linecolor": "white",
           "ticks": "",
           "title": {
            "standoff": 15
           },
           "zerolinecolor": "white",
           "zerolinewidth": 2
          }
         }
        },
        "title": {
         "text": "Revolutionsjahre x Zeitung Aufschichtung"
        }
       }
      }
     },
     "metadata": {},
     "output_type": "display_data"
    }
   ],
   "source": [
    "import sqlite3\n",
    "import pandas as pd\n",
    "import plotly.graph_objects as go\n",
    "\n",
    "con = sqlite3.connect(\"Datenbank.db\")\n",
    "cur = con.cursor()\n",
    "query = \"\"\"SELECT haupttitel FROM my_data WHERE epochen_genres_strata = 'Revolutionsjahre x Zeitung'\"\"\"\n",
    "\n",
    "total_count = cur.execute(\"SELECT COUNT(epochen_genres_strata) FROM my_data WHERE epochen_genres_strata='Revolutionsjahre x Zeitung'\").fetchone()[0]\n",
    "\n",
    "df = pd.read_sql_query(query, con)\n",
    "\n",
    "haupttitel_count = df.groupby(\"haupttitel\").size().reset_index(name=\"count\")\n",
    "\n",
    "\n",
    "haupttitel_count[\"weight\"] = haupttitel_count[\"count\"] / total_count\n",
    "\n",
    "haupttitel_count[\"sample_size\"] = round(haupttitel_count[\"weight\"] * 15, 0)\n",
    "\n",
    "haupttitel_count[\"weight\"] = round(haupttitel_count['weight'], 5)\n",
    "\n",
    "fig = go.Figure(data=[go.Table(\n",
    "    header=dict(\n",
    "        values=list(haupttitel_count.columns),\n",
    "        fill_color=\"paleturquoise\",\n",
    "        align=\"center\"\n",
    "    ),\n",
    "    cells=dict(\n",
    "        values=[haupttitel_count[col] for col in haupttitel_count.columns],\n",
    "        fill_color=\"lavender\",\n",
    "        align=\"left\"\n",
    "    )\n",
    ")])\n",
    "\n",
    "con.close()\n",
    "fig.update_layout(title=\"Revolutionsjahre x Zeitung Aufschichtung\")\n",
    "fig.show()"
   ]
  },
  {
   "cell_type": "markdown",
   "metadata": {},
   "source": [
    "Wie hier sichtbar wird, gibt es von den Zeitungen \n",
    "- Montag, 1. Mai\n",
    "- Dienstag, 2. Mai\n",
    "- Mittwoch, 3. Mai\n",
    "- Donnerstag, 4. Mai\n",
    "- Freitag, 5. Mai\n",
    "- Allgemeine Auswandererzeitung Rudolstadt\n",
    "\n",
    "nur jeweils ein Exemplar.\n",
    "\n",
    "Es wird vermutet, dass die Zeitungen mit den Wochentagen, strukturell und linguistisch ähnlich sind. Zunächst wird überprüft, ob die Publikationsjahre übereinstimmen und der Herausgeber die gleiche Person ist."
   ]
  },
  {
   "cell_type": "code",
   "execution_count": 9,
   "metadata": {},
   "outputs": [
    {
     "name": "stdout",
     "output_type": "stream",
     "text": [
      "Die Zeitschrift 'Montag, 1. Mai' wurde 1848 von Geyken, Alexander publiziert.\n",
      "Die Zeitschrift 'Dienstag, 2. Mai' wurde 1848 von Geyken, Alexander publiziert.\n",
      "Die Zeitschrift 'Mittwoch, 3. Mai' wurde 1848 von Geyken, Alexander publiziert.\n",
      "Die Zeitschrift 'Donnerstag, 4. Mai' wurde 1848 von Geyken, Alexander publiziert.\n",
      "Die Zeitschrift 'Freitag, 5. Mai' wurde 1848 von Geyken, Alexander publiziert.\n"
     ]
    }
   ],
   "source": [
    "import sqlite3\n",
    "\n",
    "con = sqlite3.connect(\"Datenbank.db\")\n",
    "cur = con.cursor()\n",
    "\n",
    "outputs = cur.execute(\"\"\"SELECT haupttitel, publikationsjahr, autor FROM my_data WHERE haupttitel IN (\n",
    "                    'Montag, 1. Mai',\n",
    "                    'Dienstag, 2. Mai',\n",
    "                    'Mittwoch, 3. Mai',\n",
    "                    'Donnerstag, 4. Mai',\n",
    "                    'Freitag, 5. Mai'\n",
    "                  )\"\"\").fetchall()\n",
    "\n",
    "for output in outputs:\n",
    "    title = output[0]\n",
    "    year = output[1]\n",
    "    author = output[2]\n",
    "    print(f\"Die Zeitschrift '{title}' wurde {year} von {author} publiziert.\")\n",
    "\n",
    "con.close()"
   ]
  },
  {
   "cell_type": "markdown",
   "metadata": {},
   "source": [
    "Dies bestätigt die Annahme, dass alle Zeitungen im gleichen Jahr und vom gleichen Herausgeber sind. Der Vergleich der Zeitungen im Deutschen Textarchiv bestätigt zudem, dass sie zu der Zeitung \"Staats und Gelehrte Zetung des Hamburgischen unpartheiischen Correspondenten\" zugehörig sind:\n",
    "\n",
    "https://www.deutschestextarchiv.de/book/view/hc_1040105_1848?p=1\n",
    "\n",
    "https://www.deutschestextarchiv.de/book/view/hc_1050205_1848?p=1\n",
    "\n",
    "https://www.deutschestextarchiv.de/book/view/hc_1060305_1848?p=1\n",
    "\n",
    "https://www.deutschestextarchiv.de/book/view/hc_1070405_1848?p=1\n",
    "\n",
    "https://www.deutschestextarchiv.de/book/view/hc_1080505_1848?p=1\n",
    "\n",
    "Für den Preprocessing-Schritt reicht es deshalb, die Sample-Menge dieser Zeitung auf eins zu beschränken.\n",
    "\n",
    "Nun wird geprüft, ob zwischen der Allgemeinen Auswandererzeitung Rudolstadt (ein Exemplar) und der Allgemeinen Auswanderungs-Zeitung (38 Exemplare) ein Zusammenhang besteht. Dabei wird Autorenschaft und Untertitel miteinander abgeglichen."
   ]
  },
  {
   "cell_type": "code",
   "execution_count": 10,
   "metadata": {},
   "outputs": [
    {
     "data": {
      "application/vnd.plotly.v1+json": {
       "config": {
        "plotlyServerURL": "https://plot.ly"
       },
       "data": [
        {
         "cells": {
          "values": [
           [
            "Allgemeine Auswanderungs-Zeitung",
            "Allgemeine Auswandererzeitung Rudolstadt"
           ],
           [
            "Organ für Kunde aus deutschen Ansiedlungen, für Rath und That zu Gunsten der fortziehenden Brüder, sowie für Oeffentlichkeit in Auswanderungssachen überhaupt.",
            "Organ für Kunde aus deutschen Ansiedlungen, für Rath und That zu Gunsten der fortziehenden Brüder, sowie für Oeffentlichkeit in Auswanderungssachen überhaupt."
           ],
           [
            "Geyken, Alexander",
            "Geyken, Alexander"
           ]
          ]
         },
         "header": {
          "values": [
           "Haupttitel",
           "Untertitel",
           "Autor"
          ]
         },
         "type": "table"
        }
       ],
       "layout": {
        "template": {
         "data": {
          "bar": [
           {
            "error_x": {
             "color": "#2a3f5f"
            },
            "error_y": {
             "color": "#2a3f5f"
            },
            "marker": {
             "line": {
              "color": "#E5ECF6",
              "width": 0.5
             },
             "pattern": {
              "fillmode": "overlay",
              "size": 10,
              "solidity": 0.2
             }
            },
            "type": "bar"
           }
          ],
          "barpolar": [
           {
            "marker": {
             "line": {
              "color": "#E5ECF6",
              "width": 0.5
             },
             "pattern": {
              "fillmode": "overlay",
              "size": 10,
              "solidity": 0.2
             }
            },
            "type": "barpolar"
           }
          ],
          "carpet": [
           {
            "aaxis": {
             "endlinecolor": "#2a3f5f",
             "gridcolor": "white",
             "linecolor": "white",
             "minorgridcolor": "white",
             "startlinecolor": "#2a3f5f"
            },
            "baxis": {
             "endlinecolor": "#2a3f5f",
             "gridcolor": "white",
             "linecolor": "white",
             "minorgridcolor": "white",
             "startlinecolor": "#2a3f5f"
            },
            "type": "carpet"
           }
          ],
          "choropleth": [
           {
            "colorbar": {
             "outlinewidth": 0,
             "ticks": ""
            },
            "type": "choropleth"
           }
          ],
          "contour": [
           {
            "colorbar": {
             "outlinewidth": 0,
             "ticks": ""
            },
            "colorscale": [
             [
              0,
              "#0d0887"
             ],
             [
              0.1111111111111111,
              "#46039f"
             ],
             [
              0.2222222222222222,
              "#7201a8"
             ],
             [
              0.3333333333333333,
              "#9c179e"
             ],
             [
              0.4444444444444444,
              "#bd3786"
             ],
             [
              0.5555555555555556,
              "#d8576b"
             ],
             [
              0.6666666666666666,
              "#ed7953"
             ],
             [
              0.7777777777777778,
              "#fb9f3a"
             ],
             [
              0.8888888888888888,
              "#fdca26"
             ],
             [
              1,
              "#f0f921"
             ]
            ],
            "type": "contour"
           }
          ],
          "contourcarpet": [
           {
            "colorbar": {
             "outlinewidth": 0,
             "ticks": ""
            },
            "type": "contourcarpet"
           }
          ],
          "heatmap": [
           {
            "colorbar": {
             "outlinewidth": 0,
             "ticks": ""
            },
            "colorscale": [
             [
              0,
              "#0d0887"
             ],
             [
              0.1111111111111111,
              "#46039f"
             ],
             [
              0.2222222222222222,
              "#7201a8"
             ],
             [
              0.3333333333333333,
              "#9c179e"
             ],
             [
              0.4444444444444444,
              "#bd3786"
             ],
             [
              0.5555555555555556,
              "#d8576b"
             ],
             [
              0.6666666666666666,
              "#ed7953"
             ],
             [
              0.7777777777777778,
              "#fb9f3a"
             ],
             [
              0.8888888888888888,
              "#fdca26"
             ],
             [
              1,
              "#f0f921"
             ]
            ],
            "type": "heatmap"
           }
          ],
          "heatmapgl": [
           {
            "colorbar": {
             "outlinewidth": 0,
             "ticks": ""
            },
            "colorscale": [
             [
              0,
              "#0d0887"
             ],
             [
              0.1111111111111111,
              "#46039f"
             ],
             [
              0.2222222222222222,
              "#7201a8"
             ],
             [
              0.3333333333333333,
              "#9c179e"
             ],
             [
              0.4444444444444444,
              "#bd3786"
             ],
             [
              0.5555555555555556,
              "#d8576b"
             ],
             [
              0.6666666666666666,
              "#ed7953"
             ],
             [
              0.7777777777777778,
              "#fb9f3a"
             ],
             [
              0.8888888888888888,
              "#fdca26"
             ],
             [
              1,
              "#f0f921"
             ]
            ],
            "type": "heatmapgl"
           }
          ],
          "histogram": [
           {
            "marker": {
             "pattern": {
              "fillmode": "overlay",
              "size": 10,
              "solidity": 0.2
             }
            },
            "type": "histogram"
           }
          ],
          "histogram2d": [
           {
            "colorbar": {
             "outlinewidth": 0,
             "ticks": ""
            },
            "colorscale": [
             [
              0,
              "#0d0887"
             ],
             [
              0.1111111111111111,
              "#46039f"
             ],
             [
              0.2222222222222222,
              "#7201a8"
             ],
             [
              0.3333333333333333,
              "#9c179e"
             ],
             [
              0.4444444444444444,
              "#bd3786"
             ],
             [
              0.5555555555555556,
              "#d8576b"
             ],
             [
              0.6666666666666666,
              "#ed7953"
             ],
             [
              0.7777777777777778,
              "#fb9f3a"
             ],
             [
              0.8888888888888888,
              "#fdca26"
             ],
             [
              1,
              "#f0f921"
             ]
            ],
            "type": "histogram2d"
           }
          ],
          "histogram2dcontour": [
           {
            "colorbar": {
             "outlinewidth": 0,
             "ticks": ""
            },
            "colorscale": [
             [
              0,
              "#0d0887"
             ],
             [
              0.1111111111111111,
              "#46039f"
             ],
             [
              0.2222222222222222,
              "#7201a8"
             ],
             [
              0.3333333333333333,
              "#9c179e"
             ],
             [
              0.4444444444444444,
              "#bd3786"
             ],
             [
              0.5555555555555556,
              "#d8576b"
             ],
             [
              0.6666666666666666,
              "#ed7953"
             ],
             [
              0.7777777777777778,
              "#fb9f3a"
             ],
             [
              0.8888888888888888,
              "#fdca26"
             ],
             [
              1,
              "#f0f921"
             ]
            ],
            "type": "histogram2dcontour"
           }
          ],
          "mesh3d": [
           {
            "colorbar": {
             "outlinewidth": 0,
             "ticks": ""
            },
            "type": "mesh3d"
           }
          ],
          "parcoords": [
           {
            "line": {
             "colorbar": {
              "outlinewidth": 0,
              "ticks": ""
             }
            },
            "type": "parcoords"
           }
          ],
          "pie": [
           {
            "automargin": true,
            "type": "pie"
           }
          ],
          "scatter": [
           {
            "fillpattern": {
             "fillmode": "overlay",
             "size": 10,
             "solidity": 0.2
            },
            "type": "scatter"
           }
          ],
          "scatter3d": [
           {
            "line": {
             "colorbar": {
              "outlinewidth": 0,
              "ticks": ""
             }
            },
            "marker": {
             "colorbar": {
              "outlinewidth": 0,
              "ticks": ""
             }
            },
            "type": "scatter3d"
           }
          ],
          "scattercarpet": [
           {
            "marker": {
             "colorbar": {
              "outlinewidth": 0,
              "ticks": ""
             }
            },
            "type": "scattercarpet"
           }
          ],
          "scattergeo": [
           {
            "marker": {
             "colorbar": {
              "outlinewidth": 0,
              "ticks": ""
             }
            },
            "type": "scattergeo"
           }
          ],
          "scattergl": [
           {
            "marker": {
             "colorbar": {
              "outlinewidth": 0,
              "ticks": ""
             }
            },
            "type": "scattergl"
           }
          ],
          "scattermapbox": [
           {
            "marker": {
             "colorbar": {
              "outlinewidth": 0,
              "ticks": ""
             }
            },
            "type": "scattermapbox"
           }
          ],
          "scatterpolar": [
           {
            "marker": {
             "colorbar": {
              "outlinewidth": 0,
              "ticks": ""
             }
            },
            "type": "scatterpolar"
           }
          ],
          "scatterpolargl": [
           {
            "marker": {
             "colorbar": {
              "outlinewidth": 0,
              "ticks": ""
             }
            },
            "type": "scatterpolargl"
           }
          ],
          "scatterternary": [
           {
            "marker": {
             "colorbar": {
              "outlinewidth": 0,
              "ticks": ""
             }
            },
            "type": "scatterternary"
           }
          ],
          "surface": [
           {
            "colorbar": {
             "outlinewidth": 0,
             "ticks": ""
            },
            "colorscale": [
             [
              0,
              "#0d0887"
             ],
             [
              0.1111111111111111,
              "#46039f"
             ],
             [
              0.2222222222222222,
              "#7201a8"
             ],
             [
              0.3333333333333333,
              "#9c179e"
             ],
             [
              0.4444444444444444,
              "#bd3786"
             ],
             [
              0.5555555555555556,
              "#d8576b"
             ],
             [
              0.6666666666666666,
              "#ed7953"
             ],
             [
              0.7777777777777778,
              "#fb9f3a"
             ],
             [
              0.8888888888888888,
              "#fdca26"
             ],
             [
              1,
              "#f0f921"
             ]
            ],
            "type": "surface"
           }
          ],
          "table": [
           {
            "cells": {
             "fill": {
              "color": "#EBF0F8"
             },
             "line": {
              "color": "white"
             }
            },
            "header": {
             "fill": {
              "color": "#C8D4E3"
             },
             "line": {
              "color": "white"
             }
            },
            "type": "table"
           }
          ]
         },
         "layout": {
          "annotationdefaults": {
           "arrowcolor": "#2a3f5f",
           "arrowhead": 0,
           "arrowwidth": 1
          },
          "autotypenumbers": "strict",
          "coloraxis": {
           "colorbar": {
            "outlinewidth": 0,
            "ticks": ""
           }
          },
          "colorscale": {
           "diverging": [
            [
             0,
             "#8e0152"
            ],
            [
             0.1,
             "#c51b7d"
            ],
            [
             0.2,
             "#de77ae"
            ],
            [
             0.3,
             "#f1b6da"
            ],
            [
             0.4,
             "#fde0ef"
            ],
            [
             0.5,
             "#f7f7f7"
            ],
            [
             0.6,
             "#e6f5d0"
            ],
            [
             0.7,
             "#b8e186"
            ],
            [
             0.8,
             "#7fbc41"
            ],
            [
             0.9,
             "#4d9221"
            ],
            [
             1,
             "#276419"
            ]
           ],
           "sequential": [
            [
             0,
             "#0d0887"
            ],
            [
             0.1111111111111111,
             "#46039f"
            ],
            [
             0.2222222222222222,
             "#7201a8"
            ],
            [
             0.3333333333333333,
             "#9c179e"
            ],
            [
             0.4444444444444444,
             "#bd3786"
            ],
            [
             0.5555555555555556,
             "#d8576b"
            ],
            [
             0.6666666666666666,
             "#ed7953"
            ],
            [
             0.7777777777777778,
             "#fb9f3a"
            ],
            [
             0.8888888888888888,
             "#fdca26"
            ],
            [
             1,
             "#f0f921"
            ]
           ],
           "sequentialminus": [
            [
             0,
             "#0d0887"
            ],
            [
             0.1111111111111111,
             "#46039f"
            ],
            [
             0.2222222222222222,
             "#7201a8"
            ],
            [
             0.3333333333333333,
             "#9c179e"
            ],
            [
             0.4444444444444444,
             "#bd3786"
            ],
            [
             0.5555555555555556,
             "#d8576b"
            ],
            [
             0.6666666666666666,
             "#ed7953"
            ],
            [
             0.7777777777777778,
             "#fb9f3a"
            ],
            [
             0.8888888888888888,
             "#fdca26"
            ],
            [
             1,
             "#f0f921"
            ]
           ]
          },
          "colorway": [
           "#636efa",
           "#EF553B",
           "#00cc96",
           "#ab63fa",
           "#FFA15A",
           "#19d3f3",
           "#FF6692",
           "#B6E880",
           "#FF97FF",
           "#FECB52"
          ],
          "font": {
           "color": "#2a3f5f"
          },
          "geo": {
           "bgcolor": "white",
           "lakecolor": "white",
           "landcolor": "#E5ECF6",
           "showlakes": true,
           "showland": true,
           "subunitcolor": "white"
          },
          "hoverlabel": {
           "align": "left"
          },
          "hovermode": "closest",
          "mapbox": {
           "style": "light"
          },
          "paper_bgcolor": "white",
          "plot_bgcolor": "#E5ECF6",
          "polar": {
           "angularaxis": {
            "gridcolor": "white",
            "linecolor": "white",
            "ticks": ""
           },
           "bgcolor": "#E5ECF6",
           "radialaxis": {
            "gridcolor": "white",
            "linecolor": "white",
            "ticks": ""
           }
          },
          "scene": {
           "xaxis": {
            "backgroundcolor": "#E5ECF6",
            "gridcolor": "white",
            "gridwidth": 2,
            "linecolor": "white",
            "showbackground": true,
            "ticks": "",
            "zerolinecolor": "white"
           },
           "yaxis": {
            "backgroundcolor": "#E5ECF6",
            "gridcolor": "white",
            "gridwidth": 2,
            "linecolor": "white",
            "showbackground": true,
            "ticks": "",
            "zerolinecolor": "white"
           },
           "zaxis": {
            "backgroundcolor": "#E5ECF6",
            "gridcolor": "white",
            "gridwidth": 2,
            "linecolor": "white",
            "showbackground": true,
            "ticks": "",
            "zerolinecolor": "white"
           }
          },
          "shapedefaults": {
           "line": {
            "color": "#2a3f5f"
           }
          },
          "ternary": {
           "aaxis": {
            "gridcolor": "white",
            "linecolor": "white",
            "ticks": ""
           },
           "baxis": {
            "gridcolor": "white",
            "linecolor": "white",
            "ticks": ""
           },
           "bgcolor": "#E5ECF6",
           "caxis": {
            "gridcolor": "white",
            "linecolor": "white",
            "ticks": ""
           }
          },
          "title": {
           "x": 0.05
          },
          "xaxis": {
           "automargin": true,
           "gridcolor": "white",
           "linecolor": "white",
           "ticks": "",
           "title": {
            "standoff": 15
           },
           "zerolinecolor": "white",
           "zerolinewidth": 2
          },
          "yaxis": {
           "automargin": true,
           "gridcolor": "white",
           "linecolor": "white",
           "ticks": "",
           "title": {
            "standoff": 15
           },
           "zerolinecolor": "white",
           "zerolinewidth": 2
          }
         }
        }
       }
      }
     },
     "metadata": {},
     "output_type": "display_data"
    }
   ],
   "source": [
    "import sqlite3\n",
    "import plotly.graph_objects as go\n",
    "\n",
    "con = sqlite3.connect(\"Datenbank.db\")\n",
    "cur = con.cursor()\n",
    "\n",
    "outputs = cur.execute(\"\"\"SELECT DISTINCT haupttitel, untertitel, autor FROM my_data WHERE haupttitel IN ('Allgemeine Auswanderungs-Zeitung', 'Allgemeine Auswandererzeitung Rudolstadt')\"\"\").fetchall()\n",
    "\n",
    "titles= [output[0] for output in outputs]\n",
    "subtitles=[output[1] for output in outputs]\n",
    "authors=[output[2] for output in outputs]\n",
    "\n",
    "fig = go.Figure(data=[go.Table(header=dict(values=[\"Haupttitel\", \"Untertitel\", \"Autor\"]), cells=dict(values=[titles, subtitles, authors]))])\n",
    "\n",
    "fig.show()\n",
    "\n",
    "con.close()\n"
   ]
  },
  {
   "cell_type": "markdown",
   "metadata": {},
   "source": [
    "Hiermit ist klar ersichtlich, dass die Allgemeine Auswandererzeitung Rudolstadt die gleiche Zeitung darstellt wie die Allgemeine Auswanderungs-Zeitung. Daher kann diese weggellassen werden, ohne an Repräsentation zu verlieren."
   ]
  },
  {
   "cell_type": "markdown",
   "metadata": {},
   "source": [
    "Nun ergibt sich die Ajustierte Samplemenge wiefolgt: Von der Neuen Rheinischen Zeitung wird ein Sample weniger genommen, und von den fünf Wochentag-Zeitungen wird zufällig ein Sample herausgenommen. \n",
    "\n",
    "Die Samples werden neu gesammelt, mit der aktualisierten Strategie:"
   ]
  },
  {
   "cell_type": "markdown",
   "metadata": {},
   "source": [
    "Zunächst werden alle Zufallsstichproben vom Typ \"Revolutionsjahre x Zeitung\" gelöscht"
   ]
  },
  {
   "cell_type": "code",
   "execution_count": 11,
   "metadata": {},
   "outputs": [],
   "source": [
    "import sqlite3\n",
    "\n",
    "con = sqlite3.connect(\"Datenbank.db\")\n",
    "cur = con.cursor()\n",
    "\n",
    "cur.execute(\"\"\"DELETE FROM samples WHERE epochen_genres_strata='Revolutionsjahre x Zeitung'\"\"\")\n",
    "\n",
    "con.commit()\n",
    "con.close()"
   ]
  },
  {
   "cell_type": "markdown",
   "metadata": {},
   "source": [
    "Danach wird ein Dictionary erstellt, das die Samplemenge an den jeweiligen Haupttitel anbindet."
   ]
  },
  {
   "cell_type": "code",
   "execution_count": 12,
   "metadata": {},
   "outputs": [],
   "source": [
    "import random\n",
    "sample_list = {}\n",
    "\n",
    "random_choice_of_mai = random.choice(['Montag, 1. Mai', 'Dienstag, 2. Mai', 'Mittwoch, 3. Mai', 'Donnerstag, 4. Mai','Freitag, 5. Mai'])\n",
    "\n",
    "# Ajustieren der Samplemenge\n",
    "haupttitel_count[\"adjusted_sample\"] = [sample for sample in haupttitel_count[\"sample_size\"]]\n",
    "haupttitel_count.loc[haupttitel_count[\"haupttitel\"] == random_choice_of_mai, \"adjusted_sample\"] += 1\n",
    "haupttitel_count.loc[haupttitel_count[\"haupttitel\"] == \"Neue Rheinische Zeitung\", \"adjusted_sample\"] -= 1\n",
    "\n",
    "# Dictionary erstellen\n",
    "samples = list(map(int, haupttitel_count.adjusted_sample))\n",
    "titles = list(haupttitel_count.haupttitel)\n",
    "sample_dict = dict(zip(titles, samples))\n",
    "\n",
    "\n",
    "\n"
   ]
  },
  {
   "cell_type": "markdown",
   "metadata": {},
   "source": [
    "Stichproben sammeln"
   ]
  },
  {
   "cell_type": "code",
   "execution_count": 13,
   "metadata": {},
   "outputs": [],
   "source": [
    "import sqlite3\n",
    "\n",
    "con = sqlite3.connect(\"Datenbank.db\")\n",
    "cur = con.cursor()\n",
    "\n",
    "for title, sample_size in sample_dict.items():\n",
    "    sample_size = int(sample_size)\n",
    "    query = f\"\"\"\n",
    "        INSERT INTO samples (text_index, haupttitel, untertitel, volumetitel, autor, hauptklasse, subklasse, sprache, text, publikationsjahr, zeitstratum, genrestratum, epochen_genres_strata)\n",
    "                SELECT text_index, haupttitel, untertitel, volumetitel, autor, hauptklasse, subklasse, sprache, text, publikationsjahr, zeitstratum, genrestratum, epochen_genres_strata\n",
    "                FROM my_data\n",
    "                WHERE haupttitel = ?\n",
    "                ORDER BY RANDOM()\n",
    "                LIMIT {sample_size}\n",
    "\n",
    "\"\"\"\n",
    "    cur.execute(query, (title,))\n",
    "\n",
    "con.commit()\n",
    "con.close()"
   ]
  },
  {
   "cell_type": "markdown",
   "metadata": {},
   "source": [
    "Nun kann überprüft werden, ob die aktualisierte Liste repräsentativer ist und weniger Wiederholungen enthält."
   ]
  },
  {
   "cell_type": "code",
   "execution_count": 14,
   "metadata": {},
   "outputs": [
    {
     "data": {
      "application/vnd.plotly.v1+json": {
       "config": {
        "plotlyServerURL": "https://plot.ly"
       },
       "data": [
        {
         "cells": {
          "align": "left",
          "fill": {
           "color": "lavender"
          },
          "values": [
           [
            "Aufklärung x Belletristik",
            "Aufklärung x Belletristik",
            "Aufklärung x Belletristik",
            "Aufklärung x Belletristik",
            "Aufklärung x Belletristik",
            "Aufklärung x Gebrauchsliteratur",
            "Aufklärung x Gebrauchsliteratur",
            "Aufklärung x Gebrauchsliteratur",
            "Aufklärung x Gebrauchsliteratur",
            "Aufklärung x Wissenschaft",
            "Aufklärung x Wissenschaft",
            "Aufklärung x Wissenschaft",
            "Aufklärung x Wissenschaft",
            "Aufklärung x Wissenschaft",
            "Aufklärung x Wissenschaft",
            "Aufklärung x Wissenschaft",
            "Aufklärung x Zeitung",
            "Aufklärung x Zeitung",
            "Aufklärung x Zeitung",
            "Aufklärung x Zeitung",
            "Barock x Belletristik",
            "Barock x Belletristik",
            "Barock x Gebrauchsliteratur",
            "Barock x Gebrauchsliteratur",
            "Barock x Gebrauchsliteratur",
            "Barock x Gebrauchsliteratur",
            "Barock x Gebrauchsliteratur",
            "Barock x Gebrauchsliteratur",
            "Barock x Gebrauchsliteratur",
            "Barock x Gebrauchsliteratur",
            "Barock x Gebrauchsliteratur",
            "Barock x Gebrauchsliteratur",
            "Barock x Gebrauchsliteratur",
            "Barock x Gebrauchsliteratur",
            "Barock x Wissenschaft",
            "Barock x Wissenschaft",
            "Barock x Zeitung",
            "Frühes 19. Jahrhundert x Belletristik",
            "Frühes 19. Jahrhundert x Belletristik",
            "Frühes 19. Jahrhundert x Belletristik",
            "Frühes 19. Jahrhundert x Belletristik",
            "Frühes 19. Jahrhundert x Gebrauchsliteratur",
            "Frühes 19. Jahrhundert x Wissenschaft",
            "Frühes 19. Jahrhundert x Wissenschaft",
            "Frühes 19. Jahrhundert x Wissenschaft",
            "Frühes 19. Jahrhundert x Zeitung",
            "Industrielle Revolution x Belletristik",
            "Industrielle Revolution x Belletristik",
            "Industrielle Revolution x Belletristik",
            "Industrielle Revolution x Gebrauchsliteratur",
            "Industrielle Revolution x Gebrauchsliteratur",
            "Industrielle Revolution x Wissenschaft",
            "Industrielle Revolution x Wissenschaft",
            "Industrielle Revolution x Wissenschaft",
            "Industrielle Revolution x Wissenschaft",
            "Industrielle Revolution x Wissenschaft",
            "Industrielle Revolution x Wissenschaft",
            "Industrielle Revolution x Zeitung",
            "Industrielle Revolution x Zeitung",
            "Industrielle Revolution x Zeitung",
            "Moderne x Belletristik",
            "Moderne x Belletristik",
            "Moderne x Belletristik",
            "Moderne x Gebrauchsliteratur",
            "Moderne x Gebrauchsliteratur",
            "Moderne x Gebrauchsliteratur",
            "Moderne x Gebrauchsliteratur",
            "Moderne x Gebrauchsliteratur",
            "Moderne x Gebrauchsliteratur",
            "Moderne x Gebrauchsliteratur",
            "Moderne x Wissenschaft",
            "Moderne x Wissenschaft",
            "Moderne x Zeitung",
            "Moderne x Zeitung",
            "Moderne x Zeitung",
            "Renaissance x Belletristik",
            "Renaissance x Gebrauchsliteratur",
            "Renaissance x Gebrauchsliteratur",
            "Renaissance x Wissenschaft",
            "Renaissance x Zeitung",
            "Revolutionsjahre x Belletristik",
            "Revolutionsjahre x Gebrauchsliteratur",
            "Revolutionsjahre x Wissenschaft",
            "Revolutionsjahre x Zeitung",
            "Revolutionsjahre x Zeitung",
            "Revolutionsjahre x Zeitung",
            "Revolutionsjahre x Zeitung",
            "Revolutionsjahre x Zeitung",
            "Revolutionsjahre x Zeitung",
            "Revolutionsjahre x Zeitung",
            "Revolutionsjahre x Zeitung",
            "Revolutionsjahre x Zeitung",
            "Revolutionsjahre x Zeitung",
            "Revolutionsjahre x Zeitung",
            "Revolutionsjahre x Zeitung",
            "Revolutionsjahre x Zeitung",
            "Revolutionsjahre x Zeitung",
            "Revolutionsjahre x Zeitung",
            "Spätmittelalter x Belletristik",
            "Spätmittelalter x Gebrauchsliteratur"
           ],
           [
            "Scheyb, Franz Christoph von",
            "Moritz, Karl Philipp",
            "Abschatz, Hans Assmann von",
            "Goethe, Johann Wolfgang von",
            "Meißner, August Gottlieb",
            "Lémery, Nicolas",
            "Braunschweig-Wolfenbüttel, Anton Ulrich von",
            "Finen, Eberhard",
            "Schenck, Gottfried Anton",
            "Scheuchzer, Johann Jacob",
            "Pertsch, Johann Georg",
            "Lambert, Johann Heinrich",
            "Justi, Johann Heinrich Gottlob von",
            "Humboldt, Alexander von",
            "Geyken, Friedrich",
            "Blumenbach, Johann Friedrich",
            "Geyken, Alexander",
            "Geyken, Alexander",
            "Geyken, Alexander",
            "Geyken, Alexander",
            "Weckherlin, Georg Rodolf",
            "Grimmelshausen, Hans Jakob Christoffel von",
            "Dach, Simon",
            "Dach, Simon",
            "Dach, Simon",
            "Briaeus, Franciscus",
            "Wild, Johann Daniel",
            "Tilesius, Gottfried ",
            "Hoepner, Johann",
            "Eckard, Melchior",
            "Silber, Wolfgang",
            "Walther, Martin",
            "Hübner, Johann",
            "Neomenius, Johann",
            "Sturm, Johann Christoph",
            "Zeiller, Martin",
            "Geyken, Alexander",
            "Körner, Theodor",
            "Jean Paul, Alexander",
            "Rückert, Friedrich",
            "Nettelbeck, Joachim",
            "Fouqué, Caroline de La Motte-",
            "Novalis, Alexander",
            "Parthey, Gustav",
            "Valentin, Gabriel Gustav",
            "Geyken, Alexander",
            "Keller, Gottfried",
            "Vischer, Friedrich Theodor von",
            "Meißner, Alfred",
            "Kleinschmidt, Theodor August Friedrich Wilhelm",
            "Mercier, Helene",
            "Vischer, Friedrich Theodor von",
            "Robert, Carl",
            "Heyse, Paul",
            "Brehm, Alfred Edmund",
            "Fischer, Hermann",
            "Humboldt, Alexander von",
            "Geyken, Alexander",
            "Geyken, Alexander",
            "Geyken, Alexander",
            "Wildermuth, Ottilie",
            "Wolff, Margarethe von",
            "Trakl, Georg",
            "Sanders, Daniel",
            "Sanders, Daniel",
            "Martin, Marie",
            "Sanders, Daniel",
            "Sanders, Daniel",
            "Sanders, Daniel",
            "Heyde, Ludwig",
            "Beck, Ludwig",
            "Humboldt, Alexander von",
            "Geyken, Alexander",
            "Geyken, Alexander",
            "Geyken, Alexander",
            "Has, Kunz",
            "Geyken, Alexander",
            "Geyken, Alexander",
            "N. N., Alexander",
            "Dilbaum, Samuel",
            "Nestroy, Johann",
            "Geyken, Alexander",
            "Ranke, Leopold von",
            "Geyken, Alexander",
            "Geyken, Alexander",
            "Geyken, Alexander",
            "Geyken, Alexander",
            "Geyken, Alexander",
            "Geyken, Alexander",
            "Geyken, Alexander",
            "Geyken, Alexander",
            "Geyken, Alexander",
            "Geyken, Alexander",
            "Geyken, Alexander",
            "Geyken, Alexander",
            "Geyken, Alexander",
            "Geyken, Alexander",
            "Geyken, Alexander",
            "Has, Kunz",
            "Geyken, Alexander"
           ],
           [
            "Theresiade",
            "Anton Reiser",
            "Poetische Ubersetzungen und Gedichte",
            "Die Leiden des jungen Werthers",
            "Kriminal Geschichten",
            "Vollständiges Materialien-Lexicon",
            "Als Von Dem Durchlauchtigsten Fürsten und Herrn/ Herrn Anton Ulrich/ Hertzogen zu Braunschweig und Lüneburg etc. ... Der ... Herr M. Joh. Bernhard Luhn/ Der ... Facultät allhier Wohl-verdienter Adjunctus, Zum Prediger am Hof im Wolffenbüttel den XVIII Decemb. MDCCV ... berufen/ und den XX. darauff gewöhnlich ordiniret und introduciret wurde/ Wolten Jhre schuldige Gratulation ... ablegen ... . Gerdesius",
            "Eine selige Veränderung Worauf die Christen harren und die darinn zu suchende Beste Veränderung",
            "Geschicht–Beschreibung der Stadt Wißbaden",
            "Beschreibung Der Natur-Geschichten Des Schweitzerlands",
            "Das Recht Der Beicht-Stühle",
            "Neues Organon",
            "Geschichte des Erd-Cörpers aus seinen äusserlichen und unterirdischen Beschaffenheiten hergeleitet und erwiesen",
            "Auszüge aus Briefen",
            "Ueber die deutsche Litteratur, die Mängel die man ihr vorwerfen kann, die Ursachen derselben und die Mittel sie zu verbessern",
            "Handbuch der Naturgeschichte",
            "Num. 100, 24. Junii 1789",
            "Num. 115, 19. Julii 1771",
            "Num. 71, 4. May 1790",
            "XXXII. Stück/ am Freytage/ den 15. August",
            "Oden vnd Gesäng",
            "Deß Weltberuffenen SIMPLICISSIMI Pralerey und Gepräng mit seinem Teutschen Michel",
            "Klag- und Trost-Reimchen Bey seligem wiewol hochbetrübtem Abschied aus dieser Welt Des weiland HochEdelgebohrnen Herrn Joachim Wilhelm von Brumsee/ auf Robitten Sudlack und etc. ErbHerrn",
            "Klag und Trost-Schrifftchen Bey sehr betrawrlichem aber seligem Hintrit aus dieser Welt Des Weiland Ehrnvesten und Vornehmgeachten Hieronymi Hieronymi Mitbürgers und Handelsmans dieser Löblichen Stadt Kneiphoff Königsbergk",
            "Christliches Gedächtnis Dem Weyland Ehrenvesten Nahmhafften Wolweisen Hn. Bartholomaeus Teichman/ der Stadt Heiligen-Beil wolverdienten Bürgermeister",
            "Leichpredigt/ Bey der Begrebnuß/ Weiland der Ehr- vnd Tugendsamen Frawen/ Agnetis Schmöllin",
            "Rosa generosa",
            "II. Christliche Predigten. I. Bey dem Leichbegängniß/ Des weyland Ehrenvesten vnnd Wolgeachten Herren Friderich Reimans",
            "Leichpredigt Vber das Sprüchlein Esaiae am 26. Cap. Von einer Gebererin. Bey Christlicher Leichbestattung der Erbarn vnd tugendsamen Frawen Elisabeth",
            "Eine Christliche Leichpredigt/ Bey dem Begrebnis der Ehrntugendreichen frawen Justinae/ des Edlen/ Ehrnuhesten/ Wolbenambten Herrn Johann Lieben",
            "Threnodia Parturientis",
            "Leichpredigt/ Vber dem Begräbnüß/ deß Ehrwirdigen vnd Wolgelahrten Herrn IOANNIS HENTZNERI",
            "Poetisches Handbuch",
            "Exilii humani Miseria & Consolatio",
            "Des Unvergleichlichen Archjmedjs Kunst-Bücher ",
            "Centuria Variarum Quæstionum",
            "Relation: Aller Fürnemmen vnd gedenckwürdigen Historien/ so sich hin vnnd wider in Hoch vnnd Nieder Teutschland/ auch in Franckreich/ Jtalien/ Schott vnd Engelland/ Hisspanien/ Hungern/ Polen/ Siebenbürgen/ Wallachey/ Moldaw/ Türckey/ etc. Jnn diesem 1609. Jahr verlauffen vnd zugetragen möchte",
            "Leyer und Schwerdt",
            "Titan",
            "Die Weisheit des Brahmanen",
            "Joachim Nettelbeck, Bürger zu Colberg",
            "Ueber deutsche Geselligkeit ",
            "Die Christenheit oder Europa",
            "Vorlesungen über physikalische Geographie",
            "Handbuch der Entwicklungsgeschichte des Menschen",
            "Am Mittewochen, den 22. Oktober",
            "Der grüne Heinrich",
            "Auch Einer",
            "Die Prinzessin von Portugal",
            "Zur Erinnerung an den am 28. Juni 1865 verstorbenen vorhinnigen ersten Lehrer und Conrector an der Mädchenschule zu Marburg, Herrn Peter Kutsch",
            "Die Frauenbewegung in Deutschland",
            "Ästhetik oder Wissenschaft des Schönen",
            "Bild und Lied",
            "Einleitung",
            "Illustrirtes Thierleben",
            "Die Werkzeugmaschinen",
            "[Humboldt an Flügel]",
            "Allgemeine Zeitung",
            "Nr. 100, 02.05.1892.",
            "Nr. 134, 14.06.1897.",
            "Streit in der Liebe und Liebe im Streit",
            "Gemüth und Selbstsucht",
            "Gedichte",
            "Brief an Adele Glaßbrenner",
            "Brief an Adele Glaßbrenner",
            "Wahre Frauenbildung",
            "Brief an Wachs",
            "Brief an Berthold Auerbach.",
            "Brief an Hermann Rollett",
            "Jesuitenfrage und Frauenstimmrecht",
            "Die Geschichte des Eisens in technischer und kulturgeschichtlicher Beziehung",
            "Über die Verbindung zwischen dem Orinoco und Amazonenfluss",
            "Nr. 76, 20.09.1916.",
            "Nr. 1082, 22.08.1907.",
            "Nr. 3, 04.01.1901.",
            "Ein spruch vonn einem pecken knecht, der funff vnschuldiger menschen grausamlich ermodet zu Wien in Osterreych",
            "Wahrhaftige Erklärung des hohen trostreichen Artikels von der Person, Amt, und Majestät unseres lieben Herrn und Heilandes Jesu Christi, Gottes und Marien Sohn",
            "Kirchenordnung: Wie es mit Christlicher Lere/ reichung der Sacrament/ Ordination der Diener des Euangelij/ Ordentlichen Ceremonien/ Visitation/ Consistorio vnd Schulen/ Jm Hertzogthumb Lünenburgk gehalten wird",
            "Splendor Solis",
            "ANNVS CHRISTI, 1597",
            "Einen Jux will er sich machen",
            "Öffentliche Charaktere",
            "Deutsche Geschichte im Zeitalter der Reformation",
            "Allgemeine Zeitung",
            "Allgemeine Zeitung",
            "Dienstag, 2. Mai",
            "Allgemeine Zeitung",
            "Neue Rheinische Zeitung",
            "Neue Rheinische Zeitung",
            "Neue Rheinische Zeitung",
            "Neue Rheinische Zeitung",
            "Neue Rheinische Zeitung",
            "Neue Rheinische Zeitung",
            "Neue Rheinische Zeitung",
            "Neue Rheinische Zeitung",
            "Die Bayerische Presse",
            "Allgemeine Auswanderungs-Zeitung",
            "Neue Rheinische Zeitung",
            "Von der Welt Lauf",
            "Almanach für Nürnberg auf das Jahr 1481"
           ]
          ]
         },
         "header": {
          "align": "center",
          "fill": {
           "color": "paleturquoise"
          },
          "values": [
           "epochen_genres_strata",
           "autor",
           "haupttitel"
          ]
         },
         "type": "table"
        }
       ],
       "layout": {
        "height": 3000,
        "template": {
         "data": {
          "bar": [
           {
            "error_x": {
             "color": "#2a3f5f"
            },
            "error_y": {
             "color": "#2a3f5f"
            },
            "marker": {
             "line": {
              "color": "#E5ECF6",
              "width": 0.5
             },
             "pattern": {
              "fillmode": "overlay",
              "size": 10,
              "solidity": 0.2
             }
            },
            "type": "bar"
           }
          ],
          "barpolar": [
           {
            "marker": {
             "line": {
              "color": "#E5ECF6",
              "width": 0.5
             },
             "pattern": {
              "fillmode": "overlay",
              "size": 10,
              "solidity": 0.2
             }
            },
            "type": "barpolar"
           }
          ],
          "carpet": [
           {
            "aaxis": {
             "endlinecolor": "#2a3f5f",
             "gridcolor": "white",
             "linecolor": "white",
             "minorgridcolor": "white",
             "startlinecolor": "#2a3f5f"
            },
            "baxis": {
             "endlinecolor": "#2a3f5f",
             "gridcolor": "white",
             "linecolor": "white",
             "minorgridcolor": "white",
             "startlinecolor": "#2a3f5f"
            },
            "type": "carpet"
           }
          ],
          "choropleth": [
           {
            "colorbar": {
             "outlinewidth": 0,
             "ticks": ""
            },
            "type": "choropleth"
           }
          ],
          "contour": [
           {
            "colorbar": {
             "outlinewidth": 0,
             "ticks": ""
            },
            "colorscale": [
             [
              0,
              "#0d0887"
             ],
             [
              0.1111111111111111,
              "#46039f"
             ],
             [
              0.2222222222222222,
              "#7201a8"
             ],
             [
              0.3333333333333333,
              "#9c179e"
             ],
             [
              0.4444444444444444,
              "#bd3786"
             ],
             [
              0.5555555555555556,
              "#d8576b"
             ],
             [
              0.6666666666666666,
              "#ed7953"
             ],
             [
              0.7777777777777778,
              "#fb9f3a"
             ],
             [
              0.8888888888888888,
              "#fdca26"
             ],
             [
              1,
              "#f0f921"
             ]
            ],
            "type": "contour"
           }
          ],
          "contourcarpet": [
           {
            "colorbar": {
             "outlinewidth": 0,
             "ticks": ""
            },
            "type": "contourcarpet"
           }
          ],
          "heatmap": [
           {
            "colorbar": {
             "outlinewidth": 0,
             "ticks": ""
            },
            "colorscale": [
             [
              0,
              "#0d0887"
             ],
             [
              0.1111111111111111,
              "#46039f"
             ],
             [
              0.2222222222222222,
              "#7201a8"
             ],
             [
              0.3333333333333333,
              "#9c179e"
             ],
             [
              0.4444444444444444,
              "#bd3786"
             ],
             [
              0.5555555555555556,
              "#d8576b"
             ],
             [
              0.6666666666666666,
              "#ed7953"
             ],
             [
              0.7777777777777778,
              "#fb9f3a"
             ],
             [
              0.8888888888888888,
              "#fdca26"
             ],
             [
              1,
              "#f0f921"
             ]
            ],
            "type": "heatmap"
           }
          ],
          "heatmapgl": [
           {
            "colorbar": {
             "outlinewidth": 0,
             "ticks": ""
            },
            "colorscale": [
             [
              0,
              "#0d0887"
             ],
             [
              0.1111111111111111,
              "#46039f"
             ],
             [
              0.2222222222222222,
              "#7201a8"
             ],
             [
              0.3333333333333333,
              "#9c179e"
             ],
             [
              0.4444444444444444,
              "#bd3786"
             ],
             [
              0.5555555555555556,
              "#d8576b"
             ],
             [
              0.6666666666666666,
              "#ed7953"
             ],
             [
              0.7777777777777778,
              "#fb9f3a"
             ],
             [
              0.8888888888888888,
              "#fdca26"
             ],
             [
              1,
              "#f0f921"
             ]
            ],
            "type": "heatmapgl"
           }
          ],
          "histogram": [
           {
            "marker": {
             "pattern": {
              "fillmode": "overlay",
              "size": 10,
              "solidity": 0.2
             }
            },
            "type": "histogram"
           }
          ],
          "histogram2d": [
           {
            "colorbar": {
             "outlinewidth": 0,
             "ticks": ""
            },
            "colorscale": [
             [
              0,
              "#0d0887"
             ],
             [
              0.1111111111111111,
              "#46039f"
             ],
             [
              0.2222222222222222,
              "#7201a8"
             ],
             [
              0.3333333333333333,
              "#9c179e"
             ],
             [
              0.4444444444444444,
              "#bd3786"
             ],
             [
              0.5555555555555556,
              "#d8576b"
             ],
             [
              0.6666666666666666,
              "#ed7953"
             ],
             [
              0.7777777777777778,
              "#fb9f3a"
             ],
             [
              0.8888888888888888,
              "#fdca26"
             ],
             [
              1,
              "#f0f921"
             ]
            ],
            "type": "histogram2d"
           }
          ],
          "histogram2dcontour": [
           {
            "colorbar": {
             "outlinewidth": 0,
             "ticks": ""
            },
            "colorscale": [
             [
              0,
              "#0d0887"
             ],
             [
              0.1111111111111111,
              "#46039f"
             ],
             [
              0.2222222222222222,
              "#7201a8"
             ],
             [
              0.3333333333333333,
              "#9c179e"
             ],
             [
              0.4444444444444444,
              "#bd3786"
             ],
             [
              0.5555555555555556,
              "#d8576b"
             ],
             [
              0.6666666666666666,
              "#ed7953"
             ],
             [
              0.7777777777777778,
              "#fb9f3a"
             ],
             [
              0.8888888888888888,
              "#fdca26"
             ],
             [
              1,
              "#f0f921"
             ]
            ],
            "type": "histogram2dcontour"
           }
          ],
          "mesh3d": [
           {
            "colorbar": {
             "outlinewidth": 0,
             "ticks": ""
            },
            "type": "mesh3d"
           }
          ],
          "parcoords": [
           {
            "line": {
             "colorbar": {
              "outlinewidth": 0,
              "ticks": ""
             }
            },
            "type": "parcoords"
           }
          ],
          "pie": [
           {
            "automargin": true,
            "type": "pie"
           }
          ],
          "scatter": [
           {
            "fillpattern": {
             "fillmode": "overlay",
             "size": 10,
             "solidity": 0.2
            },
            "type": "scatter"
           }
          ],
          "scatter3d": [
           {
            "line": {
             "colorbar": {
              "outlinewidth": 0,
              "ticks": ""
             }
            },
            "marker": {
             "colorbar": {
              "outlinewidth": 0,
              "ticks": ""
             }
            },
            "type": "scatter3d"
           }
          ],
          "scattercarpet": [
           {
            "marker": {
             "colorbar": {
              "outlinewidth": 0,
              "ticks": ""
             }
            },
            "type": "scattercarpet"
           }
          ],
          "scattergeo": [
           {
            "marker": {
             "colorbar": {
              "outlinewidth": 0,
              "ticks": ""
             }
            },
            "type": "scattergeo"
           }
          ],
          "scattergl": [
           {
            "marker": {
             "colorbar": {
              "outlinewidth": 0,
              "ticks": ""
             }
            },
            "type": "scattergl"
           }
          ],
          "scattermapbox": [
           {
            "marker": {
             "colorbar": {
              "outlinewidth": 0,
              "ticks": ""
             }
            },
            "type": "scattermapbox"
           }
          ],
          "scatterpolar": [
           {
            "marker": {
             "colorbar": {
              "outlinewidth": 0,
              "ticks": ""
             }
            },
            "type": "scatterpolar"
           }
          ],
          "scatterpolargl": [
           {
            "marker": {
             "colorbar": {
              "outlinewidth": 0,
              "ticks": ""
             }
            },
            "type": "scatterpolargl"
           }
          ],
          "scatterternary": [
           {
            "marker": {
             "colorbar": {
              "outlinewidth": 0,
              "ticks": ""
             }
            },
            "type": "scatterternary"
           }
          ],
          "surface": [
           {
            "colorbar": {
             "outlinewidth": 0,
             "ticks": ""
            },
            "colorscale": [
             [
              0,
              "#0d0887"
             ],
             [
              0.1111111111111111,
              "#46039f"
             ],
             [
              0.2222222222222222,
              "#7201a8"
             ],
             [
              0.3333333333333333,
              "#9c179e"
             ],
             [
              0.4444444444444444,
              "#bd3786"
             ],
             [
              0.5555555555555556,
              "#d8576b"
             ],
             [
              0.6666666666666666,
              "#ed7953"
             ],
             [
              0.7777777777777778,
              "#fb9f3a"
             ],
             [
              0.8888888888888888,
              "#fdca26"
             ],
             [
              1,
              "#f0f921"
             ]
            ],
            "type": "surface"
           }
          ],
          "table": [
           {
            "cells": {
             "fill": {
              "color": "#EBF0F8"
             },
             "line": {
              "color": "white"
             }
            },
            "header": {
             "fill": {
              "color": "#C8D4E3"
             },
             "line": {
              "color": "white"
             }
            },
            "type": "table"
           }
          ]
         },
         "layout": {
          "annotationdefaults": {
           "arrowcolor": "#2a3f5f",
           "arrowhead": 0,
           "arrowwidth": 1
          },
          "autotypenumbers": "strict",
          "coloraxis": {
           "colorbar": {
            "outlinewidth": 0,
            "ticks": ""
           }
          },
          "colorscale": {
           "diverging": [
            [
             0,
             "#8e0152"
            ],
            [
             0.1,
             "#c51b7d"
            ],
            [
             0.2,
             "#de77ae"
            ],
            [
             0.3,
             "#f1b6da"
            ],
            [
             0.4,
             "#fde0ef"
            ],
            [
             0.5,
             "#f7f7f7"
            ],
            [
             0.6,
             "#e6f5d0"
            ],
            [
             0.7,
             "#b8e186"
            ],
            [
             0.8,
             "#7fbc41"
            ],
            [
             0.9,
             "#4d9221"
            ],
            [
             1,
             "#276419"
            ]
           ],
           "sequential": [
            [
             0,
             "#0d0887"
            ],
            [
             0.1111111111111111,
             "#46039f"
            ],
            [
             0.2222222222222222,
             "#7201a8"
            ],
            [
             0.3333333333333333,
             "#9c179e"
            ],
            [
             0.4444444444444444,
             "#bd3786"
            ],
            [
             0.5555555555555556,
             "#d8576b"
            ],
            [
             0.6666666666666666,
             "#ed7953"
            ],
            [
             0.7777777777777778,
             "#fb9f3a"
            ],
            [
             0.8888888888888888,
             "#fdca26"
            ],
            [
             1,
             "#f0f921"
            ]
           ],
           "sequentialminus": [
            [
             0,
             "#0d0887"
            ],
            [
             0.1111111111111111,
             "#46039f"
            ],
            [
             0.2222222222222222,
             "#7201a8"
            ],
            [
             0.3333333333333333,
             "#9c179e"
            ],
            [
             0.4444444444444444,
             "#bd3786"
            ],
            [
             0.5555555555555556,
             "#d8576b"
            ],
            [
             0.6666666666666666,
             "#ed7953"
            ],
            [
             0.7777777777777778,
             "#fb9f3a"
            ],
            [
             0.8888888888888888,
             "#fdca26"
            ],
            [
             1,
             "#f0f921"
            ]
           ]
          },
          "colorway": [
           "#636efa",
           "#EF553B",
           "#00cc96",
           "#ab63fa",
           "#FFA15A",
           "#19d3f3",
           "#FF6692",
           "#B6E880",
           "#FF97FF",
           "#FECB52"
          ],
          "font": {
           "color": "#2a3f5f"
          },
          "geo": {
           "bgcolor": "white",
           "lakecolor": "white",
           "landcolor": "#E5ECF6",
           "showlakes": true,
           "showland": true,
           "subunitcolor": "white"
          },
          "hoverlabel": {
           "align": "left"
          },
          "hovermode": "closest",
          "mapbox": {
           "style": "light"
          },
          "paper_bgcolor": "white",
          "plot_bgcolor": "#E5ECF6",
          "polar": {
           "angularaxis": {
            "gridcolor": "white",
            "linecolor": "white",
            "ticks": ""
           },
           "bgcolor": "#E5ECF6",
           "radialaxis": {
            "gridcolor": "white",
            "linecolor": "white",
            "ticks": ""
           }
          },
          "scene": {
           "xaxis": {
            "backgroundcolor": "#E5ECF6",
            "gridcolor": "white",
            "gridwidth": 2,
            "linecolor": "white",
            "showbackground": true,
            "ticks": "",
            "zerolinecolor": "white"
           },
           "yaxis": {
            "backgroundcolor": "#E5ECF6",
            "gridcolor": "white",
            "gridwidth": 2,
            "linecolor": "white",
            "showbackground": true,
            "ticks": "",
            "zerolinecolor": "white"
           },
           "zaxis": {
            "backgroundcolor": "#E5ECF6",
            "gridcolor": "white",
            "gridwidth": 2,
            "linecolor": "white",
            "showbackground": true,
            "ticks": "",
            "zerolinecolor": "white"
           }
          },
          "shapedefaults": {
           "line": {
            "color": "#2a3f5f"
           }
          },
          "ternary": {
           "aaxis": {
            "gridcolor": "white",
            "linecolor": "white",
            "ticks": ""
           },
           "baxis": {
            "gridcolor": "white",
            "linecolor": "white",
            "ticks": ""
           },
           "bgcolor": "#E5ECF6",
           "caxis": {
            "gridcolor": "white",
            "linecolor": "white",
            "ticks": ""
           }
          },
          "title": {
           "x": 0.05
          },
          "xaxis": {
           "automargin": true,
           "gridcolor": "white",
           "linecolor": "white",
           "ticks": "",
           "title": {
            "standoff": 15
           },
           "zerolinecolor": "white",
           "zerolinewidth": 2
          },
          "yaxis": {
           "automargin": true,
           "gridcolor": "white",
           "linecolor": "white",
           "ticks": "",
           "title": {
            "standoff": 15
           },
           "zerolinecolor": "white",
           "zerolinewidth": 2
          }
         }
        },
        "title": {
         "text": "Textstichproben"
        }
       }
      }
     },
     "metadata": {},
     "output_type": "display_data"
    }
   ],
   "source": [
    "import pandas as pd\n",
    "import sqlite3\n",
    "import plotly.graph_objects as go\n",
    "\n",
    "con = sqlite3.connect(\"Datenbank.db\")\n",
    "\n",
    "query = \"\"\"SELECT epochen_genres_strata, autor, haupttitel FROM samples\"\"\"\n",
    "\n",
    "df = pd.read_sql_query(query, con)\n",
    "df_sorted = df.sort_values(by=\"epochen_genres_strata\", ascending=True)\n",
    "\n",
    "fig = go.Figure(data=[go.Table(\n",
    "    header=dict(\n",
    "        values=list(df_sorted.columns),\n",
    "        fill_color=\"paleturquoise\",\n",
    "        align=\"center\"\n",
    "    ),\n",
    "    cells=dict(\n",
    "        values=[df_sorted[col] for col in df_sorted.columns],\n",
    "        fill_color=\"lavender\",\n",
    "        align=\"left\"\n",
    "    )\n",
    ")])\n",
    "con.close()\n",
    "fig.update_layout(title=\"Textstichproben\", height=3000)\n",
    "fig.show()\n",
    "\n"
   ]
  },
  {
   "cell_type": "markdown",
   "metadata": {},
   "source": [
    "Und eine letzte Überprüfung, ob die Sample Zahl immer noch 100 ist:"
   ]
  },
  {
   "cell_type": "code",
   "execution_count": 15,
   "metadata": {},
   "outputs": [
    {
     "name": "stdout",
     "output_type": "stream",
     "text": [
      "100\n"
     ]
    }
   ],
   "source": [
    "import sqlite3\n",
    "\n",
    "con = sqlite3.connect(\"Datenbank.db\")\n",
    "cur = con.cursor()\n",
    "\n",
    "print(cur.execute(\"SELECT COUNT(*) FROM samples\").fetchone()[0])"
   ]
  },
  {
   "cell_type": "markdown",
   "metadata": {},
   "source": [
    "### Da nun alle Stichproben gesammelt sind, ist dieses Jupyter Notebook hier zu Ende. In einem weiteren Schritt wird das Preprocessing anhand dieser 100 Stichproben erstellt ###"
   ]
  }
 ],
 "metadata": {
  "kernelspec": {
   "display_name": "HistTopMod",
   "language": "python",
   "name": "python3"
  },
  "language_info": {
   "codemirror_mode": {
    "name": "ipython",
    "version": 3
   },
   "file_extension": ".py",
   "mimetype": "text/x-python",
   "name": "python",
   "nbconvert_exporter": "python",
   "pygments_lexer": "ipython3",
   "version": "3.12.4"
  }
 },
 "nbformat": 4,
 "nbformat_minor": 2
}
